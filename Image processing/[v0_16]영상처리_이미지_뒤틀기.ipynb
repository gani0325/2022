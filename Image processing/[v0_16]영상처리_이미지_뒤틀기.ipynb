{
  "nbformat": 4,
  "nbformat_minor": 0,
  "metadata": {
    "colab": {
      "name": "[v0.16]영상처리_이미지 뒤틀기.ipynb",
      "provenance": [],
      "authorship_tag": "ABX9TyMVwx5pYY++RH51K30ex9R5",
      "include_colab_link": true
    },
    "kernelspec": {
      "name": "python3",
      "display_name": "Python 3"
    },
    "language_info": {
      "name": "python"
    }
  },
  "cells": [
    {
      "cell_type": "markdown",
      "metadata": {
        "id": "view-in-github",
        "colab_type": "text"
      },
      "source": [
        "<a href=\"https://colab.research.google.com/github/gani0325/2022/blob/main/Image%20processing/%5Bv0_16%5D%EC%98%81%EC%83%81%EC%B2%98%EB%A6%AC_%EC%9D%B4%EB%AF%B8%EC%A7%80_%EB%92%A4%ED%8B%80%EA%B8%B0.ipynb\" target=\"_parent\"><img src=\"https://colab.research.google.com/assets/colab-badge.svg\" alt=\"Open In Colab\"/></a>"
      ]
    },
    {
      "cell_type": "markdown",
      "source": [
        "## [v0.16]영상처리_이미지 뒤틀기\n",
        "\n",
        "https://alpaca-gt.tistory.com/95?category=895871"
      ],
      "metadata": {
        "id": "DTblxuC2dwZn"
      }
    },
    {
      "cell_type": "markdown",
      "source": [
        "## 1. 어핀 변환 (Affine Transform)"
      ],
      "metadata": {
        "id": "a5wOVZQ7dzqK"
      }
    },
    {
      "cell_type": "code",
      "execution_count": null,
      "metadata": {
        "id": "HqQ_y1w1dvVR"
      },
      "outputs": [],
      "source": [
        "# 어핀 변환\n",
        "import cv2\n",
        "import numpy as np\n",
        "from matplotlib import pyplot as plt\n",
        "\n",
        "file_name = 'img/hobbang2.jpeg'\n",
        "img = cv2.imread(file_name)\n",
        "rows, cols = img.shape[:2]\n",
        "\n",
        "# ---① 변환 전, 후 각 3개의 좌표 생성\n",
        "pts1 = np.float32([[100, 50], [200, 50], [100, 200]])\n",
        "pts2 = np.float32([[80, 70], [210, 60], [250, 120]])\n",
        "\n",
        "# ---② 변환 전 좌표를 이미지에 표시\n",
        "cv2.circle(img, (100,50), 5, (255,0), -1)\n",
        "cv2.circle(img, (200,50), 5, (0,255,0), -1)\n",
        "cv2.circle(img, (100,200), 5, (0,0,255), -1)\n",
        "\n",
        "#---③ 짝지은 3개의 좌표로 변환 행렬 계산\n",
        "mtrx = cv2.getAffineTransform(pts1, pts2)\n",
        "#---④ 어핀 변환 적용\n",
        "dst = cv2.warpAffine(img, mtrx, (int(cols*1.5), rows))\n",
        "\n",
        "#---⑤ 결과 출력\n",
        "cv2.imshow('origin',img)\n",
        "cv2.imshow('affin', dst)\n",
        "cv2.waitKey(0)\n",
        "cv2.destroyAllWindows()"
      ]
    },
    {
      "cell_type": "markdown",
      "source": [
        "## 2. 원근 변환 (Perspective Transform)"
      ],
      "metadata": {
        "id": "az3v2kAqd3n2"
      }
    },
    {
      "cell_type": "code",
      "source": [
        "# 원근 변환 \n",
        "import cv2\n",
        "import numpy as np\n",
        "\n",
        "file_name = 'img/hobbang2.jpeg'\n",
        "img = cv2.imread(file_name)\n",
        "rows, cols = img.shape[:2]\n",
        "\n",
        "#---① 원근 변환 전 후 4개 좌표\n",
        "pts1 = np.float32([[0,0], [0,rows], [cols, 0], [cols,rows]])\n",
        "pts2 = np.float32([[100,50], [10,rows-50], [cols-100, 50], [cols-10,rows-50]])\n",
        "\n",
        "#---② 변환 전 좌표를 원본 이미지에 표시\n",
        "cv2.circle(img, (0,0), 10, (255,0,0), -1)\n",
        "cv2.circle(img, (0,rows), 10, (0,255,0), -1)\n",
        "cv2.circle(img, (cols,0), 10, (0,0,255), -1)\n",
        "cv2.circle(img, (cols,rows), 10, (0,255,255), -1)\n",
        "\n",
        "#---③ 원근 변환 행렬 계산\n",
        "mtrx = cv2.getPerspectiveTransform(pts1, pts2)\n",
        "#---④ 원근 변환 적용\n",
        "dst = cv2.warpPerspective(img, mtrx, (cols, rows))\n",
        "\n",
        "cv2.imshow(\"origin\", img)\n",
        "cv2.imshow('perspective', dst)\n",
        "cv2.waitKey(0)\n",
        "cv2.destroyAllWindows()"
      ],
      "metadata": {
        "id": "S6PinrUQd4KS"
      },
      "execution_count": null,
      "outputs": []
    },
    {
      "cell_type": "markdown",
      "source": [
        "## +) 원근 변환으로 원근감 이미지를 평면 이미지로 변경하기"
      ],
      "metadata": {
        "id": "rriF2M-Fd-Ex"
      }
    },
    {
      "cell_type": "code",
      "source": [
        "# 마우스와 원근 변환으로 문서 스캔 효과 내기\n",
        "import cv2\n",
        "import numpy as np\n",
        "\n",
        "win_name = \"scanning\"\n",
        "img = cv2.imread(\"img/Perspective1.jpg\")\n",
        "rows, cols = img.shape[:2]\n",
        "draw = img.copy()\n",
        "pts_cnt = 0\n",
        "pts = np.zeros((4,2), dtype=np.float32)\n",
        "\n",
        "def onMouse(event, x, y, flags, param):  #마우스 이벤트 콜백 함수 구현 ---① \n",
        "    global  pts_cnt                     # 마우스로 찍은 좌표의 갯수 저장\n",
        "    if event == cv2.EVENT_LBUTTONDOWN:  \n",
        "        cv2.circle(draw, (x,y), 10, (0,255,0), -1) # 좌표에 초록색 동그라미 표시\n",
        "        cv2.imshow(win_name, draw)\n",
        "\n",
        "        pts[pts_cnt] = [x,y]            # 마우스 좌표 저장\n",
        "        pts_cnt+=1\n",
        "        if pts_cnt == 4:                       # 좌표가 4개 수집됨 \n",
        "            # 좌표 4개 중 상하좌우 찾기 ---② \n",
        "            sm = pts.sum(axis=1)                 # 4쌍의 좌표 각각 x+y 계산\n",
        "            diff = np.diff(pts, axis = 1)       # 4쌍의 좌표 각각 x-y 계산\n",
        "\n",
        "            topLeft = pts[np.argmin(sm)]         # x+y가 가장 값이 좌상단 좌표\n",
        "            bottomRight = pts[np.argmax(sm)]     # x+y가 가장 큰 값이 우하단 좌표\n",
        "            topRight = pts[np.argmin(diff)]     # x-y가 가장 작은 것이 우상단 좌표\n",
        "            bottomLeft = pts[np.argmax(diff)]   # x-y가 가장 큰 값이 좌하단 좌표\n",
        "\n",
        "            # 변환 전 4개 좌표 \n",
        "            pts1 = np.float32([topLeft, topRight, bottomRight , bottomLeft])\n",
        "\n",
        "            # 변환 후 영상에 사용할 서류의 폭과 높이 계산 ---③ \n",
        "            w1 = abs(bottomRight[0] - bottomLeft[0])    # 상단 좌우 좌표간의 거리\n",
        "            w2 = abs(topRight[0] - topLeft[0])          # 하당 좌우 좌표간의 거리\n",
        "            h1 = abs(topRight[1] - bottomRight[1])      # 우측 상하 좌표간의 거리\n",
        "            h2 = abs(topLeft[1] - bottomLeft[1])        # 좌측 상하 좌표간의 거리\n",
        "            width = max([w1, w2])                       # 두 좌우 거리간의 최대값이 서류의 폭\n",
        "            height = max([h1, h2])                      # 두 상하 거리간의 최대값이 서류의 높이\n",
        "            \n",
        "            # 변환 후 4개 좌표\n",
        "            pts2 = np.float32([[0,0], [width-1,0], \n",
        "                                [width-1,height-1], [0,height-1]])\n",
        "\n",
        "            # 변환 행렬 계산 \n",
        "            mtrx = cv2.getPerspectiveTransform(pts1, pts2)\n",
        "            # 원근 변환 적용\n",
        "            result = cv2.warpPerspective(img, mtrx, (width, height))\n",
        "            cv2.imshow('scanned', result)\n",
        "cv2.imshow(win_name, img)\n",
        "cv2.setMouseCallback(win_name, onMouse)    # 마우스 콜백 함수를 GUI 윈도우에 등록 ---④\n",
        "cv2.waitKey(0)\n",
        "cv2.destroyAllWindows()"
      ],
      "metadata": {
        "id": "uh03lX34d-cS"
      },
      "execution_count": null,
      "outputs": []
    },
    {
      "cell_type": "markdown",
      "source": [
        "## 3. 삼각형 어핀 변환"
      ],
      "metadata": {
        "id": "WY1TIj9PeCzG"
      }
    },
    {
      "cell_type": "code",
      "source": [
        "# 삼각형 어핀 변환\n",
        "import cv2\n",
        "import numpy as np\n",
        "\n",
        "img = cv2.imread(\"img/taekwonv1.jpg\")\n",
        "img2 = img.copy()\n",
        "draw = img.copy()\n",
        "\n",
        "# 변환 전,후 삼각형 좌표 ---①\n",
        "pts1 = np.float32([[188,14], [85,202], [294,216]])\n",
        "pts2 = np.float32([[128,40], [85,307], [306,167]])\n",
        "\n",
        "# 각 삼각형을 완전히 감싸는 사각형 좌표 구하기 ---②\n",
        "x1,y1,w1,h1 = cv2.boundingRect(pts1)\n",
        "x2,y2,w2,h2 = cv2.boundingRect(pts2)\n",
        "\n",
        "# 사각형을 이용한 관심영역 설정 ---③\n",
        "roi1 = img[y1:y1+h1, x1:x1+w1]\n",
        "roi2 = img2[y2:y2+h2, x2:x2+w2]\n",
        "\n",
        "# 관심영역을 기준으로 좌표 계산 ---④\n",
        "offset1 = np.zeros((3,2), dtype=np.float32)\n",
        "offset2 = np.zeros((3,2), dtype=np.float32)\n",
        "for i in range(3):\n",
        "    offset1[i][0], offset1[i][1] = pts1[i][0]-x1, pts1[i][1]-y1\n",
        "    offset2[i][0], offset2[i][1] = pts2[i][0]-x2, pts2[i][1]-y2\n",
        "\n",
        "# 관심 영역을 주어진 삼각형 좌표로 어핀 변환 ---⑤\n",
        "mtrx = cv2.getAffineTransform(offset1, offset2)\n",
        "warped = cv2.warpAffine( roi1, mtrx, (w2, h2), None, \\\n",
        "                        cv2.INTER_LINEAR, cv2.BORDER_REFLECT_101)\n",
        "\n",
        "# 어핀 변환 후 삼각형만 골라 내기 위한 마스크 생성 ---⑥\n",
        "mask = np.zeros((h2, w2), dtype = np.uint8)\n",
        "cv2.fillConvexPoly(mask, np.int32(offset2), (255))\n",
        "\n",
        "# 삼각형 영역만 마스킹해서 합성 ---⑦\n",
        "warped_masked = cv2.bitwise_and(warped, warped, mask=mask)\n",
        "roi2_masked = cv2.bitwise_and(roi2, roi2, mask=cv2.bitwise_not(mask))\n",
        "roi2_masked = roi2_masked + warped_masked\n",
        "img2[y2:y2+h2, x2:x2+w2] = roi2_masked\n",
        "\n",
        "# 관심 영역과 삼각형에 선 그려서 출력 ---⑧\n",
        "cv2.rectangle(draw, (x1, y1), (x1+w1, y1+h1), (0,255,0), 1)\n",
        "cv2.polylines(draw, [pts1.astype(np.int32)], True, (255,0,0), 1)\n",
        "cv2.rectangle(img2, (x2, y2), (x2+w2, y2+h2), (0,255,0), 1)\n",
        "cv2.imshow('origin', draw)\n",
        "cv2.imshow('warped triangle', img2)\n",
        "cv2.waitKey(0)\n",
        "cv2.destroyAllWindows()"
      ],
      "metadata": {
        "id": "7sRRY69WeFbr"
      },
      "execution_count": null,
      "outputs": []
    }
  ]
}