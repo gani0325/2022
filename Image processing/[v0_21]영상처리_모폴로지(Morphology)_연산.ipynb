{
  "nbformat": 4,
  "nbformat_minor": 0,
  "metadata": {
    "colab": {
      "name": "[v0.21]영상처리_모폴로지(Morphology) 연산.ipynb",
      "provenance": [],
      "authorship_tag": "ABX9TyOQzvTtDk4L2+3NaiYA+ZoG",
      "include_colab_link": true
    },
    "kernelspec": {
      "name": "python3",
      "display_name": "Python 3"
    },
    "language_info": {
      "name": "python"
    }
  },
  "cells": [
    {
      "cell_type": "markdown",
      "metadata": {
        "id": "view-in-github",
        "colab_type": "text"
      },
      "source": [
        "<a href=\"https://colab.research.google.com/github/gani0325/2022/blob/main/Image%20processing/%5Bv0_21%5D%EC%98%81%EC%83%81%EC%B2%98%EB%A6%AC_%EB%AA%A8%ED%8F%B4%EB%A1%9C%EC%A7%80(Morphology)_%EC%97%B0%EC%82%B0.ipynb\" target=\"_parent\"><img src=\"https://colab.research.google.com/assets/colab-badge.svg\" alt=\"Open In Colab\"/></a>"
      ]
    },
    {
      "cell_type": "markdown",
      "source": [
        "## [v0.21]영상처리_모폴로지(Morphology) 연산\n",
        "\n",
        "https://alpaca-gt.tistory.com/104"
      ],
      "metadata": {
        "id": "uVJPvVrE830U"
      }
    },
    {
      "cell_type": "markdown",
      "source": [
        "## 1. 침식 연산 (Erode)"
      ],
      "metadata": {
        "id": "aOxrTh0887B3"
      }
    },
    {
      "cell_type": "code",
      "execution_count": null,
      "metadata": {
        "id": "YnFz5Ya98y8x"
      },
      "outputs": [],
      "source": [
        "# 침식 연산 (morph_erode.py)\n",
        "\n",
        "import cv2\n",
        "import numpy as np\n",
        "\n",
        "img = cv2.imread('img/morphology.JPG')\n",
        "\n",
        "# 구조화 요소 커널, 사각형 (3x3) 생성 ---①\n",
        "k = cv2.getStructuringElement(cv2.MORPH_RECT, (3,3))\n",
        "# 침식 연산 적용 ---②\n",
        "erosion = cv2.erode(img, k)\n",
        "\n",
        "# 결과 출력\n",
        "merged = np.hstack((img, erosion))\n",
        "cv2.imshow('Erode', merged)\n",
        "cv2.waitKey(0)\n",
        "cv2.destroyAllWindows()"
      ]
    },
    {
      "cell_type": "markdown",
      "source": [
        "## 2. 팽창 연산 (Dilatation)"
      ],
      "metadata": {
        "id": "yNeBYVN58-v0"
      }
    },
    {
      "cell_type": "code",
      "source": [
        "# 팽창 연산\n",
        "import cv2\n",
        "import numpy as np\n",
        "\n",
        "img = cv2.imread('img/dilate.JPG')\n",
        "\n",
        "# 구조화 요소 커널, 사각형 (3x3) 생성 ---①\n",
        "k = cv2.getStructuringElement(cv2.MORPH_RECT, (3,3))\n",
        "# 팽창 연산 적용 ---②\n",
        "dst = cv2.dilate(img, k)\n",
        "\n",
        "# 결과 출력\n",
        "merged = np.hstack((img, dst))\n",
        "cv2.imshow('Dilation', merged)\n",
        "cv2.waitKey(0)\n",
        "cv2.destroyAllWindows()"
      ],
      "metadata": {
        "id": "XqDRj-WA9AeD"
      },
      "execution_count": null,
      "outputs": []
    },
    {
      "cell_type": "markdown",
      "source": [
        "## 3. 열림, 닫힘, 그레디언트, 탑햇, 블랙햇 연산"
      ],
      "metadata": {
        "id": "7750bpsD9FnJ"
      }
    },
    {
      "cell_type": "code",
      "source": [
        "# 열림과 닫힘 연산으로 노이즈 제거\n",
        "import cv2\n",
        "import numpy as np\n",
        "\n",
        "img1 = cv2.imread('img/morphology.JPG', cv2.IMREAD_GRAYSCALE)\n",
        "img2 = cv2.imread('img/dilate.JPG', cv2.IMREAD_GRAYSCALE)    \n",
        "\n",
        "# ----------img resize---------------------\n",
        "img1 = cv2.resize(img1, dsize = (288, 234))\n",
        "\n",
        "# 구조화 요소 커널, 사각형 (5x5) 생성 ---①\n",
        "k = cv2.getStructuringElement(cv2.MORPH_RECT, (5,5))\n",
        "# 열림 연산 적용 ---②\n",
        "opening = cv2.morphologyEx(img1, cv2.MORPH_OPEN, k)\n",
        "# 닫힘 연산 적용 ---③\n",
        "closing = cv2.morphologyEx(img2, cv2.MORPH_CLOSE, k)\n",
        "\n",
        "# 결과 출력\n",
        "merged1 = np.hstack((img1, opening))\n",
        "merged2 = np.hstack((img2, closing))\n",
        "merged3 = np.vstack((merged1, merged2))\n",
        "cv2.imshow('opening, closing', merged3)\n",
        "cv2.waitKey(0)\n",
        "cv2.destroyAllWindows()"
      ],
      "metadata": {
        "id": "yFUhx7J39Dye"
      },
      "execution_count": null,
      "outputs": []
    },
    {
      "cell_type": "markdown",
      "source": [
        "## +) 팽창 연산에서 침식 연산을 뺀 그레디언트 연산"
      ],
      "metadata": {
        "id": "03Px5Jj79HrY"
      }
    },
    {
      "cell_type": "code",
      "source": [
        "# 모폴로지 그레이언트\n",
        "import cv2\n",
        "import numpy as np\n",
        "\n",
        "img = cv2.imread('img/heart.JPG')\n",
        "\n",
        "# 구조화 요소 커널, 사각형 (3x3) 생성 ---①\n",
        "k = cv2.getStructuringElement(cv2.MORPH_RECT, (3,3))\n",
        "# 열림 연산 적용 ---②\n",
        "gradient = cv2.morphologyEx(img, cv2.MORPH_GRADIENT, k)\n",
        "\n",
        "# 결과 출력\n",
        "merged = np.hstack((img, gradient))\n",
        "cv2.imshow('gradient', merged)\n",
        "cv2.waitKey(0)\n",
        "cv2.destroyAllWindows()"
      ],
      "metadata": {
        "id": "20dU7mMr9H_y"
      },
      "execution_count": null,
      "outputs": []
    },
    {
      "cell_type": "markdown",
      "source": [
        "## +) 탑햇, 블랙햇 연산 적용"
      ],
      "metadata": {
        "id": "z0BB0Tf59LmJ"
      }
    },
    {
      "cell_type": "code",
      "source": [
        "# 모폴로지 탑햇, 블랙햇 연산\n",
        "import cv2\n",
        "import numpy as np\n",
        "\n",
        "img = cv2.imread('img/moon_gray.jpeg')\n",
        "\n",
        "# 구조화 요소 커널, 사각형 (5x5) 생성 ---①\n",
        "k = cv2.getStructuringElement(cv2.MORPH_RECT, (9,9))\n",
        "# 탑햇 연산 적용 ---②\n",
        "tophat = cv2.morphologyEx(img, cv2.MORPH_TOPHAT, k)\n",
        "# 블랫햇 연산 적용 ---③\n",
        "blackhat = cv2.morphologyEx(img, cv2.MORPH_BLACKHAT, k)\n",
        "\n",
        "# 결과 출력\n",
        "merged = np.hstack((img, tophat, blackhat))\n",
        "cv2.imshow('tophat blackhat', merged)\n",
        "cv2.waitKey(0)\n",
        "cv2.destroyAllWindows()"
      ],
      "metadata": {
        "id": "kgx1Xg8X9MJt"
      },
      "execution_count": null,
      "outputs": []
    }
  ]
}