{
  "nbformat": 4,
  "nbformat_minor": 0,
  "metadata": {
    "colab": {
      "name": "[v0.10]영상처리_OpenCV_바이너리 이미지를 만드는 스레시홀딩.ipynb",
      "provenance": [],
      "authorship_tag": "ABX9TyOhHg/O8Aftg3zSncVIiuxe",
      "include_colab_link": true
    },
    "kernelspec": {
      "name": "python3",
      "display_name": "Python 3"
    },
    "language_info": {
      "name": "python"
    }
  },
  "cells": [
    {
      "cell_type": "markdown",
      "metadata": {
        "id": "view-in-github",
        "colab_type": "text"
      },
      "source": [
        "<a href=\"https://colab.research.google.com/github/gani0325/2022/blob/main/Image%20processing/%5Bv0_10%5D%EC%98%81%EC%83%81%EC%B2%98%EB%A6%AC_OpenCV_%EB%B0%94%EC%9D%B4%EB%84%88%EB%A6%AC_%EC%9D%B4%EB%AF%B8%EC%A7%80%EB%A5%BC_%EB%A7%8C%EB%93%9C%EB%8A%94_%EC%8A%A4%EB%A0%88%EC%8B%9C%ED%99%80%EB%94%A9.ipynb\" target=\"_parent\"><img src=\"https://colab.research.google.com/assets/colab-badge.svg\" alt=\"Open In Colab\"/></a>"
      ]
    },
    {
      "cell_type": "markdown",
      "source": [
        "## [v0.10]영상처리_OpenCV_바이너리 이미지를 만드는 스레시홀딩\n",
        "\n",
        "https://alpaca-gt.tistory.com/82?category=895871"
      ],
      "metadata": {
        "id": "H5_YdFAHCPTw"
      }
    },
    {
      "cell_type": "markdown",
      "source": [
        "## 1. 스레시홀딩 (Thresholding)"
      ],
      "metadata": {
        "id": "3T51K8zrCUCN"
      }
    },
    {
      "cell_type": "code",
      "execution_count": null,
      "metadata": {
        "id": "sWMeOltnCOuZ"
      },
      "outputs": [],
      "source": [
        "# 전역 스레시홀딩\n",
        "\n",
        "import cv2\n",
        "import numpy as np\n",
        "import matplotlib.pylab as plt\n",
        "\n",
        "#이미지를 그레이 스케일로 읽기\n",
        "img = cv2.imread('img/gray_gradient.png', cv2.IMREAD_GRAYSCALE)\n",
        "\n",
        "# --- ① NumPy API로 바이너리 이미지 만들기\n",
        "thresh_np = np.zeros_like(img)   # 원본과 동일한 크기의 0으로 채워진 이미지\n",
        "thresh_np[ img > 127] = 255      # 127 보다 큰 값만 255로 변경\n",
        "\n",
        "# ---② OpenCV API로 바이너리 이미지 만들기\n",
        "ret, thresh_cv = cv2.threshold(img, 127, 255, cv2.THRESH_BINARY) \n",
        "print(ret)  # 127.0, 바이너리 이미지에 사용된 문턱 값 반환\n",
        "\n",
        "# ---③ 원본과 결과물을 matplotlib으로 출력\n",
        "imgs = {'Original': img, 'NumPy API':thresh_np, 'cv2.threshold': thresh_cv}\n",
        "for i , (key, value) in enumerate(imgs.items()):\n",
        "    plt.subplot(1, 3, i+1)\n",
        "    plt.title(key)\n",
        "    plt.imshow(value, cmap='gray')\n",
        "    plt.xticks([]); plt.yticks([])\n",
        "\n",
        "plt.show()"
      ]
    },
    {
      "cell_type": "markdown",
      "source": [
        "## +) type_flag 활용"
      ],
      "metadata": {
        "id": "dY-7T4KOCXeE"
      }
    },
    {
      "cell_type": "code",
      "source": [
        "# 스레시홀딩 플래그\n",
        "import cv2\n",
        "import numpy as np\n",
        "import matplotlib.pylab as plt\n",
        "\n",
        "img = cv2.imread('img/gray_gradient.png', cv2.IMREAD_GRAYSCALE)\n",
        "\n",
        "_, t_bin = cv2.threshold(img, 127, 255, cv2.THRESH_BINARY)\n",
        "_, t_bininv = cv2.threshold(img, 127, 255, cv2.THRESH_BINARY_INV)\n",
        "_, t_truc = cv2.threshold(img, 127, 255, cv2.THRESH_TRUNC)\n",
        "_, t_2zr = cv2.threshold(img, 127, 255, cv2.THRESH_TOZERO)\n",
        "_, t_2zrinv = cv2.threshold(img, 127, 255, cv2.THRESH_TOZERO_INV)\n",
        "\n",
        "imgs = {'origin':img, 'BINARY':t_bin, 'BINARY_INV':t_bininv, \\\n",
        "        'TRUNC':t_truc, 'TOZERO':t_2zr, 'TOZERO_INV':t_2zrinv}\n",
        "for i, (key, value) in enumerate(imgs.items()):\n",
        "    plt.subplot(2,3, i+1)\n",
        "    plt.title(key)\n",
        "    plt.imshow(value, cmap='gray')\n",
        "    plt.xticks([]);    plt.yticks([])\n",
        "    \n",
        "plt.show()"
      ],
      "metadata": {
        "id": "NNYNk6PiCZOf"
      },
      "execution_count": null,
      "outputs": []
    },
    {
      "cell_type": "markdown",
      "source": [
        "## +) 오츠의 이진화 알고리즘"
      ],
      "metadata": {
        "id": "RJESmcJXCWZe"
      }
    },
    {
      "cell_type": "code",
      "source": [
        "# 오츠의 알고리즘을 적용한 스레시홀딩\n",
        "import cv2\n",
        "import numpy as np\n",
        "import matplotlib.pylab as plt\n",
        "\n",
        "# 이미지를 그레이 스케일로 읽기\n",
        "img = cv2.imread('img/newspaper.jpg', cv2.IMREAD_GRAYSCALE) \n",
        "# 경계 값을 130으로 지정  ---①\n",
        "_, t_130 = cv2.threshold(img, 130, 255, cv2.THRESH_BINARY)        \n",
        "# 경계 값을 지정하지 않고 OTSU 알고리즘 선택 ---②\n",
        "t, t_otsu = cv2.threshold(img, -1, 255,  cv2.THRESH_BINARY | cv2.THRESH_OTSU) \n",
        "print('otsu threshold:', t)                 # Otsu 알고리즘으로 선택된 경계 값 출력\n",
        "\n",
        "imgs = {'Original': img, 't:130':t_130, 'otsu:%d'%t: t_otsu}\n",
        "for i , (key, value) in enumerate(imgs.items()):\n",
        "    plt.subplot(1, 3, i+1)\n",
        "    plt.title(key)\n",
        "    plt.imshow(value, cmap='gray')\n",
        "    plt.xticks([]); plt.yticks([])\n",
        "\n",
        "plt.show()"
      ],
      "metadata": {
        "id": "QFP_NyVOCc9c"
      },
      "execution_count": null,
      "outputs": []
    },
    {
      "cell_type": "markdown",
      "source": [
        "## 2) 적응형 스레시홀딩 (Adaptive Thresholding)"
      ],
      "metadata": {
        "id": "weCk2D7pCeVw"
      }
    },
    {
      "cell_type": "code",
      "source": [
        "# 적응형 스레시홀딩 적용\n",
        "import cv2\n",
        "import numpy as np \n",
        "import matplotlib.pyplot as plt \n",
        "\n",
        "blk_size = 9        # 블럭 사이즈\n",
        "C = 5               # 차감 상수 \n",
        "img = cv2.imread('img/sudoku.jpg', cv2.IMREAD_GRAYSCALE) # 그레이 스케일로  읽기\n",
        "\n",
        "# ---① 오츠의 알고리즘으로 단일 경계 값을 전체 이미지에 적용\n",
        "ret, th1 = cv2.threshold(img, 0, 255, cv2.THRESH_BINARY | cv2.THRESH_OTSU)\n",
        "\n",
        "# ---② 어뎁티드 쓰레시홀드를 평균 적용\n",
        "th2 = cv2.adaptiveThreshold(img, 255, cv2.ADAPTIVE_THRESH_MEAN_C,\\\n",
        "                                      cv2.THRESH_BINARY, blk_size, C)\n",
        "# 가우시안 분포 적용\n",
        "th3 = cv2.adaptiveThreshold(img, 255, cv2.ADAPTIVE_THRESH_GAUSSIAN_C, \\\n",
        "                                     cv2.THRESH_BINARY, blk_size, C)\n",
        "\n",
        "# ---③ 결과를 Matplot으로 출력\n",
        "imgs = {'Original': img, 'Global-Otsu:%d'%ret:th1, \\\n",
        "        'Adapted-Mean':th2, 'Adapted-Gaussian': th3}\n",
        "for i, (k, v) in enumerate(imgs.items()):\n",
        "    plt.subplot(2,2,i+1)\n",
        "    plt.title(k)\n",
        "    plt.imshow(v,'gray')\n",
        "    plt.xticks([]),plt.yticks([])\n",
        "\n",
        "plt.show()\n"
      ],
      "metadata": {
        "id": "4TokjsmnCf7d"
      },
      "execution_count": null,
      "outputs": []
    }
  ]
}