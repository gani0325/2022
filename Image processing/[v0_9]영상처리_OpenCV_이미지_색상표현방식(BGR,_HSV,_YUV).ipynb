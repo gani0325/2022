{
  "nbformat": 4,
  "nbformat_minor": 0,
  "metadata": {
    "colab": {
      "name": "[v0.9]영상처리_OpenCV_이미지 색상표현방식(BGR, HSV, YUV).ipynb",
      "provenance": [],
      "authorship_tag": "ABX9TyMpDJZQ7qrCVD15VmVl0KcV",
      "include_colab_link": true
    },
    "kernelspec": {
      "name": "python3",
      "display_name": "Python 3"
    },
    "language_info": {
      "name": "python"
    }
  },
  "cells": [
    {
      "cell_type": "markdown",
      "metadata": {
        "id": "view-in-github",
        "colab_type": "text"
      },
      "source": [
        "<a href=\"https://colab.research.google.com/github/gani0325/2022/blob/main/Image%20processing/%5Bv0_9%5D%EC%98%81%EC%83%81%EC%B2%98%EB%A6%AC_OpenCV_%EC%9D%B4%EB%AF%B8%EC%A7%80_%EC%83%89%EC%83%81%ED%91%9C%ED%98%84%EB%B0%A9%EC%8B%9D(BGR%2C_HSV%2C_YUV).ipynb\" target=\"_parent\"><img src=\"https://colab.research.google.com/assets/colab-badge.svg\" alt=\"Open In Colab\"/></a>"
      ]
    },
    {
      "cell_type": "markdown",
      "source": [
        "## [v0.9]영상처리_OpenCV_이미지 색상표현방식(BGR, HSV, YUV)\n",
        "\n",
        "https://alpaca-gt.tistory.com/81"
      ],
      "metadata": {
        "id": "TD5_25dlBaFB"
      }
    },
    {
      "cell_type": "markdown",
      "source": [
        "## 1. BGR, BGRA"
      ],
      "metadata": {
        "id": "36qpktzoBd_k"
      }
    },
    {
      "cell_type": "code",
      "execution_count": null,
      "metadata": {
        "id": "kDA4Rjo_y3Ag"
      },
      "outputs": [],
      "source": [
        "# BGR, BGRA, Ahlpha 채널\n",
        "\n",
        "import cv2\n",
        "import numpy as np\n",
        "\n",
        "# 기본 값 옵션\n",
        "img = cv2.imread('img/opencv_logo.png')   \n",
        "# IMREAD_COLOR 옵션                   \n",
        "bgr = cv2.imread('img/opencv_logo.png', cv2.IMREAD_COLOR)    \n",
        "# IMREAD_UNCHANGED 옵션\n",
        "bgra = cv2.imread('img/opencv_logo.png', cv2.IMREAD_UNCHANGED) \n",
        "# 각 옵션에 따른 이미지 shape\n",
        "print(\"default\", img.shape, \"color\", bgr.shape, \"unchanged\", bgra.shape) \n",
        "\n",
        "cv2.imshow('bgr', bgr)\n",
        "cv2.imshow('bgra', bgra)\n",
        "cv2.imshow('alpha', bgra[:,:,3])  # 알파 채널만 표시\n",
        "cv2.waitKey(0)\n",
        "cv2.destroyAllWindows()"
      ]
    },
    {
      "cell_type": "markdown",
      "source": [
        "## 2. BGR 색상 이미지를 회색조 이미지로 변환하기"
      ],
      "metadata": {
        "id": "7fQBuZvpBhiX"
      }
    },
    {
      "cell_type": "code",
      "source": [
        "# BGR 색상 이미지를 회색조 이미지로 변환\n",
        "\n",
        "import cv2\n",
        "import numpy as np\n",
        "\n",
        "img = cv2.imread('img/yate.jpg')\n",
        "\n",
        "img2 = img.astype(np.uint16)                # dtype 변경 ---①\n",
        "b,g,r = cv2.split(img2)                     # 채널 별로 분리 ---②\n",
        "#b,g,r = img2[:,:,0], img2[:,:,1], img2[:,:,2]\n",
        "gray1 = ((b + g + r)/3).astype(np.uint8)    # 평균 값 연산후 dtype 변경 ---③\n",
        "gray2 = cv2.cvtColor(img, cv2.COLOR_BGR2GRAY) # BGR을 그레이 스케일로 변경 ---④\n",
        "cv2.imshow('original', img)\n",
        "cv2.imshow('gray1', gray1)\n",
        "cv2.imshow('gray2', gray2)\n",
        "\n",
        "cv2.waitKey(0)\n",
        "cv2.destroyAllWindows()"
      ],
      "metadata": {
        "id": "AVsvwza_Bjkq"
      },
      "execution_count": null,
      "outputs": []
    },
    {
      "cell_type": "markdown",
      "source": [
        "## 3. HSV 방식"
      ],
      "metadata": {
        "id": "Uv4USi9OBnUV"
      }
    },
    {
      "cell_type": "code",
      "source": [
        "# BGR을 HSV로 변환\n",
        "\n",
        "import cv2\n",
        "import numpy as np\n",
        "\n",
        "#---① BGR 컬러 스페이스로 원색 픽셀 생성\n",
        "red_bgr = np.array([[[0,0,255]]], dtype=np.uint8)   # 빨강 값만 갖는 픽셀\n",
        "green_bgr = np.array([[[0,255,0]]], dtype=np.uint8) # 초록 값만 갖는 픽셀\n",
        "blue_bgr = np.array([[[255,0,0]]], dtype=np.uint8)  # 파랑 값만 갖는 픽셀\n",
        "yellow_bgr = np.array([[[0,255,255]]], dtype=np.uint8) # 노랑 값만 갖는 픽셀\n",
        "\n",
        "#---② BGR 컬러 스페이스를 HSV 컬러 스페이스로 변환\n",
        "red_hsv = cv2.cvtColor(red_bgr, cv2.COLOR_BGR2HSV)\n",
        "green_hsv = cv2.cvtColor(green_bgr, cv2.COLOR_BGR2HSV)\n",
        "blue_hsv = cv2.cvtColor(blue_bgr, cv2.COLOR_BGR2HSV)\n",
        "yellow_hsv = cv2.cvtColor(yellow_bgr, cv2.COLOR_BGR2HSV)\n",
        "\n",
        "#---③ HSV로 변환한 픽셀 출력\n",
        "print(\"red:\",red_hsv)\n",
        "print(\"green:\", green_hsv)\n",
        "print(\"blue\", blue_hsv)\n",
        "print(\"yellow\", yellow_hsv)"
      ],
      "metadata": {
        "id": "qIlmtA4GBpxd"
      },
      "execution_count": null,
      "outputs": []
    },
    {
      "cell_type": "markdown",
      "source": [
        "## 4. YUV, YcbCr 방식"
      ],
      "metadata": {
        "id": "8VoMKNNYBpF7"
      }
    },
    {
      "cell_type": "code",
      "source": [
        "# BGR 값을 YUV로 변환\n",
        "import cv2\n",
        "import numpy as np\n",
        "\n",
        "#---① BGR 컬러 스페이스로 3가지 밝기의 픽셀 생성\n",
        "dark = np.array([[[0,0,0]]], dtype=np.uint8)        # 3 채널 모두 0인 가장 어두운 픽셀\n",
        "middle = np.array([[[127,127,127]]], dtype=np.uint8) # 3 채널 모두 127인 중간 밝기 픽셀\n",
        "bright = np.array([[[255,255,255]]], dtype=np.uint8) # 3 채널 모두 255인 가장 밝은 픽셀\n",
        "\n",
        "#---② BGR 컬러 스페이스를 YUV 컬러 스페이스로 변환\n",
        "dark_yuv = cv2.cvtColor(dark, cv2.COLOR_BGR2YUV)\n",
        "middle_yuv = cv2.cvtColor(middle, cv2.COLOR_BGR2YUV)\n",
        "bright_yuv = cv2.cvtColor(bright, cv2.COLOR_BGR2YUV)\n",
        "\n",
        "#---③ YUV로 변환한 픽셀 출력\n",
        "print(\"dark : \",dark_yuv)\n",
        "print(\"middle : \", middle_yuv)\n",
        "print(\"bright : \", bright_yuv)"
      ],
      "metadata": {
        "id": "LFKSF99wBs73"
      },
      "execution_count": null,
      "outputs": []
    }
  ]
}