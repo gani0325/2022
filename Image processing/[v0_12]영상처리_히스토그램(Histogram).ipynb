{
  "nbformat": 4,
  "nbformat_minor": 0,
  "metadata": {
    "colab": {
      "name": "[v0.12]영상처리_히스토그램(Histogram).ipynb",
      "provenance": [],
      "authorship_tag": "ABX9TyMh/ikFalVhuoD5t6RbHxLx",
      "include_colab_link": true
    },
    "kernelspec": {
      "name": "python3",
      "display_name": "Python 3"
    },
    "language_info": {
      "name": "python"
    }
  },
  "cells": [
    {
      "cell_type": "markdown",
      "metadata": {
        "id": "view-in-github",
        "colab_type": "text"
      },
      "source": [
        "<a href=\"https://colab.research.google.com/github/gani0325/2022/blob/main/Image%20processing/%5Bv0_12%5D%EC%98%81%EC%83%81%EC%B2%98%EB%A6%AC_%ED%9E%88%EC%8A%A4%ED%86%A0%EA%B7%B8%EB%9E%A8(Histogram).ipynb\" target=\"_parent\"><img src=\"https://colab.research.google.com/assets/colab-badge.svg\" alt=\"Open In Colab\"/></a>"
      ]
    },
    {
      "cell_type": "markdown",
      "source": [
        "## [v0.12]영상처리_히스토그램(Histogram)\n",
        "\n",
        "https://alpaca-gt.tistory.com/91"
      ],
      "metadata": {
        "id": "zxAONKjWbktE"
      }
    },
    {
      "cell_type": "markdown",
      "source": [
        "## 1. 히스토그램"
      ],
      "metadata": {
        "id": "0ACn8l0Sb1vF"
      }
    },
    {
      "cell_type": "code",
      "execution_count": null,
      "metadata": {
        "id": "cD-RY7BSRQGd"
      },
      "outputs": [],
      "source": [
        "# 회색조 1채널 히스토그램\n",
        "import cv2\n",
        "import numpy as np\n",
        "import matplotlib.pylab as plt\n",
        "\n",
        "#--① 이미지 그레이 스케일로 읽기 및 출력\n",
        "img = cv2.imread('img/tree_gray.jpg', cv2.IMREAD_GRAYSCALE)\n",
        "cv2.imshow('img', img)\n",
        "\n",
        "#--② 히스토그램 계산 및 그리기\n",
        "hist = cv2.calcHist([img], [0], None, [256], [0,256])\n",
        "plt.plot(hist)\n",
        "\n",
        "print(\"hist.shape:\", hist.shape)  #--③ 히스토그램의 shape (256,1)\n",
        "print(\"hist.sum():\", hist.sum(), \"img.shape:\",img.shape) #--④ 히스토그램 총 합계와 이미지의 크기\n",
        "plt.show()"
      ]
    },
    {
      "cell_type": "markdown",
      "source": [
        "## 2. 정규화(Normalization)"
      ],
      "metadata": {
        "id": "bJTn6Gynb6KY"
      }
    },
    {
      "cell_type": "code",
      "source": [
        "# 히스토그램 정규화\n",
        "import cv2\n",
        "import numpy as np\n",
        "import matplotlib.pylab as plt\n",
        "\n",
        "#--① 그레이 스케일로 영상 읽기\n",
        "img = cv2.imread('img/hist_unequ.jpg', cv2.IMREAD_GRAYSCALE)\n",
        "\n",
        "#--② 직접 연산한 정규화\n",
        "img_f = img.astype(np.float32)\n",
        "img_norm = ((img_f - img_f.min()) * (255) / (img_f.max() - img_f.min()))\n",
        "img_norm = img_norm.astype(np.uint8)\n",
        "\n",
        "#--③ OpenCV API를 이용한 정규화\n",
        "img_norm2 = cv2.normalize(img, None, 0, 255, cv2.NORM_MINMAX)\n",
        "\n",
        "#--④ 히스토그램 계산\n",
        "hist = cv2.calcHist([img], [0], None, [256], [0, 255])\n",
        "hist_norm = cv2.calcHist([img_norm], [0], None, [256], [0, 255])\n",
        "hist_norm2 = cv2.calcHist([img_norm2], [0], None, [256], [0, 255])\n",
        "\n",
        "cv2.imshow('Before', img)\n",
        "cv2.imshow('Manual', img_norm)\n",
        "cv2.imshow('cv2.normalize()', img_norm2)\n",
        "\n",
        "hists = {'Before' : hist, 'Manual':hist_norm, 'cv2.normalize()':hist_norm2}\n",
        "for i, (k, v) in enumerate(hists.items()):\n",
        "    plt.subplot(1,3,i+1)\n",
        "    plt.title(k)\n",
        "    plt.plot(v)\n",
        "plt.show()"
      ],
      "metadata": {
        "id": "VdDQAttKb6lF"
      },
      "execution_count": null,
      "outputs": []
    },
    {
      "cell_type": "markdown",
      "source": [
        "## 3. 평탄화 (Equalization)"
      ],
      "metadata": {
        "id": "d8W17OJ0b-A0"
      }
    },
    {
      "cell_type": "code",
      "source": [
        "# 회색조 이미지에 평탄화 적용\n",
        "import cv2\n",
        "import numpy as np\n",
        "import matplotlib.pylab as plt\n",
        "\n",
        "#--① 대상 영상으로 그레이 스케일로 읽기\n",
        "img = cv2.imread('img/yate.jpg', cv2.IMREAD_GRAYSCALE)\n",
        "rows, cols = img.shape[:2]\n",
        "\n",
        "#--② 이퀄라이즈 연산을 직접 적용\n",
        "hist = cv2.calcHist([img], [0], None, [256], [0, 256]) #히스토그램 계산\n",
        "cdf = hist.cumsum()                                     # 누적 히스토그램 \n",
        "cdf_m = np.ma.masked_equal(cdf, 0)                      # 0(zero)인 값을 NaN으로 제거\n",
        "cdf_m = (cdf_m - cdf_m.min()) /(rows * cols) * 255      # 이퀄라이즈 히스토그램 계산\n",
        "cdf = np.ma.filled(cdf_m,0).astype('uint8')             # NaN을 다시 0으로 환원\n",
        "print(cdf.shape)\n",
        "img2 = cdf[img]                                         # 히스토그램을 픽셀로 맵핑\n",
        "\n",
        "#--③ OpenCV API로 이퀄라이즈 히스토그램 적용\n",
        "img3 = cv2.equalizeHist(img)\n",
        "\n",
        "#--④ 이퀄라이즈 결과 히스토그램 계산\n",
        "hist2 = cv2.calcHist([img2], [0], None, [256], [0, 256])\n",
        "hist3 = cv2.calcHist([img3], [0], None, [256], [0, 256])\n",
        "\n",
        "#--⑤ 결과 출력\n",
        "cv2.imshow('Before', img)\n",
        "cv2.imshow('Manual', img2)\n",
        "cv2.imshow('cv2.equalizeHist()', img3)\n",
        "hists = {'Before':hist, 'Manual':hist2, 'cv2.equalizeHist()':hist3}\n",
        "for i, (k, v) in enumerate(hists.items()):\n",
        "    plt.subplot(1,3,i+1)\n",
        "    plt.title(k)\n",
        "    plt.plot(v)\n",
        "plt.show()"
      ],
      "metadata": {
        "id": "S43I6C3fb-VY"
      },
      "execution_count": null,
      "outputs": []
    },
    {
      "cell_type": "markdown",
      "source": [
        "## +) 색상 이미지 평탄화"
      ],
      "metadata": {
        "id": "J90ixEF6cBGM"
      }
    },
    {
      "cell_type": "code",
      "source": [
        "# 색상 이미지에 대한 평탄화 적용\n",
        "import numpy as np, cv2\n",
        "\n",
        "img = cv2.imread('img/yate.jpg') #이미지 읽기, BGR 스케일\n",
        "\n",
        "#--① 컬러 스케일을 BGR에서 YUV로 변경\n",
        "img_yuv = cv2.cvtColor(img, cv2.COLOR_BGR2YUV) \n",
        "\n",
        "#--② YUV 컬러 스케일의 첫번째 채널에 대해서 이퀄라이즈 적용\n",
        "img_yuv[:,:,0] = cv2.equalizeHist(img_yuv[:,:,0]) \n",
        "\n",
        "#--③ 컬러 스케일을 YUV에서 BGR로 변경\n",
        "img2 = cv2.cvtColor(img_yuv, cv2.COLOR_YUV2BGR) \n",
        "\n",
        "cv2.imshow('Before', img)\n",
        "cv2.imshow('After', img2)\n",
        "cv2.waitKey()\n",
        "cv2.destroyAllWindows()"
      ],
      "metadata": {
        "id": "SXlDKW48cD3N"
      },
      "execution_count": null,
      "outputs": []
    },
    {
      "cell_type": "markdown",
      "source": [
        "## 4. CLAHE (Contrast Limited Adaptive Histogram Equalization)"
      ],
      "metadata": {
        "id": "Mn_O72nzcF5y"
      }
    },
    {
      "cell_type": "code",
      "source": [
        "# CLAHE 적용\n",
        "import cv2\n",
        "import numpy as np\n",
        "import matplotlib.pylab as plt\n",
        "\n",
        "#--①이미지 읽어서 YUV 컬러스페이스로 변경\n",
        "img = cv2.imread('img/clahe.png')\n",
        "img_yuv = cv2.cvtColor(img, cv2.COLOR_BGR2YUV)\n",
        "\n",
        "#--② 밝기 채널에 대해서 이퀄라이즈 적용\n",
        "img_eq = img_yuv.copy()\n",
        "img_eq[:,:,0] = cv2.equalizeHist(img_eq[:,:,0])\n",
        "img_eq = cv2.cvtColor(img_eq, cv2.COLOR_YUV2BGR)\n",
        "\n",
        "#--③ 밝기 채널에 대해서 CLAHE 적용\n",
        "img_clahe = img_yuv.copy()\n",
        "clahe = cv2.createCLAHE(clipLimit=3.0, tileGridSize=(8,8)) #CLAHE 생성\n",
        "img_clahe[:,:,0] = clahe.apply(img_clahe[:,:,0])           #CLAHE 적용\n",
        "img_clahe = cv2.cvtColor(img_clahe, cv2.COLOR_YUV2BGR)\n",
        "\n",
        "#--④ 결과 출력\n",
        "cv2.imshow('Before', img)\n",
        "cv2.imshow('CLAHE', img_clahe)\n",
        "cv2.imshow('equalizeHist', img_eq)\n",
        "cv2.waitKey()\n",
        "cv2.destroyAllWindows()"
      ],
      "metadata": {
        "id": "dqBhD1nPcFNv"
      },
      "execution_count": null,
      "outputs": []
    }
  ]
}