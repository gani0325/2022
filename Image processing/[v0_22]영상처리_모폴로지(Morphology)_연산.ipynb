{
  "nbformat": 4,
  "nbformat_minor": 0,
  "metadata": {
    "colab": {
      "name": "[v0.22]영상처리_모폴로지(Morphology) 연산.ipynb",
      "provenance": [],
      "authorship_tag": "ABX9TyPjK8JoHPh6q0l6djB0YeF/",
      "include_colab_link": true
    },
    "kernelspec": {
      "name": "python3",
      "display_name": "Python 3"
    },
    "language_info": {
      "name": "python"
    }
  },
  "cells": [
    {
      "cell_type": "markdown",
      "metadata": {
        "id": "view-in-github",
        "colab_type": "text"
      },
      "source": [
        "<a href=\"https://colab.research.google.com/github/gani0325/2022/blob/main/Image%20processing/%5Bv0_22%5D%EC%98%81%EC%83%81%EC%B2%98%EB%A6%AC_%EB%AA%A8%ED%8F%B4%EB%A1%9C%EC%A7%80(Morphology)_%EC%97%B0%EC%82%B0.ipynb\" target=\"_parent\"><img src=\"https://colab.research.google.com/assets/colab-badge.svg\" alt=\"Open In Colab\"/></a>"
      ]
    },
    {
      "cell_type": "markdown",
      "source": [
        "## [v0.22]영상처리_모폴로지(Morphology) 연산\n",
        "\n",
        "https://alpaca-gt.tistory.com/118?category=895871"
      ],
      "metadata": {
        "id": "GiXn49M-9W6o"
      }
    },
    {
      "cell_type": "markdown",
      "source": [
        "## 1. 가우시안 피라미드 (gaussian pyramid)"
      ],
      "metadata": {
        "id": "ypIgR56i9a_S"
      }
    },
    {
      "cell_type": "code",
      "execution_count": null,
      "metadata": {
        "id": "-MbK057t9V1x"
      },
      "outputs": [],
      "source": [
        "# 가우시안 이미지 피라미드\n",
        "import cv2\n",
        "\n",
        "img = cv2.imread('img/night.jpg')\n",
        "\n",
        "# 가우시안 이미지 피라미드 축소\n",
        "smaller = cv2.pyrDown(img) # img x 1/4\n",
        "# 가우시안 이미지 피라미드 확대\n",
        "bigger = cv2.pyrUp(img) # img x 4\n",
        "\n",
        "# 결과 출력\n",
        "cv2.imshow('img', img)\n",
        "cv2.imshow('pyrDown', smaller)\n",
        "cv2.imshow('pyrUp', bigger)\n",
        "cv2.waitKey(0)\n",
        "cv2.destroyAllWindows()"
      ]
    },
    {
      "cell_type": "markdown",
      "source": [
        "## 2. 라플라시안 피라미드 (laplacian pyramid)"
      ],
      "metadata": {
        "id": "itxSQdK79d2Q"
      }
    },
    {
      "cell_type": "code",
      "source": [
        "# 라플라시안 피라미드로 영상 복원\n",
        "import cv2\n",
        "import numpy as np\n",
        "\n",
        "img = cv2.imread('img/taekwonv1.jpg')\n",
        "\n",
        "# 원본 영상을 가우시안 피라미드로 축소\n",
        "smaller = cv2.pyrDown(img)\n",
        "# 축소한 영상을 가우시안 피라미드로 확대\n",
        "bigger = cv2.pyrUp(smaller)\n",
        "\n",
        "# 원본에서 확대한 영상 빼기\n",
        "laplacian = cv2.subtract(img, bigger)\n",
        "# 확대 한 영상에 라플라시안 영상 더해서 복원\n",
        "restored = bigger + laplacian\n",
        "\n",
        "# 결과 출력 (원본 영상, 라플라시안, 확대 영상, 복원 영상)\n",
        "merged = np.hstack((img, laplacian, bigger, restored))\n",
        "cv2.imshow('Laplacian Pyramid', merged)\n",
        "cv2.waitKey(0)\n",
        "cv2.destroyAllWindows()"
      ],
      "metadata": {
        "id": "9s4L2kew9eJt"
      },
      "execution_count": null,
      "outputs": []
    }
  ]
}