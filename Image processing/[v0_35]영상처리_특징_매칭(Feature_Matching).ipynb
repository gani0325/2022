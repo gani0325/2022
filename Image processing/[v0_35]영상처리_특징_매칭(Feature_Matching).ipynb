{
  "nbformat": 4,
  "nbformat_minor": 0,
  "metadata": {
    "colab": {
      "name": "[v0.35]영상처리_특징 매칭(Feature Matching).ipynb",
      "provenance": [],
      "authorship_tag": "ABX9TyNVrWHW2WNyt8UE1opI0SlQ",
      "include_colab_link": true
    },
    "kernelspec": {
      "name": "python3",
      "display_name": "Python 3"
    },
    "language_info": {
      "name": "python"
    }
  },
  "cells": [
    {
      "cell_type": "markdown",
      "metadata": {
        "id": "view-in-github",
        "colab_type": "text"
      },
      "source": [
        "<a href=\"https://colab.research.google.com/github/gani0325/2022/blob/main/Image%20processing/%5Bv0_35%5D%EC%98%81%EC%83%81%EC%B2%98%EB%A6%AC_%ED%8A%B9%EC%A7%95_%EB%A7%A4%EC%B9%AD(Feature_Matching).ipynb\" target=\"_parent\"><img src=\"https://colab.research.google.com/assets/colab-badge.svg\" alt=\"Open In Colab\"/></a>"
      ]
    },
    {
      "cell_type": "markdown",
      "source": [
        "## [v0.35]영상처리_특징 매칭(Feature Matching)\n",
        "\n",
        "https://alpaca-gt.tistory.com/139?category=895871"
      ],
      "metadata": {
        "id": "-2OXAxHg-796"
      }
    },
    {
      "cell_type": "markdown",
      "source": [
        "### 1. 기울기 벡터(Gradient Vectors)"
      ],
      "metadata": {
        "id": "ccT8VveZ--eU"
      }
    },
    {
      "cell_type": "markdown",
      "source": [
        "### 2. 픽셀(Pixels), 셀(Cells), 블록(Blocks)"
      ],
      "metadata": {
        "id": "x7qPhkQL_AAr"
      }
    },
    {
      "cell_type": "markdown",
      "source": [
        "### 3. HOG(Histogram of Oriented Gradient)"
      ],
      "metadata": {
        "id": "NpAW-hlS_BLI"
      }
    },
    {
      "cell_type": "code",
      "execution_count": null,
      "metadata": {
        "id": "VhOiFzJu-673"
      },
      "outputs": [],
      "source": [
        "import cv2\n",
        "import numpy as np\n",
        "\n",
        "img = cv2.imread('img/jk.jpg')\n",
        "img = np.float32(img) / 255.0\n",
        "\n",
        "gx = cv2.Sobel(img, cv2.CV_32F, 1, 0)\n",
        "gy = cv2.Sobel(img, cv2.CV_32F, 0, 1)\n",
        "magnitude, angle = cv2.cartToPolar(gx, gy)"
      ]
    },
    {
      "cell_type": "markdown",
      "source": [
        "### 4. HOG 디스크립터를 활용한 보행자 인식"
      ],
      "metadata": {
        "id": "MJ-_lvWZ_DfP"
      }
    },
    {
      "cell_type": "code",
      "source": [
        "# HOG-SVM 보행자 검출\n",
        "import cv2\n",
        "\n",
        "# default 디덱터를 위한 HOG 객체 생성 및 설정--- ①\n",
        "hogdef = cv2.HOGDescriptor()\n",
        "hogdef.setSVMDetector(cv2.HOGDescriptor_getDefaultPeopleDetector())\n",
        "\n",
        "# dailer 디덱터를 위한 HOG 객체 생성 및 설정--- ②\n",
        "hogdaim  = cv2.HOGDescriptor((48,96), (16,16), (8,8), (8,8), 9)\n",
        "hogdaim.setSVMDetector(cv2.HOGDescriptor_getDaimlerPeopleDetector())\n",
        "\n",
        "cap = cv2.VideoCapture('img/walking.mp4')\n",
        "mode = True  # 모드 변환을 위한 플래그 변수 \n",
        "print('Toggle Space-bar to change mode.')\n",
        "while cap.isOpened():\n",
        "    ret, img = cap.read()\n",
        "    if ret :\n",
        "        if mode:\n",
        "            # default 디텍터로 보행자 검출 --- ③\n",
        "            found, _ = hogdef.detectMultiScale(img)\n",
        "            for (x,y,w,h) in found:\n",
        "                cv2.rectangle(img, (x,y), (x+w, y+h), (0,255,255))\n",
        "        else:\n",
        "            # daimler 디텍터로 보행자 검출 --- ④\n",
        "            found, _ = hogdaim.detectMultiScale(img)\n",
        "            for (x,y,w,h) in found:\n",
        "                cv2.rectangle(img, (x,y), (x+w, y+h), (0,255,0))\n",
        "        cv2.putText(img, 'Detector:%s'%('Default' if mode else 'Daimler'), \\\n",
        "                        (10,50 ), cv2.FONT_HERSHEY_DUPLEX,1, (0,255,0),1)\n",
        "        cv2.imshow('frame', img)\n",
        "        key = cv2.waitKey(1) \n",
        "        if key == 27:\n",
        "            break\n",
        "        elif key == ord(' '):\n",
        "            mode = not mode\n",
        "    else:\n",
        "        break\n",
        "cap.release()\n",
        "cv2.destroyAllWindows()"
      ],
      "metadata": {
        "id": "yjb9Fryq_Fa-"
      },
      "execution_count": null,
      "outputs": []
    }
  ]
}