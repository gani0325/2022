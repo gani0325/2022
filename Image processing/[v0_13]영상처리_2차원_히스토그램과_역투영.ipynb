{
  "nbformat": 4,
  "nbformat_minor": 0,
  "metadata": {
    "colab": {
      "name": "[v0.13]영상처리_2차원 히스토그램과 역투영.ipynb",
      "provenance": [],
      "authorship_tag": "ABX9TyPCDPMJtLHF2P/L7OVKKKXr",
      "include_colab_link": true
    },
    "kernelspec": {
      "name": "python3",
      "display_name": "Python 3"
    },
    "language_info": {
      "name": "python"
    }
  },
  "cells": [
    {
      "cell_type": "markdown",
      "metadata": {
        "id": "view-in-github",
        "colab_type": "text"
      },
      "source": [
        "<a href=\"https://colab.research.google.com/github/gani0325/2022/blob/main/Image%20processing/%5Bv0_13%5D%EC%98%81%EC%83%81%EC%B2%98%EB%A6%AC_2%EC%B0%A8%EC%9B%90_%ED%9E%88%EC%8A%A4%ED%86%A0%EA%B7%B8%EB%9E%A8%EA%B3%BC_%EC%97%AD%ED%88%AC%EC%98%81.ipynb\" target=\"_parent\"><img src=\"https://colab.research.google.com/assets/colab-badge.svg\" alt=\"Open In Colab\"/></a>"
      ]
    },
    {
      "cell_type": "markdown",
      "source": [
        "## [v0.13]영상처리_2차원 히스토그램과 역투영\n",
        "\n",
        "https://alpaca-gt.tistory.com/92?category=895871"
      ],
      "metadata": {
        "id": "2uBMiHTmccDO"
      }
    },
    {
      "cell_type": "markdown",
      "source": [
        "## 1. 2차원 히스토그램 (2D Histogram)"
      ],
      "metadata": {
        "id": "BsFG-aMzchsF"
      }
    },
    {
      "cell_type": "code",
      "execution_count": null,
      "metadata": {
        "id": "G1hO0I4ycapa"
      },
      "outputs": [],
      "source": [
        "# 2D 히스토그램\n",
        "import cv2\n",
        "import matplotlib.pylab as plt\n",
        "\n",
        "plt.style.use('classic')            # --①컬러 스타일을 1.x 스타일로 사용\n",
        "img = cv2.imread('img/sunflower.jpg')\n",
        "\n",
        "plt.subplot(131)\n",
        "hist = cv2.calcHist([img], [0,1], None, [32,32], [0,256,0,256]) #--②\n",
        "p = plt.imshow(hist)                                            #--③\n",
        "plt.title('Blue and Green')                                     #--④\n",
        "plt.colorbar(p)                                                 #--⑤\n",
        "\n",
        "\n",
        "plt.subplot(132)\n",
        "hist = cv2.calcHist([img], [1,2], None, [32,32], [0,256,0,256]) #--⑥\n",
        "p = plt.imshow(hist)\n",
        "plt.title('Green and Red')\n",
        "plt.colorbar(p)\n",
        "\n",
        "plt.subplot(133)\n",
        "hist = cv2.calcHist([img], [0,2], None, [32,32], [0,256,0,256]) #--⑦\n",
        "p = plt.imshow(hist)\n",
        "plt.title('Blue and Red')\n",
        "plt.colorbar(p)\n",
        "\n",
        "plt.show()"
      ]
    },
    {
      "cell_type": "markdown",
      "source": [
        "## 2. 역투영 (Back Projection)"
      ],
      "metadata": {
        "id": "AVKOqbYbcnVR"
      }
    },
    {
      "cell_type": "code",
      "source": [
        "# 마우스로 선택한 영역의 물체 분리하기\n",
        "import cv2\n",
        "import numpy as np\n",
        "import matplotlib.pyplot as plt\n",
        "\n",
        "win_name = 'back_projection'\n",
        "img = cv2.imread('img/alpaca1.jpeg')\n",
        "hsv_img = cv2.cvtColor(img, cv2.COLOR_BGR2HSV)\n",
        "draw = img.copy()\n",
        "\n",
        "#--⑤ 역투영된 결과를 마스킹해서 결과를 출력하는 공통함수\n",
        "def masking(bp, win_name):\n",
        "    disc = cv2.getStructuringElement(cv2.MORPH_ELLIPSE,(5,5))\n",
        "    cv2.filter2D(bp,-1,disc,bp)\n",
        "    _, mask = cv2.threshold(bp, 1, 255, cv2.THRESH_BINARY)\n",
        "    result = cv2.bitwise_and(img, img, mask=mask)\n",
        "    cv2.imshow(win_name, result)\n",
        "\n",
        "#--⑥ 직접 구현한 역투영 함수\n",
        "def backProject_manual(hist_roi):\n",
        "    #--⑦ 전체 영상에 대한 H,S 히스토그램 계산\n",
        "    hist_img = cv2.calcHist([hsv_img], [0,1], None,[180,256], [0,180,0,256])\n",
        "    #--⑧ 선택영역과 전체 영상에 대한 히스토그램 그램 비율계산\n",
        "    hist_rate = hist_roi/ (hist_img + 1)\n",
        "    #--⑨ 비율에 맞는 픽셀 값 매핑\n",
        "    h,s,v = cv2.split(hsv_img)\n",
        "    bp = hist_rate[h.ravel(), s.ravel()]\n",
        "    # 비율은 1을 넘어서는 안되기 때문에 1을 넘는 수는 1을 갖게 함\n",
        "    bp = np.minimum(bp, 1)\n",
        "    # 1차원 배열을 원래의 shape로 변환\n",
        "    bp = bp.reshape(hsv_img.shape[:2])\n",
        "    cv2.normalize(bp,bp, 0, 255, cv2.NORM_MINMAX)\n",
        "    bp = bp.astype(np.uint8)\n",
        "    #--⑩ 역 투영 결과로 마스킹해서 결과 출력\n",
        "    masking(bp,'result_manual')\n",
        " \n",
        "# OpenCV API로 구현한 함수 ---⑪ \n",
        "def backProject_cv(hist_roi):\n",
        "    # 역투영 함수 호출 ---⑫\n",
        "    bp = cv2.calcBackProject([hsv_img], [0, 1], hist_roi,  [0, 180, 0, 256], 1)\n",
        "    # 역 투영 결과로 마스킹해서 결과 출력 ---⑬ \n",
        "    masking(bp,'result_cv')\n",
        "\n",
        "# ROI 선택 ---①\n",
        "(x,y,w,h) = cv2.selectROI(win_name, img, False)\n",
        "if w > 0 and h > 0:\n",
        "    roi = draw[y:y+h, x:x+w]\n",
        "    # 빨간 사각형으로 ROI 영역 표시\n",
        "    cv2.rectangle(draw, (x, y), (x+w, y+h), (0,0,255), 2)\n",
        "    #--② 선택한 ROI를 HSV 컬러 스페이스로 변경\n",
        "    hsv_roi = cv2.cvtColor(roi, cv2.COLOR_BGR2HSV)\n",
        "    #--③ H,S 채널에 대한 히스토그램 계산\n",
        "    hist_roi = cv2.calcHist([hsv_roi],[0, 1], None, [180, 256], [0, 180, 0, 256] )\n",
        "    #--④ ROI의 히스토그램을 매뉴얼 구현함수와 OpenCV 이용하는 함수에 각각 전달\n",
        "    backProject_manual(hist_roi)\n",
        "    backProject_cv(hist_roi)\n",
        "cv2.imshow(win_name, draw)\n",
        "cv2.waitKey()\n",
        "cv2.destroyAllWindows()"
      ],
      "metadata": {
        "id": "JpNtl7KNcpe_"
      },
      "execution_count": null,
      "outputs": []
    }
  ]
}