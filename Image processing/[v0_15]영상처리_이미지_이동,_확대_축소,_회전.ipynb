{
  "nbformat": 4,
  "nbformat_minor": 0,
  "metadata": {
    "colab": {
      "name": "[v0.15]영상처리_이미지 이동, 확대/축소, 회전.ipynb",
      "provenance": [],
      "authorship_tag": "ABX9TyOucsQFQ1l7cwvmDwrS/6K3",
      "include_colab_link": true
    },
    "kernelspec": {
      "name": "python3",
      "display_name": "Python 3"
    },
    "language_info": {
      "name": "python"
    }
  },
  "cells": [
    {
      "cell_type": "markdown",
      "metadata": {
        "id": "view-in-github",
        "colab_type": "text"
      },
      "source": [
        "<a href=\"https://colab.research.google.com/github/gani0325/2022/blob/main/Image%20processing/%5Bv0_15%5D%EC%98%81%EC%83%81%EC%B2%98%EB%A6%AC_%EC%9D%B4%EB%AF%B8%EC%A7%80_%EC%9D%B4%EB%8F%99%2C_%ED%99%95%EB%8C%80_%EC%B6%95%EC%86%8C%2C_%ED%9A%8C%EC%A0%84.ipynb\" target=\"_parent\"><img src=\"https://colab.research.google.com/assets/colab-badge.svg\" alt=\"Open In Colab\"/></a>"
      ]
    },
    {
      "cell_type": "markdown",
      "source": [
        "## [v0.15]영상처리_이미지 이동, 확대/축소, 회전\n",
        "\n",
        "https://alpaca-gt.tistory.com/94?category=895871"
      ],
      "metadata": {
        "id": "aFsHOJAZdSWz"
      }
    },
    {
      "cell_type": "markdown",
      "source": [
        "## 1. 이미지 이동"
      ],
      "metadata": {
        "id": "T_1KQ4qpdWPq"
      }
    },
    {
      "cell_type": "code",
      "execution_count": null,
      "metadata": {
        "id": "_nVkN4mndQlV"
      },
      "outputs": [],
      "source": [
        "# 평행 이동\n",
        "import cv2\n",
        "import numpy as np\n",
        "\n",
        "img = cv2.imread('img/whiteman.png')\n",
        "rows,cols = img.shape[0:2]  # 영상의 크기\n",
        "\n",
        "dx, dy = 100, 50            # 이동할 픽셀 거리\n",
        "\n",
        "# ---① 변환 행렬 생성 \n",
        "mtrx = np.float32([[1, 0, dx],\n",
        "                   [0, 1, dy]])  \n",
        "# ---② 단순 이동\n",
        "dst = cv2.warpAffine(img, mtrx, (cols+dx, rows+dy))   \n",
        "\n",
        "# ---③ 탈락된 외곽 픽셀을 파랑색으로 보정\n",
        "dst2 = cv2.warpAffine(img, mtrx, (cols+dx, rows+dy), None, \\\n",
        "                        cv2.INTER_LINEAR, cv2.BORDER_CONSTANT, (255,0,0) )\n",
        "\n",
        "# ---④ 탈락된 외곽 픽셀을 원본을 반사 시켜서 보정\n",
        "dst3 = cv2.warpAffine(img, mtrx, (cols+dx, rows+dy), None, \\\n",
        "                                cv2.INTER_LINEAR, cv2.BORDER_REFLECT)\n",
        "\n",
        "cv2.imshow('original', img)\n",
        "cv2.imshow('trans',dst)\n",
        "cv2.imshow('BORDER_CONSTATNT', dst2)\n",
        "cv2.imshow('BORDER_FEFLECT', dst3)\n",
        "cv2.waitKey(0)\n",
        "cv2.destroyAllWindows()"
      ]
    },
    {
      "cell_type": "markdown",
      "source": [
        "## 2. 이미지 확대 및 축소"
      ],
      "metadata": {
        "id": "scfo9OSydbFs"
      }
    },
    {
      "cell_type": "code",
      "source": [
        "# 행렬을 이용한 이미지 확대 및 축소\n",
        "import cv2\n",
        "import numpy as np\n",
        "\n",
        "img = cv2.imread('img/jam.jpeg')\n",
        "height, width = img.shape[:2]\n",
        "\n",
        "# --① 0.5배 축소 변환 행렬\n",
        "m_small = np.float32([[0.5, 0, 0],\n",
        "                       [0, 0.5,0]])  \n",
        "# --② 2배 확대 변환 행렬\n",
        "m_big = np.float32([[2, 0, 0],\n",
        "                     [0, 2, 0]])  \n",
        "\n",
        "# --③ 보간법 적용 없이 확대 축소\n",
        "dst1 = cv2.warpAffine(img, m_small, (int(height*0.5), int(width*0.5)))\n",
        "dst2 = cv2.warpAffine(img, m_big, (int(height*2), int(width*2)))\n",
        "\n",
        "# --④ 보간법 적용한 확대 축소\n",
        "dst3 = cv2.warpAffine(img, m_small, (int(height*0.5), int(width*0.5)), \\\n",
        "                        None, cv2.INTER_AREA)\n",
        "dst4 = cv2.warpAffine(img, m_big, (int(height*2), int(width*2)), \\\n",
        "                        None, cv2.INTER_CUBIC)\n",
        "\n",
        "# 결과 출력\n",
        "cv2.imshow(\"original\", img)\n",
        "cv2.imshow(\"small\", dst1)\n",
        "cv2.imshow(\"big\", dst2)\n",
        "cv2.imshow(\"small INTER_AREA\", dst3)\n",
        "cv2.imshow(\"big INTER_CUBIC\", dst4)\n",
        "cv2.waitKey(0)\n",
        "cv2.destroyAllWindows()"
      ],
      "metadata": {
        "id": "Dl5rqRwudcjV"
      },
      "execution_count": null,
      "outputs": []
    },
    {
      "cell_type": "markdown",
      "source": [
        "## +) cv2.resize() 로 확대 및 축소"
      ],
      "metadata": {
        "id": "AKzmLIIWdeLn"
      }
    },
    {
      "cell_type": "code",
      "source": [
        "# cv2.reize()로 이미지 확대 및 축소\n",
        "import cv2\n",
        "import numpy as np\n",
        "\n",
        "img = cv2.imread('img/hobbang.jpeg')\n",
        "height, width = img.shape[:2]\n",
        "\n",
        "#--① 크기 지정으로 축소\n",
        "dst1 = cv2.resize(img, (int(width*0.5), int(height*0.5)), \\\n",
        "                         interpolation=cv2.INTER_AREA)\n",
        "\n",
        "#--② 배율 지정으로 확대\n",
        "dst2 = cv2.resize(img, None,  None, 2, 2, cv2.INTER_CUBIC)\n",
        "#--③ 결과 출력\n",
        "cv2.imshow(\"original\", img)\n",
        "cv2.imshow(\"small\", dst1)\n",
        "cv2.imshow(\"big\", dst2)\n",
        "cv2.waitKey(0)\n",
        "cv2.destroyAllWindows()"
      ],
      "metadata": {
        "id": "ytXxP-TtdeeR"
      },
      "execution_count": null,
      "outputs": []
    },
    {
      "cell_type": "markdown",
      "source": [
        "## 3. 이미지 회전"
      ],
      "metadata": {
        "id": "Oo75i8X2dhQO"
      }
    },
    {
      "cell_type": "code",
      "source": [
        "# 변환행렬을 이용한 이미지 회전\n",
        "import cv2\n",
        "import numpy as np\n",
        "\n",
        "img = cv2.imread('img/hobbang.jpeg')\n",
        "rows,cols = img.shape[0:2]\n",
        "\n",
        "# ---① 라디안 각도 계산(60진법을 호도법으로 변경)\n",
        "d45 = 45.0 * np.pi / 180    # 45도\n",
        "d90 = 90.0 * np.pi / 180    # 90도\n",
        "\n",
        "# ---② 회전을 위한 변환 행렬 생성\n",
        "m45 = np.float32( [[ np.cos(d45), -1* np.sin(d45), rows//2],\n",
        "                    [np.sin(d45), np.cos(d45), -1*cols//4]])\n",
        "m90 = np.float32( [[ np.cos(d90), -1* np.sin(d90), rows],\n",
        "                    [np.sin(d90), np.cos(d90), 0]])\n",
        "\n",
        "# ---③ 회전 변환 행렬 적용\n",
        "r45 = cv2.warpAffine(img,m45,(cols,rows))\n",
        "r90 = cv2.warpAffine(img,m90,(rows,cols))\n",
        "\n",
        "# ---④ 결과 출력\n",
        "cv2.imshow(\"origin\", img)\n",
        "cv2.imshow(\"45\", r45)\n",
        "cv2.imshow(\"90\", r90)\n",
        "cv2.waitKey(0)\n",
        "cv2.destroyAllWindows()"
      ],
      "metadata": {
        "id": "Tcf9cYo8dhf3"
      },
      "execution_count": 1,
      "outputs": []
    },
    {
      "cell_type": "markdown",
      "source": [
        "## +) cv2.getRotationMatrix2D"
      ],
      "metadata": {
        "id": "vhYhaHNmdmZ8"
      }
    },
    {
      "cell_type": "code",
      "source": [
        "# OpenCv로 회전 변환행렬 구하기\n",
        "import cv2\n",
        "\n",
        "img = cv2.imread('img/hobbang.jpeg')\n",
        "rows,cols = img.shape[0:2]\n",
        "\n",
        "#---① 회전을 위한 변환 행렬 구하기\n",
        "# 회전축:중앙, 각도:45, 배율:0.5\n",
        "m45 = cv2.getRotationMatrix2D((cols/2,rows/2),45,0.5) \n",
        "# 회전축:중앙, 각도:90, 배율:1.5\n",
        "m90 = cv2.getRotationMatrix2D((cols/2,rows/2),90,1.5) \n",
        "\n",
        "#---② 변환 행렬 적용\n",
        "img45 = cv2.warpAffine(img, m45,(cols, rows))\n",
        "img90 = cv2.warpAffine(img, m90,(cols, rows))\n",
        "\n",
        "#---③ 결과 출력\n",
        "cv2.imshow('origin',img)\n",
        "cv2.imshow(\"45\", img45)\n",
        "cv2.imshow(\"90\", img90)\n",
        "cv2.waitKey(0)\n",
        "cv2.destroyAllWindows()"
      ],
      "metadata": {
        "id": "m9br9UhKdjFk"
      },
      "execution_count": null,
      "outputs": []
    }
  ]
}