{
  "nbformat": 4,
  "nbformat_minor": 0,
  "metadata": {
    "colab": {
      "name": "[v0.11]영상처리_이미지 연산 (합성, 알파 블렌딩, 마스킹).ipynb",
      "provenance": [],
      "authorship_tag": "ABX9TyP1wyv7ZLcsM66wEXZ7HmML",
      "include_colab_link": true
    },
    "kernelspec": {
      "name": "python3",
      "display_name": "Python 3"
    },
    "language_info": {
      "name": "python"
    }
  },
  "cells": [
    {
      "cell_type": "markdown",
      "metadata": {
        "id": "view-in-github",
        "colab_type": "text"
      },
      "source": [
        "<a href=\"https://colab.research.google.com/github/gani0325/2022/blob/main/Image%20processing/%5Bv0_11%5D%EC%98%81%EC%83%81%EC%B2%98%EB%A6%AC_%EC%9D%B4%EB%AF%B8%EC%A7%80_%EC%97%B0%EC%82%B0_(%ED%95%A9%EC%84%B1%2C_%EC%95%8C%ED%8C%8C_%EB%B8%94%EB%A0%8C%EB%94%A9%2C_%EB%A7%88%EC%8A%A4%ED%82%B9).ipynb\" target=\"_parent\"><img src=\"https://colab.research.google.com/assets/colab-badge.svg\" alt=\"Open In Colab\"/></a>"
      ]
    },
    {
      "cell_type": "markdown",
      "source": [
        "## [v0.11]영상처리_이미지 연산 (합성, 알파 블렌딩, 마스킹)\n",
        "\n",
        "https://alpaca-gt.tistory.com/83?category=895871"
      ],
      "metadata": {
        "id": "zmQEtPvCCprG"
      }
    },
    {
      "cell_type": "markdown",
      "source": [
        "## 1. 이미지 연산"
      ],
      "metadata": {
        "id": "z2cqY8DUCsTy"
      }
    },
    {
      "cell_type": "code",
      "execution_count": null,
      "metadata": {
        "id": "i3cilxTUCn7W"
      },
      "outputs": [],
      "source": [
        "# 이미지의 사칙 연산\n",
        "import cv2\n",
        "import numpy as np\n",
        "\n",
        "# ---① 연산에 사용할 배열 생성\n",
        "a = np.uint8([[200, 50]]) \n",
        "b = np.uint8([[100, 100]])\n",
        "\n",
        "#---② NumPy 배열 직접 연산\n",
        "add1 = a + b\n",
        "sub1 = a - b\n",
        "mult1 = a * 2\n",
        "div1 = a / 3\n",
        "\n",
        "# ---③ OpenCV API를 이용한 연산\n",
        "add2 = cv2.add(a, b)\n",
        "sub2 = cv2.subtract(a, b)\n",
        "mult2 = cv2.multiply(a , 2)\n",
        "div2 = cv2.divide(a, 3)\n",
        "\n",
        "#---④ 각 연산 결과 출력\n",
        "print(\"numpy-----OpenCV API\")\n",
        "print(add1, add2)\n",
        "print(sub1, sub2)\n",
        "print(mult1, mult2)\n",
        "print(div1, div2)"
      ]
    },
    {
      "cell_type": "markdown",
      "source": [
        "## +) mask의 값"
      ],
      "metadata": {
        "id": "bqKKqL1KCvCJ"
      }
    },
    {
      "cell_type": "code",
      "source": [
        "# mask와 누적 할당 연산\n",
        "import cv2\n",
        "import numpy as np\n",
        "\n",
        "#---① 연산에 사용할 배열 생성\n",
        "a = np.array([[1, 2]], dtype=np.uint8)\n",
        "b = np.array([[10, 20]], dtype=np.uint8)\n",
        "#---② 2번째 요소가 0인 마스크 배열 생성 \n",
        "mask = np.array([[1, 0]], dtype=np.uint8)\n",
        "\n",
        "#---③ 누적 할당과의 비교 연산\n",
        "c1 = cv2.add(a, b, None, mask)\n",
        "print(c1)\n",
        "c2 = cv2.add(a, b, b.copy(), mask)\n",
        "print(c2, b)\n",
        "c3 = cv2.add(a, b, b, mask)\n",
        "print(c3, b)"
      ],
      "metadata": {
        "id": "NuNwwjhRCxJz"
      },
      "execution_count": null,
      "outputs": []
    },
    {
      "cell_type": "markdown",
      "source": [
        "## 2. 이미지 합성"
      ],
      "metadata": {
        "id": "zalp40QvCyhJ"
      }
    },
    {
      "cell_type": "code",
      "source": [
        "# 이미지 단순 합성\n",
        "\n",
        "import cv2\n",
        "import numpy as np\n",
        "import matplotlib.pylab as plt\n",
        "\n",
        "# ---① 연산에 사용할 이미지 읽기\n",
        "img1 = cv2.imread('img/wing_wall.jpg')\n",
        "img2 = cv2.imread('img/yate.jpg')\n",
        "\n",
        "# ---② 이미지 덧셈\n",
        "img3 = img1 + img2  # 더하기 연산\n",
        "img4 = cv2.add(img1, img2) # OpenCV 함수\n",
        "\n",
        "imgs = {'img1':img1, 'img2':img2, 'img1+img2': img3, 'cv.add(img1, img2)': img4}\n",
        "\n",
        "# ---③ 이미지 출력\n",
        "for i, (k, v) in enumerate(imgs.items()):\n",
        "    plt.subplot(2,2, i + 1)\n",
        "    plt.imshow(v[:,:,::-1])\n",
        "    plt.title(k)\n",
        "    plt.xticks([]); plt.yticks([])\n",
        "\n",
        "plt.show()"
      ],
      "metadata": {
        "id": "_7nzgn1cC0US"
      },
      "execution_count": null,
      "outputs": []
    },
    {
      "cell_type": "markdown",
      "source": [
        "## +) 알파 블렌딩"
      ],
      "metadata": {
        "id": "N83GPCkyC3PA"
      }
    },
    {
      "cell_type": "code",
      "source": [
        "# 알파 블렌딩\n",
        "import cv2\n",
        "import numpy as np\n",
        "\n",
        "alpha = 0.5 # 합성에 사용할 알파 값\n",
        "\n",
        "#---① 합성에 사용할 영상 읽기\n",
        "img1 = cv2.imread('img/wing_wall.jpg')\n",
        "img2 = cv2.imread('img/yate.jpg')\n",
        "\n",
        "# ---② NumPy 배열에 수식을 직접 연산해서 알파 블렌딩 적용\n",
        "blended = img1 * alpha + img2 * (1-alpha)\n",
        "blended = blended.astype(np.uint8) # 소수점 발생을 제거하기 위함\n",
        "cv2.imshow('img1 * alpha + img2 * (1-alpha)', blended)\n",
        "\n",
        "# ---③ addWeighted() 함수로 알파 블렌딩 적용\n",
        "dst = cv2.addWeighted(img1, alpha, img2, (1-alpha), 0) \n",
        "cv2.imshow('cv2.addWeighted', dst)\n",
        "\n",
        "cv2.waitKey(0)\n",
        "cv2.destroyAllWindows()"
      ],
      "metadata": {
        "id": "i-SJ5JDkC2np"
      },
      "execution_count": null,
      "outputs": []
    },
    {
      "cell_type": "markdown",
      "source": [
        "## +) 트랙바이용"
      ],
      "metadata": {
        "id": "VgG-p5L_C61V"
      }
    },
    {
      "cell_type": "code",
      "source": [
        "# 트랙바로 알파 블렌딩\n",
        "import cv2\n",
        "import numpy as np\n",
        "\n",
        "win_name = 'Alpha blending'     # 창 이름\n",
        "trackbar_name = 'fade'          # 트렉바 이름\n",
        "\n",
        "# ---① 트렉바 이벤트 핸들러 함수\n",
        "def onChange(x):\n",
        "    alpha = x/100\n",
        "    dst = cv2.addWeighted(img1, 1-alpha, img2, alpha, 0) \n",
        "    cv2.imshow(win_name, dst)\n",
        "\n",
        "\n",
        "# ---② 합성 영상 읽기\n",
        "img1 = cv2.imread('img/wing_wall.jpg')\n",
        "img2 = cv2.imread('img/yate.jpg')\n",
        "\n",
        "# ---③ 이미지 표시 및 트렉바 붙이기\n",
        "cv2.imshow(win_name, img1)\n",
        "cv2.createTrackbar(trackbar_name, win_name, 0, 100, onChange)\n",
        "\n",
        "cv2.waitKey()\n",
        "cv2.destroyAllWindows()"
      ],
      "metadata": {
        "id": "4FmoOzjoC8YE"
      },
      "execution_count": null,
      "outputs": []
    },
    {
      "cell_type": "markdown",
      "source": [
        "## 3. 비트와이즈 연산"
      ],
      "metadata": {
        "id": "OKbCHEQUC-Js"
      }
    },
    {
      "cell_type": "code",
      "source": [
        "# 비트와이즈 연산\n",
        "import numpy as np, cv2\n",
        "import matplotlib.pylab as plt\n",
        "\n",
        "#--① 연산에 사용할 이미지 생성\n",
        "img1 = np.zeros( ( 200,400), dtype=np.uint8)\n",
        "img2 = np.zeros( ( 200,400), dtype=np.uint8)\n",
        "img1[:, :200] = 255         # 왼쪽은 흰색(255), 오른쪽은 검정색(0)\n",
        "img2[100:200, :] = 255      # 위쪽은 검정색(0), 아래쪽은 흰색(255)\n",
        "\n",
        "#--② 비트와이즈 연산\n",
        "bitAnd = cv2.bitwise_and(img1, img2)\n",
        "bitOr = cv2.bitwise_or(img1, img2)\n",
        "bitXor = cv2.bitwise_xor(img1, img2)\n",
        "bitNot = cv2.bitwise_not(img1)\n",
        "\n",
        "#--③ Plot으로 결과 출력\n",
        "imgs = {'img1':img1, 'img2':img2, 'and':bitAnd, \n",
        "          'or':bitOr, 'xor':bitXor, 'not(img1)':bitNot}\n",
        "for i, (title, img) in enumerate(imgs.items()):\n",
        "    plt.subplot(3,2,i+1)\n",
        "    plt.title(title)\n",
        "    plt.imshow(img, 'gray')\n",
        "    plt.xticks([]); plt.yticks([])\n",
        "\n",
        "plt.show()"
      ],
      "metadata": {
        "id": "i6FtX3bBC_pz"
      },
      "execution_count": null,
      "outputs": []
    },
    {
      "cell_type": "markdown",
      "source": [
        "## +) bitwize로 원하는 부분만 떼기"
      ],
      "metadata": {
        "id": "6hJkbocHDBQ4"
      }
    },
    {
      "cell_type": "code",
      "source": [
        "# bitwise_and 연산으로 마스킹하기\n",
        "\n",
        "import numpy as np, cv2\n",
        "import matplotlib.pylab as plt\n",
        "\n",
        "#--① 이미지 읽기\n",
        "img = cv2.imread('img/lena.png')\n",
        "\n",
        "#--② 마스크 만들기\n",
        "mask = np.zeros_like(img)\n",
        "cv2.circle(mask, (260,210), 100, (255,255,255), -1)\n",
        "#cv2.circle(대상이미지, (원점x, 원점y), 반지름, (색상), 채우기)\n",
        "\n",
        "#--③ 마스킹\n",
        "masked = cv2.bitwise_and(img, mask)\n",
        "\n",
        "#--④ 결과 출력\n",
        "cv2.imshow('original', img)\n",
        "cv2.imshow('mask', mask)\n",
        "cv2.imshow('masked', masked)\n",
        "cv2.waitKey()\n",
        "cv2.destroyAllWindows()"
      ],
      "metadata": {
        "id": "ZZWhzD3ZDCq4"
      },
      "execution_count": null,
      "outputs": []
    },
    {
      "cell_type": "markdown",
      "source": [
        "## 4. 두 이미지의 차이"
      ],
      "metadata": {
        "id": "KlGzNmrSDD8b"
      }
    },
    {
      "cell_type": "code",
      "source": [
        "# 두 이미지의 차를 통해 도면의 차이 찾아내기\n",
        "import numpy as np, cv2\n",
        "\n",
        "#--① 연산에 필요한 영상을 읽고 그레이스케일로 변환\n",
        "img1 = cv2.imread('img/robot_arm1.jpg')\n",
        "img2 = cv2.imread('img/robot_arm0.jpg')\n",
        "img1_gray = cv2.cvtColor(img1, cv2.COLOR_BGR2GRAY)\n",
        "img2_gray = cv2.cvtColor(img2, cv2.COLOR_BGR2GRAY)\n",
        "\n",
        "#--② 두 영상의 절대값 차 연산\n",
        "diff = cv2.absdiff(img1_gray, img2_gray)\n",
        "\n",
        "#--③ 차 영상을 극대화 하기 위해 쓰레시홀드 처리 및 컬러로 변환\n",
        "_, diff = cv2.threshold(diff, 1, 255, cv2.THRESH_BINARY)\n",
        "diff_red = cv2.cvtColor(diff, cv2.COLOR_GRAY2BGR)\n",
        "diff_red[:,:,2] = 0\n",
        "\n",
        "#--④ 두 번째 이미지에 변화 부분 표시\n",
        "spot = cv2.bitwise_xor(img2, diff_red)\n",
        "\n",
        "#--⑤ 결과 영상 출력\n",
        "cv2.imshow('img1', img1)\n",
        "cv2.imshow('img2', img2)\n",
        "cv2.imshow('diff', diff)\n",
        "cv2.imshow('spot', spot)\n",
        "cv2.waitKey()\n",
        "cv2.destroyAllWindows()\n"
      ],
      "metadata": {
        "id": "L-fTklKNDFEf"
      },
      "execution_count": null,
      "outputs": []
    },
    {
      "cell_type": "markdown",
      "source": [
        "## 5. 이미지 합성과 마스킹"
      ],
      "metadata": {
        "id": "QFGJDucJDGNv"
      }
    },
    {
      "cell_type": "code",
      "source": [
        "# 투명 배경 PNG 파일을 이용한 합성\n",
        "\n",
        "import cv2\n",
        "import numpy as np\n",
        "\n",
        "#--① 합성에 사용할 영상 읽기, 전경 영상은 4채널 png 파일\n",
        "img_fg = cv2.imread('img/opencv_logo.png', cv2.IMREAD_UNCHANGED)\n",
        "img_bg = cv2.imread('img/clover.jpg')\n",
        "\n",
        "#--② 알파채널을 이용해서 마스크와 역마스크 생성\n",
        "_, mask = cv2.threshold(img_fg[:,:,3], 1, 255, cv2.THRESH_BINARY)\n",
        "mask_inv = cv2.bitwise_not(mask)\n",
        "\n",
        "#--③ 전경 영상 크기로 배경 영상에서 ROI 잘라내기\n",
        "img_fg = cv2.cvtColor(img_fg, cv2.COLOR_BGRA2BGR)\n",
        "h, w = img_fg.shape[:2]\n",
        "roi = img_bg[10:10+h, 10:10+w ]\n",
        "\n",
        "#--④ 마스크 이용해서 오려내기\n",
        "masked_fg = cv2.bitwise_and(img_fg, img_fg, mask=mask)\n",
        "masked_bg = cv2.bitwise_and(roi, roi, mask=mask_inv)\n",
        "\n",
        "#--⑥ 이미지 합성\n",
        "added = masked_fg + masked_bg\n",
        "img_bg[10:10+h, 10:10+w] = added\n",
        "\n",
        "cv2.imshow('mask', mask)\n",
        "cv2.imshow('mask_inv', mask_inv)\n",
        "cv2.imshow('masked_fg', masked_fg)\n",
        "cv2.imshow('masked_bg', masked_bg)\n",
        "cv2.imshow('added', added)\n",
        "cv2.imshow('result', img_bg)\n",
        "cv2.waitKey()\n",
        "cv2.destroyAllWindows()"
      ],
      "metadata": {
        "id": "Y1MVfjhSEHLv"
      },
      "execution_count": null,
      "outputs": []
    },
    {
      "cell_type": "markdown",
      "source": [
        "##  +) 색상 별로 추출"
      ],
      "metadata": {
        "id": "7meBMcnbDNwG"
      }
    },
    {
      "cell_type": "code",
      "source": [
        "# HSV 색상으로 마스킹\n",
        "\n",
        "import cv2\n",
        "import numpy as np\n",
        "import matplotlib.pylab as plt\n",
        "\n",
        "#--① 큐브 영상 읽어서 HSV로 변환\n",
        "img = cv2.imread(\"img/cube.JPG\")\n",
        "hsv = cv2.cvtColor(img, cv2.COLOR_BGR2HSV)\n",
        "\n",
        "#--② 색상별 영역 지정\n",
        "blue1 = np.array([90, 50, 50])\n",
        "blue2 = np.array([120, 255,255])\n",
        "green1 = np.array([45, 50,50])\n",
        "green2 = np.array([75, 255,255])\n",
        "red1 = np.array([0, 50,50])\n",
        "red2 = np.array([15, 255,255])\n",
        "red3 = np.array([165, 50,50])\n",
        "red4 = np.array([180, 255,255])\n",
        "yellow1 = np.array([20, 50,50])\n",
        "yellow2 = np.array([35, 255,255])\n",
        "\n",
        "# --③ 색상에 따른 마스크 생성\n",
        "mask_blue = cv2.inRange(hsv, blue1, blue2)\n",
        "mask_green = cv2.inRange(hsv, green1, green2)\n",
        "mask_red = cv2.inRange(hsv, red1, red2)\n",
        "mask_red2 = cv2.inRange(hsv, red3, red4)\n",
        "mask_yellow = cv2.inRange(hsv, yellow1, yellow2)\n",
        "\n",
        "#--④ 색상별 마스크로 색상만 추출\n",
        "res_blue = cv2.bitwise_and(img, img, mask=mask_blue)\n",
        "res_green = cv2.bitwise_and(img, img, mask=mask_green)\n",
        "res_red1 = cv2.bitwise_and(img, img, mask=mask_red)\n",
        "res_red2 = cv2.bitwise_and(img, img, mask=mask_red2)\n",
        "res_red = cv2.bitwise_or(res_red1, res_red2)\n",
        "res_yellow = cv2.bitwise_and(img, img, mask=mask_yellow)\n",
        "\n",
        "#--⑤ 결과 출력\n",
        "imgs = {'original': img, 'blue':res_blue, 'green':res_green, \n",
        "                            'red':res_red, 'yellow':res_yellow}\n",
        "for i, (k, v) in enumerate(imgs.items()):\n",
        "    plt.subplot(2,3, i+1)\n",
        "    plt.title(k)\n",
        "    plt.imshow(v[:,:,::-1])\n",
        "    plt.xticks([]); plt.yticks([])\n",
        "plt.show()"
      ],
      "metadata": {
        "id": "rrMZekbEDQ3x"
      },
      "execution_count": null,
      "outputs": []
    },
    {
      "cell_type": "markdown",
      "source": [
        "## +) 색상을 이용한 마스킹 방식을 크로마키(chroma key)"
      ],
      "metadata": {
        "id": "0NiKGEV6DSBE"
      }
    },
    {
      "cell_type": "code",
      "source": [
        "# 크로마 키 마스킹과 합성\n",
        "\n",
        "import cv2\n",
        "import numpy as np\n",
        "import matplotlib.pylab as plt\n",
        "\n",
        "#--① 크로마키 배경 영상과 합성할 배경 영상 읽기\n",
        "img1 = cv2.imread('img/sample.jpeg')\n",
        "img2 = cv2.imread('img/wing_wall.jpg')\n",
        "\n",
        "#--② ROI 선택을 위한 좌표 계산\n",
        "height1, width1 = img1.shape[:2]\n",
        "height2, width2 = img2.shape[:2]\n",
        "x = (width2 - width1)//2\n",
        "y = height2 - height1\n",
        "w = x + width1\n",
        "h = y + height1\n",
        "\n",
        "#--③ 크로마키 배경 영상에서 크로마키 영역을 10픽셀 정도로 지정\n",
        "chromakey = img1[:10, :10, :]\n",
        "offset = 20\n",
        "\n",
        "#--④ 크로마키 영역과 영상 전체를 HSV로 변경\n",
        "hsv_chroma = cv2.cvtColor(chromakey, cv2.COLOR_BGR2HSV)\n",
        "hsv_img = cv2.cvtColor(img1, cv2.COLOR_BGR2HSV)\n",
        "\n",
        "#--⑤ 크로마키 영역의 H값에서 offset 만큼 여유를 두어서 범위 지정\n",
        "# offset 값은 여러차례 시도 후 결정\n",
        "#chroma_h = hsv_chroma[0]\n",
        "chroma_h = hsv_chroma[:,:,0]\n",
        "lower = np.array([chroma_h.min()-offset, 100, 100])\n",
        "upper = np.array([chroma_h.max()+offset, 255, 255])\n",
        "\n",
        "#--⑥ 마스크 생성 및 마스킹 후 합성\n",
        "mask = cv2.inRange(hsv_img, lower, upper)\n",
        "mask_inv = cv2.bitwise_not(mask)\n",
        "roi = img2[y:h, x:w]\n",
        "fg = cv2.bitwise_and(img1, img1, mask=mask_inv)\n",
        "bg = cv2.bitwise_and(roi, roi, mask=mask)\n",
        "img2[y:h, x:w] = fg + bg\n",
        "\n",
        "#--⑦ 결과 출력\n",
        "cv2.imshow('chromakey', img1)\n",
        "cv2.imshow('added', img2)\n",
        "cv2.waitKey()\n",
        "cv2.destroyAllWindows()"
      ],
      "metadata": {
        "id": "qBUtsIHvDTH2"
      },
      "execution_count": null,
      "outputs": []
    },
    {
      "cell_type": "markdown",
      "source": [
        "## +)  cv2.seamlessClone() 함수 이미지 합성!"
      ],
      "metadata": {
        "id": "eSKqnfSUDUgl"
      }
    },
    {
      "cell_type": "code",
      "source": [
        "# SeamlessClone을 활용한 이미지 합성\n",
        "import cv2\n",
        "import numpy as np\n",
        "import matplotlib.pylab as plt\n",
        " \n",
        "#--① 합성 대상 영상 읽기\n",
        "img1 = cv2.imread(\"img/flower1.jpg\")\n",
        "img2= cv2.imread(\"img/hand.jpg\")\n",
        "\n",
        "#--② 마스크 생성, 합성할 이미지 전체 영역을 255로 셋팅\n",
        "mask = np.full_like(img1, 255)\n",
        " \n",
        "#--③ 합성 대상 좌표 계산(img2의 중앙)\n",
        "height, width = img2.shape[:2]\n",
        "center = (width//2, height//2)\n",
        " \n",
        "#--④ seamlessClone 으로 합성 \n",
        "normal = cv2.seamlessClone(img1, img2, mask, center, cv2.NORMAL_CLONE)\n",
        "mixed = cv2.seamlessClone(img1, img2, mask, center, cv2.MIXED_CLONE)\n",
        "\n",
        "#--⑤ 결과 출력\n",
        "cv2.imshow('normal', normal)\n",
        "cv2.imshow('mixed', mixed)\n",
        "cv2.waitKey()\n",
        "cv2.destroyAllWindows()\n"
      ],
      "metadata": {
        "id": "3AsbZMHWDV3h"
      },
      "execution_count": null,
      "outputs": []
    }
  ]
}