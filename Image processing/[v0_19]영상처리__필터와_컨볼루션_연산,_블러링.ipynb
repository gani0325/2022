{
  "nbformat": 4,
  "nbformat_minor": 0,
  "metadata": {
    "colab": {
      "name": "[v0.19]영상처리_ 필터와 컨볼루션 연산, 블러링.ipynb",
      "provenance": [],
      "authorship_tag": "ABX9TyNtgCjqZdhJTKdTMVoSynBr",
      "include_colab_link": true
    },
    "kernelspec": {
      "name": "python3",
      "display_name": "Python 3"
    },
    "language_info": {
      "name": "python"
    }
  },
  "cells": [
    {
      "cell_type": "markdown",
      "metadata": {
        "id": "view-in-github",
        "colab_type": "text"
      },
      "source": [
        "<a href=\"https://colab.research.google.com/github/gani0325/2022/blob/main/Image%20processing/%5Bv0_19%5D%EC%98%81%EC%83%81%EC%B2%98%EB%A6%AC__%ED%95%84%ED%84%B0%EC%99%80_%EC%BB%A8%EB%B3%BC%EB%A3%A8%EC%85%98_%EC%97%B0%EC%82%B0%2C_%EB%B8%94%EB%9F%AC%EB%A7%81.ipynb\" target=\"_parent\"><img src=\"https://colab.research.google.com/assets/colab-badge.svg\" alt=\"Open In Colab\"/></a>"
      ]
    },
    {
      "cell_type": "markdown",
      "source": [
        "## [v0.19]영상처리_ 필터와 컨볼루션 연산, 블러링\n",
        "\n",
        "https://alpaca-gt.tistory.com/98"
      ],
      "metadata": {
        "id": "AV-7hnicfDCE"
      }
    },
    {
      "cell_type": "markdown",
      "source": [
        "## 1. 필터 (Filter)와 컨볼루션 (Convolution)"
      ],
      "metadata": {
        "id": "741ZgG27fFki"
      }
    },
    {
      "cell_type": "markdown",
      "source": [
        "## 2. 평균 블러링 (Average Blurring)"
      ],
      "metadata": {
        "id": "SAThaCjlfIFH"
      }
    },
    {
      "cell_type": "code",
      "execution_count": null,
      "metadata": {
        "id": "E0-VBlZGfA1o"
      },
      "outputs": [],
      "source": [
        "# 평균 필터를 생상하여 블러 적용\n",
        "import cv2\n",
        "import numpy as np\n",
        "\n",
        "img = cv2.imread('img/night.jpg')\n",
        "'''\n",
        "#5x5 평균 필터 커널 생성    ---①\n",
        "kernel = np.array([[0.04, 0.04, 0.04, 0.04, 0.04],\n",
        "                   [0.04, 0.04, 0.04, 0.04, 0.04],\n",
        "                   [0.04, 0.04, 0.04, 0.04, 0.04],\n",
        "                   [0.04, 0.04, 0.04, 0.04, 0.04],\n",
        "                   [0.04, 0.04, 0.04, 0.04, 0.04]])\n",
        "'''\n",
        "# 5x5 평균 필터 커널 생성  ---②\n",
        "kernel = np.ones((5,5))/5**2\n",
        "# 필터 적용             ---③\n",
        "blured = cv2.filter2D(img, -1, kernel)\n",
        "\n",
        "# 결과 출력\n",
        "cv2.imshow('origin', img)\n",
        "cv2.imshow('avrg blur', blured) \n",
        "cv2.waitKey()\n",
        "cv2.destroyAllWindows()"
      ]
    },
    {
      "cell_type": "markdown",
      "source": [
        "## +) opencv 의 평균 블러링 함수"
      ],
      "metadata": {
        "id": "t9G_4LG7fMLB"
      }
    },
    {
      "cell_type": "code",
      "source": [
        "# 블러 전용 함수로 블러링 적용\n",
        "import cv2\n",
        "import numpy as np\n",
        "\n",
        "file_name = 'img/taekwonv1.jpg'\n",
        "img = cv2.imread(file_name)\n",
        "\n",
        "# blur() 함수로 블러링  ---①\n",
        "blur1 = cv2.blur(img, (10,10))\n",
        "# boxFilter() 함수로 블러링 적용 ---②\n",
        "blur2 = cv2.boxFilter(img, -1, (10,10))\n",
        "\n",
        "# 결과 출력\n",
        "merged = np.hstack( (img, blur1, blur2))\n",
        "cv2.imshow('blur', merged)\n",
        "cv2.waitKey(0)\n",
        "cv2.destroyAllWindows()"
      ],
      "metadata": {
        "id": "jpfMaEgOfON6"
      },
      "execution_count": null,
      "outputs": []
    },
    {
      "cell_type": "markdown",
      "source": [
        "## 3. 가우시안 블러링(Gaussian Blurring)"
      ],
      "metadata": {
        "id": "V3TR2Gi7fPid"
      }
    },
    {
      "cell_type": "code",
      "source": [
        "# 가우시안 블러링\n",
        "import cv2\n",
        "import numpy as np\n",
        "\n",
        "img = cv2.imread('img/gaussian_noise.jpg')\n",
        "\n",
        "# 가우시안 커널을 직접 생성해서 블러링  ---①\n",
        "k1 = np.array([[1, 2, 1],\n",
        "                   [2, 4, 2],\n",
        "                   [1, 2, 1]]) *(1/16)\n",
        "blur1 = cv2.filter2D(img, -1, k1)\n",
        "\n",
        "# 가우시안 커널을 API로 얻어서 블러링 ---②\n",
        "k2 = cv2.getGaussianKernel(3, 0)\n",
        "blur2 = cv2.filter2D(img, -1, k2*k2.T)\n",
        "\n",
        "# 가우시안 블러 API로 블러링 ---③\n",
        "blur3 = cv2.GaussianBlur(img, (3, 3), 0)\n",
        "\n",
        "# 결과 출력\n",
        "print('k1:', k1)\n",
        "print('k2:', k2*k2.T)\n",
        "merged = np.hstack((img, blur1, blur2, blur3))\n",
        "cv2.imshow('gaussian blur', merged)\n",
        "cv2.waitKey(0)\n",
        "cv2.destroyAllWindows()"
      ],
      "metadata": {
        "id": "jGjkUoD5fP2K"
      },
      "execution_count": null,
      "outputs": []
    },
    {
      "cell_type": "markdown",
      "source": [
        "## 4. 미디언 블러링(Median Blurring)"
      ],
      "metadata": {
        "id": "7V5aI51LfUAr"
      }
    },
    {
      "cell_type": "code",
      "source": [
        "# 미디언 블러링\n",
        "import cv2\n",
        "import numpy as np\n",
        "\n",
        "img = cv2.imread(\"img/salt_pepper_noise.jpg\")\n",
        "\n",
        "# 미디언 블러 적용 --- ①\n",
        "blur = cv2.medianBlur(img, 5)\n",
        "\n",
        "# 결과 출력 \n",
        "merged = np.hstack((img,blur))\n",
        "cv2.imshow('media', merged)\n",
        "cv2.waitKey(0)\n",
        "cv2.destroyAllWindows()"
      ],
      "metadata": {
        "id": "YRG2DBADfVB0"
      },
      "execution_count": null,
      "outputs": []
    },
    {
      "cell_type": "markdown",
      "source": [
        "## 5. 바이레터럴 필터(Bilateral Filter)"
      ],
      "metadata": {
        "id": "9JZWkgRUfYHV"
      }
    },
    {
      "cell_type": "code",
      "source": [
        "# 바이레터럴 필터와 가우시안 필터 비교\n",
        "import cv2\n",
        "import numpy as np\n",
        "\n",
        "img = cv2.imread(\"img/gaussian_noise.jpg\")\n",
        "\n",
        "# 가우시안 필터 적용 ---①\n",
        "blur1 = cv2.GaussianBlur(img, (5,5), 0)\n",
        "\n",
        "# 바이레터럴 필터 적용 ---②\n",
        "blur2 = cv2.bilateralFilter(img, 5, 75, 75)\n",
        "\n",
        "# 결과 출력\n",
        "merged = np.hstack((img, blur1, blur2))\n",
        "cv2.imshow('bilateral', merged)\n",
        "cv2.waitKey(0)\n",
        "cv2.destroyAllWindows()"
      ],
      "metadata": {
        "id": "NnWneevkfuDf"
      },
      "execution_count": null,
      "outputs": []
    }
  ]
}