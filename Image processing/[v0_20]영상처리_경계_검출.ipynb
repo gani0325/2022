{
  "nbformat": 4,
  "nbformat_minor": 0,
  "metadata": {
    "colab": {
      "name": "[v0.20]영상처리_경계 검출",
      "provenance": [],
      "authorship_tag": "ABX9TyMfKLotk8djIOg/3Y3gBupU",
      "include_colab_link": true
    },
    "kernelspec": {
      "name": "python3",
      "display_name": "Python 3"
    },
    "language_info": {
      "name": "python"
    }
  },
  "cells": [
    {
      "cell_type": "markdown",
      "metadata": {
        "id": "view-in-github",
        "colab_type": "text"
      },
      "source": [
        "<a href=\"https://colab.research.google.com/github/gani0325/2022/blob/main/Image%20processing/%5Bv0_20%5D%EC%98%81%EC%83%81%EC%B2%98%EB%A6%AC_%EA%B2%BD%EA%B3%84_%EA%B2%80%EC%B6%9C.ipynb\" target=\"_parent\"><img src=\"https://colab.research.google.com/assets/colab-badge.svg\" alt=\"Open In Colab\"/></a>"
      ]
    },
    {
      "cell_type": "markdown",
      "source": [
        "## [v0.20]영상처리_경계 검출\n",
        "\n",
        "https://alpaca-gt.tistory.com/103?category=895871"
      ],
      "metadata": {
        "id": "Ce13Inqm7xCy"
      }
    },
    {
      "cell_type": "markdown",
      "source": [
        "## 1. 기본 미분 필터"
      ],
      "metadata": {
        "id": "ehe81jeP703E"
      }
    },
    {
      "cell_type": "code",
      "execution_count": null,
      "metadata": {
        "id": "vnMp_JOK7oXy"
      },
      "outputs": [],
      "source": [
        "# 미분 커널로 경계 검출\n",
        "import cv2\n",
        "import numpy as np\n",
        "\n",
        "img = cv2.imread(\"img/sudoku.jpg\")\n",
        "\n",
        "#미분 커널 생성 ---①\n",
        "gx_kernel = np.array([[ -1, 1]])\n",
        "gy_kernel = np.array([[ -1],[ 1]])\n",
        "\n",
        "# 필터 적용 ---②\n",
        "edge_gx = cv2.filter2D(img, -1, gx_kernel)\n",
        "edge_gy = cv2.filter2D(img, -1, gy_kernel)\n",
        "# 결과 출력\n",
        "merged = np.hstack((img, edge_gx, edge_gy))\n",
        "cv2.imshow('edge', merged)\n",
        "cv2.waitKey(0)\n",
        "cv2.destroyAllWindows()"
      ]
    },
    {
      "cell_type": "markdown",
      "source": [
        "## 2. 로버츠 교차 필터 (Robert Cross Filter)"
      ],
      "metadata": {
        "id": "EbYjD0LN74Pp"
      }
    },
    {
      "cell_type": "code",
      "source": [
        "# 로버츠 교차 필터를 적용한 경계 검출\n",
        "import cv2\n",
        "import numpy as np\n",
        "\n",
        "img = cv2.imread(\"img/sudoku.jpg\")\n",
        "\n",
        "# 로버츠 커널 생성 ---①\n",
        "gx_kernel = np.array([[1,0], [0,-1]])\n",
        "gy_kernel = np.array([[0, 1],[-1,0]])\n",
        "\n",
        "# 커널 적용 ---② \n",
        "edge_gx = cv2.filter2D(img, -1, gx_kernel)\n",
        "edge_gy = cv2.filter2D(img, -1, gy_kernel)\n",
        "\n",
        "# 결과 출력\n",
        "merged = np.hstack((img, edge_gx, edge_gy, edge_gx+edge_gy))\n",
        "cv2.imshow('roberts cross', merged)\n",
        "cv2.waitKey(0)\n",
        "cv2.destroyAllWindows()"
      ],
      "metadata": {
        "id": "XHv6c1vG74ts"
      },
      "execution_count": null,
      "outputs": []
    },
    {
      "cell_type": "markdown",
      "source": [
        "## 3. 프리윗 필터 (Prewitt Filter)"
      ],
      "metadata": {
        "id": "c43sQ6PZ7734"
      }
    },
    {
      "cell_type": "code",
      "source": [
        "# 프리윗 마스크를 적용한 경계 검출\n",
        "import cv2\n",
        "import numpy as np\n",
        "\n",
        "file_name = \"img/sudoku.jpg\"\n",
        "img = cv2.imread(file_name)\n",
        "\n",
        "# 프리윗 커널 생성\n",
        "gx_k = np.array([[-1,0,1], [-1,0,1],[-1,0,1]])\n",
        "gy_k = np.array([[-1,-1,-1],[0,0,0], [1,1,1]])\n",
        "\n",
        "# 프리윗 커널 필터 적용\n",
        "edge_gx = cv2.filter2D(img, -1, gx_k)\n",
        "edge_gy = cv2.filter2D(img, -1, gy_k)\n",
        "\n",
        "# 결과 출력\n",
        "merged = np.hstack((img, edge_gx, edge_gy, edge_gx+edge_gy))\n",
        "cv2.imshow('prewitt', merged)\n",
        "cv2.waitKey(0)\n",
        "3cv2.destroyAllWindows()"
      ],
      "metadata": {
        "id": "5o8lXyU-78Xi"
      },
      "execution_count": null,
      "outputs": []
    },
    {
      "cell_type": "markdown",
      "source": [
        "## 4. 소벨 필터 (Sovel Filter)"
      ],
      "metadata": {
        "id": "6Iws--CX7_UR"
      }
    },
    {
      "cell_type": "code",
      "source": [
        "# 소벨 마스크를 적용한 경계 검출\n",
        "import cv2\n",
        "import numpy as np\n",
        "\n",
        "img = cv2.imread(\"img/sudoku.jpg\")\n",
        "\n",
        "# 소벨 커널을 직접 생성해서 엣지 검출 ---①\n",
        "## 소벨 커널 생성\n",
        "gx_k = np.array([[-1,0,1], [-2,0,2],[-1,0,1]])\n",
        "gy_k = np.array([[-1,-2,-1],[0,0,0], [1,2,1]])\n",
        "## 소벨 필터 적용\n",
        "edge_gx = cv2.filter2D(img, -1, gx_k)\n",
        "edge_gy = cv2.filter2D(img, -1, gy_k)\n",
        "\n",
        "# 소벨 API를 생성해서 엣지 검출\n",
        "sobelx = cv2.Sobel(img, -1, 1, 0, ksize=3)\n",
        "sobely = cv2.Sobel(img, -1, 0, 1, ksize=3) \n",
        "\n",
        "# 결과 출력\n",
        "merged1 = np.hstack((img, edge_gx, edge_gy, edge_gx+edge_gy))\n",
        "merged2 = np.hstack((img, sobelx, sobely, sobelx+sobely))\n",
        "merged = np.vstack((merged1, merged2))\n",
        "cv2.imshow('sobel', merged)\n",
        "cv2.waitKey(0)\n",
        "cv2.destroyAllWindows()"
      ],
      "metadata": {
        "id": "4GcaOxix8AZo"
      },
      "execution_count": null,
      "outputs": []
    },
    {
      "cell_type": "markdown",
      "source": [
        "## 5. 샤르 필터 (Scharr Filter)"
      ],
      "metadata": {
        "id": "uKvmM2Zn8Dmj"
      }
    },
    {
      "cell_type": "code",
      "source": [
        "# 샤르 마스크를 적용한 경계 검출\n",
        "import cv2\n",
        "import numpy as np\n",
        "\n",
        "img = cv2.imread(\"img/sudoku.jpg\")\n",
        "\n",
        "# 샤르 커널을 직접 생성해서 엣지 검출 ---①\n",
        "gx_k = np.array([[-3,0,3], [-10,0,10],[-3,0,3]])\n",
        "gy_k = np.array([[-3,-10,-3],[0,0,0], [3,10,3]])\n",
        "edge_gx = cv2.filter2D(img, -1, gx_k)\n",
        "edge_gy = cv2.filter2D(img, -1, gy_k)\n",
        "\n",
        "# 샤르 API로 엣지 검출 ---②\n",
        "scharrx = cv2.Scharr(img, -1, 1, 0)\n",
        "scharry = cv2.Scharr(img, -1, 0, 1)\n",
        "\n",
        "# 결과 출력\n",
        "merged1 = np.hstack((img, edge_gx, edge_gy))\n",
        "merged2 = np.hstack((img, scharrx, scharry))\n",
        "merged = np.vstack((merged1, merged2))\n",
        "cv2.imshow('Scharr', merged)\n",
        "cv2.waitKey(0)\n",
        "cv2.destroyAllWindows()"
      ],
      "metadata": {
        "id": "-PKBU_3t8EBr"
      },
      "execution_count": null,
      "outputs": []
    },
    {
      "cell_type": "markdown",
      "source": [
        "## 6. 라플라시안 필터 (Laplacian Filter)"
      ],
      "metadata": {
        "id": "fYtH4c8I8ISR"
      }
    },
    {
      "cell_type": "code",
      "source": [
        "# 라플라시안 마스크를 적용한 경계 검출\n",
        "import cv2\n",
        "import numpy as np\n",
        "\n",
        "img = cv2.imread(\"img/sudoku.jpg\")\n",
        "\n",
        "# 라플라시안 필터 적용 ---①\n",
        "edge = cv2.Laplacian(img, -1)\n",
        "\n",
        "# 결과 출력\n",
        "merged = np.hstack((img, edge))\n",
        "cv2.imshow('Laplacian', merged)\n",
        "cv2.waitKey(0)\n",
        "cv2.destroyAllWindows()"
      ],
      "metadata": {
        "id": "UwD7gmGR8I9A"
      },
      "execution_count": null,
      "outputs": []
    },
    {
      "cell_type": "markdown",
      "source": [
        "## 7. 캐니 엣지 (Canny Edge)"
      ],
      "metadata": {
        "id": "1rbe6_Jn8KJH"
      }
    },
    {
      "cell_type": "code",
      "source": [
        "# 캐니 엣지 검출\n",
        "import cv2, time\n",
        "import numpy as np\n",
        "\n",
        "img = cv2.imread(\"img/sudoku.jpg\")\n",
        "\n",
        "# 케니 엣지 적용 \n",
        "edges = cv2.Canny(img,100,200)\n",
        "\n",
        "# 결과 출력\n",
        "cv2.imshow('Original', img)\n",
        "cv2.imshow('Canny', edges)\n",
        "cv2.waitKey(0)\n",
        "cv2.destroyAllWindows()"
      ],
      "metadata": {
        "id": "-I_mVsGX8KrA"
      },
      "execution_count": null,
      "outputs": []
    }
  ]
}