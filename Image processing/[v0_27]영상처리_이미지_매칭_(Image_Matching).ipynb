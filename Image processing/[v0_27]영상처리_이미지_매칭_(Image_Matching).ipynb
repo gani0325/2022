{
  "nbformat": 4,
  "nbformat_minor": 0,
  "metadata": {
    "colab": {
      "name": "[v0.27]영상처리_이미지 매칭 (Image Matching).ipynb",
      "provenance": [],
      "authorship_tag": "ABX9TyP8eIccj+CIZz7IRB3by0Lo",
      "include_colab_link": true
    },
    "kernelspec": {
      "name": "python3",
      "display_name": "Python 3"
    },
    "language_info": {
      "name": "python"
    }
  },
  "cells": [
    {
      "cell_type": "markdown",
      "metadata": {
        "id": "view-in-github",
        "colab_type": "text"
      },
      "source": [
        "<a href=\"https://colab.research.google.com/github/gani0325/2022/blob/main/Image%20processing/%5Bv0_27%5D%EC%98%81%EC%83%81%EC%B2%98%EB%A6%AC_%EC%9D%B4%EB%AF%B8%EC%A7%80_%EB%A7%A4%EC%B9%AD_(Image_Matching).ipynb\" target=\"_parent\"><img src=\"https://colab.research.google.com/assets/colab-badge.svg\" alt=\"Open In Colab\"/></a>"
      ]
    },
    {
      "cell_type": "markdown",
      "source": [
        "## [v0.27]영상처리_이미지 매칭 (Image Matching)\n",
        "\n",
        "https://alpaca-gt.tistory.com/123?category=895871"
      ],
      "metadata": {
        "id": "ebTccMoR8d9o"
      }
    },
    {
      "cell_type": "markdown",
      "source": [
        "### 1. 이미지 매칭(Image Matching)"
      ],
      "metadata": {
        "id": "GEMM2DMs8g9o"
      }
    },
    {
      "cell_type": "markdown",
      "source": [
        "### 2. 평균 해시 매칭(Average Hash Matching)"
      ],
      "metadata": {
        "id": "QsFXgi3g8ijS"
      }
    },
    {
      "cell_type": "code",
      "execution_count": null,
      "metadata": {
        "id": "FjHB-Dun8dFd"
      },
      "outputs": [],
      "source": [
        "# 권총을 평균 해시로 변환\n",
        "import cv2\n",
        "\n",
        "#영상 읽어서 그레이 스케일로 변환\n",
        "img = cv2.imread('img/pistol.jpeg')\n",
        "gray = cv2.cvtColor(img, cv2.COLOR_BGR2GRAY)\n",
        "\n",
        "# 8x8 크기로 축소 ---①\n",
        "gray = cv2.resize(gray, (16,16))\n",
        "# 영상의 평균값 구하기 ---②\n",
        "avg = gray.mean()\n",
        "# 평균값을 기준으로 0과 1로 변환 ---③\n",
        "bin = 1 * (gray > avg)\n",
        "print(bin)\n",
        "\n",
        "# 2진수 문자열을 16진수 문자열로 변환 ---④\n",
        "dhash = []\n",
        "for row in bin.tolist():\n",
        "    s = ''.join([str(i) for i in row])\n",
        "    dhash.append('%02x'%(int(s,2)))\n",
        "dhash = ''.join(dhash)\n",
        "print(dhash)\n",
        "\n",
        "cv2.namedWindow('pistol', cv2.WINDOW_GUI_NORMAL)\n",
        "cv2.imshow('pistol', img)\n",
        "cv2.waitKey(0)"
      ]
    },
    {
      "cell_type": "code",
      "source": [
        "# 사물 이미지 중에서 권총 이미지 찾기\n",
        "import cv2\n",
        "import numpy as np\n",
        "import glob\n",
        "\n",
        "# 영상 읽기 및 표시\n",
        "img = cv2.imread('img/pistol.jpeg')\n",
        "cv2.imshow('query', img)\n",
        "\n",
        "# 비교할 영상들이 있는 경로 ---①\n",
        "search_dir = 'img/101_ObjectCategories'\n",
        "\n",
        "# 이미지를 16x16 크기의 평균 해쉬로 변환 ---②\n",
        "def img2hash(img):\n",
        "    gray = cv2.cvtColor(img, cv2.COLOR_BGR2GRAY)\n",
        "    gray = cv2.resize(gray, (16, 16))\n",
        "    avg = gray.mean()\n",
        "    bi = 1 * (gray > avg)\n",
        "    return bi\n",
        "\n",
        "# 해밍거리 측정 함수 ---③\n",
        "def hamming_distance(a, b):\n",
        "    a = a.reshape(1,-1)\n",
        "    b = b.reshape(1,-1)\n",
        "    # 같은 자리의 값이 서로 다른 것들의 합\n",
        "    distance = (a !=b).sum()\n",
        "    return distance\n",
        "\n",
        "# 권총 영상의 해쉬 구하기 ---④\n",
        "query_hash = img2hash(img)\n",
        "\n",
        "# 이미지 데이타 셋 디렉토리의 모든 영상 파일 경로 ---⑤\n",
        "img_path = glob.glob(search_dir+'/**/*.jpg')\n",
        "for path in img_path:\n",
        "    # 데이타 셋 영상 한개 읽어서 표시 ---⑥\n",
        "    img = cv2.imread(path)\n",
        "    cv2.imshow('searching...', img)\n",
        "    cv2.waitKey(5)\n",
        "    # 데이타 셋 영상 한개의 해시  ---⑦\n",
        "    a_hash = img2hash(img)\n",
        "    # 해밍 거리 산출 ---⑧\n",
        "    dst = hamming_distance(query_hash, a_hash)\n",
        "    if dst/256 < 0.25: # 해밍거리 25% 이내만 출력 ---⑨\n",
        "        print(path, dst/256)\n",
        "        cv2.imshow(path, img)\n",
        "cv2.destroyWindow('searching...')\n",
        "cv2.waitKey(0)\n",
        "cv2.destroyAllWindows()"
      ],
      "metadata": {
        "id": "GOSnXNMh8nPR"
      },
      "execution_count": null,
      "outputs": []
    },
    {
      "cell_type": "markdown",
      "source": [
        "### 3. 템플릿 매칭 (Template Matching)"
      ],
      "metadata": {
        "id": "2GZFWcb_8pKk"
      }
    },
    {
      "cell_type": "code",
      "source": [
        "# 템플릿 매칭으로 객체 위치 검출\n",
        "import cv2\n",
        "import numpy as np\n",
        "\n",
        "# 입력이미지와 템플릿 이미지 읽기\n",
        "img = cv2.imread('img/figures.jpg')\n",
        "template = cv2.imread('img/taekwonv1.jpg')\n",
        "th, tw = template.shape[:2]\n",
        "cv2.imshow('template', template)\n",
        "\n",
        "# 3가지 매칭 메서드 순회\n",
        "methods = ['cv2.TM_CCOEFF_NORMED', 'cv2.TM_CCORR_NORMED', \\\n",
        "                                     'cv2.TM_SQDIFF_NORMED']\n",
        "for i, method_name in enumerate(methods):\n",
        "    img_draw = img.copy()\n",
        "    method = eval(method_name)\n",
        "    # 템플릿 매칭   ---①\n",
        "    res = cv2.matchTemplate(img, template, method)\n",
        "    # 최대, 최소값과 그 좌표 구하기 ---②\n",
        "    min_val, max_val, min_loc, max_loc = cv2.minMaxLoc(res)\n",
        "    print(method_name, min_val, max_val, min_loc, max_loc)\n",
        "\n",
        "    # TM_SQDIFF의 경우 최소값이 좋은 매칭, 나머지는 그 반대 ---③\n",
        "    if method in [cv2.TM_SQDIFF, cv2.TM_SQDIFF_NORMED]:\n",
        "        top_left = min_loc\n",
        "        match_val = min_val\n",
        "    else:\n",
        "        top_left = max_loc\n",
        "        match_val = max_val\n",
        "    # 매칭 좌표 구해서 사각형 표시   ---④      \n",
        "    bottom_right = (top_left[0] + tw, top_left[1] + th)\n",
        "    cv2.rectangle(img_draw, top_left, bottom_right, (0,0,255),2)\n",
        "    # 매칭 포인트 표시 ---⑤\n",
        "    cv2.putText(img_draw, str(match_val), top_left, \\\n",
        "                cv2.FONT_HERSHEY_PLAIN, 2,(0,255,0), 1, cv2.LINE_AA)\n",
        "    cv2.imshow(method_name, img_draw)\n",
        "cv2.waitKey(0)\n",
        "cv2.destroyAllWindows()"
      ],
      "metadata": {
        "id": "O8O84jHV8qxv"
      },
      "execution_count": null,
      "outputs": []
    }
  ]
}