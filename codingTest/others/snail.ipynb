{
 "cells": [
  {
   "cell_type": "markdown",
   "metadata": {},
   "source": [
    "#### 달팽이 배열(Python)"
   ]
  },
  {
   "cell_type": "code",
   "execution_count": 5,
   "metadata": {},
   "outputs": [],
   "source": [
    "def snail(n):\n",
    "    # 이중 배열 만들기\n",
    "    arr = [[0 for j in range(n)] for i in range(n)] #1\n",
    "    row = 0 \n",
    "    col = -1\n",
    "    cnt = 1         # 증가시켜 넣을 값\n",
    "    trans = 1       # 행열의 증가 감소 바꾸기 like 스워칭\n",
    "\n",
    "    while n > 0: \n",
    "        for i in range(n):\n",
    "            col += trans\n",
    "            arr[row][col] = cnt\n",
    "            cnt += 1\n",
    "        n -= 1                  # 열은 n, 행은 n - 1\n",
    "\n",
    "        for j in range(n): #8\n",
    "            row += trans\n",
    "            arr[row][col] = cnt\n",
    "            cnt += 1\n",
    "        \n",
    "        # (열, 행) 증가, (열, 행) 감소 ... 규칙\n",
    "        # trans * -1 로 스워칭\n",
    "        trans *= -1 #9\n",
    "    return arr"
   ]
  },
  {
   "cell_type": "code",
   "execution_count": 6,
   "metadata": {},
   "outputs": [
    {
     "name": "stdout",
     "output_type": "stream",
     "text": [
      "    1     2     3     4     5 \n",
      "   16    17    18    19     6 \n",
      "   15    24    25    20     7 \n",
      "   14    23    22    21     8 \n",
      "   13    12    11    10     9 \n"
     ]
    }
   ],
   "source": [
    "arr = snail(int(input()))\n",
    "\n",
    "for i in arr:\n",
    "    for j in i:\n",
    "        print('%5d' %j , end=' ')\n",
    "    print()"
   ]
  },
  {
   "cell_type": "code",
   "execution_count": 7,
   "metadata": {},
   "outputs": [
    {
     "name": "stdout",
     "output_type": "stream",
     "text": [
      "    1     2     3     4     5     6     7 \n",
      "   24    25    26    27    28    29     8 \n",
      "   23    40    41    42    43    30     9 \n",
      "   22    39    48    49    44    31    10 \n",
      "   21    38    47    46    45    32    11 \n",
      "   20    37    36    35    34    33    12 \n",
      "   19    18    17    16    15    14    13 \n"
     ]
    }
   ],
   "source": [
    "arr = snail(int(input()))\n",
    "\n",
    "for i in arr:\n",
    "    for j in i:\n",
    "        print('%5d' %j , end=' ')\n",
    "    print()"
   ]
  }
 ],
 "metadata": {
  "kernelspec": {
   "display_name": "Python 3.8.13 ('info')",
   "language": "python",
   "name": "python3"
  },
  "language_info": {
   "codemirror_mode": {
    "name": "ipython",
    "version": 3
   },
   "file_extension": ".py",
   "mimetype": "text/x-python",
   "name": "python",
   "nbconvert_exporter": "python",
   "pygments_lexer": "ipython3",
   "version": "3.8.13"
  },
  "orig_nbformat": 4,
  "vscode": {
   "interpreter": {
    "hash": "c79a272989f05fea6b528a4bffe753ab8697c78cfe6ca3007c07adf2fb6d0072"
   }
  }
 },
 "nbformat": 4,
 "nbformat_minor": 2
}
