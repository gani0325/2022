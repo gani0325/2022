{
  "cells": [
    {
      "cell_type": "markdown",
      "metadata": {
        "id": "view-in-github",
        "colab_type": "text"
      },
      "source": [
        "<a href=\"https://colab.research.google.com/github/gani0325/2022/blob/main/kaggle/BreastCancer.ipynb\" target=\"_parent\"><img src=\"https://colab.research.google.com/assets/colab-badge.svg\" alt=\"Open In Colab\"/></a>"
      ]
    },
    {
      "cell_type": "markdown",
      "metadata": {
        "id": "HhbMvy0fmyFe"
      },
      "source": [
        "# 2022-01-27"
      ]
    },
    {
      "cell_type": "markdown",
      "metadata": {
        "id": "casPijBGmyFi"
      },
      "source": [
        "### Breast Cancer - kaggle\n",
        "* https://bigdaheta.tistory.com/33 참고\n",
        "* https://www.kaggle.com/kanncaa1/feature-selection-and-data-visualization 참고"
      ]
    },
    {
      "cell_type": "markdown",
      "metadata": {
        "id": "VuRwTPCMmyFj"
      },
      "source": [
        "#### 1. 라이브러리 import"
      ]
    },
    {
      "cell_type": "code",
      "execution_count": null,
      "metadata": {
        "id": "WD5MOZi1myFj"
      },
      "outputs": [],
      "source": [
        "import numpy as np\n",
        "import matplotlib.pyplot as plt\n",
        "\n",
        "import pandas as pd\n",
        "from sklearn import datasets\n",
        "\n",
        "from sklearn.model_selection import train_test_split\n",
        "\n",
        "from sklearn.tree import DecisionTreeClassifier\n",
        "from sklearn.neighbors import KNeighborsClassifier\n",
        "from sklearn.linear_model import LogisticRegression\n",
        "\n",
        "from sklearn.ensemble import VotingClassifier\n",
        "from sklearn.ensemble import RandomForestClassifier\n",
        "from sklearn.ensemble import AdaBoostClassifier\n",
        "\n",
        "from sklearn.metrics import confusion_matrix, classification_report\n",
        "from sklearn.metrics import accuracy_score, precision_score, recall_score, f1_score, roc_auc_score\n",
        "from sklearn.metrics import roc_curve, auc\n",
        "\n",
        "from sklearn.model_selection import learning_curve, validation_curve\n",
        "from sklearn.model_selection import GridSearchCV\n",
        "from sklearn.model_selection import cross_val_predict\n",
        "from sklearn.model_selection import cross_val_score"
      ]
    },
    {
      "cell_type": "markdown",
      "metadata": {
        "id": "CsiiQ3dgmyFk"
      },
      "source": [
        "#### 2. 데이터 가져오기"
      ]
    },
    {
      "cell_type": "code",
      "execution_count": null,
      "metadata": {
        "id": "TaJ3iKvMmyFl",
        "outputId": "633ca381-2e4f-4881-ff62-4fdbf876f2b4"
      },
      "outputs": [
        {
          "data": {
            "text/html": [
              "<div>\n",
              "<style scoped>\n",
              "    .dataframe tbody tr th:only-of-type {\n",
              "        vertical-align: middle;\n",
              "    }\n",
              "\n",
              "    .dataframe tbody tr th {\n",
              "        vertical-align: top;\n",
              "    }\n",
              "\n",
              "    .dataframe thead th {\n",
              "        text-align: right;\n",
              "    }\n",
              "</style>\n",
              "<table border=\"1\" class=\"dataframe\">\n",
              "  <thead>\n",
              "    <tr style=\"text-align: right;\">\n",
              "      <th></th>\n",
              "      <th>id</th>\n",
              "      <th>diagnosis</th>\n",
              "      <th>radius_mean</th>\n",
              "      <th>texture_mean</th>\n",
              "      <th>perimeter_mean</th>\n",
              "      <th>area_mean</th>\n",
              "      <th>smoothness_mean</th>\n",
              "      <th>compactness_mean</th>\n",
              "      <th>concavity_mean</th>\n",
              "      <th>concave points_mean</th>\n",
              "      <th>...</th>\n",
              "      <th>texture_worst</th>\n",
              "      <th>perimeter_worst</th>\n",
              "      <th>area_worst</th>\n",
              "      <th>smoothness_worst</th>\n",
              "      <th>compactness_worst</th>\n",
              "      <th>concavity_worst</th>\n",
              "      <th>concave points_worst</th>\n",
              "      <th>symmetry_worst</th>\n",
              "      <th>fractal_dimension_worst</th>\n",
              "      <th>Unnamed: 32</th>\n",
              "    </tr>\n",
              "  </thead>\n",
              "  <tbody>\n",
              "    <tr>\n",
              "      <th>0</th>\n",
              "      <td>842302</td>\n",
              "      <td>M</td>\n",
              "      <td>17.99</td>\n",
              "      <td>10.38</td>\n",
              "      <td>122.80</td>\n",
              "      <td>1001.0</td>\n",
              "      <td>0.11840</td>\n",
              "      <td>0.27760</td>\n",
              "      <td>0.30010</td>\n",
              "      <td>0.14710</td>\n",
              "      <td>...</td>\n",
              "      <td>17.33</td>\n",
              "      <td>184.60</td>\n",
              "      <td>2019.0</td>\n",
              "      <td>0.16220</td>\n",
              "      <td>0.66560</td>\n",
              "      <td>0.7119</td>\n",
              "      <td>0.2654</td>\n",
              "      <td>0.4601</td>\n",
              "      <td>0.11890</td>\n",
              "      <td>NaN</td>\n",
              "    </tr>\n",
              "    <tr>\n",
              "      <th>1</th>\n",
              "      <td>842517</td>\n",
              "      <td>M</td>\n",
              "      <td>20.57</td>\n",
              "      <td>17.77</td>\n",
              "      <td>132.90</td>\n",
              "      <td>1326.0</td>\n",
              "      <td>0.08474</td>\n",
              "      <td>0.07864</td>\n",
              "      <td>0.08690</td>\n",
              "      <td>0.07017</td>\n",
              "      <td>...</td>\n",
              "      <td>23.41</td>\n",
              "      <td>158.80</td>\n",
              "      <td>1956.0</td>\n",
              "      <td>0.12380</td>\n",
              "      <td>0.18660</td>\n",
              "      <td>0.2416</td>\n",
              "      <td>0.1860</td>\n",
              "      <td>0.2750</td>\n",
              "      <td>0.08902</td>\n",
              "      <td>NaN</td>\n",
              "    </tr>\n",
              "    <tr>\n",
              "      <th>2</th>\n",
              "      <td>84300903</td>\n",
              "      <td>M</td>\n",
              "      <td>19.69</td>\n",
              "      <td>21.25</td>\n",
              "      <td>130.00</td>\n",
              "      <td>1203.0</td>\n",
              "      <td>0.10960</td>\n",
              "      <td>0.15990</td>\n",
              "      <td>0.19740</td>\n",
              "      <td>0.12790</td>\n",
              "      <td>...</td>\n",
              "      <td>25.53</td>\n",
              "      <td>152.50</td>\n",
              "      <td>1709.0</td>\n",
              "      <td>0.14440</td>\n",
              "      <td>0.42450</td>\n",
              "      <td>0.4504</td>\n",
              "      <td>0.2430</td>\n",
              "      <td>0.3613</td>\n",
              "      <td>0.08758</td>\n",
              "      <td>NaN</td>\n",
              "    </tr>\n",
              "    <tr>\n",
              "      <th>3</th>\n",
              "      <td>84348301</td>\n",
              "      <td>M</td>\n",
              "      <td>11.42</td>\n",
              "      <td>20.38</td>\n",
              "      <td>77.58</td>\n",
              "      <td>386.1</td>\n",
              "      <td>0.14250</td>\n",
              "      <td>0.28390</td>\n",
              "      <td>0.24140</td>\n",
              "      <td>0.10520</td>\n",
              "      <td>...</td>\n",
              "      <td>26.50</td>\n",
              "      <td>98.87</td>\n",
              "      <td>567.7</td>\n",
              "      <td>0.20980</td>\n",
              "      <td>0.86630</td>\n",
              "      <td>0.6869</td>\n",
              "      <td>0.2575</td>\n",
              "      <td>0.6638</td>\n",
              "      <td>0.17300</td>\n",
              "      <td>NaN</td>\n",
              "    </tr>\n",
              "    <tr>\n",
              "      <th>4</th>\n",
              "      <td>84358402</td>\n",
              "      <td>M</td>\n",
              "      <td>20.29</td>\n",
              "      <td>14.34</td>\n",
              "      <td>135.10</td>\n",
              "      <td>1297.0</td>\n",
              "      <td>0.10030</td>\n",
              "      <td>0.13280</td>\n",
              "      <td>0.19800</td>\n",
              "      <td>0.10430</td>\n",
              "      <td>...</td>\n",
              "      <td>16.67</td>\n",
              "      <td>152.20</td>\n",
              "      <td>1575.0</td>\n",
              "      <td>0.13740</td>\n",
              "      <td>0.20500</td>\n",
              "      <td>0.4000</td>\n",
              "      <td>0.1625</td>\n",
              "      <td>0.2364</td>\n",
              "      <td>0.07678</td>\n",
              "      <td>NaN</td>\n",
              "    </tr>\n",
              "    <tr>\n",
              "      <th>...</th>\n",
              "      <td>...</td>\n",
              "      <td>...</td>\n",
              "      <td>...</td>\n",
              "      <td>...</td>\n",
              "      <td>...</td>\n",
              "      <td>...</td>\n",
              "      <td>...</td>\n",
              "      <td>...</td>\n",
              "      <td>...</td>\n",
              "      <td>...</td>\n",
              "      <td>...</td>\n",
              "      <td>...</td>\n",
              "      <td>...</td>\n",
              "      <td>...</td>\n",
              "      <td>...</td>\n",
              "      <td>...</td>\n",
              "      <td>...</td>\n",
              "      <td>...</td>\n",
              "      <td>...</td>\n",
              "      <td>...</td>\n",
              "      <td>...</td>\n",
              "    </tr>\n",
              "    <tr>\n",
              "      <th>564</th>\n",
              "      <td>926424</td>\n",
              "      <td>M</td>\n",
              "      <td>21.56</td>\n",
              "      <td>22.39</td>\n",
              "      <td>142.00</td>\n",
              "      <td>1479.0</td>\n",
              "      <td>0.11100</td>\n",
              "      <td>0.11590</td>\n",
              "      <td>0.24390</td>\n",
              "      <td>0.13890</td>\n",
              "      <td>...</td>\n",
              "      <td>26.40</td>\n",
              "      <td>166.10</td>\n",
              "      <td>2027.0</td>\n",
              "      <td>0.14100</td>\n",
              "      <td>0.21130</td>\n",
              "      <td>0.4107</td>\n",
              "      <td>0.2216</td>\n",
              "      <td>0.2060</td>\n",
              "      <td>0.07115</td>\n",
              "      <td>NaN</td>\n",
              "    </tr>\n",
              "    <tr>\n",
              "      <th>565</th>\n",
              "      <td>926682</td>\n",
              "      <td>M</td>\n",
              "      <td>20.13</td>\n",
              "      <td>28.25</td>\n",
              "      <td>131.20</td>\n",
              "      <td>1261.0</td>\n",
              "      <td>0.09780</td>\n",
              "      <td>0.10340</td>\n",
              "      <td>0.14400</td>\n",
              "      <td>0.09791</td>\n",
              "      <td>...</td>\n",
              "      <td>38.25</td>\n",
              "      <td>155.00</td>\n",
              "      <td>1731.0</td>\n",
              "      <td>0.11660</td>\n",
              "      <td>0.19220</td>\n",
              "      <td>0.3215</td>\n",
              "      <td>0.1628</td>\n",
              "      <td>0.2572</td>\n",
              "      <td>0.06637</td>\n",
              "      <td>NaN</td>\n",
              "    </tr>\n",
              "    <tr>\n",
              "      <th>566</th>\n",
              "      <td>926954</td>\n",
              "      <td>M</td>\n",
              "      <td>16.60</td>\n",
              "      <td>28.08</td>\n",
              "      <td>108.30</td>\n",
              "      <td>858.1</td>\n",
              "      <td>0.08455</td>\n",
              "      <td>0.10230</td>\n",
              "      <td>0.09251</td>\n",
              "      <td>0.05302</td>\n",
              "      <td>...</td>\n",
              "      <td>34.12</td>\n",
              "      <td>126.70</td>\n",
              "      <td>1124.0</td>\n",
              "      <td>0.11390</td>\n",
              "      <td>0.30940</td>\n",
              "      <td>0.3403</td>\n",
              "      <td>0.1418</td>\n",
              "      <td>0.2218</td>\n",
              "      <td>0.07820</td>\n",
              "      <td>NaN</td>\n",
              "    </tr>\n",
              "    <tr>\n",
              "      <th>567</th>\n",
              "      <td>927241</td>\n",
              "      <td>M</td>\n",
              "      <td>20.60</td>\n",
              "      <td>29.33</td>\n",
              "      <td>140.10</td>\n",
              "      <td>1265.0</td>\n",
              "      <td>0.11780</td>\n",
              "      <td>0.27700</td>\n",
              "      <td>0.35140</td>\n",
              "      <td>0.15200</td>\n",
              "      <td>...</td>\n",
              "      <td>39.42</td>\n",
              "      <td>184.60</td>\n",
              "      <td>1821.0</td>\n",
              "      <td>0.16500</td>\n",
              "      <td>0.86810</td>\n",
              "      <td>0.9387</td>\n",
              "      <td>0.2650</td>\n",
              "      <td>0.4087</td>\n",
              "      <td>0.12400</td>\n",
              "      <td>NaN</td>\n",
              "    </tr>\n",
              "    <tr>\n",
              "      <th>568</th>\n",
              "      <td>92751</td>\n",
              "      <td>B</td>\n",
              "      <td>7.76</td>\n",
              "      <td>24.54</td>\n",
              "      <td>47.92</td>\n",
              "      <td>181.0</td>\n",
              "      <td>0.05263</td>\n",
              "      <td>0.04362</td>\n",
              "      <td>0.00000</td>\n",
              "      <td>0.00000</td>\n",
              "      <td>...</td>\n",
              "      <td>30.37</td>\n",
              "      <td>59.16</td>\n",
              "      <td>268.6</td>\n",
              "      <td>0.08996</td>\n",
              "      <td>0.06444</td>\n",
              "      <td>0.0000</td>\n",
              "      <td>0.0000</td>\n",
              "      <td>0.2871</td>\n",
              "      <td>0.07039</td>\n",
              "      <td>NaN</td>\n",
              "    </tr>\n",
              "  </tbody>\n",
              "</table>\n",
              "<p>569 rows × 33 columns</p>\n",
              "</div>"
            ],
            "text/plain": [
              "           id diagnosis  radius_mean  texture_mean  perimeter_mean  area_mean  \\\n",
              "0      842302         M        17.99         10.38          122.80     1001.0   \n",
              "1      842517         M        20.57         17.77          132.90     1326.0   \n",
              "2    84300903         M        19.69         21.25          130.00     1203.0   \n",
              "3    84348301         M        11.42         20.38           77.58      386.1   \n",
              "4    84358402         M        20.29         14.34          135.10     1297.0   \n",
              "..        ...       ...          ...           ...             ...        ...   \n",
              "564    926424         M        21.56         22.39          142.00     1479.0   \n",
              "565    926682         M        20.13         28.25          131.20     1261.0   \n",
              "566    926954         M        16.60         28.08          108.30      858.1   \n",
              "567    927241         M        20.60         29.33          140.10     1265.0   \n",
              "568     92751         B         7.76         24.54           47.92      181.0   \n",
              "\n",
              "     smoothness_mean  compactness_mean  concavity_mean  concave points_mean  \\\n",
              "0            0.11840           0.27760         0.30010              0.14710   \n",
              "1            0.08474           0.07864         0.08690              0.07017   \n",
              "2            0.10960           0.15990         0.19740              0.12790   \n",
              "3            0.14250           0.28390         0.24140              0.10520   \n",
              "4            0.10030           0.13280         0.19800              0.10430   \n",
              "..               ...               ...             ...                  ...   \n",
              "564          0.11100           0.11590         0.24390              0.13890   \n",
              "565          0.09780           0.10340         0.14400              0.09791   \n",
              "566          0.08455           0.10230         0.09251              0.05302   \n",
              "567          0.11780           0.27700         0.35140              0.15200   \n",
              "568          0.05263           0.04362         0.00000              0.00000   \n",
              "\n",
              "     ...  texture_worst  perimeter_worst  area_worst  smoothness_worst  \\\n",
              "0    ...          17.33           184.60      2019.0           0.16220   \n",
              "1    ...          23.41           158.80      1956.0           0.12380   \n",
              "2    ...          25.53           152.50      1709.0           0.14440   \n",
              "3    ...          26.50            98.87       567.7           0.20980   \n",
              "4    ...          16.67           152.20      1575.0           0.13740   \n",
              "..   ...            ...              ...         ...               ...   \n",
              "564  ...          26.40           166.10      2027.0           0.14100   \n",
              "565  ...          38.25           155.00      1731.0           0.11660   \n",
              "566  ...          34.12           126.70      1124.0           0.11390   \n",
              "567  ...          39.42           184.60      1821.0           0.16500   \n",
              "568  ...          30.37            59.16       268.6           0.08996   \n",
              "\n",
              "     compactness_worst  concavity_worst  concave points_worst  symmetry_worst  \\\n",
              "0              0.66560           0.7119                0.2654          0.4601   \n",
              "1              0.18660           0.2416                0.1860          0.2750   \n",
              "2              0.42450           0.4504                0.2430          0.3613   \n",
              "3              0.86630           0.6869                0.2575          0.6638   \n",
              "4              0.20500           0.4000                0.1625          0.2364   \n",
              "..                 ...              ...                   ...             ...   \n",
              "564            0.21130           0.4107                0.2216          0.2060   \n",
              "565            0.19220           0.3215                0.1628          0.2572   \n",
              "566            0.30940           0.3403                0.1418          0.2218   \n",
              "567            0.86810           0.9387                0.2650          0.4087   \n",
              "568            0.06444           0.0000                0.0000          0.2871   \n",
              "\n",
              "     fractal_dimension_worst  Unnamed: 32  \n",
              "0                    0.11890          NaN  \n",
              "1                    0.08902          NaN  \n",
              "2                    0.08758          NaN  \n",
              "3                    0.17300          NaN  \n",
              "4                    0.07678          NaN  \n",
              "..                       ...          ...  \n",
              "564                  0.07115          NaN  \n",
              "565                  0.06637          NaN  \n",
              "566                  0.07820          NaN  \n",
              "567                  0.12400          NaN  \n",
              "568                  0.07039          NaN  \n",
              "\n",
              "[569 rows x 33 columns]"
            ]
          },
          "execution_count": 3,
          "metadata": {},
          "output_type": "execute_result"
        }
      ],
      "source": [
        "data = pd.read_csv(\"data.csv\")\n",
        "data"
      ]
    },
    {
      "cell_type": "code",
      "execution_count": null,
      "metadata": {
        "id": "Bw1VzjaGmyFm",
        "outputId": "b78f2937-9469-42cd-cd7a-69344b01b478"
      },
      "outputs": [
        {
          "name": "stdout",
          "output_type": "stream",
          "text": [
            "<class 'pandas.core.frame.DataFrame'>\n",
            "RangeIndex: 569 entries, 0 to 568\n",
            "Data columns (total 33 columns):\n",
            " #   Column                   Non-Null Count  Dtype  \n",
            "---  ------                   --------------  -----  \n",
            " 0   id                       569 non-null    int64  \n",
            " 1   diagnosis                569 non-null    object \n",
            " 2   radius_mean              569 non-null    float64\n",
            " 3   texture_mean             569 non-null    float64\n",
            " 4   perimeter_mean           569 non-null    float64\n",
            " 5   area_mean                569 non-null    float64\n",
            " 6   smoothness_mean          569 non-null    float64\n",
            " 7   compactness_mean         569 non-null    float64\n",
            " 8   concavity_mean           569 non-null    float64\n",
            " 9   concave points_mean      569 non-null    float64\n",
            " 10  symmetry_mean            569 non-null    float64\n",
            " 11  fractal_dimension_mean   569 non-null    float64\n",
            " 12  radius_se                569 non-null    float64\n",
            " 13  texture_se               569 non-null    float64\n",
            " 14  perimeter_se             569 non-null    float64\n",
            " 15  area_se                  569 non-null    float64\n",
            " 16  smoothness_se            569 non-null    float64\n",
            " 17  compactness_se           569 non-null    float64\n",
            " 18  concavity_se             569 non-null    float64\n",
            " 19  concave points_se        569 non-null    float64\n",
            " 20  symmetry_se              569 non-null    float64\n",
            " 21  fractal_dimension_se     569 non-null    float64\n",
            " 22  radius_worst             569 non-null    float64\n",
            " 23  texture_worst            569 non-null    float64\n",
            " 24  perimeter_worst          569 non-null    float64\n",
            " 25  area_worst               569 non-null    float64\n",
            " 26  smoothness_worst         569 non-null    float64\n",
            " 27  compactness_worst        569 non-null    float64\n",
            " 28  concavity_worst          569 non-null    float64\n",
            " 29  concave points_worst     569 non-null    float64\n",
            " 30  symmetry_worst           569 non-null    float64\n",
            " 31  fractal_dimension_worst  569 non-null    float64\n",
            " 32  Unnamed: 32              0 non-null      float64\n",
            "dtypes: float64(31), int64(1), object(1)\n",
            "memory usage: 146.8+ KB\n"
          ]
        }
      ],
      "source": [
        "data.info()"
      ]
    },
    {
      "cell_type": "markdown",
      "metadata": {
        "id": "BN_xmy8GmyFn"
      },
      "source": [
        "* 흠 거의 실수나 정수인가, Object 는 없낭"
      ]
    },
    {
      "cell_type": "code",
      "execution_count": null,
      "metadata": {
        "id": "rTnZfktGmyFn",
        "outputId": "76a756e5-6bb7-451e-c462-e9c669edac0d"
      },
      "outputs": [
        {
          "data": {
            "text/plain": [
              "id                           0\n",
              "diagnosis                    0\n",
              "radius_mean                  0\n",
              "texture_mean                 0\n",
              "perimeter_mean               0\n",
              "area_mean                    0\n",
              "smoothness_mean              0\n",
              "compactness_mean             0\n",
              "concavity_mean               0\n",
              "concave points_mean          0\n",
              "symmetry_mean                0\n",
              "fractal_dimension_mean       0\n",
              "radius_se                    0\n",
              "texture_se                   0\n",
              "perimeter_se                 0\n",
              "area_se                      0\n",
              "smoothness_se                0\n",
              "compactness_se               0\n",
              "concavity_se                 0\n",
              "concave points_se            0\n",
              "symmetry_se                  0\n",
              "fractal_dimension_se         0\n",
              "radius_worst                 0\n",
              "texture_worst                0\n",
              "perimeter_worst              0\n",
              "area_worst                   0\n",
              "smoothness_worst             0\n",
              "compactness_worst            0\n",
              "concavity_worst              0\n",
              "concave points_worst         0\n",
              "symmetry_worst               0\n",
              "fractal_dimension_worst      0\n",
              "Unnamed: 32                569\n",
              "dtype: int64"
            ]
          },
          "execution_count": 5,
          "metadata": {},
          "output_type": "execute_result"
        }
      ],
      "source": [
        "data.isnull().sum()"
      ]
    },
    {
      "cell_type": "markdown",
      "metadata": {
        "id": "OnvaeigjmyFo"
      },
      "source": [
        "* Unnamed: 32 하나 있땅"
      ]
    },
    {
      "cell_type": "markdown",
      "metadata": {
        "id": "1A4u48oEmyFo"
      },
      "source": [
        "#### 3. 데이터 전처리"
      ]
    },
    {
      "cell_type": "markdown",
      "metadata": {
        "id": "4O5aORybmyFo"
      },
      "source": [
        "##### 1) diagnosis 숫자로"
      ]
    },
    {
      "cell_type": "code",
      "execution_count": null,
      "metadata": {
        "id": "gdyHh4vVmyFp",
        "outputId": "9bf67727-1f96-4e6b-e9b8-d68d8d12e228"
      },
      "outputs": [
        {
          "data": {
            "text/plain": [
              "array(['M', 'B'], dtype=object)"
            ]
          },
          "execution_count": 6,
          "metadata": {},
          "output_type": "execute_result"
        }
      ],
      "source": [
        "data[\"diagnosis\"].unique()"
      ]
    },
    {
      "cell_type": "markdown",
      "metadata": {
        "id": "Dema2G5WmyFp"
      },
      "source": [
        "* '양성종양(Benign tumor)'과 '악성종양(Malignant tumor)\n",
        "* 악성종양을 1, 양성양성을 0"
      ]
    },
    {
      "cell_type": "code",
      "execution_count": null,
      "metadata": {
        "id": "z9RDBbpWmyFp",
        "outputId": "7d23991a-05f0-44ea-b2c8-6f610f106c3e"
      },
      "outputs": [
        {
          "data": {
            "text/html": [
              "<div>\n",
              "<style scoped>\n",
              "    .dataframe tbody tr th:only-of-type {\n",
              "        vertical-align: middle;\n",
              "    }\n",
              "\n",
              "    .dataframe tbody tr th {\n",
              "        vertical-align: top;\n",
              "    }\n",
              "\n",
              "    .dataframe thead th {\n",
              "        text-align: right;\n",
              "    }\n",
              "</style>\n",
              "<table border=\"1\" class=\"dataframe\">\n",
              "  <thead>\n",
              "    <tr style=\"text-align: right;\">\n",
              "      <th></th>\n",
              "      <th>id</th>\n",
              "      <th>diagnosis</th>\n",
              "      <th>radius_mean</th>\n",
              "      <th>texture_mean</th>\n",
              "      <th>perimeter_mean</th>\n",
              "      <th>area_mean</th>\n",
              "      <th>smoothness_mean</th>\n",
              "      <th>compactness_mean</th>\n",
              "      <th>concavity_mean</th>\n",
              "      <th>concave points_mean</th>\n",
              "      <th>...</th>\n",
              "      <th>perimeter_worst</th>\n",
              "      <th>area_worst</th>\n",
              "      <th>smoothness_worst</th>\n",
              "      <th>compactness_worst</th>\n",
              "      <th>concavity_worst</th>\n",
              "      <th>concave points_worst</th>\n",
              "      <th>symmetry_worst</th>\n",
              "      <th>fractal_dimension_worst</th>\n",
              "      <th>Unnamed: 32</th>\n",
              "      <th>판정</th>\n",
              "    </tr>\n",
              "  </thead>\n",
              "  <tbody>\n",
              "    <tr>\n",
              "      <th>0</th>\n",
              "      <td>842302</td>\n",
              "      <td>M</td>\n",
              "      <td>17.99</td>\n",
              "      <td>10.38</td>\n",
              "      <td>122.80</td>\n",
              "      <td>1001.0</td>\n",
              "      <td>0.11840</td>\n",
              "      <td>0.27760</td>\n",
              "      <td>0.30010</td>\n",
              "      <td>0.14710</td>\n",
              "      <td>...</td>\n",
              "      <td>184.60</td>\n",
              "      <td>2019.0</td>\n",
              "      <td>0.1622</td>\n",
              "      <td>0.6656</td>\n",
              "      <td>0.7119</td>\n",
              "      <td>0.2654</td>\n",
              "      <td>0.4601</td>\n",
              "      <td>0.11890</td>\n",
              "      <td>NaN</td>\n",
              "      <td>1</td>\n",
              "    </tr>\n",
              "    <tr>\n",
              "      <th>1</th>\n",
              "      <td>842517</td>\n",
              "      <td>M</td>\n",
              "      <td>20.57</td>\n",
              "      <td>17.77</td>\n",
              "      <td>132.90</td>\n",
              "      <td>1326.0</td>\n",
              "      <td>0.08474</td>\n",
              "      <td>0.07864</td>\n",
              "      <td>0.08690</td>\n",
              "      <td>0.07017</td>\n",
              "      <td>...</td>\n",
              "      <td>158.80</td>\n",
              "      <td>1956.0</td>\n",
              "      <td>0.1238</td>\n",
              "      <td>0.1866</td>\n",
              "      <td>0.2416</td>\n",
              "      <td>0.1860</td>\n",
              "      <td>0.2750</td>\n",
              "      <td>0.08902</td>\n",
              "      <td>NaN</td>\n",
              "      <td>1</td>\n",
              "    </tr>\n",
              "    <tr>\n",
              "      <th>2</th>\n",
              "      <td>84300903</td>\n",
              "      <td>M</td>\n",
              "      <td>19.69</td>\n",
              "      <td>21.25</td>\n",
              "      <td>130.00</td>\n",
              "      <td>1203.0</td>\n",
              "      <td>0.10960</td>\n",
              "      <td>0.15990</td>\n",
              "      <td>0.19740</td>\n",
              "      <td>0.12790</td>\n",
              "      <td>...</td>\n",
              "      <td>152.50</td>\n",
              "      <td>1709.0</td>\n",
              "      <td>0.1444</td>\n",
              "      <td>0.4245</td>\n",
              "      <td>0.4504</td>\n",
              "      <td>0.2430</td>\n",
              "      <td>0.3613</td>\n",
              "      <td>0.08758</td>\n",
              "      <td>NaN</td>\n",
              "      <td>1</td>\n",
              "    </tr>\n",
              "    <tr>\n",
              "      <th>3</th>\n",
              "      <td>84348301</td>\n",
              "      <td>M</td>\n",
              "      <td>11.42</td>\n",
              "      <td>20.38</td>\n",
              "      <td>77.58</td>\n",
              "      <td>386.1</td>\n",
              "      <td>0.14250</td>\n",
              "      <td>0.28390</td>\n",
              "      <td>0.24140</td>\n",
              "      <td>0.10520</td>\n",
              "      <td>...</td>\n",
              "      <td>98.87</td>\n",
              "      <td>567.7</td>\n",
              "      <td>0.2098</td>\n",
              "      <td>0.8663</td>\n",
              "      <td>0.6869</td>\n",
              "      <td>0.2575</td>\n",
              "      <td>0.6638</td>\n",
              "      <td>0.17300</td>\n",
              "      <td>NaN</td>\n",
              "      <td>1</td>\n",
              "    </tr>\n",
              "    <tr>\n",
              "      <th>4</th>\n",
              "      <td>84358402</td>\n",
              "      <td>M</td>\n",
              "      <td>20.29</td>\n",
              "      <td>14.34</td>\n",
              "      <td>135.10</td>\n",
              "      <td>1297.0</td>\n",
              "      <td>0.10030</td>\n",
              "      <td>0.13280</td>\n",
              "      <td>0.19800</td>\n",
              "      <td>0.10430</td>\n",
              "      <td>...</td>\n",
              "      <td>152.20</td>\n",
              "      <td>1575.0</td>\n",
              "      <td>0.1374</td>\n",
              "      <td>0.2050</td>\n",
              "      <td>0.4000</td>\n",
              "      <td>0.1625</td>\n",
              "      <td>0.2364</td>\n",
              "      <td>0.07678</td>\n",
              "      <td>NaN</td>\n",
              "      <td>1</td>\n",
              "    </tr>\n",
              "    <tr>\n",
              "      <th>5</th>\n",
              "      <td>843786</td>\n",
              "      <td>M</td>\n",
              "      <td>12.45</td>\n",
              "      <td>15.70</td>\n",
              "      <td>82.57</td>\n",
              "      <td>477.1</td>\n",
              "      <td>0.12780</td>\n",
              "      <td>0.17000</td>\n",
              "      <td>0.15780</td>\n",
              "      <td>0.08089</td>\n",
              "      <td>...</td>\n",
              "      <td>103.40</td>\n",
              "      <td>741.6</td>\n",
              "      <td>0.1791</td>\n",
              "      <td>0.5249</td>\n",
              "      <td>0.5355</td>\n",
              "      <td>0.1741</td>\n",
              "      <td>0.3985</td>\n",
              "      <td>0.12440</td>\n",
              "      <td>NaN</td>\n",
              "      <td>1</td>\n",
              "    </tr>\n",
              "    <tr>\n",
              "      <th>6</th>\n",
              "      <td>844359</td>\n",
              "      <td>M</td>\n",
              "      <td>18.25</td>\n",
              "      <td>19.98</td>\n",
              "      <td>119.60</td>\n",
              "      <td>1040.0</td>\n",
              "      <td>0.09463</td>\n",
              "      <td>0.10900</td>\n",
              "      <td>0.11270</td>\n",
              "      <td>0.07400</td>\n",
              "      <td>...</td>\n",
              "      <td>153.20</td>\n",
              "      <td>1606.0</td>\n",
              "      <td>0.1442</td>\n",
              "      <td>0.2576</td>\n",
              "      <td>0.3784</td>\n",
              "      <td>0.1932</td>\n",
              "      <td>0.3063</td>\n",
              "      <td>0.08368</td>\n",
              "      <td>NaN</td>\n",
              "      <td>1</td>\n",
              "    </tr>\n",
              "    <tr>\n",
              "      <th>7</th>\n",
              "      <td>84458202</td>\n",
              "      <td>M</td>\n",
              "      <td>13.71</td>\n",
              "      <td>20.83</td>\n",
              "      <td>90.20</td>\n",
              "      <td>577.9</td>\n",
              "      <td>0.11890</td>\n",
              "      <td>0.16450</td>\n",
              "      <td>0.09366</td>\n",
              "      <td>0.05985</td>\n",
              "      <td>...</td>\n",
              "      <td>110.60</td>\n",
              "      <td>897.0</td>\n",
              "      <td>0.1654</td>\n",
              "      <td>0.3682</td>\n",
              "      <td>0.2678</td>\n",
              "      <td>0.1556</td>\n",
              "      <td>0.3196</td>\n",
              "      <td>0.11510</td>\n",
              "      <td>NaN</td>\n",
              "      <td>1</td>\n",
              "    </tr>\n",
              "    <tr>\n",
              "      <th>8</th>\n",
              "      <td>844981</td>\n",
              "      <td>M</td>\n",
              "      <td>13.00</td>\n",
              "      <td>21.82</td>\n",
              "      <td>87.50</td>\n",
              "      <td>519.8</td>\n",
              "      <td>0.12730</td>\n",
              "      <td>0.19320</td>\n",
              "      <td>0.18590</td>\n",
              "      <td>0.09353</td>\n",
              "      <td>...</td>\n",
              "      <td>106.20</td>\n",
              "      <td>739.3</td>\n",
              "      <td>0.1703</td>\n",
              "      <td>0.5401</td>\n",
              "      <td>0.5390</td>\n",
              "      <td>0.2060</td>\n",
              "      <td>0.4378</td>\n",
              "      <td>0.10720</td>\n",
              "      <td>NaN</td>\n",
              "      <td>1</td>\n",
              "    </tr>\n",
              "    <tr>\n",
              "      <th>9</th>\n",
              "      <td>84501001</td>\n",
              "      <td>M</td>\n",
              "      <td>12.46</td>\n",
              "      <td>24.04</td>\n",
              "      <td>83.97</td>\n",
              "      <td>475.9</td>\n",
              "      <td>0.11860</td>\n",
              "      <td>0.23960</td>\n",
              "      <td>0.22730</td>\n",
              "      <td>0.08543</td>\n",
              "      <td>...</td>\n",
              "      <td>97.65</td>\n",
              "      <td>711.4</td>\n",
              "      <td>0.1853</td>\n",
              "      <td>1.0580</td>\n",
              "      <td>1.1050</td>\n",
              "      <td>0.2210</td>\n",
              "      <td>0.4366</td>\n",
              "      <td>0.20750</td>\n",
              "      <td>NaN</td>\n",
              "      <td>1</td>\n",
              "    </tr>\n",
              "  </tbody>\n",
              "</table>\n",
              "<p>10 rows × 34 columns</p>\n",
              "</div>"
            ],
            "text/plain": [
              "         id diagnosis  radius_mean  texture_mean  perimeter_mean  area_mean  \\\n",
              "0    842302         M        17.99         10.38          122.80     1001.0   \n",
              "1    842517         M        20.57         17.77          132.90     1326.0   \n",
              "2  84300903         M        19.69         21.25          130.00     1203.0   \n",
              "3  84348301         M        11.42         20.38           77.58      386.1   \n",
              "4  84358402         M        20.29         14.34          135.10     1297.0   \n",
              "5    843786         M        12.45         15.70           82.57      477.1   \n",
              "6    844359         M        18.25         19.98          119.60     1040.0   \n",
              "7  84458202         M        13.71         20.83           90.20      577.9   \n",
              "8    844981         M        13.00         21.82           87.50      519.8   \n",
              "9  84501001         M        12.46         24.04           83.97      475.9   \n",
              "\n",
              "   smoothness_mean  compactness_mean  concavity_mean  concave points_mean  \\\n",
              "0          0.11840           0.27760         0.30010              0.14710   \n",
              "1          0.08474           0.07864         0.08690              0.07017   \n",
              "2          0.10960           0.15990         0.19740              0.12790   \n",
              "3          0.14250           0.28390         0.24140              0.10520   \n",
              "4          0.10030           0.13280         0.19800              0.10430   \n",
              "5          0.12780           0.17000         0.15780              0.08089   \n",
              "6          0.09463           0.10900         0.11270              0.07400   \n",
              "7          0.11890           0.16450         0.09366              0.05985   \n",
              "8          0.12730           0.19320         0.18590              0.09353   \n",
              "9          0.11860           0.23960         0.22730              0.08543   \n",
              "\n",
              "   ...  perimeter_worst  area_worst  smoothness_worst  compactness_worst  \\\n",
              "0  ...           184.60      2019.0            0.1622             0.6656   \n",
              "1  ...           158.80      1956.0            0.1238             0.1866   \n",
              "2  ...           152.50      1709.0            0.1444             0.4245   \n",
              "3  ...            98.87       567.7            0.2098             0.8663   \n",
              "4  ...           152.20      1575.0            0.1374             0.2050   \n",
              "5  ...           103.40       741.6            0.1791             0.5249   \n",
              "6  ...           153.20      1606.0            0.1442             0.2576   \n",
              "7  ...           110.60       897.0            0.1654             0.3682   \n",
              "8  ...           106.20       739.3            0.1703             0.5401   \n",
              "9  ...            97.65       711.4            0.1853             1.0580   \n",
              "\n",
              "   concavity_worst  concave points_worst  symmetry_worst  \\\n",
              "0           0.7119                0.2654          0.4601   \n",
              "1           0.2416                0.1860          0.2750   \n",
              "2           0.4504                0.2430          0.3613   \n",
              "3           0.6869                0.2575          0.6638   \n",
              "4           0.4000                0.1625          0.2364   \n",
              "5           0.5355                0.1741          0.3985   \n",
              "6           0.3784                0.1932          0.3063   \n",
              "7           0.2678                0.1556          0.3196   \n",
              "8           0.5390                0.2060          0.4378   \n",
              "9           1.1050                0.2210          0.4366   \n",
              "\n",
              "   fractal_dimension_worst  Unnamed: 32  판정  \n",
              "0                  0.11890          NaN   1  \n",
              "1                  0.08902          NaN   1  \n",
              "2                  0.08758          NaN   1  \n",
              "3                  0.17300          NaN   1  \n",
              "4                  0.07678          NaN   1  \n",
              "5                  0.12440          NaN   1  \n",
              "6                  0.08368          NaN   1  \n",
              "7                  0.11510          NaN   1  \n",
              "8                  0.10720          NaN   1  \n",
              "9                  0.20750          NaN   1  \n",
              "\n",
              "[10 rows x 34 columns]"
            ]
          },
          "execution_count": 10,
          "metadata": {},
          "output_type": "execute_result"
        }
      ],
      "source": [
        "def cancle(a):\n",
        "    if 'M' in a :\n",
        "        return 1\n",
        "    else :\n",
        "        return 0\n",
        "\n",
        "data[\"판정\"] = data[\"diagnosis\"].apply(cancle)\n",
        "data.head(10)"
      ]
    },
    {
      "cell_type": "markdown",
      "metadata": {
        "id": "Hjv6t-GmmyFq"
      },
      "source": [
        "##### 2) 필요없는거 drop"
      ]
    },
    {
      "cell_type": "code",
      "execution_count": null,
      "metadata": {
        "id": "0ziFkBxgmyFq",
        "outputId": "2ac07356-4bc9-4378-c889-7eea4b8f3d2c"
      },
      "outputs": [
        {
          "data": {
            "text/plain": [
              "Index(['id', 'diagnosis', 'radius_mean', 'texture_mean', 'perimeter_mean',\n",
              "       'area_mean', 'smoothness_mean', 'compactness_mean', 'concavity_mean',\n",
              "       'concave points_mean', 'symmetry_mean', 'fractal_dimension_mean',\n",
              "       'radius_se', 'texture_se', 'perimeter_se', 'area_se', 'smoothness_se',\n",
              "       'compactness_se', 'concavity_se', 'concave points_se', 'symmetry_se',\n",
              "       'fractal_dimension_se', 'radius_worst', 'texture_worst',\n",
              "       'perimeter_worst', 'area_worst', 'smoothness_worst',\n",
              "       'compactness_worst', 'concavity_worst', 'concave points_worst',\n",
              "       'symmetry_worst', 'fractal_dimension_worst', 'Unnamed: 32', '판정'],\n",
              "      dtype='object')"
            ]
          },
          "execution_count": 11,
          "metadata": {},
          "output_type": "execute_result"
        }
      ],
      "source": [
        "data.columns"
      ]
    },
    {
      "cell_type": "markdown",
      "metadata": {
        "id": "MWuAxdYumyFr"
      },
      "source": [
        "* id 필요없고, diagnosis 는 숫자로 했고, null 있는 Unnamed: 32 없애버려~!"
      ]
    },
    {
      "cell_type": "code",
      "execution_count": null,
      "metadata": {
        "id": "pcl_F-K_myFr",
        "outputId": "cf98a0c0-82ce-4571-990a-8a02a6f194c5"
      },
      "outputs": [
        {
          "data": {
            "text/html": [
              "<div>\n",
              "<style scoped>\n",
              "    .dataframe tbody tr th:only-of-type {\n",
              "        vertical-align: middle;\n",
              "    }\n",
              "\n",
              "    .dataframe tbody tr th {\n",
              "        vertical-align: top;\n",
              "    }\n",
              "\n",
              "    .dataframe thead th {\n",
              "        text-align: right;\n",
              "    }\n",
              "</style>\n",
              "<table border=\"1\" class=\"dataframe\">\n",
              "  <thead>\n",
              "    <tr style=\"text-align: right;\">\n",
              "      <th></th>\n",
              "      <th>radius_mean</th>\n",
              "      <th>texture_mean</th>\n",
              "      <th>perimeter_mean</th>\n",
              "      <th>area_mean</th>\n",
              "      <th>smoothness_mean</th>\n",
              "      <th>compactness_mean</th>\n",
              "      <th>concavity_mean</th>\n",
              "      <th>concave points_mean</th>\n",
              "      <th>symmetry_mean</th>\n",
              "      <th>fractal_dimension_mean</th>\n",
              "      <th>...</th>\n",
              "      <th>texture_worst</th>\n",
              "      <th>perimeter_worst</th>\n",
              "      <th>area_worst</th>\n",
              "      <th>smoothness_worst</th>\n",
              "      <th>compactness_worst</th>\n",
              "      <th>concavity_worst</th>\n",
              "      <th>concave points_worst</th>\n",
              "      <th>symmetry_worst</th>\n",
              "      <th>fractal_dimension_worst</th>\n",
              "      <th>판정</th>\n",
              "    </tr>\n",
              "  </thead>\n",
              "  <tbody>\n",
              "    <tr>\n",
              "      <th>0</th>\n",
              "      <td>17.99</td>\n",
              "      <td>10.38</td>\n",
              "      <td>122.80</td>\n",
              "      <td>1001.0</td>\n",
              "      <td>0.11840</td>\n",
              "      <td>0.27760</td>\n",
              "      <td>0.3001</td>\n",
              "      <td>0.14710</td>\n",
              "      <td>0.2419</td>\n",
              "      <td>0.07871</td>\n",
              "      <td>...</td>\n",
              "      <td>17.33</td>\n",
              "      <td>184.60</td>\n",
              "      <td>2019.0</td>\n",
              "      <td>0.1622</td>\n",
              "      <td>0.6656</td>\n",
              "      <td>0.7119</td>\n",
              "      <td>0.2654</td>\n",
              "      <td>0.4601</td>\n",
              "      <td>0.11890</td>\n",
              "      <td>1</td>\n",
              "    </tr>\n",
              "    <tr>\n",
              "      <th>1</th>\n",
              "      <td>20.57</td>\n",
              "      <td>17.77</td>\n",
              "      <td>132.90</td>\n",
              "      <td>1326.0</td>\n",
              "      <td>0.08474</td>\n",
              "      <td>0.07864</td>\n",
              "      <td>0.0869</td>\n",
              "      <td>0.07017</td>\n",
              "      <td>0.1812</td>\n",
              "      <td>0.05667</td>\n",
              "      <td>...</td>\n",
              "      <td>23.41</td>\n",
              "      <td>158.80</td>\n",
              "      <td>1956.0</td>\n",
              "      <td>0.1238</td>\n",
              "      <td>0.1866</td>\n",
              "      <td>0.2416</td>\n",
              "      <td>0.1860</td>\n",
              "      <td>0.2750</td>\n",
              "      <td>0.08902</td>\n",
              "      <td>1</td>\n",
              "    </tr>\n",
              "    <tr>\n",
              "      <th>2</th>\n",
              "      <td>19.69</td>\n",
              "      <td>21.25</td>\n",
              "      <td>130.00</td>\n",
              "      <td>1203.0</td>\n",
              "      <td>0.10960</td>\n",
              "      <td>0.15990</td>\n",
              "      <td>0.1974</td>\n",
              "      <td>0.12790</td>\n",
              "      <td>0.2069</td>\n",
              "      <td>0.05999</td>\n",
              "      <td>...</td>\n",
              "      <td>25.53</td>\n",
              "      <td>152.50</td>\n",
              "      <td>1709.0</td>\n",
              "      <td>0.1444</td>\n",
              "      <td>0.4245</td>\n",
              "      <td>0.4504</td>\n",
              "      <td>0.2430</td>\n",
              "      <td>0.3613</td>\n",
              "      <td>0.08758</td>\n",
              "      <td>1</td>\n",
              "    </tr>\n",
              "    <tr>\n",
              "      <th>3</th>\n",
              "      <td>11.42</td>\n",
              "      <td>20.38</td>\n",
              "      <td>77.58</td>\n",
              "      <td>386.1</td>\n",
              "      <td>0.14250</td>\n",
              "      <td>0.28390</td>\n",
              "      <td>0.2414</td>\n",
              "      <td>0.10520</td>\n",
              "      <td>0.2597</td>\n",
              "      <td>0.09744</td>\n",
              "      <td>...</td>\n",
              "      <td>26.50</td>\n",
              "      <td>98.87</td>\n",
              "      <td>567.7</td>\n",
              "      <td>0.2098</td>\n",
              "      <td>0.8663</td>\n",
              "      <td>0.6869</td>\n",
              "      <td>0.2575</td>\n",
              "      <td>0.6638</td>\n",
              "      <td>0.17300</td>\n",
              "      <td>1</td>\n",
              "    </tr>\n",
              "    <tr>\n",
              "      <th>4</th>\n",
              "      <td>20.29</td>\n",
              "      <td>14.34</td>\n",
              "      <td>135.10</td>\n",
              "      <td>1297.0</td>\n",
              "      <td>0.10030</td>\n",
              "      <td>0.13280</td>\n",
              "      <td>0.1980</td>\n",
              "      <td>0.10430</td>\n",
              "      <td>0.1809</td>\n",
              "      <td>0.05883</td>\n",
              "      <td>...</td>\n",
              "      <td>16.67</td>\n",
              "      <td>152.20</td>\n",
              "      <td>1575.0</td>\n",
              "      <td>0.1374</td>\n",
              "      <td>0.2050</td>\n",
              "      <td>0.4000</td>\n",
              "      <td>0.1625</td>\n",
              "      <td>0.2364</td>\n",
              "      <td>0.07678</td>\n",
              "      <td>1</td>\n",
              "    </tr>\n",
              "  </tbody>\n",
              "</table>\n",
              "<p>5 rows × 31 columns</p>\n",
              "</div>"
            ],
            "text/plain": [
              "   radius_mean  texture_mean  perimeter_mean  area_mean  smoothness_mean  \\\n",
              "0        17.99         10.38          122.80     1001.0          0.11840   \n",
              "1        20.57         17.77          132.90     1326.0          0.08474   \n",
              "2        19.69         21.25          130.00     1203.0          0.10960   \n",
              "3        11.42         20.38           77.58      386.1          0.14250   \n",
              "4        20.29         14.34          135.10     1297.0          0.10030   \n",
              "\n",
              "   compactness_mean  concavity_mean  concave points_mean  symmetry_mean  \\\n",
              "0           0.27760          0.3001              0.14710         0.2419   \n",
              "1           0.07864          0.0869              0.07017         0.1812   \n",
              "2           0.15990          0.1974              0.12790         0.2069   \n",
              "3           0.28390          0.2414              0.10520         0.2597   \n",
              "4           0.13280          0.1980              0.10430         0.1809   \n",
              "\n",
              "   fractal_dimension_mean  ...  texture_worst  perimeter_worst  area_worst  \\\n",
              "0                 0.07871  ...          17.33           184.60      2019.0   \n",
              "1                 0.05667  ...          23.41           158.80      1956.0   \n",
              "2                 0.05999  ...          25.53           152.50      1709.0   \n",
              "3                 0.09744  ...          26.50            98.87       567.7   \n",
              "4                 0.05883  ...          16.67           152.20      1575.0   \n",
              "\n",
              "   smoothness_worst  compactness_worst  concavity_worst  concave points_worst  \\\n",
              "0            0.1622             0.6656           0.7119                0.2654   \n",
              "1            0.1238             0.1866           0.2416                0.1860   \n",
              "2            0.1444             0.4245           0.4504                0.2430   \n",
              "3            0.2098             0.8663           0.6869                0.2575   \n",
              "4            0.1374             0.2050           0.4000                0.1625   \n",
              "\n",
              "   symmetry_worst  fractal_dimension_worst  판정  \n",
              "0          0.4601                  0.11890   1  \n",
              "1          0.2750                  0.08902   1  \n",
              "2          0.3613                  0.08758   1  \n",
              "3          0.6638                  0.17300   1  \n",
              "4          0.2364                  0.07678   1  \n",
              "\n",
              "[5 rows x 31 columns]"
            ]
          },
          "execution_count": 12,
          "metadata": {},
          "output_type": "execute_result"
        }
      ],
      "source": [
        "total = data.drop(columns= [\"id\", \"diagnosis\", \"Unnamed: 32\"])\n",
        "total.head()"
      ]
    },
    {
      "cell_type": "markdown",
      "metadata": {
        "id": "bchcQ0HBmyFr"
      },
      "source": [
        "#### 4. train/test 분할"
      ]
    },
    {
      "cell_type": "code",
      "execution_count": null,
      "metadata": {
        "id": "Q8v-XqZomyFs"
      },
      "outputs": [],
      "source": [
        "X = total.drop(['판정'], axis = 1) # 칼럼으로\n",
        "y = total[\"판정\"]"
      ]
    },
    {
      "cell_type": "code",
      "execution_count": null,
      "metadata": {
        "id": "bVzf0MIVmyFs"
      },
      "outputs": [],
      "source": [
        "X_train, X_test, y_train, y_test = train_test_split(X, y, test_size=0.2, random_state=42, stratify=y)"
      ]
    },
    {
      "cell_type": "markdown",
      "metadata": {
        "id": "-nzTsScjmyFs"
      },
      "source": [
        "* test_size에는 test set의 비율을 입력\n",
        "* stratify에는 층 구분 변수이름을 입력 -> 각 층별로 나누어서 test_size비율 적용 추출\n",
        "#### \n",
        "* shuffle=True 를 지정해주면 무작위 추출(random sampling)\n",
        "* 체계적 추출(systematic sampling)을 하고 싶다면 shuffle=False를 지정\n",
        "#### \n",
        "#### \n",
        "* random_state 는 재현가능성을 위해서 난수 초기값으로 아무 숫자나 지정"
      ]
    },
    {
      "cell_type": "markdown",
      "metadata": {
        "id": "tGekJ6iHmyFs"
      },
      "source": [
        "#### 5. 모델 구축"
      ]
    },
    {
      "cell_type": "markdown",
      "metadata": {
        "id": "IhHybhoYmyFt"
      },
      "source": [
        "##### 1) voting : 뭐가 제일 낫나"
      ]
    },
    {
      "cell_type": "markdown",
      "metadata": {
        "id": "TFNELiCfmyFt"
      },
      "source": [
        "* 다수의 분류기의 레이블 값 결정 확률을 모두 더하고 평균낸 확률 값이 가장 높은 레이블을 최종 보팅 결과값으로 선정 => 소프트 보팅\n",
        "* 다수의 분류기가 예측한 예측값을 최종 보팅 결과값으로 선정 => 하드 보팅"
      ]
    },
    {
      "cell_type": "code",
      "execution_count": null,
      "metadata": {
        "id": "jHhFFVzumyFt"
      },
      "outputs": [],
      "source": [
        "logistic = LogisticRegression( solver = \"liblinear\",\n",
        "                        penalty = \"l2\",\n",
        "                        C = 0.001,\n",
        "                        random_state = 1)\n",
        "tree = DecisionTreeClassifier(max_depth = None,\n",
        "                        criterion=\"entropy\",\n",
        "                        random_state=1)\n",
        "knn = KNeighborsClassifier(n_neighbors=1,\n",
        "                        p = 2,\n",
        "                        metric = \"minkowski\")\n",
        "\n",
        "voting_estimators = [(\"logistic\", logistic), (\"tree\", tree), (\"knn\", knn)]\n",
        "\n",
        "voting = VotingClassifier(estimators=voting_estimators,\n",
        "                        voting = \"soft\")\n",
        "\n",
        "clf_labels1 = [\"Logistic regression\", \"Decision Tree\", \"KNN\", \"Majority voting\"]\n",
        "\n",
        "all_clf1 = [logistic, tree, knn, voting]"
      ]
    },
    {
      "cell_type": "markdown",
      "metadata": {
        "id": "B6_2MVRomyFt"
      },
      "source": [
        "##### 2) 배깅 : 여러 가지 분류 모델 중 한가지 모델에만 집중 모델 구축"
      ]
    },
    {
      "cell_type": "code",
      "execution_count": null,
      "metadata": {
        "id": "npiixF2PmyFt"
      },
      "outputs": [],
      "source": [
        "tree = DecisionTreeClassifier (max_depth= None,\n",
        "                        criterion=\"entropy\",\n",
        "                        random_state=1)\n",
        "forest = RandomForestClassifier(criterion=\"gini\",\n",
        "                        n_estimators=500,   # 데이터 샘플 몇개\n",
        "                        random_state=1)     \n",
        "clf_labels2 = [\"Decision Tree\", \"Random Forest\"]\n",
        "all_clf2 = [tree, forest]\n"
      ]
    },
    {
      "cell_type": "markdown",
      "metadata": {
        "id": "60K4SUeimyFu"
      },
      "source": [
        "##### 3) 부스팅"
      ]
    },
    {
      "cell_type": "code",
      "execution_count": null,
      "metadata": {
        "id": "csKWkKi5myFu"
      },
      "outputs": [],
      "source": [
        "tree = DecisionTreeClassifier(max_depth=1,\n",
        "                    criterion=\"entropy\",\n",
        "                    random_state=1)\n",
        "adaboost = AdaBoostClassifier (base_estimator=tree,\n",
        "                    n_estimators=500,\n",
        "                    learning_rate = 0.1,\n",
        "                    random_state=1)\n",
        "\n",
        "clf_labels3 = [\"Decision Tree\", \"Ada Boost\"]\n",
        "all_clf3 = [tree, adaboost]"
      ]
    },
    {
      "cell_type": "markdown",
      "metadata": {
        "id": "j53dccjWmyFu"
      },
      "source": [
        "##### 4) AUC"
      ]
    },
    {
      "cell_type": "code",
      "execution_count": null,
      "metadata": {
        "id": "iFQra4dJmyFu",
        "outputId": "8f44b557-c77e-480b-c2a9-f71633c2a083"
      },
      "outputs": [
        {
          "name": "stdout",
          "output_type": "stream",
          "text": [
            "ROC AUC : 0.968 ( +/- 0.029) [Logistic regression]\n",
            "ROC AUC : 0.923 ( +/- 0.046) [Decision Tree]\n",
            "ROC AUC : 0.918 ( +/- 0.038) [KNN]\n",
            "ROC AUC : 0.984 ( +/- 0.015) [Majority voting]\n"
          ]
        }
      ],
      "source": [
        "for clf, label in zip(all_clf1, clf_labels1) :\n",
        "    scores = cross_val_score(estimator=clf,\n",
        "                    X = X_train,\n",
        "                    y = y_train,\n",
        "                    cv = 10,\n",
        "                    scoring =\"roc_auc\")\n",
        "    print(\"ROC AUC : %.3f ( +/- %.3f) [%s]\"\n",
        "            % (scores.mean(), scores.std(), label))"
      ]
    },
    {
      "cell_type": "markdown",
      "metadata": {
        "id": "KosX-dnomyFu"
      },
      "source": [
        "* 투표 기법이 좋다"
      ]
    },
    {
      "cell_type": "code",
      "execution_count": null,
      "metadata": {
        "id": "9gNzBXiLmyFv",
        "outputId": "76ba9963-38bf-4e16-85ce-c78e44ffe59d"
      },
      "outputs": [
        {
          "name": "stdout",
          "output_type": "stream",
          "text": [
            "ROC AUC : 0.923 ( +/- 0.046) [Decision Tree]\n",
            "ROC AUC : 0.988 ( +/- 0.019) [Random Forest]\n"
          ]
        }
      ],
      "source": [
        "for clf, label in zip(all_clf2, clf_labels2) :\n",
        "    scores = cross_val_score(estimator=clf,\n",
        "                    X = X_train,\n",
        "                    y = y_train,\n",
        "                    cv = 10,\n",
        "                    scoring =\"roc_auc\")\n",
        "    print(\"ROC AUC : %.3f ( +/- %.3f) [%s]\"\n",
        "            % (scores.mean(), scores.std(), label))"
      ]
    },
    {
      "cell_type": "markdown",
      "metadata": {
        "id": "-8ya5gbfmyFv"
      },
      "source": [
        "* 랜덤포레스트가 좋다"
      ]
    },
    {
      "cell_type": "code",
      "execution_count": null,
      "metadata": {
        "id": "Fc0jlUOjmyFv",
        "outputId": "2afa928b-623c-4469-f77b-edd7e2bb6584"
      },
      "outputs": [
        {
          "name": "stdout",
          "output_type": "stream",
          "text": [
            "ROC AUC : 0.899 ( +/- 0.041) [Decision Tree]\n",
            "ROC AUC : 0.993 ( +/- 0.013) [Ada Boost]\n"
          ]
        }
      ],
      "source": [
        "for clf, label in zip(all_clf3, clf_labels3) :\n",
        "    scores = cross_val_score(estimator=clf,\n",
        "                    X = X_train,\n",
        "                    y = y_train,\n",
        "                    cv = 10,\n",
        "                    scoring =\"roc_auc\")\n",
        "    print(\"ROC AUC : %.3f ( +/- %.3f) [%s]\"\n",
        "            % (scores.mean(), scores.std(), label))"
      ]
    },
    {
      "cell_type": "markdown",
      "metadata": {
        "id": "8oK3fLmOmyFv"
      },
      "source": [
        "* AdaBoost 가 좋다"
      ]
    },
    {
      "cell_type": "markdown",
      "metadata": {
        "id": "21-E-2S1myFw"
      },
      "source": [
        "#### 6. ROC 곡선 그리기"
      ]
    },
    {
      "cell_type": "code",
      "execution_count": null,
      "metadata": {
        "id": "116lS3dSmyFw",
        "outputId": "7660b098-6e7e-407c-bd87-cf89d26f45c1"
      },
      "outputs": [
        {
          "data": {
            "image/png": "[encoded data removed]",
            "text/plain": [
              "<Figure size 432x288 with 1 Axes>"
            ]
          },
          "metadata": {
            "needs_background": "light"
          },
          "output_type": "display_data"
        }
      ],
      "source": [
        "colors = [\"orange\", \"pink\",\"blue\", \"green\"]\n",
        "linestyles = [':', \"--\", \"-.\", \"-\"]\n",
        "\n",
        "for clf, label, clr, ls in zip(all_clf1, clf_labels1, colors, linestyles) :\n",
        "    clf.fit(X_train, y_train)\n",
        "    y_pred = clf.predict_proba(X_test)[:,1]\n",
        "    fpr, tpr, threshold = roc_curve(y_true = y_test,\n",
        "                                    y_score=y_pred)\n",
        "    roc_auc = auc(x=fpr, y=tpr)\n",
        "\n",
        "    plt.plot(fpr, tpr, color = clr, linestyle = ls,\n",
        "                label =\"%s (auc = %.3f) \" %(label, roc_auc))\n",
        "\n",
        "plt.legend(loc = \"lower right\")\n",
        "plt.plot([0,1], [0,1], linestyle = \"--\", color = \"gray\", linewidth = 2)\n",
        "\n",
        "plt.xlim([-0.1, 1.1])\n",
        "plt.ylim([-0.1, 1.1])\n",
        "\n",
        "plt.grid(alpha = 0.5)\n",
        "\n",
        "plt.xlabel(\"False positive rate (FPR)\")\n",
        "plt.ylabel(\"True positive rate (TPR)\")\n",
        "\n",
        "plt.title(\"Voting\")\n",
        "plt.show()"
      ]
    },
    {
      "cell_type": "code",
      "execution_count": null,
      "metadata": {
        "id": "_wxmwSo0myFw",
        "outputId": "3caea3e5-58c6-4957-8ad5-edf5ae3f3b30"
      },
      "outputs": [
        {
          "data": {
            "image/png": "[encoded data removed]",
            "text/plain": [
              "<Figure size 432x288 with 1 Axes>"
            ]
          },
          "metadata": {
            "needs_background": "light"
          },
          "output_type": "display_data"
        }
      ],
      "source": [
        "colors = [\"orange\", \"pink\",\"blue\", \"green\"]\n",
        "linestyles = [':', \"--\", \"-.\", \"-\"]\n",
        "\n",
        "for clf, label, clr, ls in zip(all_clf2, clf_labels2, colors, linestyles) :\n",
        "    clf.fit(X_train, y_train)\n",
        "    y_pred = clf.predict_proba(X_test)[:,1]\n",
        "    fpr, tpr, threshold = roc_curve(y_true = y_test,\n",
        "                                    y_score=y_pred)\n",
        "    roc_auc = auc(x=fpr, y=tpr)\n",
        "\n",
        "    plt.plot(fpr, tpr, color = clr, linestyle = ls,\n",
        "                label =\"%s (auc = %.3f) \" %(label, roc_auc))\n",
        "\n",
        "plt.legend(loc = \"lower right\")\n",
        "plt.plot([0,1], [0,1], linestyle = \"--\", color = \"gray\", linewidth = 2)\n",
        "\n",
        "plt.xlim([-0.1, 1.1])\n",
        "plt.ylim([-0.1, 1.1])\n",
        "\n",
        "plt.grid(alpha = 0.5)\n",
        "\n",
        "plt.xlabel(\"False positive rate (FPR)\")\n",
        "plt.ylabel(\"True positive rate (TPR)\")\n",
        "\n",
        "plt.title(\"RandomForest\")\n",
        "plt.show()"
      ]
    },
    {
      "cell_type": "code",
      "execution_count": null,
      "metadata": {
        "id": "d5ml3u9DmyFw",
        "outputId": "c8d6e298-a35f-49e3-912d-e39def5df274"
      },
      "outputs": [
        {
          "data": {
            "image/png": "[encoded data removed]",
            "text/plain": [
              "<Figure size 432x288 with 1 Axes>"
            ]
          },
          "metadata": {
            "needs_background": "light"
          },
          "output_type": "display_data"
        }
      ],
      "source": [
        "colors = [\"orange\", \"pink\",\"blue\", \"green\"]\n",
        "linestyles = [':', \"--\", \"-.\", \"-\"]\n",
        "\n",
        "for clf, label, clr, ls in zip(all_clf3, clf_labels3, colors, linestyles) :\n",
        "    clf.fit(X_train, y_train)\n",
        "    y_pred = clf.predict_proba(X_test)[:,1]\n",
        "    fpr, tpr, threshold = roc_curve(y_true = y_test,\n",
        "                                    y_score=y_pred)\n",
        "    roc_auc = auc(x=fpr, y=tpr)\n",
        "\n",
        "    plt.plot(fpr, tpr, color = clr, linestyle = ls,\n",
        "                label =\"%s (auc = %.3f) \" %(label, roc_auc))\n",
        "\n",
        "plt.legend(loc = \"lower right\")\n",
        "plt.plot([0,1], [0,1], linestyle = \"--\", color = \"gray\", linewidth = 2)\n",
        "\n",
        "plt.xlim([-0.1, 1.1])\n",
        "plt.ylim([-0.1, 1.1])\n",
        "\n",
        "plt.grid(alpha = 0.5)\n",
        "\n",
        "plt.xlabel(\"False positive rate (FPR)\")\n",
        "plt.ylabel(\"True positive rate (TPR)\")\n",
        "\n",
        "plt.title(\"AdaBoost\")\n",
        "plt.show()"
      ]
    },
    {
      "cell_type": "markdown",
      "metadata": {
        "id": "sA1WREtSmyFx"
      },
      "source": [
        "#### 7. 정오 분류표"
      ]
    },
    {
      "cell_type": "code",
      "execution_count": null,
      "metadata": {
        "id": "57scdnFlmyFx",
        "outputId": "fb8f896f-ed09-43a0-ccca-c46024e4aa25"
      },
      "outputs": [
        {
          "name": "stdout",
          "output_type": "stream",
          "text": [
            "RandomForest\n",
            "잘못 분류된 샘플 개수 : 3\n",
            "정확도 : 0.974\n",
            "정밀도 : 1.000\n",
            "재현율 : 0.929\n",
            "F1 : 0.963\n"
          ]
        }
      ],
      "source": [
        "forest.fit(X_train, y_train)\n",
        "\n",
        "y_pred = forest.predict(X_test)\n",
        "\n",
        "print(\"RandomForest\")\n",
        "print(\"잘못 분류된 샘플 개수 : %d\" %(y_test != y_pred).sum())\n",
        "print(\"정확도 : %.3f\" % accuracy_score(y_test, y_pred))\n",
        "print(\"정밀도 : %.3f\" % precision_score(y_true = y_test, y_pred = y_pred))\n",
        "print(\"재현율 : %.3f\" % recall_score(y_true=y_test, y_pred=y_pred))\n",
        "print(\"F1 : %.3f\" % f1_score(y_true=y_test, y_pred=y_pred))"
      ]
    },
    {
      "cell_type": "code",
      "execution_count": null,
      "metadata": {
        "id": "WuwkZ29XmyFx",
        "outputId": "e6469ad4-3ed2-4304-906d-0760aef751ba"
      },
      "outputs": [
        {
          "name": "stdout",
          "output_type": "stream",
          "text": [
            "AdaBoost\n",
            "잘못 분류된 샘플 개수 : 3\n",
            "정확도 : 0.974\n",
            "정밀도 : 1.000\n",
            "재현율 : 0.929\n",
            "F1 : 0.963\n"
          ]
        }
      ],
      "source": [
        "adaboost.fit(X_train, y_train)\n",
        "\n",
        "y_pred = forest.predict(X_test)\n",
        "\n",
        "print(\"AdaBoost\")\n",
        "print(\"잘못 분류된 샘플 개수 : %d\" %(y_test != y_pred).sum())\n",
        "print(\"정확도 : %.3f\" % accuracy_score(y_test, y_pred))\n",
        "print(\"정밀도 : %.3f\" % precision_score(y_true = y_test, y_pred = y_pred))\n",
        "print(\"재현율 : %.3f\" % recall_score(y_true=y_test, y_pred=y_pred))\n",
        "print(\"F1 : %.3f\" % f1_score(y_true=y_test, y_pred=y_pred))"
      ]
    },
    {
      "cell_type": "markdown",
      "metadata": {
        "id": "NPX7REo_myFx"
      },
      "source": [
        "#### 8. 최적화"
      ]
    },
    {
      "cell_type": "code",
      "execution_count": null,
      "metadata": {
        "id": "Kx3oWMxWmyFx",
        "outputId": "4e6ab3c7-ebf6-4437-e302-b41c8cd4200f"
      },
      "outputs": [
        {
          "data": {
            "text/plain": [
              "{'estimators': [('logistic',\n",
              "   LogisticRegression(C=0.001, random_state=1, solver='liblinear')),\n",
              "  ('tree', DecisionTreeClassifier(criterion='entropy', random_state=1)),\n",
              "  ('knn', KNeighborsClassifier(n_neighbors=1))],\n",
              " 'flatten_transform': True,\n",
              " 'n_jobs': None,\n",
              " 'verbose': False,\n",
              " 'voting': 'soft',\n",
              " 'weights': None,\n",
              " 'logistic': LogisticRegression(C=0.001, random_state=1, solver='liblinear'),\n",
              " 'tree': DecisionTreeClassifier(criterion='entropy', random_state=1),\n",
              " 'knn': KNeighborsClassifier(n_neighbors=1),\n",
              " 'logistic__C': 0.001,\n",
              " 'logistic__class_weight': None,\n",
              " 'logistic__dual': False,\n",
              " 'logistic__fit_intercept': True,\n",
              " 'logistic__intercept_scaling': 1,\n",
              " 'logistic__l1_ratio': None,\n",
              " 'logistic__max_iter': 100,\n",
              " 'logistic__multi_class': 'auto',\n",
              " 'logistic__n_jobs': None,\n",
              " 'logistic__penalty': 'l2',\n",
              " 'logistic__random_state': 1,\n",
              " 'logistic__solver': 'liblinear',\n",
              " 'logistic__tol': 0.0001,\n",
              " 'logistic__verbose': 0,\n",
              " 'logistic__warm_start': False,\n",
              " 'tree__ccp_alpha': 0.0,\n",
              " 'tree__class_weight': None,\n",
              " 'tree__criterion': 'entropy',\n",
              " 'tree__max_depth': None,\n",
              " 'tree__max_features': None,\n",
              " 'tree__max_leaf_nodes': None,\n",
              " 'tree__min_impurity_decrease': 0.0,\n",
              " 'tree__min_impurity_split': None,\n",
              " 'tree__min_samples_leaf': 1,\n",
              " 'tree__min_samples_split': 2,\n",
              " 'tree__min_weight_fraction_leaf': 0.0,\n",
              " 'tree__random_state': 1,\n",
              " 'tree__splitter': 'best',\n",
              " 'knn__algorithm': 'auto',\n",
              " 'knn__leaf_size': 30,\n",
              " 'knn__metric': 'minkowski',\n",
              " 'knn__metric_params': None,\n",
              " 'knn__n_jobs': None,\n",
              " 'knn__n_neighbors': 1,\n",
              " 'knn__p': 2,\n",
              " 'knn__weights': 'uniform'}"
            ]
          },
          "execution_count": 52,
          "metadata": {},
          "output_type": "execute_result"
        }
      ],
      "source": [
        "voting.get_params()"
      ]
    },
    {
      "cell_type": "code",
      "execution_count": null,
      "metadata": {
        "id": "VWB0JhAFmyFx",
        "outputId": "f9bff25d-6f71-4b11-891b-9af6df148e37"
      },
      "outputs": [
        {
          "name": "stdout",
          "output_type": "stream",
          "text": [
            "0.973 +/- 0.013 {'knn__n_neighbors': 1, 'logistic__C': 0.001, 'tree__max_depth': 1}\n",
            "0.980 +/- 0.010 {'knn__n_neighbors': 1, 'logistic__C': 0.001, 'tree__max_depth': 2}\n",
            "0.984 +/- 0.007 {'knn__n_neighbors': 1, 'logistic__C': 0.001, 'tree__max_depth': 3}\n",
            "0.987 +/- 0.006 {'knn__n_neighbors': 1, 'logistic__C': 0.001, 'tree__max_depth': 4}\n",
            "0.986 +/- 0.006 {'knn__n_neighbors': 1, 'logistic__C': 0.001, 'tree__max_depth': 5}\n",
            "0.982 +/- 0.007 {'knn__n_neighbors': 1, 'logistic__C': 0.1, 'tree__max_depth': 1}\n",
            "0.986 +/- 0.007 {'knn__n_neighbors': 1, 'logistic__C': 0.1, 'tree__max_depth': 2}\n",
            "0.988 +/- 0.005 {'knn__n_neighbors': 1, 'logistic__C': 0.1, 'tree__max_depth': 3}\n",
            "0.989 +/- 0.005 {'knn__n_neighbors': 1, 'logistic__C': 0.1, 'tree__max_depth': 4}\n",
            "0.988 +/- 0.005 {'knn__n_neighbors': 1, 'logistic__C': 0.1, 'tree__max_depth': 5}\n",
            "0.985 +/- 0.008 {'knn__n_neighbors': 1, 'logistic__C': 100.0, 'tree__max_depth': 1}\n",
            "0.985 +/- 0.008 {'knn__n_neighbors': 1, 'logistic__C': 100.0, 'tree__max_depth': 2}\n",
            "0.988 +/- 0.007 {'knn__n_neighbors': 1, 'logistic__C': 100.0, 'tree__max_depth': 3}\n",
            "0.988 +/- 0.007 {'knn__n_neighbors': 1, 'logistic__C': 100.0, 'tree__max_depth': 4}\n",
            "0.988 +/- 0.007 {'knn__n_neighbors': 1, 'logistic__C': 100.0, 'tree__max_depth': 5}\n",
            "0.972 +/- 0.013 {'knn__n_neighbors': 2, 'logistic__C': 0.001, 'tree__max_depth': 1}\n",
            "0.980 +/- 0.009 {'knn__n_neighbors': 2, 'logistic__C': 0.001, 'tree__max_depth': 2}\n",
            "0.985 +/- 0.007 {'knn__n_neighbors': 2, 'logistic__C': 0.001, 'tree__max_depth': 3}\n",
            "0.987 +/- 0.006 {'knn__n_neighbors': 2, 'logistic__C': 0.001, 'tree__max_depth': 4}\n",
            "0.987 +/- 0.006 {'knn__n_neighbors': 2, 'logistic__C': 0.001, 'tree__max_depth': 5}\n",
            "0.981 +/- 0.007 {'knn__n_neighbors': 2, 'logistic__C': 0.1, 'tree__max_depth': 1}\n",
            "0.986 +/- 0.007 {'knn__n_neighbors': 2, 'logistic__C': 0.1, 'tree__max_depth': 2}\n",
            "0.988 +/- 0.006 {'knn__n_neighbors': 2, 'logistic__C': 0.1, 'tree__max_depth': 3}\n",
            "0.989 +/- 0.005 {'knn__n_neighbors': 2, 'logistic__C': 0.1, 'tree__max_depth': 4}\n",
            "0.989 +/- 0.005 {'knn__n_neighbors': 2, 'logistic__C': 0.1, 'tree__max_depth': 5}\n",
            "0.985 +/- 0.008 {'knn__n_neighbors': 2, 'logistic__C': 100.0, 'tree__max_depth': 1}\n",
            "0.987 +/- 0.009 {'knn__n_neighbors': 2, 'logistic__C': 100.0, 'tree__max_depth': 2}\n",
            "0.988 +/- 0.008 {'knn__n_neighbors': 2, 'logistic__C': 100.0, 'tree__max_depth': 3}\n",
            "0.988 +/- 0.008 {'knn__n_neighbors': 2, 'logistic__C': 100.0, 'tree__max_depth': 4}\n",
            "0.989 +/- 0.008 {'knn__n_neighbors': 2, 'logistic__C': 100.0, 'tree__max_depth': 5}\n",
            "0.973 +/- 0.013 {'knn__n_neighbors': 3, 'logistic__C': 0.001, 'tree__max_depth': 1}\n",
            "0.981 +/- 0.009 {'knn__n_neighbors': 3, 'logistic__C': 0.001, 'tree__max_depth': 2}\n",
            "0.984 +/- 0.007 {'knn__n_neighbors': 3, 'logistic__C': 0.001, 'tree__max_depth': 3}\n",
            "0.987 +/- 0.006 {'knn__n_neighbors': 3, 'logistic__C': 0.001, 'tree__max_depth': 4}\n",
            "0.987 +/- 0.006 {'knn__n_neighbors': 3, 'logistic__C': 0.001, 'tree__max_depth': 5}\n",
            "0.981 +/- 0.007 {'knn__n_neighbors': 3, 'logistic__C': 0.1, 'tree__max_depth': 1}\n",
            "0.986 +/- 0.007 {'knn__n_neighbors': 3, 'logistic__C': 0.1, 'tree__max_depth': 2}\n",
            "0.987 +/- 0.005 {'knn__n_neighbors': 3, 'logistic__C': 0.1, 'tree__max_depth': 3}\n",
            "0.989 +/- 0.005 {'knn__n_neighbors': 3, 'logistic__C': 0.1, 'tree__max_depth': 4}\n",
            "0.989 +/- 0.005 {'knn__n_neighbors': 3, 'logistic__C': 0.1, 'tree__max_depth': 5}\n",
            "0.985 +/- 0.007 {'knn__n_neighbors': 3, 'logistic__C': 100.0, 'tree__max_depth': 1}\n",
            "0.987 +/- 0.008 {'knn__n_neighbors': 3, 'logistic__C': 100.0, 'tree__max_depth': 2}\n",
            "0.988 +/- 0.008 {'knn__n_neighbors': 3, 'logistic__C': 100.0, 'tree__max_depth': 3}\n",
            "0.989 +/- 0.007 {'knn__n_neighbors': 3, 'logistic__C': 100.0, 'tree__max_depth': 4}\n",
            "0.989 +/- 0.007 {'knn__n_neighbors': 3, 'logistic__C': 100.0, 'tree__max_depth': 5}\n",
            "0.972 +/- 0.013 {'knn__n_neighbors': 4, 'logistic__C': 0.001, 'tree__max_depth': 1}\n",
            "0.981 +/- 0.010 {'knn__n_neighbors': 4, 'logistic__C': 0.001, 'tree__max_depth': 2}\n",
            "0.985 +/- 0.007 {'knn__n_neighbors': 4, 'logistic__C': 0.001, 'tree__max_depth': 3}\n",
            "0.988 +/- 0.006 {'knn__n_neighbors': 4, 'logistic__C': 0.001, 'tree__max_depth': 4}\n",
            "0.989 +/- 0.005 {'knn__n_neighbors': 4, 'logistic__C': 0.001, 'tree__max_depth': 5}\n",
            "0.982 +/- 0.007 {'knn__n_neighbors': 4, 'logistic__C': 0.1, 'tree__max_depth': 1}\n",
            "0.986 +/- 0.007 {'knn__n_neighbors': 4, 'logistic__C': 0.1, 'tree__max_depth': 2}\n",
            "0.988 +/- 0.005 {'knn__n_neighbors': 4, 'logistic__C': 0.1, 'tree__max_depth': 3}\n",
            "0.990 +/- 0.005 {'knn__n_neighbors': 4, 'logistic__C': 0.1, 'tree__max_depth': 4}\n",
            "0.990 +/- 0.004 {'knn__n_neighbors': 4, 'logistic__C': 0.1, 'tree__max_depth': 5}\n",
            "0.985 +/- 0.007 {'knn__n_neighbors': 4, 'logistic__C': 100.0, 'tree__max_depth': 1}\n",
            "0.987 +/- 0.008 {'knn__n_neighbors': 4, 'logistic__C': 100.0, 'tree__max_depth': 2}\n",
            "0.988 +/- 0.008 {'knn__n_neighbors': 4, 'logistic__C': 100.0, 'tree__max_depth': 3}\n",
            "0.989 +/- 0.007 {'knn__n_neighbors': 4, 'logistic__C': 100.0, 'tree__max_depth': 4}\n",
            "0.989 +/- 0.007 {'knn__n_neighbors': 4, 'logistic__C': 100.0, 'tree__max_depth': 5}\n",
            "0.974 +/- 0.011 {'knn__n_neighbors': 5, 'logistic__C': 0.001, 'tree__max_depth': 1}\n",
            "0.983 +/- 0.007 {'knn__n_neighbors': 5, 'logistic__C': 0.001, 'tree__max_depth': 2}\n",
            "0.985 +/- 0.007 {'knn__n_neighbors': 5, 'logistic__C': 0.001, 'tree__max_depth': 3}\n",
            "0.988 +/- 0.005 {'knn__n_neighbors': 5, 'logistic__C': 0.001, 'tree__max_depth': 4}\n",
            "0.988 +/- 0.005 {'knn__n_neighbors': 5, 'logistic__C': 0.001, 'tree__max_depth': 5}\n",
            "0.982 +/- 0.005 {'knn__n_neighbors': 5, 'logistic__C': 0.1, 'tree__max_depth': 1}\n",
            "0.987 +/- 0.006 {'knn__n_neighbors': 5, 'logistic__C': 0.1, 'tree__max_depth': 2}\n",
            "0.988 +/- 0.005 {'knn__n_neighbors': 5, 'logistic__C': 0.1, 'tree__max_depth': 3}\n",
            "0.990 +/- 0.005 {'knn__n_neighbors': 5, 'logistic__C': 0.1, 'tree__max_depth': 4}\n",
            "0.990 +/- 0.004 {'knn__n_neighbors': 5, 'logistic__C': 0.1, 'tree__max_depth': 5}\n",
            "0.987 +/- 0.006 {'knn__n_neighbors': 5, 'logistic__C': 100.0, 'tree__max_depth': 1}\n",
            "0.988 +/- 0.007 {'knn__n_neighbors': 5, 'logistic__C': 100.0, 'tree__max_depth': 2}\n",
            "0.989 +/- 0.007 {'knn__n_neighbors': 5, 'logistic__C': 100.0, 'tree__max_depth': 3}\n",
            "0.990 +/- 0.007 {'knn__n_neighbors': 5, 'logistic__C': 100.0, 'tree__max_depth': 4}\n",
            "0.990 +/- 0.007 {'knn__n_neighbors': 5, 'logistic__C': 100.0, 'tree__max_depth': 5}\n"
          ]
        }
      ],
      "source": [
        "params = {\"logistic__C\" : [0.001, 0.1, 100.0],\n",
        "        \"tree__max_depth\" : [1, 2, 3, 4, 5],\n",
        "        \"knn__n_neighbors\" : [1, 2, 3, 4, 5]}\n",
        "\n",
        "grid = GridSearchCV(estimator=voting,\n",
        "                    param_grid=params,\n",
        "                    cv = 10,\n",
        "                    scoring = \"roc_auc\",\n",
        "                    )\n",
        "\n",
        "grid.fit(X_train, y_train)\n",
        "\n",
        "for i, _ in enumerate(grid.cv_results_[\"mean_test_score\"]) :\n",
        "    print(\"%.3f +/- %.3f %r\"\n",
        "            %(grid.cv_results_[\"mean_test_score\"][i],\n",
        "            grid.cv_results_[\"std_test_score\"][i] / 2.0,\n",
        "            grid.cv_results_[\"params\"][i]))"
      ]
    },
    {
      "cell_type": "code",
      "execution_count": null,
      "metadata": {
        "id": "3RYDTpgdmyFy",
        "outputId": "f4604308-72d0-4fc3-9baf-0dd10dbb9b1a"
      },
      "outputs": [
        {
          "name": "stdout",
          "output_type": "stream",
          "text": [
            "최적의 파라미터 : {'knn__n_neighbors': 5, 'logistic__C': 100.0, 'tree__max_depth': 5}\n",
            "ACU : 0.990\n"
          ]
        }
      ],
      "source": [
        "print(\"최적의 파라미터 : %s\" %grid.best_params_)\n",
        "print(\"ACU : %.3f\" % grid.best_score_)"
      ]
    },
    {
      "cell_type": "markdown",
      "metadata": {
        "id": "9HhhENkCmyFy"
      },
      "source": [
        "#### 9. 특성 중요도"
      ]
    },
    {
      "cell_type": "markdown",
      "metadata": {
        "id": "hJjRWBi9myFy"
      },
      "source": [
        "* 랜덤 포레스트는 별도의 파라미터 튜닝 필요 없음"
      ]
    },
    {
      "cell_type": "code",
      "execution_count": null,
      "metadata": {
        "id": "I409KyiXmyFy",
        "outputId": "5fa65317-abf1-46b3-a7ce-0fd91f735330"
      },
      "outputs": [
        {
          "name": "stdout",
          "output_type": "stream",
          "text": [
            " 1) perimeter_worst                0.124820\n",
            " 2) concave points_worst           0.121855\n",
            " 3) radius_worst                   0.121268\n",
            " 4) area_worst                     0.107851\n",
            " 5) concave points_mean            0.103403\n",
            " 6) area_mean                      0.050306\n",
            " 7) perimeter_mean                 0.050253\n",
            " 8) radius_mean                    0.045540\n",
            " 9) concavity_mean                 0.044494\n",
            "10) concavity_worst                0.033178\n",
            "11) area_se                        0.028181\n",
            "12) texture_worst                  0.017081\n",
            "13) compactness_worst              0.015808\n",
            "14) symmetry_worst                 0.015513\n",
            "15) texture_mean                   0.014926\n",
            "16) perimeter_se                   0.013175\n",
            "17) smoothness_worst               0.012556\n",
            "18) radius_se                      0.011787\n",
            "19) compactness_mean               0.011775\n",
            "20) fractal_dimension_worst        0.007200\n",
            "21) concavity_se                   0.006777\n",
            "22) smoothness_mean                0.006733\n",
            "23) fractal_dimension_se           0.006680\n",
            "24) texture_se                     0.004943\n",
            "25) compactness_se                 0.004636\n",
            "26) symmetry_mean                  0.004437\n",
            "27) symmetry_se                    0.004046\n",
            "28) smoothness_se                  0.003904\n",
            "29) concave points_se              0.003688\n",
            "30) fractal_dimension_mean         0.003187\n"
          ]
        },
        {
          "data": {
            "image/png": "[encoded data removed]",
            "text/plain": [
              "<Figure size 432x288 with 1 Axes>"
            ]
          },
          "metadata": {
            "needs_background": "light"
          },
          "output_type": "display_data"
        }
      ],
      "source": [
        "feat_labels = X.columns\n",
        "importances = forest.feature_importances_\n",
        "indices = np.argsort(importances)[::-1]\n",
        "\n",
        "for i in range(X_train.shape[1]) :\n",
        "    print(\"%2d) %-*s %f\" % (i + 1, 30, feat_labels[indices[i]],\n",
        "                                        importances[indices[i]]))\n",
        "\n",
        "plt.title(\"Feature Importances\")\n",
        "plt.bar(range(X_train.shape[1]), importances[indices], align=\"center\")\n",
        "\n",
        "plt.xticks(range(X_train.shape[1]), feat_labels[indices], rotation = 90)\n",
        "\n",
        "plt.xlim([-1, X_train.shape[1]])\n",
        "plt.tight_layout()\n",
        "plt.show()"
      ]
    }
  ],
  "metadata": {
    "interpreter": {
      "hash": "8f85ca756a163e54fb4c849d9e651872ca65a5466c33775a36654950b03405fa"
    },
    "kernelspec": {
      "display_name": "Python 3.9.7 64-bit ('gani': conda)",
      "language": "python",
      "name": "python3"
    },
    "language_info": {
      "codemirror_mode": {
        "name": "ipython",
        "version": 3
      },
      "file_extension": ".py",
      "mimetype": "text/x-python",
      "name": "python",
      "nbconvert_exporter": "python",
      "pygments_lexer": "ipython3",
      "version": "3.9.7"
    },
    "orig_nbformat": 4,
    "colab": {
      "name": "BreastCancer.ipynb",
      "provenance": [],
      "include_colab_link": true
    }
  },
  "nbformat": 4,
  "nbformat_minor": 0
}