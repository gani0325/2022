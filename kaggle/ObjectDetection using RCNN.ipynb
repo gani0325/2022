{
 "cells": [
  {
   "cell_type": "markdown",
   "id": "6ece6c8d",
   "metadata": {},
   "source": [
    "## [과제5] R-CNN으로 Object Detection 해보기"
   ]
  },
  {
   "cell_type": "markdown",
   "id": "ef9071b5",
   "metadata": {},
   "source": [
    "#### 1. libraries"
   ]
  },
  {
   "cell_type": "code",
   "execution_count": 4,
   "id": "5c575c58",
   "metadata": {},
   "outputs": [
    {
     "name": "stdout",
     "output_type": "stream",
     "text": [
      "Requirement already satisfied: pip in c:\\users\\82106\\anaconda3\\envs\\gani\\lib\\site-packages (22.0.3)"
     ]
    },
    {
     "name": "stderr",
     "output_type": "stream",
     "text": [
      "WARNING: Ignoring invalid distribution -rotlipy (c:\\users\\82106\\anaconda3\\envs\\gani\\lib\\site-packages)\n",
      "WARNING: Ignoring invalid distribution -rotlipy (c:\\users\\82106\\anaconda3\\envs\\gani\\lib\\site-packages)\n",
      "WARNING: Ignoring invalid distribution -rotlipy (c:\\users\\82106\\anaconda3\\envs\\gani\\lib\\site-packages)\n",
      "WARNING: Error parsing requirements for absl-py: [Errno 2] No such file or directory: 'c:\\\\users\\\\82106\\\\anaconda3\\\\envs\\\\gani\\\\lib\\\\site-packages\\\\absl_py-0.14.0.dist-info\\\\METADATA'\n",
      "    WARNING: Ignoring invalid distribution -rotlipy (c:\\users\\82106\\anaconda3\\envs\\gani\\lib\\site-packages)\n",
      "ERROR: Could not install packages due to an OSError: [WinError 5] 액세스가 거부되었습니다: 'C:\\\\Users\\\\82106\\\\AppData\\\\Local\\\\Temp\\\\pip-uninstall-kprk4qsp\\\\pip.exe'\n",
      "Consider using the `--user` option or check the permissions.\n",
      "\n",
      "WARNING: Ignoring invalid distribution -rotlipy (c:\\users\\82106\\anaconda3\\envs\\gani\\lib\\site-packages)\n",
      "WARNING: Ignoring invalid distribution -rotlipy (c:\\users\\82106\\anaconda3\\envs\\gani\\lib\\site-packages)\n",
      "WARNING: Ignoring invalid distribution -rotlipy (c:\\users\\82106\\anaconda3\\envs\\gani\\lib\\site-packages)\n"
     ]
    },
    {
     "name": "stdout",
     "output_type": "stream",
     "text": [
      "\n",
      "Collecting pip\n",
      "  Downloading pip-22.0.4-py3-none-any.whl (2.1 MB)\n",
      "     ---------------------------------------- 2.1/2.1 MB 2.9 MB/s eta 0:00:00\n",
      "Installing collected packages: pip\n",
      "  Attempting uninstall: pip\n",
      "    Found existing installation: pip 22.0.3\n",
      "    Uninstalling pip-22.0.3:\n",
      "      Successfully uninstalled pip-22.0.3\n"
     ]
    }
   ],
   "source": [
    "!pip install --upgrade pip"
   ]
  },
  {
   "cell_type": "code",
   "execution_count": 5,
   "id": "33bebc9c",
   "metadata": {},
   "outputs": [
    {
     "name": "stderr",
     "output_type": "stream",
     "text": [
      "WARNING: Ignoring invalid distribution -rotlipy (c:\\users\\82106\\anaconda3\\envs\\gani\\lib\\site-packages)\n",
      "WARNING: Ignoring invalid distribution -rotlipy (c:\\users\\82106\\anaconda3\\envs\\gani\\lib\\site-packages)\n",
      "WARNING: Ignoring invalid distribution -rotlipy (c:\\users\\82106\\anaconda3\\envs\\gani\\lib\\site-packages)\n",
      "WARNING: Error parsing requirements for absl-py: [Errno 2] No such file or directory: 'c:\\\\users\\\\82106\\\\anaconda3\\\\envs\\\\gani\\\\lib\\\\site-packages\\\\absl_py-0.14.0.dist-info\\\\METADATA'\n",
      "WARNING: Ignoring invalid distribution -rotlipy (c:\\users\\82106\\anaconda3\\envs\\gani\\lib\\site-packages)\n",
      "WARNING: Ignoring invalid distribution -rotlipy (c:\\users\\82106\\anaconda3\\envs\\gani\\lib\\site-packages)\n"
     ]
    }
   ],
   "source": [
    "!pip install -q --upgrade selectivesearch torch_snippets"
   ]
  },
  {
   "cell_type": "code",
   "execution_count": 7,
   "id": "aaf5cca4",
   "metadata": {},
   "outputs": [
    {
     "ename": "ModuleNotFoundError",
     "evalue": "No module named 'torchvision'",
     "output_type": "error",
     "traceback": [
      "\u001b[1;31m---------------------------------------------------------------------------\u001b[0m",
      "\u001b[1;31mModuleNotFoundError\u001b[0m                       Traceback (most recent call last)",
      "\u001b[1;32m~\\AppData\\Local\\Temp/ipykernel_12396/1662739792.py\u001b[0m in \u001b[0;36m<module>\u001b[1;34m\u001b[0m\n\u001b[0;32m      1\u001b[0m \u001b[1;32mfrom\u001b[0m \u001b[0mtorch_snippets\u001b[0m \u001b[1;32mimport\u001b[0m \u001b[1;33m*\u001b[0m\u001b[1;33m\u001b[0m\u001b[1;33m\u001b[0m\u001b[0m\n\u001b[0;32m      2\u001b[0m \u001b[1;32mimport\u001b[0m \u001b[0mselectivesearch\u001b[0m\u001b[1;33m\u001b[0m\u001b[1;33m\u001b[0m\u001b[0m\n\u001b[1;32m----> 3\u001b[1;33m \u001b[1;32mfrom\u001b[0m \u001b[0mtorchvision\u001b[0m \u001b[1;32mimport\u001b[0m \u001b[0mtransforms\u001b[0m\u001b[1;33m,\u001b[0m \u001b[0mmodels\u001b[0m\u001b[1;33m,\u001b[0m \u001b[0mdatasets\u001b[0m\u001b[1;33m\u001b[0m\u001b[1;33m\u001b[0m\u001b[0m\n\u001b[0m\u001b[0;32m      4\u001b[0m \u001b[1;32mfrom\u001b[0m \u001b[0mtorch_snippets\u001b[0m \u001b[1;32mimport\u001b[0m \u001b[0mReport\u001b[0m\u001b[1;33m\u001b[0m\u001b[1;33m\u001b[0m\u001b[0m\n\u001b[0;32m      5\u001b[0m \u001b[1;32mfrom\u001b[0m \u001b[0mtorchvision\u001b[0m\u001b[1;33m.\u001b[0m\u001b[0mops\u001b[0m \u001b[1;32mimport\u001b[0m \u001b[0mnms\u001b[0m\u001b[1;33m\u001b[0m\u001b[1;33m\u001b[0m\u001b[0m\n",
      "\u001b[1;31mModuleNotFoundError\u001b[0m: No module named 'torchvision'"
     ]
    }
   ],
   "source": [
    "from torch_snippets import *\n",
    "import selectivesearch\n",
    "from torchvision import transforms, models, datasets\n",
    "from torch_snippets import Report\n",
    "from torchvision.ops import nms\n",
    "device = 'cuda' if torch.cuda.is_available() else 'cpu'\n",
    "import numpy as np"
   ]
  },
  {
   "cell_type": "code",
   "execution_count": null,
   "id": "d5a9c954",
   "metadata": {},
   "outputs": [],
   "source": [
    "IMAGE_ROOT = './data/df.csv'\n",
    "DF_RAW = pd.read_csv('../input/open-images-bus-trucks/df.csv')\n",
    "print(DF_RAW.head())"
   ]
  },
  {
   "cell_type": "code",
   "execution_count": null,
   "id": "dd8d2a30",
   "metadata": {},
   "outputs": [],
   "source": []
  },
  {
   "cell_type": "code",
   "execution_count": null,
   "id": "cdeb8ab6",
   "metadata": {},
   "outputs": [],
   "source": []
  },
  {
   "cell_type": "code",
   "execution_count": null,
   "id": "1e4cde98",
   "metadata": {},
   "outputs": [],
   "source": []
  },
  {
   "cell_type": "code",
   "execution_count": null,
   "id": "78dc7312",
   "metadata": {},
   "outputs": [],
   "source": []
  },
  {
   "cell_type": "code",
   "execution_count": null,
   "id": "697aae0b",
   "metadata": {},
   "outputs": [],
   "source": []
  },
  {
   "cell_type": "code",
   "execution_count": null,
   "id": "ff2246db",
   "metadata": {},
   "outputs": [],
   "source": []
  },
  {
   "cell_type": "code",
   "execution_count": null,
   "id": "a2af82c8",
   "metadata": {},
   "outputs": [],
   "source": []
  }
 ],
 "metadata": {
  "kernelspec": {
   "display_name": "Python 3 (ipykernel)",
   "language": "python",
   "name": "python3"
  },
  "language_info": {
   "codemirror_mode": {
    "name": "ipython",
    "version": 3
   },
   "file_extension": ".py",
   "mimetype": "text/x-python",
   "name": "python",
   "nbconvert_exporter": "python",
   "pygments_lexer": "ipython3",
   "version": "3.9.7"
  }
 },
 "nbformat": 4,
 "nbformat_minor": 5
}
