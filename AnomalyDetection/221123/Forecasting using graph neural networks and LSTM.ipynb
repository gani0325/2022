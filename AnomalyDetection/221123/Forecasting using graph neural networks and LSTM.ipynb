{
 "cells": [
  {
   "cell_type": "markdown",
   "metadata": {},
   "source": [
    "## Traffic forecasting using graph neural networks and LSTM\n",
    "- https://keras.io/examples/timeseries/timeseries_traffic_forecasting/"
   ]
  },
  {
   "cell_type": "code",
   "execution_count": 1,
   "metadata": {},
   "outputs": [
    {
     "name": "stderr",
     "output_type": "stream",
     "text": [
      "2022-11-25 08:27:26.567465: I tensorflow/core/platform/cpu_feature_guard.cc:193] This TensorFlow binary is optimized with oneAPI Deep Neural Network Library (oneDNN) to use the following CPU instructions in performance-critical operations:  AVX2 AVX512F AVX512_VNNI FMA\n",
      "To enable them in other operations, rebuild TensorFlow with the appropriate compiler flags.\n",
      "2022-11-25 08:27:26.996675: I tensorflow/core/util/port.cc:104] oneDNN custom operations are on. You may see slightly different numerical results due to floating-point round-off errors from different computation orders. To turn them off, set the environment variable `TF_ENABLE_ONEDNN_OPTS=0`.\n",
      "2022-11-25 08:27:27.079694: W tensorflow/compiler/xla/stream_executor/platform/default/dso_loader.cc:64] Could not load dynamic library 'libcudart.so.11.0'; dlerror: libcudart.so.11.0: cannot open shared object file: No such file or directory\n",
      "2022-11-25 08:27:27.079718: I tensorflow/compiler/xla/stream_executor/cuda/cudart_stub.cc:29] Ignore above cudart dlerror if you do not have a GPU set up on your machine.\n",
      "2022-11-25 08:27:28.412083: W tensorflow/compiler/xla/stream_executor/platform/default/dso_loader.cc:64] Could not load dynamic library 'libnvinfer.so.7'; dlerror: libnvinfer.so.7: cannot open shared object file: No such file or directory\n",
      "2022-11-25 08:27:28.412200: W tensorflow/compiler/xla/stream_executor/platform/default/dso_loader.cc:64] Could not load dynamic library 'libnvinfer_plugin.so.7'; dlerror: libnvinfer_plugin.so.7: cannot open shared object file: No such file or directory\n",
      "2022-11-25 08:27:28.412208: W tensorflow/compiler/tf2tensorrt/utils/py_utils.cc:38] TF-TRT Warning: Cannot dlopen some TensorRT libraries. If you would like to use Nvidia GPU with TensorRT, please make sure the missing libraries mentioned above are installed properly.\n"
     ]
    }
   ],
   "source": [
    "import pandas as pd\n",
    "import numpy as np\n",
    "import os\n",
    "import typing\n",
    "import matplotlib.pyplot as plt\n",
    "\n",
    "import tensorflow as tf\n",
    "from tensorflow import keras\n",
    "from keras import layers"
   ]
  },
  {
   "cell_type": "code",
   "execution_count": 2,
   "metadata": {},
   "outputs": [],
   "source": [
    "route_distances = pd.read_csv(\n",
    "    os.path.join(\"./data/queinfo_20220929.csv\"))"
   ]
  },
  {
   "cell_type": "code",
   "execution_count": 3,
   "metadata": {},
   "outputs": [],
   "source": [
    "speeds_array  = pd.read_csv(\n",
    "    os.path.join(\"./data/queinfo_20220930.csv\"))"
   ]
  },
  {
   "cell_type": "code",
   "execution_count": 4,
   "metadata": {},
   "outputs": [
    {
     "name": "stdout",
     "output_type": "stream",
     "text": [
      "route_distances shape=(155520, 5)\n",
      "speeds_array shape=(155520, 5)\n"
     ]
    }
   ],
   "source": [
    "print(f\"route_distances shape={route_distances.shape}\")\n",
    "print(f\"speeds_array shape={speeds_array.shape}\")"
   ]
  },
  {
   "cell_type": "code",
   "execution_count": 5,
   "metadata": {},
   "outputs": [
    {
     "data": {
      "text/html": [
       "<div>\n",
       "<style scoped>\n",
       "    .dataframe tbody tr th:only-of-type {\n",
       "        vertical-align: middle;\n",
       "    }\n",
       "\n",
       "    .dataframe tbody tr th {\n",
       "        vertical-align: top;\n",
       "    }\n",
       "\n",
       "    .dataframe thead th {\n",
       "        text-align: right;\n",
       "    }\n",
       "</style>\n",
       "<table border=\"1\" class=\"dataframe\">\n",
       "  <thead>\n",
       "    <tr style=\"text-align: right;\">\n",
       "      <th></th>\n",
       "      <th>rsid</th>\n",
       "      <th>name</th>\n",
       "      <th>cnt_item</th>\n",
       "      <th>is_pending</th>\n",
       "      <th>insert_date_time</th>\n",
       "    </tr>\n",
       "  </thead>\n",
       "  <tbody>\n",
       "    <tr>\n",
       "      <th>0</th>\n",
       "      <td>unirs01</td>\n",
       "      <td>recv_smt_slow.que</td>\n",
       "      <td>0</td>\n",
       "      <td>0</td>\n",
       "      <td>2022-09-29 00:00:01</td>\n",
       "    </tr>\n",
       "    <tr>\n",
       "      <th>1</th>\n",
       "      <td>unirs01</td>\n",
       "      <td>recv_mmt_slow.que</td>\n",
       "      <td>0</td>\n",
       "      <td>0</td>\n",
       "      <td>2022-09-29 00:00:01</td>\n",
       "    </tr>\n",
       "    <tr>\n",
       "      <th>2</th>\n",
       "      <td>unirs01</td>\n",
       "      <td>recv_smt_fast.que</td>\n",
       "      <td>0</td>\n",
       "      <td>0</td>\n",
       "      <td>2022-09-29 00:00:01</td>\n",
       "    </tr>\n",
       "    <tr>\n",
       "      <th>3</th>\n",
       "      <td>unirs01</td>\n",
       "      <td>recv_mmt_fast.que</td>\n",
       "      <td>0</td>\n",
       "      <td>0</td>\n",
       "      <td>2022-09-29 00:00:01</td>\n",
       "    </tr>\n",
       "    <tr>\n",
       "      <th>4</th>\n",
       "      <td>unirs01</td>\n",
       "      <td>dbmtfail.que</td>\n",
       "      <td>0</td>\n",
       "      <td>0</td>\n",
       "      <td>2022-09-29 00:00:01</td>\n",
       "    </tr>\n",
       "    <tr>\n",
       "      <th>...</th>\n",
       "      <td>...</td>\n",
       "      <td>...</td>\n",
       "      <td>...</td>\n",
       "      <td>...</td>\n",
       "      <td>...</td>\n",
       "    </tr>\n",
       "    <tr>\n",
       "      <th>155515</th>\n",
       "      <td>wngrs01</td>\n",
       "      <td>dbmt6.que</td>\n",
       "      <td>2</td>\n",
       "      <td>0</td>\n",
       "      <td>2022-09-29 23:59:03</td>\n",
       "    </tr>\n",
       "    <tr>\n",
       "      <th>155516</th>\n",
       "      <td>wngrs01</td>\n",
       "      <td>dbmtfail.que</td>\n",
       "      <td>0</td>\n",
       "      <td>0</td>\n",
       "      <td>2022-09-29 23:59:03</td>\n",
       "    </tr>\n",
       "    <tr>\n",
       "      <th>155517</th>\n",
       "      <td>wngrs02</td>\n",
       "      <td>dbmtfail.que</td>\n",
       "      <td>0</td>\n",
       "      <td>0</td>\n",
       "      <td>2022-09-29 23:59:03</td>\n",
       "    </tr>\n",
       "    <tr>\n",
       "      <th>155518</th>\n",
       "      <td>rcsrs01</td>\n",
       "      <td>recv_mmt_fast.que</td>\n",
       "      <td>0</td>\n",
       "      <td>0</td>\n",
       "      <td>2022-09-29 23:59:03</td>\n",
       "    </tr>\n",
       "    <tr>\n",
       "      <th>155519</th>\n",
       "      <td>rcsrs02</td>\n",
       "      <td>recv_mmt_fast.que</td>\n",
       "      <td>0</td>\n",
       "      <td>0</td>\n",
       "      <td>2022-09-29 23:59:03</td>\n",
       "    </tr>\n",
       "  </tbody>\n",
       "</table>\n",
       "<p>155520 rows × 5 columns</p>\n",
       "</div>"
      ],
      "text/plain": [
       "           rsid               name  cnt_item  is_pending     insert_date_time\n",
       "0       unirs01  recv_smt_slow.que         0           0  2022-09-29 00:00:01\n",
       "1       unirs01  recv_mmt_slow.que         0           0  2022-09-29 00:00:01\n",
       "2       unirs01  recv_smt_fast.que         0           0  2022-09-29 00:00:01\n",
       "3       unirs01  recv_mmt_fast.que         0           0  2022-09-29 00:00:01\n",
       "4       unirs01       dbmtfail.que         0           0  2022-09-29 00:00:01\n",
       "...         ...                ...       ...         ...                  ...\n",
       "155515  wngrs01          dbmt6.que         2           0  2022-09-29 23:59:03\n",
       "155516  wngrs01       dbmtfail.que         0           0  2022-09-29 23:59:03\n",
       "155517  wngrs02       dbmtfail.que         0           0  2022-09-29 23:59:03\n",
       "155518  rcsrs01  recv_mmt_fast.que         0           0  2022-09-29 23:59:03\n",
       "155519  rcsrs02  recv_mmt_fast.que         0           0  2022-09-29 23:59:03\n",
       "\n",
       "[155520 rows x 5 columns]"
      ]
     },
     "execution_count": 5,
     "metadata": {},
     "output_type": "execute_result"
    }
   ],
   "source": [
    "route_distances"
   ]
  },
  {
   "cell_type": "code",
   "execution_count": 6,
   "metadata": {},
   "outputs": [],
   "source": [
    "route_distances = route_distances.drop([\"rsid\", \"name\"], axis = 1)\n",
    "speeds_array = speeds_array.drop([\"rsid\", \"name\"], axis = 1)"
   ]
  },
  {
   "cell_type": "code",
   "execution_count": 7,
   "metadata": {},
   "outputs": [
    {
     "data": {
      "text/html": [
       "<div>\n",
       "<style scoped>\n",
       "    .dataframe tbody tr th:only-of-type {\n",
       "        vertical-align: middle;\n",
       "    }\n",
       "\n",
       "    .dataframe tbody tr th {\n",
       "        vertical-align: top;\n",
       "    }\n",
       "\n",
       "    .dataframe thead th {\n",
       "        text-align: right;\n",
       "    }\n",
       "</style>\n",
       "<table border=\"1\" class=\"dataframe\">\n",
       "  <thead>\n",
       "    <tr style=\"text-align: right;\">\n",
       "      <th></th>\n",
       "      <th>cnt_item</th>\n",
       "      <th>is_pending</th>\n",
       "      <th>insert_date_time</th>\n",
       "    </tr>\n",
       "  </thead>\n",
       "  <tbody>\n",
       "    <tr>\n",
       "      <th>0</th>\n",
       "      <td>0</td>\n",
       "      <td>0</td>\n",
       "      <td>2022-09-29 00:00:01</td>\n",
       "    </tr>\n",
       "    <tr>\n",
       "      <th>1</th>\n",
       "      <td>0</td>\n",
       "      <td>0</td>\n",
       "      <td>2022-09-29 00:00:01</td>\n",
       "    </tr>\n",
       "    <tr>\n",
       "      <th>2</th>\n",
       "      <td>0</td>\n",
       "      <td>0</td>\n",
       "      <td>2022-09-29 00:00:01</td>\n",
       "    </tr>\n",
       "    <tr>\n",
       "      <th>3</th>\n",
       "      <td>0</td>\n",
       "      <td>0</td>\n",
       "      <td>2022-09-29 00:00:01</td>\n",
       "    </tr>\n",
       "    <tr>\n",
       "      <th>4</th>\n",
       "      <td>0</td>\n",
       "      <td>0</td>\n",
       "      <td>2022-09-29 00:00:01</td>\n",
       "    </tr>\n",
       "    <tr>\n",
       "      <th>...</th>\n",
       "      <td>...</td>\n",
       "      <td>...</td>\n",
       "      <td>...</td>\n",
       "    </tr>\n",
       "    <tr>\n",
       "      <th>155515</th>\n",
       "      <td>2</td>\n",
       "      <td>0</td>\n",
       "      <td>2022-09-29 23:59:03</td>\n",
       "    </tr>\n",
       "    <tr>\n",
       "      <th>155516</th>\n",
       "      <td>0</td>\n",
       "      <td>0</td>\n",
       "      <td>2022-09-29 23:59:03</td>\n",
       "    </tr>\n",
       "    <tr>\n",
       "      <th>155517</th>\n",
       "      <td>0</td>\n",
       "      <td>0</td>\n",
       "      <td>2022-09-29 23:59:03</td>\n",
       "    </tr>\n",
       "    <tr>\n",
       "      <th>155518</th>\n",
       "      <td>0</td>\n",
       "      <td>0</td>\n",
       "      <td>2022-09-29 23:59:03</td>\n",
       "    </tr>\n",
       "    <tr>\n",
       "      <th>155519</th>\n",
       "      <td>0</td>\n",
       "      <td>0</td>\n",
       "      <td>2022-09-29 23:59:03</td>\n",
       "    </tr>\n",
       "  </tbody>\n",
       "</table>\n",
       "<p>155520 rows × 3 columns</p>\n",
       "</div>"
      ],
      "text/plain": [
       "        cnt_item  is_pending     insert_date_time\n",
       "0              0           0  2022-09-29 00:00:01\n",
       "1              0           0  2022-09-29 00:00:01\n",
       "2              0           0  2022-09-29 00:00:01\n",
       "3              0           0  2022-09-29 00:00:01\n",
       "4              0           0  2022-09-29 00:00:01\n",
       "...          ...         ...                  ...\n",
       "155515         2           0  2022-09-29 23:59:03\n",
       "155516         0           0  2022-09-29 23:59:03\n",
       "155517         0           0  2022-09-29 23:59:03\n",
       "155518         0           0  2022-09-29 23:59:03\n",
       "155519         0           0  2022-09-29 23:59:03\n",
       "\n",
       "[155520 rows x 3 columns]"
      ]
     },
     "execution_count": 7,
     "metadata": {},
     "output_type": "execute_result"
    }
   ],
   "source": [
    "route_distances"
   ]
  },
  {
   "cell_type": "code",
   "execution_count": 15,
   "metadata": {},
   "outputs": [
    {
     "data": {
      "text/html": [
       "<div>\n",
       "<style scoped>\n",
       "    .dataframe tbody tr th:only-of-type {\n",
       "        vertical-align: middle;\n",
       "    }\n",
       "\n",
       "    .dataframe tbody tr th {\n",
       "        vertical-align: top;\n",
       "    }\n",
       "\n",
       "    .dataframe thead th {\n",
       "        text-align: right;\n",
       "    }\n",
       "</style>\n",
       "<table border=\"1\" class=\"dataframe\">\n",
       "  <thead>\n",
       "    <tr style=\"text-align: right;\">\n",
       "      <th></th>\n",
       "      <th>cnt_item</th>\n",
       "      <th>is_pending</th>\n",
       "    </tr>\n",
       "    <tr>\n",
       "      <th>insert_date_time</th>\n",
       "      <th></th>\n",
       "      <th></th>\n",
       "    </tr>\n",
       "  </thead>\n",
       "  <tbody>\n",
       "    <tr>\n",
       "      <th>2022-09-30 00:00:01</th>\n",
       "      <td>0</td>\n",
       "      <td>0</td>\n",
       "    </tr>\n",
       "    <tr>\n",
       "      <th>2022-09-30 00:00:01</th>\n",
       "      <td>0</td>\n",
       "      <td>0</td>\n",
       "    </tr>\n",
       "    <tr>\n",
       "      <th>2022-09-30 00:00:01</th>\n",
       "      <td>0</td>\n",
       "      <td>0</td>\n",
       "    </tr>\n",
       "    <tr>\n",
       "      <th>2022-09-30 00:00:01</th>\n",
       "      <td>0</td>\n",
       "      <td>0</td>\n",
       "    </tr>\n",
       "    <tr>\n",
       "      <th>2022-09-30 00:00:01</th>\n",
       "      <td>0</td>\n",
       "      <td>0</td>\n",
       "    </tr>\n",
       "    <tr>\n",
       "      <th>...</th>\n",
       "      <td>...</td>\n",
       "      <td>...</td>\n",
       "    </tr>\n",
       "    <tr>\n",
       "      <th>2022-09-30 23:59:04</th>\n",
       "      <td>0</td>\n",
       "      <td>0</td>\n",
       "    </tr>\n",
       "    <tr>\n",
       "      <th>2022-09-30 23:59:04</th>\n",
       "      <td>0</td>\n",
       "      <td>0</td>\n",
       "    </tr>\n",
       "    <tr>\n",
       "      <th>2022-09-30 23:59:04</th>\n",
       "      <td>0</td>\n",
       "      <td>0</td>\n",
       "    </tr>\n",
       "    <tr>\n",
       "      <th>2022-09-30 23:59:04</th>\n",
       "      <td>0</td>\n",
       "      <td>0</td>\n",
       "    </tr>\n",
       "    <tr>\n",
       "      <th>2022-09-30 23:59:04</th>\n",
       "      <td>1</td>\n",
       "      <td>0</td>\n",
       "    </tr>\n",
       "  </tbody>\n",
       "</table>\n",
       "<p>155520 rows × 2 columns</p>\n",
       "</div>"
      ],
      "text/plain": [
       "                     cnt_item  is_pending\n",
       "insert_date_time                         \n",
       "2022-09-30 00:00:01         0           0\n",
       "2022-09-30 00:00:01         0           0\n",
       "2022-09-30 00:00:01         0           0\n",
       "2022-09-30 00:00:01         0           0\n",
       "2022-09-30 00:00:01         0           0\n",
       "...                       ...         ...\n",
       "2022-09-30 23:59:04         0           0\n",
       "2022-09-30 23:59:04         0           0\n",
       "2022-09-30 23:59:04         0           0\n",
       "2022-09-30 23:59:04         0           0\n",
       "2022-09-30 23:59:04         1           0\n",
       "\n",
       "[155520 rows x 2 columns]"
      ]
     },
     "execution_count": 15,
     "metadata": {},
     "output_type": "execute_result"
    }
   ],
   "source": [
    "speeds_array"
   ]
  },
  {
   "cell_type": "code",
   "execution_count": 10,
   "metadata": {},
   "outputs": [],
   "source": [
    "test = speeds_array.set_index('insert_date_time', inplace=True)"
   ]
  },
  {
   "cell_type": "code",
   "execution_count": 13,
   "metadata": {},
   "outputs": [],
   "source": [
    "test"
   ]
  },
  {
   "cell_type": "code",
   "execution_count": 16,
   "metadata": {},
   "outputs": [
    {
     "data": {
      "text/plain": [
       "[<matplotlib.lines.Line2D at 0x7fdfdc60e910>,\n",
       " <matplotlib.lines.Line2D at 0x7fdfdc60e8b0>]"
      ]
     },
     "execution_count": 16,
     "metadata": {},
     "output_type": "execute_result"
    },
    {
     "data": {
      "image/png": "[encoded data removed]",
      "text/plain": [
       "<Figure size 1800x600 with 1 Axes>"
      ]
     },
     "metadata": {},
     "output_type": "display_data"
    }
   ],
   "source": [
    "plt.figure(figsize=(18, 6))\n",
    "plt.plot(speeds_array)\n",
    "# plt.legend([\"route_0\", \"route_25\"])"
   ]
  },
  {
   "cell_type": "code",
   "execution_count": 17,
   "metadata": {},
   "outputs": [
    {
     "data": {
      "text/plain": [
       "Text(0, 0.5, 'road number')"
      ]
     },
     "execution_count": 17,
     "metadata": {},
     "output_type": "execute_result"
    },
    {
     "data": {
      "image/png": "[encoded data removed]",
      "text/plain": [
       "<Figure size 800x800 with 1 Axes>"
      ]
     },
     "metadata": {},
     "output_type": "display_data"
    }
   ],
   "source": [
    "plt.figure(figsize=(8, 8))\n",
    "plt.matshow(np.corrcoef(speeds_array.T), 0)\n",
    "plt.xlabel(\"road number\")\n",
    "plt.ylabel(\"road number\")"
   ]
  },
  {
   "cell_type": "code",
   "execution_count": 18,
   "metadata": {},
   "outputs": [
    {
     "name": "stdout",
     "output_type": "stream",
     "text": [
      "train set size: (77760, 2)\n",
      "validation set size: (31104, 2)\n",
      "test set size: (46656, 2)\n"
     ]
    }
   ],
   "source": [
    "train_size, val_size = 0.5, 0.2\n",
    "\n",
    "\n",
    "def preprocess(data_array: np.ndarray, train_size: float, val_size: float):\n",
    "    \"\"\"Splits data into train/val/test sets and normalizes the data.\n",
    "\n",
    "    Args:\n",
    "        data_array: ndarray of shape `(num_time_steps, num_routes)`\n",
    "        train_size: A float value between 0.0 and 1.0 that represent the proportion of the dataset\n",
    "            to include in the train split.\n",
    "        val_size: A float value between 0.0 and 1.0 that represent the proportion of the dataset\n",
    "            to include in the validation split.\n",
    "\n",
    "    Returns:\n",
    "        `train_array`, `val_array`, `test_array`\n",
    "    \"\"\"\n",
    "\n",
    "    num_time_steps = data_array.shape[0]\n",
    "    num_train, num_val = (\n",
    "        int(num_time_steps * train_size),\n",
    "        int(num_time_steps * val_size),\n",
    "    )\n",
    "    train_array = data_array[:num_train]\n",
    "    mean, std = train_array.mean(axis=0), train_array.std(axis=0)\n",
    "\n",
    "    train_array = (train_array - mean) / std\n",
    "    val_array = (data_array[num_train : (num_train + num_val)] - mean) / std\n",
    "    test_array = (data_array[(num_train + num_val) :] - mean) / std\n",
    "\n",
    "    return train_array, val_array, test_array\n",
    "\n",
    "\n",
    "train_array, val_array, test_array = preprocess(speeds_array, train_size, val_size)\n",
    "\n",
    "print(f\"train set size: {train_array.shape}\")\n",
    "print(f\"validation set size: {val_array.shape}\")\n",
    "print(f\"test set size: {test_array.shape}\")"
   ]
  },
  {
   "cell_type": "code",
   "execution_count": 19,
   "metadata": {},
   "outputs": [
    {
     "name": "stderr",
     "output_type": "stream",
     "text": [
      "2022-11-25 08:58:18.370189: W tensorflow/compiler/xla/stream_executor/platform/default/dso_loader.cc:64] Could not load dynamic library 'libcuda.so.1'; dlerror: libcuda.so.1: cannot open shared object file: No such file or directory\n",
      "2022-11-25 08:58:18.370878: W tensorflow/compiler/xla/stream_executor/cuda/cuda_driver.cc:265] failed call to cuInit: UNKNOWN ERROR (303)\n",
      "2022-11-25 08:58:18.370988: I tensorflow/compiler/xla/stream_executor/cuda/cuda_diagnostics.cc:156] kernel driver does not appear to be running on this host (GELEE-IBD1): /proc/driver/nvidia/version does not exist\n",
      "2022-11-25 08:58:18.374375: I tensorflow/core/platform/cpu_feature_guard.cc:193] This TensorFlow binary is optimized with oneAPI Deep Neural Network Library (oneDNN) to use the following CPU instructions in performance-critical operations:  AVX2 AVX512F AVX512_VNNI FMA\n",
      "To enable them in other operations, rebuild TensorFlow with the appropriate compiler flags.\n"
     ]
    }
   ],
   "source": [
    "batch_size = 64\n",
    "input_sequence_length = 12\n",
    "forecast_horizon = 3\n",
    "multi_horizon = False\n",
    "\n",
    "\n",
    "def create_tf_dataset(\n",
    "    data_array: np.ndarray,\n",
    "    input_sequence_length: int,\n",
    "    forecast_horizon: int,\n",
    "    batch_size: int = 128,\n",
    "    shuffle=True,\n",
    "    multi_horizon=True,\n",
    "):\n",
    "    \"\"\"Creates tensorflow dataset from numpy array.\n",
    "\n",
    "    This function creates a dataset where each element is a tuple `(inputs, targets)`.\n",
    "    `inputs` is a Tensor\n",
    "    of shape `(batch_size, input_sequence_length, num_routes, 1)` containing\n",
    "    the `input_sequence_length` past values of the timeseries for each node.\n",
    "    `targets` is a Tensor of shape `(batch_size, forecast_horizon, num_routes)`\n",
    "    containing the `forecast_horizon`\n",
    "    future values of the timeseries for each node.\n",
    "\n",
    "    Args:\n",
    "        data_array: np.ndarray with shape `(num_time_steps, num_routes)`\n",
    "        input_sequence_length: Length of the input sequence (in number of timesteps).\n",
    "        forecast_horizon: If `multi_horizon=True`, the target will be the values of the timeseries for 1 to\n",
    "            `forecast_horizon` timesteps ahead. If `multi_horizon=False`, the target will be the value of the\n",
    "            timeseries `forecast_horizon` steps ahead (only one value).\n",
    "        batch_size: Number of timeseries samples in each batch.\n",
    "        shuffle: Whether to shuffle output samples, or instead draw them in chronological order.\n",
    "        multi_horizon: See `forecast_horizon`.\n",
    "\n",
    "    Returns:\n",
    "        A tf.data.Dataset instance.\n",
    "    \"\"\"\n",
    "\n",
    "    inputs = tf.keras.preprocessing.timeseries_dataset_from_array(\n",
    "        np.expand_dims(data_array[:-forecast_horizon], axis=-1),\n",
    "        None,\n",
    "        sequence_length=input_sequence_length,\n",
    "        shuffle=False,\n",
    "        batch_size=batch_size,\n",
    "    )\n",
    "\n",
    "    target_offset = (\n",
    "        input_sequence_length\n",
    "        if multi_horizon\n",
    "        else input_sequence_length + forecast_horizon - 1\n",
    "    )\n",
    "    target_seq_length = forecast_horizon if multi_horizon else 1\n",
    "    targets = tf.keras.preprocessing.timeseries_dataset_from_array(\n",
    "        data_array[target_offset:],\n",
    "        None,\n",
    "        sequence_length=target_seq_length,\n",
    "        shuffle=False,\n",
    "        batch_size=batch_size,\n",
    "    )\n",
    "\n",
    "    dataset = tf.data.Dataset.zip((inputs, targets))\n",
    "    if shuffle:\n",
    "        dataset = dataset.shuffle(100)\n",
    "\n",
    "    return dataset.prefetch(16).cache()\n",
    "\n",
    "\n",
    "train_dataset, val_dataset = (\n",
    "    create_tf_dataset(data_array, input_sequence_length, forecast_horizon, batch_size)\n",
    "    for data_array in [train_array, val_array]\n",
    ")\n",
    "\n",
    "test_dataset = create_tf_dataset(\n",
    "    test_array,\n",
    "    input_sequence_length,\n",
    "    forecast_horizon,\n",
    "    batch_size=test_array.shape[0],\n",
    "    shuffle=False,\n",
    "    multi_horizon=multi_horizon,\n",
    ")"
   ]
  },
  {
   "cell_type": "code",
   "execution_count": 20,
   "metadata": {},
   "outputs": [],
   "source": [
    "def compute_adjacency_matrix(\n",
    "    route_distances: np.ndarray, sigma2: float, epsilon: float\n",
    "):\n",
    "    \"\"\"Computes the adjacency matrix from distances matrix.\n",
    "\n",
    "    It uses the formula in https://github.com/VeritasYin/STGCN_IJCAI-18#data-preprocessing to\n",
    "    compute an adjacency matrix from the distance matrix.\n",
    "    The implementation follows that paper.\n",
    "\n",
    "    Args:\n",
    "        route_distances: np.ndarray of shape `(num_routes, num_routes)`. Entry `i,j` of this array is the\n",
    "            distance between roads `i,j`.\n",
    "        sigma2: Determines the width of the Gaussian kernel applied to the square distances matrix.\n",
    "        epsilon: A threshold specifying if there is an edge between two nodes. Specifically, `A[i,j]=1`\n",
    "            if `np.exp(-w2[i,j] / sigma2) >= epsilon` and `A[i,j]=0` otherwise, where `A` is the adjacency\n",
    "            matrix and `w2=route_distances * route_distances`\n",
    "\n",
    "    Returns:\n",
    "        A boolean graph adjacency matrix.\n",
    "    \"\"\"\n",
    "    num_routes = route_distances.shape[0]\n",
    "    route_distances = route_distances / 10000.0\n",
    "    w2, w_mask = (\n",
    "        route_distances * route_distances,\n",
    "        np.ones([num_routes, num_routes]) - np.identity(num_routes),\n",
    "    )\n",
    "    return (np.exp(-w2 / sigma2) >= epsilon) * w_mask"
   ]
  },
  {
   "cell_type": "code",
   "execution_count": 21,
   "metadata": {},
   "outputs": [
    {
     "ename": "TypeError",
     "evalue": "unsupported operand type(s) for /: 'str' and 'float'",
     "output_type": "error",
     "traceback": [
      "\u001b[0;31m---------------------------------------------------------------------------\u001b[0m",
      "\u001b[0;31mTypeError\u001b[0m                                 Traceback (most recent call last)",
      "File \u001b[0;32m~/anaconda3/envs/info/lib/python3.8/site-packages/pandas/core/ops/array_ops.py:165\u001b[0m, in \u001b[0;36m_na_arithmetic_op\u001b[0;34m(left, right, op, is_cmp)\u001b[0m\n\u001b[1;32m    164\u001b[0m \u001b[39mtry\u001b[39;00m:\n\u001b[0;32m--> 165\u001b[0m     result \u001b[39m=\u001b[39m func(left, right)\n\u001b[1;32m    166\u001b[0m \u001b[39mexcept\u001b[39;00m \u001b[39mTypeError\u001b[39;00m:\n",
      "File \u001b[0;32m~/anaconda3/envs/info/lib/python3.8/site-packages/pandas/core/computation/expressions.py:241\u001b[0m, in \u001b[0;36mevaluate\u001b[0;34m(op, a, b, use_numexpr)\u001b[0m\n\u001b[1;32m    239\u001b[0m     \u001b[39mif\u001b[39;00m use_numexpr:\n\u001b[1;32m    240\u001b[0m         \u001b[39m# error: \"None\" not callable\u001b[39;00m\n\u001b[0;32m--> 241\u001b[0m         \u001b[39mreturn\u001b[39;00m _evaluate(op, op_str, a, b)  \u001b[39m# type: ignore[misc]\u001b[39;00m\n\u001b[1;32m    242\u001b[0m \u001b[39mreturn\u001b[39;00m _evaluate_standard(op, op_str, a, b)\n",
      "File \u001b[0;32m~/anaconda3/envs/info/lib/python3.8/site-packages/pandas/core/computation/expressions.py:129\u001b[0m, in \u001b[0;36m_evaluate_numexpr\u001b[0;34m(op, op_str, a, b)\u001b[0m\n\u001b[1;32m    128\u001b[0m \u001b[39mif\u001b[39;00m result \u001b[39mis\u001b[39;00m \u001b[39mNone\u001b[39;00m:\n\u001b[0;32m--> 129\u001b[0m     result \u001b[39m=\u001b[39m _evaluate_standard(op, op_str, a, b)\n\u001b[1;32m    131\u001b[0m \u001b[39mreturn\u001b[39;00m result\n",
      "File \u001b[0;32m~/anaconda3/envs/info/lib/python3.8/site-packages/pandas/core/computation/expressions.py:70\u001b[0m, in \u001b[0;36m_evaluate_standard\u001b[0;34m(op, op_str, a, b)\u001b[0m\n\u001b[1;32m     69\u001b[0m     _store_test_result(\u001b[39mFalse\u001b[39;00m)\n\u001b[0;32m---> 70\u001b[0m \u001b[39mreturn\u001b[39;00m op(a, b)\n",
      "\u001b[0;31mTypeError\u001b[0m: unsupported operand type(s) for /: 'str' and 'float'",
      "\nDuring handling of the above exception, another exception occurred:\n",
      "\u001b[0;31mTypeError\u001b[0m                                 Traceback (most recent call last)",
      "\u001b[1;32m/home/ubuntu/2022-3/AnomalyDetection/221123/Forecasting using graph neural networks and LSTM.ipynb Cell 17\u001b[0m in \u001b[0;36m<cell line: 9>\u001b[0;34m()\u001b[0m\n\u001b[1;32m      <a href='vscode-notebook-cell://wsl%2Bubuntu-20.04/home/ubuntu/2022-3/AnomalyDetection/221123/Forecasting%20using%20graph%20neural%20networks%20and%20LSTM.ipynb#X23sdnNjb2RlLXJlbW90ZQ%3D%3D?line=6'>7</a>\u001b[0m sigma2 \u001b[39m=\u001b[39m \u001b[39m0.1\u001b[39m\n\u001b[1;32m      <a href='vscode-notebook-cell://wsl%2Bubuntu-20.04/home/ubuntu/2022-3/AnomalyDetection/221123/Forecasting%20using%20graph%20neural%20networks%20and%20LSTM.ipynb#X23sdnNjb2RlLXJlbW90ZQ%3D%3D?line=7'>8</a>\u001b[0m epsilon \u001b[39m=\u001b[39m \u001b[39m0.5\u001b[39m\n\u001b[0;32m----> <a href='vscode-notebook-cell://wsl%2Bubuntu-20.04/home/ubuntu/2022-3/AnomalyDetection/221123/Forecasting%20using%20graph%20neural%20networks%20and%20LSTM.ipynb#X23sdnNjb2RlLXJlbW90ZQ%3D%3D?line=8'>9</a>\u001b[0m adjacency_matrix \u001b[39m=\u001b[39m compute_adjacency_matrix(route_distances, sigma2, epsilon)\n\u001b[1;32m     <a href='vscode-notebook-cell://wsl%2Bubuntu-20.04/home/ubuntu/2022-3/AnomalyDetection/221123/Forecasting%20using%20graph%20neural%20networks%20and%20LSTM.ipynb#X23sdnNjb2RlLXJlbW90ZQ%3D%3D?line=9'>10</a>\u001b[0m node_indices, neighbor_indices \u001b[39m=\u001b[39m np\u001b[39m.\u001b[39mwhere(adjacency_matrix \u001b[39m==\u001b[39m \u001b[39m1\u001b[39m)\n\u001b[1;32m     <a href='vscode-notebook-cell://wsl%2Bubuntu-20.04/home/ubuntu/2022-3/AnomalyDetection/221123/Forecasting%20using%20graph%20neural%20networks%20and%20LSTM.ipynb#X23sdnNjb2RlLXJlbW90ZQ%3D%3D?line=10'>11</a>\u001b[0m graph \u001b[39m=\u001b[39m GraphInfo(\n\u001b[1;32m     <a href='vscode-notebook-cell://wsl%2Bubuntu-20.04/home/ubuntu/2022-3/AnomalyDetection/221123/Forecasting%20using%20graph%20neural%20networks%20and%20LSTM.ipynb#X23sdnNjb2RlLXJlbW90ZQ%3D%3D?line=11'>12</a>\u001b[0m     edges\u001b[39m=\u001b[39m(node_indices\u001b[39m.\u001b[39mtolist(), neighbor_indices\u001b[39m.\u001b[39mtolist()),\n\u001b[1;32m     <a href='vscode-notebook-cell://wsl%2Bubuntu-20.04/home/ubuntu/2022-3/AnomalyDetection/221123/Forecasting%20using%20graph%20neural%20networks%20and%20LSTM.ipynb#X23sdnNjb2RlLXJlbW90ZQ%3D%3D?line=12'>13</a>\u001b[0m     num_nodes\u001b[39m=\u001b[39madjacency_matrix\u001b[39m.\u001b[39mshape[\u001b[39m0\u001b[39m],\n\u001b[1;32m     <a href='vscode-notebook-cell://wsl%2Bubuntu-20.04/home/ubuntu/2022-3/AnomalyDetection/221123/Forecasting%20using%20graph%20neural%20networks%20and%20LSTM.ipynb#X23sdnNjb2RlLXJlbW90ZQ%3D%3D?line=13'>14</a>\u001b[0m )\n",
      "\u001b[1;32m/home/ubuntu/2022-3/AnomalyDetection/221123/Forecasting using graph neural networks and LSTM.ipynb Cell 17\u001b[0m in \u001b[0;36mcompute_adjacency_matrix\u001b[0;34m(route_distances, sigma2, epsilon)\u001b[0m\n\u001b[1;32m      <a href='vscode-notebook-cell://wsl%2Bubuntu-20.04/home/ubuntu/2022-3/AnomalyDetection/221123/Forecasting%20using%20graph%20neural%20networks%20and%20LSTM.ipynb#X23sdnNjb2RlLXJlbW90ZQ%3D%3D?line=3'>4</a>\u001b[0m \u001b[39m\"\"\"Computes the adjacency matrix from distances matrix.\u001b[39;00m\n\u001b[1;32m      <a href='vscode-notebook-cell://wsl%2Bubuntu-20.04/home/ubuntu/2022-3/AnomalyDetection/221123/Forecasting%20using%20graph%20neural%20networks%20and%20LSTM.ipynb#X23sdnNjb2RlLXJlbW90ZQ%3D%3D?line=4'>5</a>\u001b[0m \n\u001b[1;32m      <a href='vscode-notebook-cell://wsl%2Bubuntu-20.04/home/ubuntu/2022-3/AnomalyDetection/221123/Forecasting%20using%20graph%20neural%20networks%20and%20LSTM.ipynb#X23sdnNjb2RlLXJlbW90ZQ%3D%3D?line=5'>6</a>\u001b[0m \u001b[39mIt uses the formula in https://github.com/VeritasYin/STGCN_IJCAI-18#data-preprocessing to\u001b[39;00m\n\u001b[0;32m   (...)\u001b[0m\n\u001b[1;32m     <a href='vscode-notebook-cell://wsl%2Bubuntu-20.04/home/ubuntu/2022-3/AnomalyDetection/221123/Forecasting%20using%20graph%20neural%20networks%20and%20LSTM.ipynb#X23sdnNjb2RlLXJlbW90ZQ%3D%3D?line=18'>19</a>\u001b[0m \u001b[39m    A boolean graph adjacency matrix.\u001b[39;00m\n\u001b[1;32m     <a href='vscode-notebook-cell://wsl%2Bubuntu-20.04/home/ubuntu/2022-3/AnomalyDetection/221123/Forecasting%20using%20graph%20neural%20networks%20and%20LSTM.ipynb#X23sdnNjb2RlLXJlbW90ZQ%3D%3D?line=19'>20</a>\u001b[0m \u001b[39m\"\"\"\u001b[39;00m\n\u001b[1;32m     <a href='vscode-notebook-cell://wsl%2Bubuntu-20.04/home/ubuntu/2022-3/AnomalyDetection/221123/Forecasting%20using%20graph%20neural%20networks%20and%20LSTM.ipynb#X23sdnNjb2RlLXJlbW90ZQ%3D%3D?line=20'>21</a>\u001b[0m num_routes \u001b[39m=\u001b[39m route_distances\u001b[39m.\u001b[39mshape[\u001b[39m0\u001b[39m]\n\u001b[0;32m---> <a href='vscode-notebook-cell://wsl%2Bubuntu-20.04/home/ubuntu/2022-3/AnomalyDetection/221123/Forecasting%20using%20graph%20neural%20networks%20and%20LSTM.ipynb#X23sdnNjb2RlLXJlbW90ZQ%3D%3D?line=21'>22</a>\u001b[0m route_distances \u001b[39m=\u001b[39m route_distances \u001b[39m/\u001b[39;49m \u001b[39m10000.0\u001b[39;49m\n\u001b[1;32m     <a href='vscode-notebook-cell://wsl%2Bubuntu-20.04/home/ubuntu/2022-3/AnomalyDetection/221123/Forecasting%20using%20graph%20neural%20networks%20and%20LSTM.ipynb#X23sdnNjb2RlLXJlbW90ZQ%3D%3D?line=22'>23</a>\u001b[0m w2, w_mask \u001b[39m=\u001b[39m (\n\u001b[1;32m     <a href='vscode-notebook-cell://wsl%2Bubuntu-20.04/home/ubuntu/2022-3/AnomalyDetection/221123/Forecasting%20using%20graph%20neural%20networks%20and%20LSTM.ipynb#X23sdnNjb2RlLXJlbW90ZQ%3D%3D?line=23'>24</a>\u001b[0m     route_distances \u001b[39m*\u001b[39m route_distances,\n\u001b[1;32m     <a href='vscode-notebook-cell://wsl%2Bubuntu-20.04/home/ubuntu/2022-3/AnomalyDetection/221123/Forecasting%20using%20graph%20neural%20networks%20and%20LSTM.ipynb#X23sdnNjb2RlLXJlbW90ZQ%3D%3D?line=24'>25</a>\u001b[0m     np\u001b[39m.\u001b[39mones([num_routes, num_routes]) \u001b[39m-\u001b[39m np\u001b[39m.\u001b[39midentity(num_routes),\n\u001b[1;32m     <a href='vscode-notebook-cell://wsl%2Bubuntu-20.04/home/ubuntu/2022-3/AnomalyDetection/221123/Forecasting%20using%20graph%20neural%20networks%20and%20LSTM.ipynb#X23sdnNjb2RlLXJlbW90ZQ%3D%3D?line=25'>26</a>\u001b[0m )\n\u001b[1;32m     <a href='vscode-notebook-cell://wsl%2Bubuntu-20.04/home/ubuntu/2022-3/AnomalyDetection/221123/Forecasting%20using%20graph%20neural%20networks%20and%20LSTM.ipynb#X23sdnNjb2RlLXJlbW90ZQ%3D%3D?line=26'>27</a>\u001b[0m \u001b[39mreturn\u001b[39;00m (np\u001b[39m.\u001b[39mexp(\u001b[39m-\u001b[39mw2 \u001b[39m/\u001b[39m sigma2) \u001b[39m>\u001b[39m\u001b[39m=\u001b[39m epsilon) \u001b[39m*\u001b[39m w_mask\n",
      "File \u001b[0;32m~/anaconda3/envs/info/lib/python3.8/site-packages/pandas/core/ops/common.py:72\u001b[0m, in \u001b[0;36m_unpack_zerodim_and_defer.<locals>.new_method\u001b[0;34m(self, other)\u001b[0m\n\u001b[1;32m     68\u001b[0m             \u001b[39mreturn\u001b[39;00m \u001b[39mNotImplemented\u001b[39m\n\u001b[1;32m     70\u001b[0m other \u001b[39m=\u001b[39m item_from_zerodim(other)\n\u001b[0;32m---> 72\u001b[0m \u001b[39mreturn\u001b[39;00m method(\u001b[39mself\u001b[39;49m, other)\n",
      "File \u001b[0;32m~/anaconda3/envs/info/lib/python3.8/site-packages/pandas/core/arraylike.py:126\u001b[0m, in \u001b[0;36mOpsMixin.__truediv__\u001b[0;34m(self, other)\u001b[0m\n\u001b[1;32m    124\u001b[0m \u001b[39m@unpack_zerodim_and_defer\u001b[39m(\u001b[39m\"\u001b[39m\u001b[39m__truediv__\u001b[39m\u001b[39m\"\u001b[39m)\n\u001b[1;32m    125\u001b[0m \u001b[39mdef\u001b[39;00m \u001b[39m__truediv__\u001b[39m(\u001b[39mself\u001b[39m, other):\n\u001b[0;32m--> 126\u001b[0m     \u001b[39mreturn\u001b[39;00m \u001b[39mself\u001b[39;49m\u001b[39m.\u001b[39;49m_arith_method(other, operator\u001b[39m.\u001b[39;49mtruediv)\n",
      "File \u001b[0;32m~/anaconda3/envs/info/lib/python3.8/site-packages/pandas/core/frame.py:7583\u001b[0m, in \u001b[0;36mDataFrame._arith_method\u001b[0;34m(self, other, op)\u001b[0m\n\u001b[1;32m   7579\u001b[0m other \u001b[39m=\u001b[39m ops\u001b[39m.\u001b[39mmaybe_prepare_scalar_for_op(other, (\u001b[39mself\u001b[39m\u001b[39m.\u001b[39mshape[axis],))\n\u001b[1;32m   7581\u001b[0m \u001b[39mself\u001b[39m, other \u001b[39m=\u001b[39m ops\u001b[39m.\u001b[39malign_method_FRAME(\u001b[39mself\u001b[39m, other, axis, flex\u001b[39m=\u001b[39m\u001b[39mTrue\u001b[39;00m, level\u001b[39m=\u001b[39m\u001b[39mNone\u001b[39;00m)\n\u001b[0;32m-> 7583\u001b[0m new_data \u001b[39m=\u001b[39m \u001b[39mself\u001b[39;49m\u001b[39m.\u001b[39;49m_dispatch_frame_op(other, op, axis\u001b[39m=\u001b[39;49maxis)\n\u001b[1;32m   7584\u001b[0m \u001b[39mreturn\u001b[39;00m \u001b[39mself\u001b[39m\u001b[39m.\u001b[39m_construct_result(new_data)\n",
      "File \u001b[0;32m~/anaconda3/envs/info/lib/python3.8/site-packages/pandas/core/frame.py:7610\u001b[0m, in \u001b[0;36mDataFrame._dispatch_frame_op\u001b[0;34m(self, right, func, axis)\u001b[0m\n\u001b[1;32m   7607\u001b[0m \u001b[39mif\u001b[39;00m \u001b[39mnot\u001b[39;00m is_list_like(right):\n\u001b[1;32m   7608\u001b[0m     \u001b[39m# i.e. scalar, faster than checking np.ndim(right) == 0\u001b[39;00m\n\u001b[1;32m   7609\u001b[0m     \u001b[39mwith\u001b[39;00m np\u001b[39m.\u001b[39merrstate(\u001b[39mall\u001b[39m\u001b[39m=\u001b[39m\u001b[39m\"\u001b[39m\u001b[39mignore\u001b[39m\u001b[39m\"\u001b[39m):\n\u001b[0;32m-> 7610\u001b[0m         bm \u001b[39m=\u001b[39m \u001b[39mself\u001b[39;49m\u001b[39m.\u001b[39;49m_mgr\u001b[39m.\u001b[39;49mapply(array_op, right\u001b[39m=\u001b[39;49mright)\n\u001b[1;32m   7611\u001b[0m     \u001b[39mreturn\u001b[39;00m \u001b[39mself\u001b[39m\u001b[39m.\u001b[39m_constructor(bm)\n\u001b[1;32m   7613\u001b[0m \u001b[39melif\u001b[39;00m \u001b[39misinstance\u001b[39m(right, DataFrame):\n",
      "File \u001b[0;32m~/anaconda3/envs/info/lib/python3.8/site-packages/pandas/core/internals/managers.py:345\u001b[0m, in \u001b[0;36mBaseBlockManager.apply\u001b[0;34m(self, f, align_keys, ignore_failures, **kwargs)\u001b[0m\n\u001b[1;32m    343\u001b[0m \u001b[39mtry\u001b[39;00m:\n\u001b[1;32m    344\u001b[0m     \u001b[39mif\u001b[39;00m callable(f):\n\u001b[0;32m--> 345\u001b[0m         applied \u001b[39m=\u001b[39m b\u001b[39m.\u001b[39;49mapply(f, \u001b[39m*\u001b[39;49m\u001b[39m*\u001b[39;49mkwargs)\n\u001b[1;32m    346\u001b[0m     \u001b[39melse\u001b[39;00m:\n\u001b[1;32m    347\u001b[0m         applied \u001b[39m=\u001b[39m \u001b[39mgetattr\u001b[39m(b, f)(\u001b[39m*\u001b[39m\u001b[39m*\u001b[39mkwargs)\n",
      "File \u001b[0;32m~/anaconda3/envs/info/lib/python3.8/site-packages/pandas/core/internals/blocks.py:351\u001b[0m, in \u001b[0;36mBlock.apply\u001b[0;34m(self, func, **kwargs)\u001b[0m\n\u001b[1;32m    345\u001b[0m \u001b[39m@final\u001b[39m\n\u001b[1;32m    346\u001b[0m \u001b[39mdef\u001b[39;00m \u001b[39mapply\u001b[39m(\u001b[39mself\u001b[39m, func, \u001b[39m*\u001b[39m\u001b[39m*\u001b[39mkwargs) \u001b[39m-\u001b[39m\u001b[39m>\u001b[39m \u001b[39mlist\u001b[39m[Block]:\n\u001b[1;32m    347\u001b[0m     \u001b[39m\"\"\"\u001b[39;00m\n\u001b[1;32m    348\u001b[0m \u001b[39m    apply the function to my values; return a block if we are not\u001b[39;00m\n\u001b[1;32m    349\u001b[0m \u001b[39m    one\u001b[39;00m\n\u001b[1;32m    350\u001b[0m \u001b[39m    \"\"\"\u001b[39;00m\n\u001b[0;32m--> 351\u001b[0m     result \u001b[39m=\u001b[39m func(\u001b[39mself\u001b[39;49m\u001b[39m.\u001b[39;49mvalues, \u001b[39m*\u001b[39;49m\u001b[39m*\u001b[39;49mkwargs)\n\u001b[1;32m    353\u001b[0m     \u001b[39mreturn\u001b[39;00m \u001b[39mself\u001b[39m\u001b[39m.\u001b[39m_split_op_result(result)\n",
      "File \u001b[0;32m~/anaconda3/envs/info/lib/python3.8/site-packages/pandas/core/ops/array_ops.py:226\u001b[0m, in \u001b[0;36marithmetic_op\u001b[0;34m(left, right, op)\u001b[0m\n\u001b[1;32m    222\u001b[0m     _bool_arith_check(op, left, right)\n\u001b[1;32m    224\u001b[0m     \u001b[39m# error: Argument 1 to \"_na_arithmetic_op\" has incompatible type\u001b[39;00m\n\u001b[1;32m    225\u001b[0m     \u001b[39m# \"Union[ExtensionArray, ndarray[Any, Any]]\"; expected \"ndarray[Any, Any]\"\u001b[39;00m\n\u001b[0;32m--> 226\u001b[0m     res_values \u001b[39m=\u001b[39m _na_arithmetic_op(left, right, op)  \u001b[39m# type: ignore[arg-type]\u001b[39;00m\n\u001b[1;32m    228\u001b[0m \u001b[39mreturn\u001b[39;00m res_values\n",
      "File \u001b[0;32m~/anaconda3/envs/info/lib/python3.8/site-packages/pandas/core/ops/array_ops.py:172\u001b[0m, in \u001b[0;36m_na_arithmetic_op\u001b[0;34m(left, right, op, is_cmp)\u001b[0m\n\u001b[1;32m    166\u001b[0m \u001b[39mexcept\u001b[39;00m \u001b[39mTypeError\u001b[39;00m:\n\u001b[1;32m    167\u001b[0m     \u001b[39mif\u001b[39;00m \u001b[39mnot\u001b[39;00m is_cmp \u001b[39mand\u001b[39;00m (is_object_dtype(left\u001b[39m.\u001b[39mdtype) \u001b[39mor\u001b[39;00m is_object_dtype(right)):\n\u001b[1;32m    168\u001b[0m         \u001b[39m# For object dtype, fallback to a masked operation (only operating\u001b[39;00m\n\u001b[1;32m    169\u001b[0m         \u001b[39m#  on the non-missing values)\u001b[39;00m\n\u001b[1;32m    170\u001b[0m         \u001b[39m# Don't do this for comparisons, as that will handle complex numbers\u001b[39;00m\n\u001b[1;32m    171\u001b[0m         \u001b[39m#  incorrectly, see GH#32047\u001b[39;00m\n\u001b[0;32m--> 172\u001b[0m         result \u001b[39m=\u001b[39m _masked_arith_op(left, right, op)\n\u001b[1;32m    173\u001b[0m     \u001b[39melse\u001b[39;00m:\n\u001b[1;32m    174\u001b[0m         \u001b[39mraise\u001b[39;00m\n",
      "File \u001b[0;32m~/anaconda3/envs/info/lib/python3.8/site-packages/pandas/core/ops/array_ops.py:129\u001b[0m, in \u001b[0;36m_masked_arith_op\u001b[0;34m(x, y, op)\u001b[0m\n\u001b[1;32m    126\u001b[0m         mask \u001b[39m=\u001b[39m np\u001b[39m.\u001b[39mwhere(y \u001b[39m==\u001b[39m \u001b[39m1\u001b[39m, \u001b[39mFalse\u001b[39;00m, mask)\n\u001b[1;32m    128\u001b[0m     \u001b[39mif\u001b[39;00m mask\u001b[39m.\u001b[39many():\n\u001b[0;32m--> 129\u001b[0m         result[mask] \u001b[39m=\u001b[39m op(xrav[mask], y)\n\u001b[1;32m    131\u001b[0m np\u001b[39m.\u001b[39mputmask(result, \u001b[39m~\u001b[39mmask, np\u001b[39m.\u001b[39mnan)\n\u001b[1;32m    132\u001b[0m result \u001b[39m=\u001b[39m result\u001b[39m.\u001b[39mreshape(x\u001b[39m.\u001b[39mshape)  \u001b[39m# 2D compat\u001b[39;00m\n",
      "\u001b[0;31mTypeError\u001b[0m: unsupported operand type(s) for /: 'str' and 'float'"
     ]
    }
   ],
   "source": [
    "class GraphInfo:\n",
    "    def __init__(self, edges: typing.Tuple[list, list], num_nodes: int):\n",
    "        self.edges = edges\n",
    "        self.num_nodes = num_nodes\n",
    "\n",
    "\n",
    "sigma2 = 0.1\n",
    "epsilon = 0.5\n",
    "adjacency_matrix = compute_adjacency_matrix(route_distances, sigma2, epsilon)\n",
    "node_indices, neighbor_indices = np.where(adjacency_matrix == 1)\n",
    "graph = GraphInfo(\n",
    "    edges=(node_indices.tolist(), neighbor_indices.tolist()),\n",
    "    num_nodes=adjacency_matrix.shape[0],\n",
    ")\n",
    "\n",
    "print(f\"number of nodes: {graph.num_nodes}, number of edges: {len(graph.edges[0])}\")"
   ]
  },
  {
   "cell_type": "code",
   "execution_count": null,
   "metadata": {},
   "outputs": [],
   "source": []
  }
 ],
 "metadata": {
  "kernelspec": {
   "display_name": "Python 3.8.13 ('info')",
   "language": "python",
   "name": "python3"
  },
  "language_info": {
   "codemirror_mode": {
    "name": "ipython",
    "version": 3
   },
   "file_extension": ".py",
   "mimetype": "text/x-python",
   "name": "python",
   "nbconvert_exporter": "python",
   "pygments_lexer": "ipython3",
   "version": "3.8.13"
  },
  "orig_nbformat": 4,
  "vscode": {
   "interpreter": {
    "hash": "c79a272989f05fea6b528a4bffe753ab8697c78cfe6ca3007c07adf2fb6d0072"
   }
  }
 },
 "nbformat": 4,
 "nbformat_minor": 2
}
