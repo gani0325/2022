{
 "cells": [
  {
   "cell_type": "markdown",
   "metadata": {},
   "source": [
    "## 다변량 시계열 데이터 (Multivariate Time Series Data) with VAR\n",
    "- https://dining-developer.tistory.com/32 를 참고하였습니다.\n",
    "- https://alpaca-gt.tistory.com/311 에 정리하였습니다."
   ]
  },
  {
   "cell_type": "markdown",
   "metadata": {},
   "source": [
    "#### 1. Library & data load"
   ]
  },
  {
   "cell_type": "code",
   "execution_count": 7,
   "metadata": {},
   "outputs": [],
   "source": [
    "import numpy as np\n",
    "import seaborn as sns\n",
    "import matplotlib.pyplot as plt\n",
    "import pandas as pd\n",
    "\n",
    "import statsmodels.api as sm\n",
    "from statsmodels.tsa.api import VAR\n",
    "from statsmodels.tsa.stattools import adfuller"
   ]
  },
  {
   "cell_type": "code",
   "execution_count": 8,
   "metadata": {},
   "outputs": [
    {
     "data": {
      "text/html": [
       "<div>\n",
       "<style scoped>\n",
       "    .dataframe tbody tr th:only-of-type {\n",
       "        vertical-align: middle;\n",
       "    }\n",
       "\n",
       "    .dataframe tbody tr th {\n",
       "        vertical-align: top;\n",
       "    }\n",
       "\n",
       "    .dataframe thead th {\n",
       "        text-align: right;\n",
       "    }\n",
       "</style>\n",
       "<table border=\"1\" class=\"dataframe\">\n",
       "  <thead>\n",
       "    <tr style=\"text-align: right;\">\n",
       "      <th></th>\n",
       "      <th>year</th>\n",
       "      <th>quarter</th>\n",
       "      <th>realgdp</th>\n",
       "      <th>realcons</th>\n",
       "      <th>realinv</th>\n",
       "      <th>realgovt</th>\n",
       "      <th>realdpi</th>\n",
       "      <th>cpi</th>\n",
       "      <th>m1</th>\n",
       "      <th>tbilrate</th>\n",
       "      <th>unemp</th>\n",
       "      <th>pop</th>\n",
       "      <th>infl</th>\n",
       "      <th>realint</th>\n",
       "    </tr>\n",
       "  </thead>\n",
       "  <tbody>\n",
       "    <tr>\n",
       "      <th>0</th>\n",
       "      <td>1959.0</td>\n",
       "      <td>1.0</td>\n",
       "      <td>2710.349</td>\n",
       "      <td>1707.4</td>\n",
       "      <td>286.898</td>\n",
       "      <td>470.045</td>\n",
       "      <td>1886.9</td>\n",
       "      <td>28.98</td>\n",
       "      <td>139.7</td>\n",
       "      <td>2.82</td>\n",
       "      <td>5.8</td>\n",
       "      <td>177.146</td>\n",
       "      <td>0.00</td>\n",
       "      <td>0.00</td>\n",
       "    </tr>\n",
       "    <tr>\n",
       "      <th>1</th>\n",
       "      <td>1959.0</td>\n",
       "      <td>2.0</td>\n",
       "      <td>2778.801</td>\n",
       "      <td>1733.7</td>\n",
       "      <td>310.859</td>\n",
       "      <td>481.301</td>\n",
       "      <td>1919.7</td>\n",
       "      <td>29.15</td>\n",
       "      <td>141.7</td>\n",
       "      <td>3.08</td>\n",
       "      <td>5.1</td>\n",
       "      <td>177.830</td>\n",
       "      <td>2.34</td>\n",
       "      <td>0.74</td>\n",
       "    </tr>\n",
       "    <tr>\n",
       "      <th>2</th>\n",
       "      <td>1959.0</td>\n",
       "      <td>3.0</td>\n",
       "      <td>2775.488</td>\n",
       "      <td>1751.8</td>\n",
       "      <td>289.226</td>\n",
       "      <td>491.260</td>\n",
       "      <td>1916.4</td>\n",
       "      <td>29.35</td>\n",
       "      <td>140.5</td>\n",
       "      <td>3.82</td>\n",
       "      <td>5.3</td>\n",
       "      <td>178.657</td>\n",
       "      <td>2.74</td>\n",
       "      <td>1.09</td>\n",
       "    </tr>\n",
       "    <tr>\n",
       "      <th>3</th>\n",
       "      <td>1959.0</td>\n",
       "      <td>4.0</td>\n",
       "      <td>2785.204</td>\n",
       "      <td>1753.7</td>\n",
       "      <td>299.356</td>\n",
       "      <td>484.052</td>\n",
       "      <td>1931.3</td>\n",
       "      <td>29.37</td>\n",
       "      <td>140.0</td>\n",
       "      <td>4.33</td>\n",
       "      <td>5.6</td>\n",
       "      <td>179.386</td>\n",
       "      <td>0.27</td>\n",
       "      <td>4.06</td>\n",
       "    </tr>\n",
       "    <tr>\n",
       "      <th>4</th>\n",
       "      <td>1960.0</td>\n",
       "      <td>1.0</td>\n",
       "      <td>2847.699</td>\n",
       "      <td>1770.5</td>\n",
       "      <td>331.722</td>\n",
       "      <td>462.199</td>\n",
       "      <td>1955.5</td>\n",
       "      <td>29.54</td>\n",
       "      <td>139.6</td>\n",
       "      <td>3.50</td>\n",
       "      <td>5.2</td>\n",
       "      <td>180.007</td>\n",
       "      <td>2.31</td>\n",
       "      <td>1.19</td>\n",
       "    </tr>\n",
       "  </tbody>\n",
       "</table>\n",
       "</div>"
      ],
      "text/plain": [
       "     year  quarter   realgdp  realcons  realinv  realgovt  realdpi    cpi  \\\n",
       "0  1959.0      1.0  2710.349    1707.4  286.898   470.045   1886.9  28.98   \n",
       "1  1959.0      2.0  2778.801    1733.7  310.859   481.301   1919.7  29.15   \n",
       "2  1959.0      3.0  2775.488    1751.8  289.226   491.260   1916.4  29.35   \n",
       "3  1959.0      4.0  2785.204    1753.7  299.356   484.052   1931.3  29.37   \n",
       "4  1960.0      1.0  2847.699    1770.5  331.722   462.199   1955.5  29.54   \n",
       "\n",
       "      m1  tbilrate  unemp      pop  infl  realint  \n",
       "0  139.7      2.82    5.8  177.146  0.00     0.00  \n",
       "1  141.7      3.08    5.1  177.830  2.34     0.74  \n",
       "2  140.5      3.82    5.3  178.657  2.74     1.09  \n",
       "3  140.0      4.33    5.6  179.386  0.27     4.06  \n",
       "4  139.6      3.50    5.2  180.007  2.31     1.19  "
      ]
     },
     "execution_count": 8,
     "metadata": {},
     "output_type": "execute_result"
    }
   ],
   "source": [
    "data = sm.datasets.macrodata.load_pandas().data     # 실질GDP 샘플\n",
    "data.head()"
   ]
  },
  {
   "cell_type": "markdown",
   "metadata": {},
   "source": [
    "- year, realgdp, realdpi 세가지만 사용"
   ]
  },
  {
   "cell_type": "code",
   "execution_count": 9,
   "metadata": {},
   "outputs": [
    {
     "data": {
      "text/html": [
       "<div>\n",
       "<style scoped>\n",
       "    .dataframe tbody tr th:only-of-type {\n",
       "        vertical-align: middle;\n",
       "    }\n",
       "\n",
       "    .dataframe tbody tr th {\n",
       "        vertical-align: top;\n",
       "    }\n",
       "\n",
       "    .dataframe thead th {\n",
       "        text-align: right;\n",
       "    }\n",
       "</style>\n",
       "<table border=\"1\" class=\"dataframe\">\n",
       "  <thead>\n",
       "    <tr style=\"text-align: right;\">\n",
       "      <th></th>\n",
       "      <th>realgdp</th>\n",
       "      <th>realdpi</th>\n",
       "    </tr>\n",
       "    <tr>\n",
       "      <th>year</th>\n",
       "      <th></th>\n",
       "      <th></th>\n",
       "    </tr>\n",
       "  </thead>\n",
       "  <tbody>\n",
       "    <tr>\n",
       "      <th>1959.0</th>\n",
       "      <td>2710.349</td>\n",
       "      <td>1886.9</td>\n",
       "    </tr>\n",
       "    <tr>\n",
       "      <th>1959.0</th>\n",
       "      <td>2778.801</td>\n",
       "      <td>1919.7</td>\n",
       "    </tr>\n",
       "    <tr>\n",
       "      <th>1959.0</th>\n",
       "      <td>2775.488</td>\n",
       "      <td>1916.4</td>\n",
       "    </tr>\n",
       "    <tr>\n",
       "      <th>1959.0</th>\n",
       "      <td>2785.204</td>\n",
       "      <td>1931.3</td>\n",
       "    </tr>\n",
       "    <tr>\n",
       "      <th>1960.0</th>\n",
       "      <td>2847.699</td>\n",
       "      <td>1955.5</td>\n",
       "    </tr>\n",
       "  </tbody>\n",
       "</table>\n",
       "</div>"
      ],
      "text/plain": [
       "         realgdp  realdpi\n",
       "year                     \n",
       "1959.0  2710.349   1886.9\n",
       "1959.0  2778.801   1919.7\n",
       "1959.0  2775.488   1916.4\n",
       "1959.0  2785.204   1931.3\n",
       "1960.0  2847.699   1955.5"
      ]
     },
     "execution_count": 9,
     "metadata": {},
     "output_type": "execute_result"
    }
   ],
   "source": [
    "mydata = data[[\"realgdp\", 'realdpi']]\n",
    "mydata.index = data[\"year\"]\n",
    "mydata.head()"
   ]
  },
  {
   "cell_type": "markdown",
   "metadata": {},
   "source": [
    "- Stationary time series\n",
    "     + 데이터가 정상성을 가진다는 의미는 데이터의 평균과 분산이 안정되어 있어 분석하기 쉬움\n",
    "     + VAR을 적용시켜보기 전에 두 시계열 변수가 모두 stationay 상태이어야 함"
   ]
  },
  {
   "cell_type": "code",
   "execution_count": 10,
   "metadata": {},
   "outputs": [
    {
     "data": {
      "text/plain": [
       "<AxesSubplot:xlabel='year'>"
      ]
     },
     "execution_count": 10,
     "metadata": {},
     "output_type": "execute_result"
    },
    {
     "data": {
      "image/png": "[encoded data removed]",
      "text/plain": [
       "<Figure size 800x500 with 1 Axes>"
      ]
     },
     "metadata": {},
     "output_type": "display_data"
    }
   ],
   "source": [
    "mydata.plot(figsize = (8,5))"
   ]
  },
  {
   "cell_type": "markdown",
   "metadata": {},
   "source": [
    "#### 2. AIC 기준을 사용"
   ]
  },
  {
   "cell_type": "markdown",
   "metadata": {},
   "source": [
    "- 데이터의 stationarity를 찾기 위해 ADF(Advanced Dickey-Fuller test)와 같은 통계적 테스트를 수행"
   ]
  },
  {
   "cell_type": "code",
   "execution_count": 11,
   "metadata": {},
   "outputs": [
    {
     "name": "stdout",
     "output_type": "stream",
     "text": [
      "ADF test statistic: 1.7504627967647106\n",
      "p-value: 0.9982455372335032\n"
     ]
    }
   ],
   "source": [
    "adfuller_test = adfuller(mydata['realgdp'], autolag= \"AIC\")\n",
    "\n",
    "print(\"ADF test statistic: {}\".format(adfuller_test[0]))\n",
    "print(\"p-value: {}\".format(adfuller_test[1]))"
   ]
  },
  {
   "cell_type": "code",
   "execution_count": 12,
   "metadata": {},
   "outputs": [
    {
     "name": "stdout",
     "output_type": "stream",
     "text": [
      "ADF test statistic: 2.9860253519546878\n",
      "p-value: 1.0\n"
     ]
    }
   ],
   "source": [
    "adfuller_test = adfuller(mydata['realdpi'], autolag= \"AIC\")\n",
    "\n",
    "print(\"ADF test statistic: {}\".format(adfuller_test[0]))\n",
    "print(\"p-value: {}\".format(adfuller_test[1]))"
   ]
  },
  {
   "cell_type": "markdown",
   "metadata": {},
   "source": [
    "#### 3. differencing (차분)"
   ]
  },
  {
   "cell_type": "code",
   "execution_count": 13,
   "metadata": {},
   "outputs": [],
   "source": [
    "mydata_diff = mydata.diff().dropna()"
   ]
  },
  {
   "cell_type": "code",
   "execution_count": 14,
   "metadata": {},
   "outputs": [
    {
     "name": "stdout",
     "output_type": "stream",
     "text": [
      "ADF test statistic: -6.305695561658104\n",
      "p-value: 3.327882187668259e-08\n"
     ]
    }
   ],
   "source": [
    "adfuller_test = adfuller(mydata_diff['realgdp'], autolag= \"AIC\")\n",
    "print(\"ADF test statistic: {}\".format(adfuller_test[0]))\n",
    "print(\"p-value: {}\".format(adfuller_test[1]))"
   ]
  },
  {
   "cell_type": "code",
   "execution_count": 16,
   "metadata": {},
   "outputs": [
    {
     "name": "stdout",
     "output_type": "stream",
     "text": [
      "ADF test statistic: -8.86489334067301\n",
      "p-value: 1.4493606159107938e-14\n"
     ]
    }
   ],
   "source": [
    "adfuller_test = adfuller(mydata_diff['realdpi'], autolag= \"AIC\")\n",
    "print(\"ADF test statistic: {}\".format(adfuller_test[0]))\n",
    "print(\"p-value: {}\".format(adfuller_test[1]))"
   ]
  },
  {
   "cell_type": "markdown",
   "metadata": {},
   "source": [
    "#### 4. 모델링"
   ]
  },
  {
   "cell_type": "markdown",
   "metadata": {},
   "source": [
    "- 마지막 10일은 test 나머지는 train"
   ]
  },
  {
   "cell_type": "code",
   "execution_count": 17,
   "metadata": {},
   "outputs": [],
   "source": [
    "train = mydata_diff.iloc[:-10,:]\n",
    "test = mydata_diff.iloc[-10:,:]"
   ]
  },
  {
   "cell_type": "code",
   "execution_count": 18,
   "metadata": {},
   "outputs": [
    {
     "data": {
      "text/html": [
       "<div>\n",
       "<style scoped>\n",
       "    .dataframe tbody tr th:only-of-type {\n",
       "        vertical-align: middle;\n",
       "    }\n",
       "\n",
       "    .dataframe tbody tr th {\n",
       "        vertical-align: top;\n",
       "    }\n",
       "\n",
       "    .dataframe thead th {\n",
       "        text-align: right;\n",
       "    }\n",
       "</style>\n",
       "<table border=\"1\" class=\"dataframe\">\n",
       "  <thead>\n",
       "    <tr style=\"text-align: right;\">\n",
       "      <th></th>\n",
       "      <th>realgdp</th>\n",
       "      <th>realdpi</th>\n",
       "    </tr>\n",
       "    <tr>\n",
       "      <th>year</th>\n",
       "      <th></th>\n",
       "      <th></th>\n",
       "    </tr>\n",
       "  </thead>\n",
       "  <tbody>\n",
       "    <tr>\n",
       "      <th>1959.0</th>\n",
       "      <td>68.452</td>\n",
       "      <td>32.8</td>\n",
       "    </tr>\n",
       "    <tr>\n",
       "      <th>1959.0</th>\n",
       "      <td>-3.313</td>\n",
       "      <td>-3.3</td>\n",
       "    </tr>\n",
       "    <tr>\n",
       "      <th>1959.0</th>\n",
       "      <td>9.716</td>\n",
       "      <td>14.9</td>\n",
       "    </tr>\n",
       "    <tr>\n",
       "      <th>1960.0</th>\n",
       "      <td>62.495</td>\n",
       "      <td>24.2</td>\n",
       "    </tr>\n",
       "    <tr>\n",
       "      <th>1960.0</th>\n",
       "      <td>-13.309</td>\n",
       "      <td>10.6</td>\n",
       "    </tr>\n",
       "    <tr>\n",
       "      <th>...</th>\n",
       "      <td>...</td>\n",
       "      <td>...</td>\n",
       "    </tr>\n",
       "    <tr>\n",
       "      <th>2006.0</th>\n",
       "      <td>167.239</td>\n",
       "      <td>175.1</td>\n",
       "    </tr>\n",
       "    <tr>\n",
       "      <th>2006.0</th>\n",
       "      <td>46.524</td>\n",
       "      <td>83.5</td>\n",
       "    </tr>\n",
       "    <tr>\n",
       "      <th>2006.0</th>\n",
       "      <td>3.454</td>\n",
       "      <td>45.2</td>\n",
       "    </tr>\n",
       "    <tr>\n",
       "      <th>2006.0</th>\n",
       "      <td>94.763</td>\n",
       "      <td>126.3</td>\n",
       "    </tr>\n",
       "    <tr>\n",
       "      <th>2007.0</th>\n",
       "      <td>39.222</td>\n",
       "      <td>41.4</td>\n",
       "    </tr>\n",
       "  </tbody>\n",
       "</table>\n",
       "<p>192 rows × 2 columns</p>\n",
       "</div>"
      ],
      "text/plain": [
       "        realgdp  realdpi\n",
       "year                    \n",
       "1959.0   68.452     32.8\n",
       "1959.0   -3.313     -3.3\n",
       "1959.0    9.716     14.9\n",
       "1960.0   62.495     24.2\n",
       "1960.0  -13.309     10.6\n",
       "...         ...      ...\n",
       "2006.0  167.239    175.1\n",
       "2006.0   46.524     83.5\n",
       "2006.0    3.454     45.2\n",
       "2006.0   94.763    126.3\n",
       "2007.0   39.222     41.4\n",
       "\n",
       "[192 rows x 2 columns]"
      ]
     },
     "execution_count": 18,
     "metadata": {},
     "output_type": "execute_result"
    }
   ],
   "source": [
    "train"
   ]
  },
  {
   "cell_type": "markdown",
   "metadata": {},
   "source": [
    "- VAR모델의 최적 순서\n",
    "    - 최적의 모델을 찾기 위한 기준 AIC(Akaike's Information Criterion)를 모델 선택 기준\n",
    "    - 최상의 AIC점수를 바탕으로 VAR의 순서(p)를 선택\n",
    "    - AIC는 일반적으로 모델이 너무 복잡하다는 이유로 불이익을 주곤 하는데 복잡한 모델은 일부 다른 모델 선택 기준에서 약간 더 나은 성능을 보여 줄 수 있음\n",
    "    - 순서(p) 검색 시 변곡점이 예상되는데, 이는 일정 순서가 될 때까지 순서 p가 커지면 AIC점수가 감소하고, 이후 점수가 높아지기 시작한다"
   ]
  },
  {
   "cell_type": "markdown",
   "metadata": {},
   "source": [
    "- grid-search를 수행해서 최적의 p\n",
    "    - fit으로 VAR 모델을 학습\n",
    "    - 1부터 10까지 적합한 순서에 대한 AIC 점수를 찾기 위해 반복문을 통해 grid-search"
   ]
  },
  {
   "cell_type": "code",
   "execution_count": 19,
   "metadata": {},
   "outputs": [
    {
     "name": "stderr",
     "output_type": "stream",
     "text": [
      "/home/ubuntu/anaconda3/envs/info/lib/python3.8/site-packages/statsmodels/tsa/base/tsa_model.py:471: ValueWarning: An unsupported index was provided and will be ignored when e.g. forecasting.\n",
      "  self._init_dates(dates, freq)\n"
     ]
    }
   ],
   "source": [
    "forecasting_model = VAR(train)\n",
    "results_aic = []\n",
    "\n",
    "for p in range(1,10):\n",
    "  results = forecasting_model.fit(p)\n",
    "  results_aic.append(results.aic)"
   ]
  },
  {
   "cell_type": "markdown",
   "metadata": {},
   "source": [
    "- 결과 그래프에서 가장 낮은 AIC점수는 2이고, 그 이후 p가 커짐에 따라 증가 추세\n",
    "    - VAR모델의 최적 순서는 2"
   ]
  },
  {
   "cell_type": "code",
   "execution_count": 20,
   "metadata": {},
   "outputs": [
    {
     "data": {
      "image/png": "[encoded data removed]",
      "text/plain": [
       "<Figure size 640x480 with 1 Axes>"
      ]
     },
     "metadata": {},
     "output_type": "display_data"
    }
   ],
   "source": [
    "sns.set()\n",
    "plt.plot(list(np.arange(1,10,1)), results_aic)\n",
    "plt.xlabel(\"Order\")\n",
    "plt.ylabel(\"AIC\")\n",
    "plt.show()"
   ]
  },
  {
   "cell_type": "markdown",
   "metadata": {},
   "source": [
    "- 모형에 순서 2로 fit 시키고 요약 결과"
   ]
  },
  {
   "cell_type": "code",
   "execution_count": 21,
   "metadata": {},
   "outputs": [
    {
     "data": {
      "text/plain": [
       "  Summary of Regression Results   \n",
       "==================================\n",
       "Model:                         VAR\n",
       "Method:                        OLS\n",
       "Date:           Wed, 28, Sep, 2022\n",
       "Time:                     10:10:12\n",
       "--------------------------------------------------------------------\n",
       "No. of Equations:         2.00000    BIC:                    15.5043\n",
       "Nobs:                     190.000    HQIC:                   15.4026\n",
       "Log likelihood:          -1985.87    FPE:                4.56270e+06\n",
       "AIC:                      15.3334    Det(Omega_mle):     4.33171e+06\n",
       "--------------------------------------------------------------------\n",
       "Results for equation realgdp\n",
       "=============================================================================\n",
       "                coefficient       std. error           t-stat            prob\n",
       "-----------------------------------------------------------------------------\n",
       "const             23.807343         6.111430            3.896           0.000\n",
       "L1.realgdp         0.176227         0.078131            2.256           0.024\n",
       "L1.realdpi         0.213713         0.085309            2.505           0.012\n",
       "L2.realgdp         0.211259         0.075926            2.782           0.005\n",
       "L2.realdpi         0.018103         0.087131            0.208           0.835\n",
       "=============================================================================\n",
       "\n",
       "Results for equation realdpi\n",
       "=============================================================================\n",
       "                coefficient       std. error           t-stat            prob\n",
       "-----------------------------------------------------------------------------\n",
       "const             29.557677         5.688065            5.196           0.000\n",
       "L1.realgdp         0.246371         0.072718            3.388           0.001\n",
       "L1.realdpi        -0.182692         0.079399           -2.301           0.021\n",
       "L2.realgdp         0.048001         0.070667            0.679           0.497\n",
       "L2.realdpi         0.091316         0.081095            1.126           0.260\n",
       "=============================================================================\n",
       "\n",
       "Correlation matrix of residuals\n",
       "            realgdp   realdpi\n",
       "realgdp    1.000000  0.386669\n",
       "realdpi    0.386669  1.000000\n",
       "\n"
      ]
     },
     "execution_count": 21,
     "metadata": {},
     "output_type": "execute_result"
    }
   ],
   "source": [
    "results = forecasting_model.fit(2)\n",
    "results.summary()"
   ]
  },
  {
   "cell_type": "markdown",
   "metadata": {},
   "source": [
    "#### 5. 예측하기"
   ]
  },
  {
   "cell_type": "markdown",
   "metadata": {},
   "source": [
    "- 학습된 모델에 2일 동안의 훈련을 넣어 향후 10일 동안의 테스트 데이터를 예측"
   ]
  },
  {
   "cell_type": "code",
   "execution_count": 22,
   "metadata": {},
   "outputs": [
    {
     "data": {
      "text/html": [
       "<div>\n",
       "<style scoped>\n",
       "    .dataframe tbody tr th:only-of-type {\n",
       "        vertical-align: middle;\n",
       "    }\n",
       "\n",
       "    .dataframe tbody tr th {\n",
       "        vertical-align: top;\n",
       "    }\n",
       "\n",
       "    .dataframe thead th {\n",
       "        text-align: right;\n",
       "    }\n",
       "</style>\n",
       "<table border=\"1\" class=\"dataframe\">\n",
       "  <thead>\n",
       "    <tr style=\"text-align: right;\">\n",
       "      <th></th>\n",
       "      <th>realgdp_1d</th>\n",
       "      <th>realdpi_1d</th>\n",
       "    </tr>\n",
       "    <tr>\n",
       "      <th>year</th>\n",
       "      <th></th>\n",
       "      <th></th>\n",
       "    </tr>\n",
       "  </thead>\n",
       "  <tbody>\n",
       "    <tr>\n",
       "      <th>2007.0</th>\n",
       "      <td>61.872982</td>\n",
       "      <td>47.739232</td>\n",
       "    </tr>\n",
       "    <tr>\n",
       "      <th>2007.0</th>\n",
       "      <td>53.948996</td>\n",
       "      <td>41.742951</td>\n",
       "    </tr>\n",
       "    <tr>\n",
       "      <th>2007.0</th>\n",
       "      <td>56.171082</td>\n",
       "      <td>42.552316</td>\n",
       "    </tr>\n",
       "    <tr>\n",
       "      <th>2008.0</th>\n",
       "      <td>54.953081</td>\n",
       "      <td>42.023999</td>\n",
       "    </tr>\n",
       "    <tr>\n",
       "      <th>2008.0</th>\n",
       "      <td>55.109616</td>\n",
       "      <td>42.001007</td>\n",
       "    </tr>\n",
       "    <tr>\n",
       "      <th>2008.0</th>\n",
       "      <td>54.865410</td>\n",
       "      <td>41.937065</td>\n",
       "    </tr>\n",
       "    <tr>\n",
       "      <th>2008.0</th>\n",
       "      <td>54.841362</td>\n",
       "      <td>41.893996</td>\n",
       "    </tr>\n",
       "    <tr>\n",
       "      <th>2009.0</th>\n",
       "      <td>54.775171</td>\n",
       "      <td>41.878378</td>\n",
       "    </tr>\n",
       "    <tr>\n",
       "      <th>2009.0</th>\n",
       "      <td>54.754309</td>\n",
       "      <td>41.859837</td>\n",
       "    </tr>\n",
       "    <tr>\n",
       "      <th>2009.0</th>\n",
       "      <td>54.732404</td>\n",
       "      <td>41.853481</td>\n",
       "    </tr>\n",
       "  </tbody>\n",
       "</table>\n",
       "</div>"
      ],
      "text/plain": [
       "        realgdp_1d  realdpi_1d\n",
       "year                          \n",
       "2007.0   61.872982   47.739232\n",
       "2007.0   53.948996   41.742951\n",
       "2007.0   56.171082   42.552316\n",
       "2008.0   54.953081   42.023999\n",
       "2008.0   55.109616   42.001007\n",
       "2008.0   54.865410   41.937065\n",
       "2008.0   54.841362   41.893996\n",
       "2009.0   54.775171   41.878378\n",
       "2009.0   54.754309   41.859837\n",
       "2009.0   54.732404   41.853481"
      ]
     },
     "execution_count": 22,
     "metadata": {},
     "output_type": "execute_result"
    }
   ],
   "source": [
    "laaged_values = train.values[-2:]\n",
    "forecast = pd.DataFrame(results.forecast(y= laaged_values, steps=10), index = test.index, columns= ['realgdp_1d', 'realdpi_1d'])\n",
    "forecast"
   ]
  },
  {
   "cell_type": "markdown",
   "metadata": {},
   "source": [
    "- 언급한 예측이 차분(diffencing)에 대한 모델에 대한 것\n",
    "- 차분을 더하여 우리가 예측해야 할 값으로 만들기\n",
    "    - 왼쪽(_1d)은 차분에 대한 예측값\n",
    "    - 오른쪽 (_forcasted)은 원래 시리즈에 대한 예측값"
   ]
  },
  {
   "cell_type": "code",
   "execution_count": 23,
   "metadata": {},
   "outputs": [
    {
     "data": {
      "text/html": [
       "<div>\n",
       "<style scoped>\n",
       "    .dataframe tbody tr th:only-of-type {\n",
       "        vertical-align: middle;\n",
       "    }\n",
       "\n",
       "    .dataframe tbody tr th {\n",
       "        vertical-align: top;\n",
       "    }\n",
       "\n",
       "    .dataframe thead th {\n",
       "        text-align: right;\n",
       "    }\n",
       "</style>\n",
       "<table border=\"1\" class=\"dataframe\">\n",
       "  <thead>\n",
       "    <tr style=\"text-align: right;\">\n",
       "      <th></th>\n",
       "      <th>realgdp_1d</th>\n",
       "      <th>realdpi_1d</th>\n",
       "      <th>realgdp_forecasted</th>\n",
       "      <th>realdpi_forecasted</th>\n",
       "    </tr>\n",
       "    <tr>\n",
       "      <th>year</th>\n",
       "      <th></th>\n",
       "      <th></th>\n",
       "      <th></th>\n",
       "      <th></th>\n",
       "    </tr>\n",
       "  </thead>\n",
       "  <tbody>\n",
       "    <tr>\n",
       "      <th>2007.0</th>\n",
       "      <td>61.872982</td>\n",
       "      <td>47.739232</td>\n",
       "      <td>13161.773982</td>\n",
       "      <td>9877.939232</td>\n",
       "    </tr>\n",
       "    <tr>\n",
       "      <th>2007.0</th>\n",
       "      <td>53.948996</td>\n",
       "      <td>41.742951</td>\n",
       "      <td>13215.722978</td>\n",
       "      <td>9919.682183</td>\n",
       "    </tr>\n",
       "    <tr>\n",
       "      <th>2007.0</th>\n",
       "      <td>56.171082</td>\n",
       "      <td>42.552316</td>\n",
       "      <td>13271.894060</td>\n",
       "      <td>9962.234500</td>\n",
       "    </tr>\n",
       "    <tr>\n",
       "      <th>2008.0</th>\n",
       "      <td>54.953081</td>\n",
       "      <td>42.023999</td>\n",
       "      <td>13326.847141</td>\n",
       "      <td>10004.258499</td>\n",
       "    </tr>\n",
       "    <tr>\n",
       "      <th>2008.0</th>\n",
       "      <td>55.109616</td>\n",
       "      <td>42.001007</td>\n",
       "      <td>13381.956757</td>\n",
       "      <td>10046.259506</td>\n",
       "    </tr>\n",
       "    <tr>\n",
       "      <th>2008.0</th>\n",
       "      <td>54.865410</td>\n",
       "      <td>41.937065</td>\n",
       "      <td>13436.822166</td>\n",
       "      <td>10088.196571</td>\n",
       "    </tr>\n",
       "    <tr>\n",
       "      <th>2008.0</th>\n",
       "      <td>54.841362</td>\n",
       "      <td>41.893996</td>\n",
       "      <td>13491.663528</td>\n",
       "      <td>10130.090566</td>\n",
       "    </tr>\n",
       "    <tr>\n",
       "      <th>2009.0</th>\n",
       "      <td>54.775171</td>\n",
       "      <td>41.878378</td>\n",
       "      <td>13546.438699</td>\n",
       "      <td>10171.968945</td>\n",
       "    </tr>\n",
       "    <tr>\n",
       "      <th>2009.0</th>\n",
       "      <td>54.754309</td>\n",
       "      <td>41.859837</td>\n",
       "      <td>13601.193008</td>\n",
       "      <td>10213.828781</td>\n",
       "    </tr>\n",
       "    <tr>\n",
       "      <th>2009.0</th>\n",
       "      <td>54.732404</td>\n",
       "      <td>41.853481</td>\n",
       "      <td>13655.925412</td>\n",
       "      <td>10255.682262</td>\n",
       "    </tr>\n",
       "  </tbody>\n",
       "</table>\n",
       "</div>"
      ],
      "text/plain": [
       "        realgdp_1d  realdpi_1d  realgdp_forecasted  realdpi_forecasted\n",
       "year                                                                  \n",
       "2007.0   61.872982   47.739232        13161.773982         9877.939232\n",
       "2007.0   53.948996   41.742951        13215.722978         9919.682183\n",
       "2007.0   56.171082   42.552316        13271.894060         9962.234500\n",
       "2008.0   54.953081   42.023999        13326.847141        10004.258499\n",
       "2008.0   55.109616   42.001007        13381.956757        10046.259506\n",
       "2008.0   54.865410   41.937065        13436.822166        10088.196571\n",
       "2008.0   54.841362   41.893996        13491.663528        10130.090566\n",
       "2009.0   54.775171   41.878378        13546.438699        10171.968945\n",
       "2009.0   54.754309   41.859837        13601.193008        10213.828781\n",
       "2009.0   54.732404   41.853481        13655.925412        10255.682262"
      ]
     },
     "execution_count": 23,
     "metadata": {},
     "output_type": "execute_result"
    }
   ],
   "source": [
    "forecast[\"realgdp_forecasted\"] = mydata[\"realgdp\"].iloc[-10-1] + forecast['realgdp_1d'].cumsum()\n",
    "forecast[\"realdpi_forecasted\"] = mydata[\"realdpi\"].iloc[-10-1] + forecast['realdpi_1d'].cumsum() \n",
    "forecast"
   ]
  },
  {
   "cell_type": "markdown",
   "metadata": {},
   "source": [
    "- 실제 test 셋과 합쳐서 시각화\n",
    "    - realdpi와 realdpi_forecasted는 비슷한 패턴\n",
    "    - realgdp와 realgdp_forecasted는 절반 정도는 비슷하다가 다른 패턴"
   ]
  },
  {
   "cell_type": "code",
   "execution_count": 24,
   "metadata": {},
   "outputs": [
    {
     "name": "stderr",
     "output_type": "stream",
     "text": [
      "/tmp/ipykernel_3612/3591658555.py:2: SettingWithCopyWarning: \n",
      "A value is trying to be set on a copy of a slice from a DataFrame.\n",
      "Try using .loc[row_indexer,col_indexer] = value instead\n",
      "\n",
      "See the caveats in the documentation: https://pandas.pydata.org/pandas-docs/stable/user_guide/indexing.html#returning-a-view-versus-a-copy\n",
      "  test[\"realgdp_forecasted\"] = forecast[\"realgdp_forecasted\"]\n",
      "/tmp/ipykernel_3612/3591658555.py:3: SettingWithCopyWarning: \n",
      "A value is trying to be set on a copy of a slice from a DataFrame.\n",
      "Try using .loc[row_indexer,col_indexer] = value instead\n",
      "\n",
      "See the caveats in the documentation: https://pandas.pydata.org/pandas-docs/stable/user_guide/indexing.html#returning-a-view-versus-a-copy\n",
      "  test[\"realdpi_forecasted\"] = forecast[\"realdpi_forecasted\"]\n"
     ]
    },
    {
     "data": {
      "text/plain": [
       "<AxesSubplot:xlabel='year'>"
      ]
     },
     "execution_count": 24,
     "metadata": {},
     "output_type": "execute_result"
    },
    {
     "data": {
      "image/png": "[encoded data removed]",
      "text/plain": [
       "<Figure size 640x480 with 1 Axes>"
      ]
     },
     "metadata": {},
     "output_type": "display_data"
    }
   ],
   "source": [
    "test = mydata.iloc[-10:,:]\n",
    "test[\"realgdp_forecasted\"] = forecast[\"realgdp_forecasted\"]\n",
    "test[\"realdpi_forecasted\"] = forecast[\"realdpi_forecasted\"]\n",
    "test.plot()"
   ]
  }
 ],
 "metadata": {
  "kernelspec": {
   "display_name": "Python 3.8.13 ('info': conda)",
   "language": "python",
   "name": "python3"
  },
  "language_info": {
   "codemirror_mode": {
    "name": "ipython",
    "version": 3
   },
   "file_extension": ".py",
   "mimetype": "text/x-python",
   "name": "python",
   "nbconvert_exporter": "python",
   "pygments_lexer": "ipython3",
   "version": "3.8.13"
  },
  "orig_nbformat": 4,
  "vscode": {
   "interpreter": {
    "hash": "c79a272989f05fea6b528a4bffe753ab8697c78cfe6ca3007c07adf2fb6d0072"
   }
  }
 },
 "nbformat": 4,
 "nbformat_minor": 2
}
