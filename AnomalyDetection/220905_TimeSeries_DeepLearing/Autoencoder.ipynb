{
 "cells": [
  {
   "cell_type": "markdown",
   "metadata": {},
   "source": [
    "https://kr.mathworks.com/help/deeplearning/ug/time-series-anomaly-detection-using-deep-learning.html"
   ]
  },
  {
   "cell_type": "markdown",
   "metadata": {},
   "source": [
    "## Time Series Anomaly Detection Using Deep Learning\n",
    "#### **autoencoder**\n",
    "- 오토인코더는 입력을 저차원 공간으로 변환(인코딩 단계)하고 저차원 표현에서 입력을 재구성(디코딩 단계)하여 입력을 복제하도록 훈련된 모델\n",
    "- 훈련에는 레이블이 지정된 데이터가 필요하지 않음\n",
    "- 관측값이 비정상인지 확인하려면 관측값을 네트워크에 입력하고 원래 관측값과 재구성된 관측값 사이의 오차를 측정\n",
    "\n",
    "    - 원래 관측치와 재구성된 관측치 사이에 큰 오류가 있다는 것은 원래 관측치에 오토인코더를 훈련하는 데 사용된 데이터를 나타내지 않는 기능이 포함되어 있고 이상하다는 것\n",
    "    - 원본 시퀀스와 재구성된 시퀀스 사이의 요소별 오류를 관찰하여 비정상 영역의 국부적 영역을 식별"
   ]
  }
 ],
 "metadata": {
  "kernelspec": {
   "display_name": "Python 3.8.13 ('info': conda)",
   "language": "python",
   "name": "python3"
  },
  "language_info": {
   "codemirror_mode": {
    "name": "ipython",
    "version": 3
   },
   "file_extension": ".py",
   "mimetype": "text/x-python",
   "name": "python",
   "nbconvert_exporter": "python",
   "pygments_lexer": "ipython3",
   "version": "3.8.13"
  },
  "orig_nbformat": 4,
  "vscode": {
   "interpreter": {
    "hash": "c79a272989f05fea6b528a4bffe753ab8697c78cfe6ca3007c07adf2fb6d0072"
   }
  }
 },
 "nbformat": 4,
 "nbformat_minor": 2
}
