{
 "cells": [
  {
   "cell_type": "code",
   "execution_count": 81,
   "id": "b336eb82",
   "metadata": {},
   "outputs": [],
   "source": [
    "import pandas as pd\n",
    "import numpy as np\n",
    "import re\n",
    "import requests"
   ]
  },
  {
   "cell_type": "markdown",
   "id": "659d004e",
   "metadata": {},
   "source": [
    "## 영어가사 한글 번역 - 최종) Rest Api 이용\n",
    "* 영어 한글 혼합된 경우 번역이 제대로 되지 않는 문제 발생 "
   ]
  },
  {
   "cell_type": "code",
   "execution_count": 2,
   "id": "89584cfb",
   "metadata": {},
   "outputs": [],
   "source": [
    "data=pd.read_csv('멜론가사크롤링2010to2021.csv')"
   ]
  },
  {
   "cell_type": "code",
   "execution_count": 3,
   "id": "43b18962",
   "metadata": {},
   "outputs": [],
   "source": [
    "eng_lyrics=data[data['lyrics'].apply ( lambda x : x.upper()!=x.lower())] #영어가 들어간 문장 추출 "
   ]
  },
  {
   "cell_type": "code",
   "execution_count": 4,
   "id": "7c578fec",
   "metadata": {},
   "outputs": [
    {
     "name": "stdout",
     "output_type": "stream",
     "text": [
      "총 글자 수는 : 318354 자 입니다.\n"
     ]
    }
   ],
   "source": [
    "#영어 글자 수 확인용 \n",
    "글자수=pd.DataFrame()\n",
    "글자수=글자수.append(eng_lyrics.lyrics.apply(lambda x : len(x)))\n",
    "글자수=글자수.transpose()\n",
    "print('총 글자 수는 :',round(글자수.lyrics.sum()),'자 입니다.')"
   ]
  },
  {
   "cell_type": "markdown",
   "id": "2c66d5af",
   "metadata": {},
   "source": [
    "# Google Translate  \n",
    "5000자 까지 번역 가능 -> 우리가 적용하기에는 부족함"
   ]
  },
  {
   "cell_type": "code",
   "execution_count": 23,
   "id": "d1d2d8f3",
   "metadata": {},
   "outputs": [],
   "source": [
    "from googletrans import Translator #5000자까지 가능\n",
    "translator= Translator()\n",
    "\n",
    "trans=pd.DataFrame()\n",
    "for i in range(num_split): \n",
    "    translator= Translator()\n",
    "    split_df=data[plus*i:plus*(i+1)]\n",
    "    trans=trans.append(split_df['lyrics'].apply(lambda x : translator.translate(x,dest='ko').text))\n",
    "    \n"
   ]
  },
  {
   "cell_type": "markdown",
   "id": "962b03f1",
   "metadata": {},
   "source": [
    "# Google Cloud Translate\n",
    "아래의 방법의 경우 50만자 이하까지 무료, 그 이상의 경우 결제가 됨  \n",
    "다른 방법을 찾자"
   ]
  },
  {
   "cell_type": "code",
   "execution_count": 37,
   "id": "4038995a",
   "metadata": {},
   "outputs": [
    {
     "data": {
      "text/plain": [
       "'내 마음에서 멀리'"
      ]
     },
     "execution_count": 37,
     "metadata": {},
     "output_type": "execute_result"
    }
   ],
   "source": [
    "# 500000자 이상 돌리면 결제 됨\n",
    "from google.cloud import translate_v2 as translate\n",
    "#환경변수 설정\n",
    "GOOGLE_APPLICATION_CREDENTIALS = 'C:/Users/user/Desktop/보아즈/분석 base/감성분석/translateapi-353704-b6b347eb1216.json' #발급받은 api 위치 \n",
    "client = translate.Client()\n",
    "client.translate(eng_lyrics['lyrics'][128], target_language='ko')['translatedText']"
   ]
  },
  {
   "cell_type": "markdown",
   "id": "f17779f1",
   "metadata": {},
   "source": [
    "# Rest Api 이용"
   ]
  },
  {
   "cell_type": "code",
   "execution_count": 30,
   "id": "4807f855",
   "metadata": {},
   "outputs": [],
   "source": [
    "#rest API 이용\n",
    "import requests\n",
    "class Translate :\n",
    "    base_url = \"http://translate.googleapis.com/translate_a/single\"\n",
    "    languages=['en','ko']\n",
    "    \n",
    "    def __init__(self, target_lang='en',encoding='utf-8'):\n",
    "        self.target_lang = target_lang\n",
    "        self.params = {'client':'gtx', 'sl':'auto' , 'dt':'t','ie':encoding}\n",
    "        \n",
    "    def request(self,content):\n",
    "        res=requests.get(url=Translate.base_url, params={**self.params, 'tl': self.target_lang, 'q':content})\n",
    "        res.raise_for_status()\n",
    "        return \"\".join([caption[0] for caption in list(res.json())[0]])\n",
    "    \n",
    "t=Translate('ko')\n",
    "    \n",
    "# while True :\n",
    "#     print(t.request(input()))"
   ]
  },
  {
   "cell_type": "code",
   "execution_count": 15,
   "id": "a7244779",
   "metadata": {},
   "outputs": [
    {
     "data": {
      "text/plain": [
       "'넌 날 몰라'"
      ]
     },
     "execution_count": 15,
     "metadata": {},
     "output_type": "execute_result"
    }
   ],
   "source": [
    "#Rest Api 사용 방법\n",
    "t.request(eng_lyrics['lyrics'][0])"
   ]
  },
  {
   "cell_type": "markdown",
   "id": "3b3d283a",
   "metadata": {},
   "source": [
    "번역 진행상황을 확인하기 위하여 반복문으로 돌려줌"
   ]
  },
  {
   "cell_type": "code",
   "execution_count": 41,
   "id": "6de0c4df",
   "metadata": {},
   "outputs": [
    {
     "name": "stderr",
     "output_type": "stream",
     "text": [
      "C:\\Users\\user\\anaconda3\\lib\\site-packages\\ipykernel_launcher.py:5: SettingWithCopyWarning: \n",
      "A value is trying to be set on a copy of a slice from a DataFrame.\n",
      "Try using .loc[row_indexer,col_indexer] = value instead\n",
      "\n",
      "See the caveats in the documentation: https://pandas.pydata.org/pandas-docs/stable/user_guide/indexing.html#returning-a-view-versus-a-copy\n",
      "  \"\"\"\n"
     ]
    },
    {
     "name": "stdout",
     "output_type": "stream",
     "text": [
      "2010 년도 노래 가사 번역 완료\n",
      "2011 년도 노래 가사 번역 완료\n",
      "2012 년도 노래 가사 번역 완료\n",
      "2013 년도 노래 가사 번역 완료\n",
      "2014 년도 노래 가사 번역 완료\n",
      "2015 년도 노래 가사 번역 완료\n",
      "2016 년도 노래 가사 번역 완료\n",
      "2017 년도 노래 가사 번역 완료\n",
      "2018 년도 노래 가사 번역 완료\n",
      "2019 년도 노래 가사 번역 완료\n",
      "2020 년도 노래 가사 번역 완료\n",
      "2021 년도 노래 가사 번역 완료\n"
     ]
    },
    {
     "data": {
      "text/html": [
       "<div>\n",
       "<style scoped>\n",
       "    .dataframe tbody tr th:only-of-type {\n",
       "        vertical-align: middle;\n",
       "    }\n",
       "\n",
       "    .dataframe tbody tr th {\n",
       "        vertical-align: top;\n",
       "    }\n",
       "\n",
       "    .dataframe thead th {\n",
       "        text-align: right;\n",
       "    }\n",
       "</style>\n",
       "<table border=\"1\" class=\"dataframe\">\n",
       "  <thead>\n",
       "    <tr style=\"text-align: right;\">\n",
       "      <th></th>\n",
       "      <th>lyrics</th>\n",
       "      <th>artist</th>\n",
       "      <th>song_name</th>\n",
       "      <th>Year</th>\n",
       "      <th>trans_lyrics</th>\n",
       "    </tr>\n",
       "  </thead>\n",
       "  <tbody>\n",
       "    <tr>\n",
       "      <th>0</th>\n",
       "      <td>You don't know me</td>\n",
       "      <td>미쓰에이</td>\n",
       "      <td>Bad Girl Good Girl</td>\n",
       "      <td>2010</td>\n",
       "      <td>넌 날 몰라</td>\n",
       "    </tr>\n",
       "    <tr>\n",
       "      <th>1</th>\n",
       "      <td>You don't know me</td>\n",
       "      <td>미쓰에이</td>\n",
       "      <td>Bad Girl Good Girl</td>\n",
       "      <td>2010</td>\n",
       "      <td>넌 날 몰라</td>\n",
       "    </tr>\n",
       "    <tr>\n",
       "      <th>2</th>\n",
       "      <td>You don't know me</td>\n",
       "      <td>미쓰에이</td>\n",
       "      <td>Bad Girl Good Girl</td>\n",
       "      <td>2010</td>\n",
       "      <td>넌 날 몰라</td>\n",
       "    </tr>\n",
       "    <tr>\n",
       "      <th>3</th>\n",
       "      <td>You don't know me</td>\n",
       "      <td>미쓰에이</td>\n",
       "      <td>Bad Girl Good Girl</td>\n",
       "      <td>2010</td>\n",
       "      <td>넌 날 몰라</td>\n",
       "    </tr>\n",
       "    <tr>\n",
       "      <th>4</th>\n",
       "      <td>So shut off boy</td>\n",
       "      <td>미쓰에이</td>\n",
       "      <td>Bad Girl Good Girl</td>\n",
       "      <td>2010</td>\n",
       "      <td>그러니 꺼져 소년</td>\n",
       "    </tr>\n",
       "    <tr>\n",
       "      <th>...</th>\n",
       "      <td>...</td>\n",
       "      <td>...</td>\n",
       "      <td>...</td>\n",
       "      <td>...</td>\n",
       "      <td>...</td>\n",
       "    </tr>\n",
       "    <tr>\n",
       "      <th>67267</th>\n",
       "      <td>for the happy ending</td>\n",
       "      <td>릴보이 (lIlBOI)</td>\n",
       "      <td>CREDIT (Feat. 염따, 기리보이, Zion.T)</td>\n",
       "      <td>2021</td>\n",
       "      <td>해피엔딩을 위해</td>\n",
       "    </tr>\n",
       "    <tr>\n",
       "      <th>67271</th>\n",
       "      <td>I wish I make it till the last day</td>\n",
       "      <td>릴보이 (lIlBOI)</td>\n",
       "      <td>CREDIT (Feat. 염따, 기리보이, Zion.T)</td>\n",
       "      <td>2021</td>\n",
       "      <td>마지막날까지 했으면 좋겠다</td>\n",
       "    </tr>\n",
       "    <tr>\n",
       "      <th>67272</th>\n",
       "      <td>I wish I make it till the last day</td>\n",
       "      <td>릴보이 (lIlBOI)</td>\n",
       "      <td>CREDIT (Feat. 염따, 기리보이, Zion.T)</td>\n",
       "      <td>2021</td>\n",
       "      <td>마지막날까지 했으면 좋겠다</td>\n",
       "    </tr>\n",
       "    <tr>\n",
       "      <th>67273</th>\n",
       "      <td>I wish I make it till the last day</td>\n",
       "      <td>릴보이 (lIlBOI)</td>\n",
       "      <td>CREDIT (Feat. 염따, 기리보이, Zion.T)</td>\n",
       "      <td>2021</td>\n",
       "      <td>마지막날까지 했으면 좋겠다</td>\n",
       "    </tr>\n",
       "    <tr>\n",
       "      <th>67274</th>\n",
       "      <td>I wish I make it till the last</td>\n",
       "      <td>릴보이 (lIlBOI)</td>\n",
       "      <td>CREDIT (Feat. 염따, 기리보이, Zion.T)</td>\n",
       "      <td>2021</td>\n",
       "      <td>마지막까지 했으면 좋겠다</td>\n",
       "    </tr>\n",
       "  </tbody>\n",
       "</table>\n",
       "<p>16810 rows × 5 columns</p>\n",
       "</div>"
      ],
      "text/plain": [
       "                                   lyrics        artist  \\\n",
       "0                       You don't know me          미쓰에이   \n",
       "1                       You don't know me          미쓰에이   \n",
       "2                       You don't know me          미쓰에이   \n",
       "3                       You don't know me          미쓰에이   \n",
       "4                         So shut off boy          미쓰에이   \n",
       "...                                   ...           ...   \n",
       "67267                for the happy ending  릴보이 (lIlBOI)   \n",
       "67271  I wish I make it till the last day  릴보이 (lIlBOI)   \n",
       "67272  I wish I make it till the last day  릴보이 (lIlBOI)   \n",
       "67273  I wish I make it till the last day  릴보이 (lIlBOI)   \n",
       "67274      I wish I make it till the last  릴보이 (lIlBOI)   \n",
       "\n",
       "                             song_name  Year    trans_lyrics  \n",
       "0                   Bad Girl Good Girl  2010          넌 날 몰라  \n",
       "1                   Bad Girl Good Girl  2010          넌 날 몰라  \n",
       "2                   Bad Girl Good Girl  2010          넌 날 몰라  \n",
       "3                   Bad Girl Good Girl  2010          넌 날 몰라  \n",
       "4                   Bad Girl Good Girl  2010       그러니 꺼져 소년  \n",
       "...                                ...   ...             ...  \n",
       "67267  CREDIT (Feat. 염따, 기리보이, Zion.T)  2021        해피엔딩을 위해  \n",
       "67271  CREDIT (Feat. 염따, 기리보이, Zion.T)  2021  마지막날까지 했으면 좋겠다  \n",
       "67272  CREDIT (Feat. 염따, 기리보이, Zion.T)  2021  마지막날까지 했으면 좋겠다  \n",
       "67273  CREDIT (Feat. 염따, 기리보이, Zion.T)  2021  마지막날까지 했으면 좋겠다  \n",
       "67274  CREDIT (Feat. 염따, 기리보이, Zion.T)  2021   마지막까지 했으면 좋겠다  \n",
       "\n",
       "[16810 rows x 5 columns]"
      ]
     },
     "execution_count": 41,
     "metadata": {},
     "output_type": "execute_result"
    }
   ],
   "source": [
    "all_df_year=pd.DataFrame()\n",
    "for year in range(2010,2022) :\n",
    "    df_year=eng_lyrics[eng_lyrics.Year==year] \n",
    "\n",
    "    df_year['trans_lyrics']=df_year['lyrics'].apply(lambda x : t.request(x))\n",
    "    all_df_year=all_df_year.append(df_year)\n",
    "    print(year,\"년도 노래 가사 번역 완료\")\n",
    "\n",
    "all_df_year"
   ]
  },
  {
   "cell_type": "code",
   "execution_count": 42,
   "id": "c3884e28",
   "metadata": {},
   "outputs": [],
   "source": [
    "# all_df_year.to_csv('가사번역_영어가사만.csv',index=True)"
   ]
  },
  {
   "cell_type": "markdown",
   "id": "b5dc9054",
   "metadata": {},
   "source": [
    "기존 데이터프레임에 trans_lyrics 합쳐주기"
   ]
  },
  {
   "cell_type": "code",
   "execution_count": 76,
   "id": "0ce71361",
   "metadata": {},
   "outputs": [
    {
     "data": {
      "text/html": [
       "<div>\n",
       "<style scoped>\n",
       "    .dataframe tbody tr th:only-of-type {\n",
       "        vertical-align: middle;\n",
       "    }\n",
       "\n",
       "    .dataframe tbody tr th {\n",
       "        vertical-align: top;\n",
       "    }\n",
       "\n",
       "    .dataframe thead th {\n",
       "        text-align: right;\n",
       "    }\n",
       "</style>\n",
       "<table border=\"1\" class=\"dataframe\">\n",
       "  <thead>\n",
       "    <tr style=\"text-align: right;\">\n",
       "      <th></th>\n",
       "      <th>lyrics</th>\n",
       "      <th>artist</th>\n",
       "      <th>song_name</th>\n",
       "      <th>Year</th>\n",
       "      <th>trans_lyrics</th>\n",
       "    </tr>\n",
       "  </thead>\n",
       "  <tbody>\n",
       "    <tr>\n",
       "      <th>0</th>\n",
       "      <td>You don't know me</td>\n",
       "      <td>미쓰에이</td>\n",
       "      <td>Bad Girl Good Girl</td>\n",
       "      <td>2010</td>\n",
       "      <td>넌 날 몰라</td>\n",
       "    </tr>\n",
       "    <tr>\n",
       "      <th>1</th>\n",
       "      <td>You don't know me</td>\n",
       "      <td>미쓰에이</td>\n",
       "      <td>Bad Girl Good Girl</td>\n",
       "      <td>2010</td>\n",
       "      <td>넌 날 몰라</td>\n",
       "    </tr>\n",
       "    <tr>\n",
       "      <th>2</th>\n",
       "      <td>You don't know me</td>\n",
       "      <td>미쓰에이</td>\n",
       "      <td>Bad Girl Good Girl</td>\n",
       "      <td>2010</td>\n",
       "      <td>넌 날 몰라</td>\n",
       "    </tr>\n",
       "    <tr>\n",
       "      <th>3</th>\n",
       "      <td>You don't know me</td>\n",
       "      <td>미쓰에이</td>\n",
       "      <td>Bad Girl Good Girl</td>\n",
       "      <td>2010</td>\n",
       "      <td>넌 날 몰라</td>\n",
       "    </tr>\n",
       "    <tr>\n",
       "      <th>4</th>\n",
       "      <td>So shut off boy</td>\n",
       "      <td>미쓰에이</td>\n",
       "      <td>Bad Girl Good Girl</td>\n",
       "      <td>2010</td>\n",
       "      <td>그러니 꺼져 소년</td>\n",
       "    </tr>\n",
       "    <tr>\n",
       "      <th>...</th>\n",
       "      <td>...</td>\n",
       "      <td>...</td>\n",
       "      <td>...</td>\n",
       "      <td>...</td>\n",
       "      <td>...</td>\n",
       "    </tr>\n",
       "    <tr>\n",
       "      <th>67270</th>\n",
       "      <td>끝이 아니길</td>\n",
       "      <td>릴보이 (lIlBOI)</td>\n",
       "      <td>CREDIT (Feat. 염따, 기리보이, Zion.T)</td>\n",
       "      <td>2021</td>\n",
       "      <td>NaN</td>\n",
       "    </tr>\n",
       "    <tr>\n",
       "      <th>67271</th>\n",
       "      <td>I wish I make it till the last day</td>\n",
       "      <td>릴보이 (lIlBOI)</td>\n",
       "      <td>CREDIT (Feat. 염따, 기리보이, Zion.T)</td>\n",
       "      <td>2021</td>\n",
       "      <td>마지막날까지 했으면 좋겠다</td>\n",
       "    </tr>\n",
       "    <tr>\n",
       "      <th>67272</th>\n",
       "      <td>I wish I make it till the last day</td>\n",
       "      <td>릴보이 (lIlBOI)</td>\n",
       "      <td>CREDIT (Feat. 염따, 기리보이, Zion.T)</td>\n",
       "      <td>2021</td>\n",
       "      <td>마지막날까지 했으면 좋겠다</td>\n",
       "    </tr>\n",
       "    <tr>\n",
       "      <th>67273</th>\n",
       "      <td>I wish I make it till the last day</td>\n",
       "      <td>릴보이 (lIlBOI)</td>\n",
       "      <td>CREDIT (Feat. 염따, 기리보이, Zion.T)</td>\n",
       "      <td>2021</td>\n",
       "      <td>마지막날까지 했으면 좋겠다</td>\n",
       "    </tr>\n",
       "    <tr>\n",
       "      <th>67274</th>\n",
       "      <td>I wish I make it till the last</td>\n",
       "      <td>릴보이 (lIlBOI)</td>\n",
       "      <td>CREDIT (Feat. 염따, 기리보이, Zion.T)</td>\n",
       "      <td>2021</td>\n",
       "      <td>마지막까지 했으면 좋겠다</td>\n",
       "    </tr>\n",
       "  </tbody>\n",
       "</table>\n",
       "<p>67275 rows × 5 columns</p>\n",
       "</div>"
      ],
      "text/plain": [
       "                                   lyrics        artist  \\\n",
       "0                       You don't know me          미쓰에이   \n",
       "1                       You don't know me          미쓰에이   \n",
       "2                       You don't know me          미쓰에이   \n",
       "3                       You don't know me          미쓰에이   \n",
       "4                         So shut off boy          미쓰에이   \n",
       "...                                   ...           ...   \n",
       "67270                              끝이 아니길  릴보이 (lIlBOI)   \n",
       "67271  I wish I make it till the last day  릴보이 (lIlBOI)   \n",
       "67272  I wish I make it till the last day  릴보이 (lIlBOI)   \n",
       "67273  I wish I make it till the last day  릴보이 (lIlBOI)   \n",
       "67274      I wish I make it till the last  릴보이 (lIlBOI)   \n",
       "\n",
       "                             song_name  Year    trans_lyrics  \n",
       "0                   Bad Girl Good Girl  2010          넌 날 몰라  \n",
       "1                   Bad Girl Good Girl  2010          넌 날 몰라  \n",
       "2                   Bad Girl Good Girl  2010          넌 날 몰라  \n",
       "3                   Bad Girl Good Girl  2010          넌 날 몰라  \n",
       "4                   Bad Girl Good Girl  2010       그러니 꺼져 소년  \n",
       "...                                ...   ...             ...  \n",
       "67270  CREDIT (Feat. 염따, 기리보이, Zion.T)  2021             NaN  \n",
       "67271  CREDIT (Feat. 염따, 기리보이, Zion.T)  2021  마지막날까지 했으면 좋겠다  \n",
       "67272  CREDIT (Feat. 염따, 기리보이, Zion.T)  2021  마지막날까지 했으면 좋겠다  \n",
       "67273  CREDIT (Feat. 염따, 기리보이, Zion.T)  2021  마지막날까지 했으면 좋겠다  \n",
       "67274  CREDIT (Feat. 염따, 기리보이, Zion.T)  2021   마지막까지 했으면 좋겠다  \n",
       "\n",
       "[67275 rows x 5 columns]"
      ]
     },
     "execution_count": 76,
     "metadata": {},
     "output_type": "execute_result"
    }
   ],
   "source": [
    " trans_df=pd.merge(data, all_df_year['trans_lyrics'], left_index=True, right_index=True,  how='left') ;trans_df"
   ]
  },
  {
   "cell_type": "markdown",
   "id": "15eb02d8",
   "metadata": {},
   "source": [
    "nan 값은 기존의 가사로 채워주기"
   ]
  },
  {
   "cell_type": "code",
   "execution_count": 77,
   "id": "535b104d",
   "metadata": {},
   "outputs": [
    {
     "name": "stderr",
     "output_type": "stream",
     "text": [
      "C:\\Users\\user\\anaconda3\\lib\\site-packages\\ipykernel_launcher.py:1: SettingWithCopyWarning: \n",
      "A value is trying to be set on a copy of a slice from a DataFrame\n",
      "\n",
      "See the caveats in the documentation: https://pandas.pydata.org/pandas-docs/stable/user_guide/indexing.html#returning-a-view-versus-a-copy\n",
      "  \"\"\"Entry point for launching an IPython kernel.\n"
     ]
    },
    {
     "data": {
      "text/html": [
       "<div>\n",
       "<style scoped>\n",
       "    .dataframe tbody tr th:only-of-type {\n",
       "        vertical-align: middle;\n",
       "    }\n",
       "\n",
       "    .dataframe tbody tr th {\n",
       "        vertical-align: top;\n",
       "    }\n",
       "\n",
       "    .dataframe thead th {\n",
       "        text-align: right;\n",
       "    }\n",
       "</style>\n",
       "<table border=\"1\" class=\"dataframe\">\n",
       "  <thead>\n",
       "    <tr style=\"text-align: right;\">\n",
       "      <th></th>\n",
       "      <th>lyrics</th>\n",
       "      <th>artist</th>\n",
       "      <th>song_name</th>\n",
       "      <th>Year</th>\n",
       "      <th>trans_lyrics</th>\n",
       "    </tr>\n",
       "  </thead>\n",
       "  <tbody>\n",
       "    <tr>\n",
       "      <th>0</th>\n",
       "      <td>You don't know me</td>\n",
       "      <td>미쓰에이</td>\n",
       "      <td>Bad Girl Good Girl</td>\n",
       "      <td>2010</td>\n",
       "      <td>넌 날 몰라</td>\n",
       "    </tr>\n",
       "    <tr>\n",
       "      <th>1</th>\n",
       "      <td>You don't know me</td>\n",
       "      <td>미쓰에이</td>\n",
       "      <td>Bad Girl Good Girl</td>\n",
       "      <td>2010</td>\n",
       "      <td>넌 날 몰라</td>\n",
       "    </tr>\n",
       "    <tr>\n",
       "      <th>2</th>\n",
       "      <td>You don't know me</td>\n",
       "      <td>미쓰에이</td>\n",
       "      <td>Bad Girl Good Girl</td>\n",
       "      <td>2010</td>\n",
       "      <td>넌 날 몰라</td>\n",
       "    </tr>\n",
       "    <tr>\n",
       "      <th>3</th>\n",
       "      <td>You don't know me</td>\n",
       "      <td>미쓰에이</td>\n",
       "      <td>Bad Girl Good Girl</td>\n",
       "      <td>2010</td>\n",
       "      <td>넌 날 몰라</td>\n",
       "    </tr>\n",
       "    <tr>\n",
       "      <th>4</th>\n",
       "      <td>So shut off boy</td>\n",
       "      <td>미쓰에이</td>\n",
       "      <td>Bad Girl Good Girl</td>\n",
       "      <td>2010</td>\n",
       "      <td>그러니 꺼져 소년</td>\n",
       "    </tr>\n",
       "    <tr>\n",
       "      <th>...</th>\n",
       "      <td>...</td>\n",
       "      <td>...</td>\n",
       "      <td>...</td>\n",
       "      <td>...</td>\n",
       "      <td>...</td>\n",
       "    </tr>\n",
       "    <tr>\n",
       "      <th>67270</th>\n",
       "      <td>끝이 아니길</td>\n",
       "      <td>릴보이 (lIlBOI)</td>\n",
       "      <td>CREDIT (Feat. 염따, 기리보이, Zion.T)</td>\n",
       "      <td>2021</td>\n",
       "      <td>끝이 아니길</td>\n",
       "    </tr>\n",
       "    <tr>\n",
       "      <th>67271</th>\n",
       "      <td>I wish I make it till the last day</td>\n",
       "      <td>릴보이 (lIlBOI)</td>\n",
       "      <td>CREDIT (Feat. 염따, 기리보이, Zion.T)</td>\n",
       "      <td>2021</td>\n",
       "      <td>마지막날까지 했으면 좋겠다</td>\n",
       "    </tr>\n",
       "    <tr>\n",
       "      <th>67272</th>\n",
       "      <td>I wish I make it till the last day</td>\n",
       "      <td>릴보이 (lIlBOI)</td>\n",
       "      <td>CREDIT (Feat. 염따, 기리보이, Zion.T)</td>\n",
       "      <td>2021</td>\n",
       "      <td>마지막날까지 했으면 좋겠다</td>\n",
       "    </tr>\n",
       "    <tr>\n",
       "      <th>67273</th>\n",
       "      <td>I wish I make it till the last day</td>\n",
       "      <td>릴보이 (lIlBOI)</td>\n",
       "      <td>CREDIT (Feat. 염따, 기리보이, Zion.T)</td>\n",
       "      <td>2021</td>\n",
       "      <td>마지막날까지 했으면 좋겠다</td>\n",
       "    </tr>\n",
       "    <tr>\n",
       "      <th>67274</th>\n",
       "      <td>I wish I make it till the last</td>\n",
       "      <td>릴보이 (lIlBOI)</td>\n",
       "      <td>CREDIT (Feat. 염따, 기리보이, Zion.T)</td>\n",
       "      <td>2021</td>\n",
       "      <td>마지막까지 했으면 좋겠다</td>\n",
       "    </tr>\n",
       "  </tbody>\n",
       "</table>\n",
       "<p>67275 rows × 5 columns</p>\n",
       "</div>"
      ],
      "text/plain": [
       "                                   lyrics        artist  \\\n",
       "0                       You don't know me          미쓰에이   \n",
       "1                       You don't know me          미쓰에이   \n",
       "2                       You don't know me          미쓰에이   \n",
       "3                       You don't know me          미쓰에이   \n",
       "4                         So shut off boy          미쓰에이   \n",
       "...                                   ...           ...   \n",
       "67270                              끝이 아니길  릴보이 (lIlBOI)   \n",
       "67271  I wish I make it till the last day  릴보이 (lIlBOI)   \n",
       "67272  I wish I make it till the last day  릴보이 (lIlBOI)   \n",
       "67273  I wish I make it till the last day  릴보이 (lIlBOI)   \n",
       "67274      I wish I make it till the last  릴보이 (lIlBOI)   \n",
       "\n",
       "                             song_name  Year    trans_lyrics  \n",
       "0                   Bad Girl Good Girl  2010          넌 날 몰라  \n",
       "1                   Bad Girl Good Girl  2010          넌 날 몰라  \n",
       "2                   Bad Girl Good Girl  2010          넌 날 몰라  \n",
       "3                   Bad Girl Good Girl  2010          넌 날 몰라  \n",
       "4                   Bad Girl Good Girl  2010       그러니 꺼져 소년  \n",
       "...                                ...   ...             ...  \n",
       "67270  CREDIT (Feat. 염따, 기리보이, Zion.T)  2021          끝이 아니길  \n",
       "67271  CREDIT (Feat. 염따, 기리보이, Zion.T)  2021  마지막날까지 했으면 좋겠다  \n",
       "67272  CREDIT (Feat. 염따, 기리보이, Zion.T)  2021  마지막날까지 했으면 좋겠다  \n",
       "67273  CREDIT (Feat. 염따, 기리보이, Zion.T)  2021  마지막날까지 했으면 좋겠다  \n",
       "67274  CREDIT (Feat. 염따, 기리보이, Zion.T)  2021   마지막까지 했으면 좋겠다  \n",
       "\n",
       "[67275 rows x 5 columns]"
      ]
     },
     "execution_count": 77,
     "metadata": {},
     "output_type": "execute_result"
    }
   ],
   "source": [
    "trans_df.trans_lyrics[trans_df['trans_lyrics'].isna()]=trans_df.lyrics\n",
    "trans_df"
   ]
  },
  {
   "cell_type": "code",
   "execution_count": 78,
   "id": "cd7b4dca",
   "metadata": {},
   "outputs": [],
   "source": [
    "# trans_df.to_csv('멜론2010_2021_가사번역포함.csv',index=False)"
   ]
  },
  {
   "cell_type": "markdown",
   "id": "78b3be50",
   "metadata": {},
   "source": [
    "# trans_lyrics 전처리  \n",
    "  \n",
    "문제 ) '겉으론 Bad girl' 처럼 영어 + 한글은 번역이 안됨    \n",
    "### 해결방법  \n",
    "    1. 영어가 들어간 문장을 삭제  => 선택\n",
    "    2. 영어만 삭제 ( ex) '겉으론 Bad girl' => '겉으론' ) => 문맥의 흐름이 이상해질 것이라 판단"
   ]
  },
  {
   "cell_type": "code",
   "execution_count": 112,
   "id": "2f0e118f",
   "metadata": {},
   "outputs": [],
   "source": [
    "#해결방법1\n",
    "final_data=trans_df[trans_df.lyrics.apply(lambda x : x.upper()==x.lower())]\n",
    "#해결방법2\n",
    "#trans_df.trans_lyrics.apply(lambda x : re.sub('[^ ㄱ-ㅣ가-힣+]','',x)).head(50)"
   ]
  },
  {
   "cell_type": "code",
   "execution_count": 113,
   "id": "7f5ae3cd",
   "metadata": {},
   "outputs": [],
   "source": [
    "final_data.drop(index=3004,inplace=True )#이상한 값 제거\n",
    "final_data.to_csv('최종멜론_2010to2021_노래가사크롤링.csv')"
   ]
  },
  {
   "cell_type": "code",
   "execution_count": null,
   "id": "717de9f9",
   "metadata": {},
   "outputs": [],
   "source": []
  }
 ],
 "metadata": {
  "kernelspec": {
   "display_name": "Python 3 (ipykernel)",
   "language": "python",
   "name": "python3"
  },
  "language_info": {
   "codemirror_mode": {
    "name": "ipython",
    "version": 3
   },
   "file_extension": ".py",
   "mimetype": "text/x-python",
   "name": "python",
   "nbconvert_exporter": "python",
   "pygments_lexer": "ipython3",
   "version": "3.7.11"
  }
 },
 "nbformat": 4,
 "nbformat_minor": 5
}
