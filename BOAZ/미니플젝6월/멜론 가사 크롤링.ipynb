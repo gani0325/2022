{
 "cells": [
  {
   "cell_type": "code",
   "execution_count": 1,
   "id": "c619fc0b",
   "metadata": {},
   "outputs": [],
   "source": [
    "import time\n",
    "import re\n",
    "import pandas as pd\n",
    "import requests\n",
    "from bs4 import BeautifulSoup\n",
    "from selenium import webdriver\n",
    "from selenium.webdriver.common.keys import Keys"
   ]
  },
  {
   "cell_type": "code",
   "execution_count": 2,
   "id": "98e8f0e8",
   "metadata": {},
   "outputs": [
    {
     "name": "stderr",
     "output_type": "stream",
     "text": [
      "C:\\Users\\user\\anaconda3\\lib\\site-packages\\ipykernel_launcher.py:3: DeprecationWarning: executable_path has been deprecated, please pass in a Service object\n",
      "  This is separate from the ipykernel package so we can avoid doing imports until\n"
     ]
    }
   ],
   "source": [
    "# webdriver_options = webdriver.ChromeOptions()\n",
    "# webdriver_options.add_argument('headless') \n",
    "driver = webdriver.Chrome('C:\\chromedriver_win32\\chromedriver.exe')"
   ]
  },
  {
   "cell_type": "markdown",
   "id": "573e0ced",
   "metadata": {},
   "source": [
    "## 멜론 연도별 top 100 가사 크롤링\n",
    "* 연령제한 걸려있는 노래가 있어 모두 가져오기 위해서는 로그인 하고 돌려야 함 \n",
    "* 로그인 하지 않아도 에러는 나지 않음! "
   ]
  },
  {
   "cell_type": "code",
   "execution_count": 17,
   "id": "d6db45c5",
   "metadata": {},
   "outputs": [
    {
     "name": "stderr",
     "output_type": "stream",
     "text": [
      "C:\\Users\\user\\anaconda3\\lib\\site-packages\\ipykernel_launcher.py:38: DeprecationWarning: find_elements_by_* commands are deprecated. Please use find_elements() instead\n",
      "C:\\Users\\user\\anaconda3\\lib\\site-packages\\ipykernel_launcher.py:40: DeprecationWarning: find_elements_by_* commands are deprecated. Please use find_elements() instead\n",
      "C:\\Users\\user\\anaconda3\\lib\\site-packages\\ipykernel_launcher.py:42: DeprecationWarning: find_elements_by_* commands are deprecated. Please use find_elements() instead\n"
     ]
    },
    {
     "name": "stdout",
     "output_type": "stream",
     "text": [
      "2010 년도 노래들을 모두 가져왔습니다.\n",
      "2011 년도 노래들을 모두 가져왔습니다.\n",
      "2012 년도 노래들을 모두 가져왔습니다.\n",
      "2013 년도 노래들을 모두 가져왔습니다.\n",
      "2014 년도 노래들을 모두 가져왔습니다.\n"
     ]
    }
   ],
   "source": [
    "all_data=pd.DataFrame()\n",
    "start = 2010 #시작 연도\n",
    "end = 2014 #끝나는 연도\n",
    "for year in range(start,end+1) :  #가져올 연도 지정 \n",
    "    \n",
    "    url=f'https://www.melon.com/chart/age/index.htm?chartType=YE&chartGenre=KPOP&chartDate={year}'\n",
    "    driver.get(url)\n",
    "    time.sleep(2)\n",
    "    html=driver.page_source\n",
    "    soup = BeautifulSoup(html, \"lxml\")\n",
    "\n",
    "\n",
    "    ###### 상세페이지 정보 가져오기 \n",
    "    detail_num=[]\n",
    "    #1~50위 노래 상세페이지 num 저장\n",
    "    for rank in range(50) :\n",
    "        detail=soup.select('tr.lst50>td.t_left>div.wrap>a')[rank]['onclick']\n",
    "        num=re.sub('[^0-9]','',detail)\n",
    "        detail_num.append(num) #숫자만 남기기\n",
    "\n",
    "    #50~100위 노래 상세페이지 num 저장\n",
    "    for rank in range(50) :\n",
    "        detail=soup.select('tr.lst100>td.t_left>div.wrap>a')[rank]['onclick']\n",
    "        num=re.sub('[^0-9]','',detail)\n",
    "        detail_num.append(num) #숫자만 남기기    \n",
    "\n",
    "    time.sleep(1)\n",
    "\n",
    "    ###### 20xx연도 top  n 가사 크롤링   \n",
    "    dataset=pd.DataFrame()\n",
    "    top = 100 # 상위 몇곡 가져올지 지정 가능\n",
    "    for i in range(top): \n",
    "        try :\n",
    "            driver.get('https://www.melon.com/song/detail.htm?songId={detail_num}'.format(detail_num=detail_num[i]))\n",
    "            time.sleep(2)\n",
    "            #가사,노래제목,가수 크롤링 함수 \n",
    "\n",
    "            lyric = driver.find_elements_by_class_name('lyric')[0].text #가사\n",
    "            time.sleep(0.5)\n",
    "            song_name = driver.find_elements_by_class_name('song_name')[0].text #노래제목 \n",
    "            time.sleep(0.5)\n",
    "            artist = driver.find_elements_by_class_name('artist')[0].text #가수 이름\n",
    "\n",
    "            lyrics = list(filter(None,lyric.split('\\n'))) # split 후 공백제거 \n",
    "            df=pd.DataFrame({'lyrics':lyrics})\n",
    "            df['artist']=artist\n",
    "            df['song_name']=song_name\n",
    "            df['Year']=year #연도추가\n",
    "            dataset=dataset.append(df) \n",
    "        except :\n",
    "            pass\n",
    "        \n",
    "        time.sleep(0.5)\n",
    "    print(year,'년도 노래들을 모두 가져왔습니다.')    \n",
    "    all_data=all_data.append(dataset)"
   ]
  },
  {
   "cell_type": "code",
   "execution_count": 18,
   "id": "21c76354",
   "metadata": {},
   "outputs": [],
   "source": [
    "data2=all_data"
   ]
  },
  {
   "cell_type": "code",
   "execution_count": 26,
   "id": "bd747fad",
   "metadata": {},
   "outputs": [
    {
     "data": {
      "text/html": [
       "<div>\n",
       "<style scoped>\n",
       "    .dataframe tbody tr th:only-of-type {\n",
       "        vertical-align: middle;\n",
       "    }\n",
       "\n",
       "    .dataframe tbody tr th {\n",
       "        vertical-align: top;\n",
       "    }\n",
       "\n",
       "    .dataframe thead th {\n",
       "        text-align: right;\n",
       "    }\n",
       "</style>\n",
       "<table border=\"1\" class=\"dataframe\">\n",
       "  <thead>\n",
       "    <tr style=\"text-align: right;\">\n",
       "      <th></th>\n",
       "      <th>lyrics</th>\n",
       "      <th>artist</th>\n",
       "      <th>song_name</th>\n",
       "      <th>Year</th>\n",
       "    </tr>\n",
       "  </thead>\n",
       "  <tbody>\n",
       "    <tr>\n",
       "      <th>0</th>\n",
       "      <td>You don't know me</td>\n",
       "      <td>미쓰에이</td>\n",
       "      <td>Bad Girl Good Girl</td>\n",
       "      <td>2010</td>\n",
       "    </tr>\n",
       "    <tr>\n",
       "      <th>1</th>\n",
       "      <td>You don't know me</td>\n",
       "      <td>미쓰에이</td>\n",
       "      <td>Bad Girl Good Girl</td>\n",
       "      <td>2010</td>\n",
       "    </tr>\n",
       "    <tr>\n",
       "      <th>2</th>\n",
       "      <td>You don't know me</td>\n",
       "      <td>미쓰에이</td>\n",
       "      <td>Bad Girl Good Girl</td>\n",
       "      <td>2010</td>\n",
       "    </tr>\n",
       "    <tr>\n",
       "      <th>3</th>\n",
       "      <td>You don't know me</td>\n",
       "      <td>미쓰에이</td>\n",
       "      <td>Bad Girl Good Girl</td>\n",
       "      <td>2010</td>\n",
       "    </tr>\n",
       "    <tr>\n",
       "      <th>4</th>\n",
       "      <td>So shut off boy</td>\n",
       "      <td>미쓰에이</td>\n",
       "      <td>Bad Girl Good Girl</td>\n",
       "      <td>2010</td>\n",
       "    </tr>\n",
       "    <tr>\n",
       "      <th>...</th>\n",
       "      <td>...</td>\n",
       "      <td>...</td>\n",
       "      <td>...</td>\n",
       "      <td>...</td>\n",
       "    </tr>\n",
       "    <tr>\n",
       "      <th>68</th>\n",
       "      <td>떡볶이 떡볶이 순대 순대</td>\n",
       "      <td>박명수</td>\n",
       "      <td>명수네 떡볶이 (Feat. 김예림, UL)</td>\n",
       "      <td>2014</td>\n",
       "    </tr>\n",
       "    <tr>\n",
       "      <th>69</th>\n",
       "      <td>말해봐 다 있어</td>\n",
       "      <td>박명수</td>\n",
       "      <td>명수네 떡볶이 (Feat. 김예림, UL)</td>\n",
       "      <td>2014</td>\n",
       "    </tr>\n",
       "    <tr>\n",
       "      <th>70</th>\n",
       "      <td>떡볶이 떡볶이 튀김 튀김</td>\n",
       "      <td>박명수</td>\n",
       "      <td>명수네 떡볶이 (Feat. 김예림, UL)</td>\n",
       "      <td>2014</td>\n",
       "    </tr>\n",
       "    <tr>\n",
       "      <th>71</th>\n",
       "      <td>떡볶이 떡볶이 김밥</td>\n",
       "      <td>박명수</td>\n",
       "      <td>명수네 떡볶이 (Feat. 김예림, UL)</td>\n",
       "      <td>2014</td>\n",
       "    </tr>\n",
       "    <tr>\n",
       "      <th>72</th>\n",
       "      <td>모두 다 있어</td>\n",
       "      <td>박명수</td>\n",
       "      <td>명수네 떡볶이 (Feat. 김예림, UL)</td>\n",
       "      <td>2014</td>\n",
       "    </tr>\n",
       "  </tbody>\n",
       "</table>\n",
       "<p>28707 rows × 4 columns</p>\n",
       "</div>"
      ],
      "text/plain": [
       "               lyrics artist                song_name  Year\n",
       "0   You don't know me   미쓰에이       Bad Girl Good Girl  2010\n",
       "1   You don't know me   미쓰에이       Bad Girl Good Girl  2010\n",
       "2   You don't know me   미쓰에이       Bad Girl Good Girl  2010\n",
       "3   You don't know me   미쓰에이       Bad Girl Good Girl  2010\n",
       "4     So shut off boy   미쓰에이       Bad Girl Good Girl  2010\n",
       "..                ...    ...                      ...   ...\n",
       "68      떡볶이 떡볶이 순대 순대    박명수  명수네 떡볶이 (Feat. 김예림, UL)  2014\n",
       "69           말해봐 다 있어    박명수  명수네 떡볶이 (Feat. 김예림, UL)  2014\n",
       "70      떡볶이 떡볶이 튀김 튀김    박명수  명수네 떡볶이 (Feat. 김예림, UL)  2014\n",
       "71         떡볶이 떡볶이 김밥    박명수  명수네 떡볶이 (Feat. 김예림, UL)  2014\n",
       "72            모두 다 있어    박명수  명수네 떡볶이 (Feat. 김예림, UL)  2014\n",
       "\n",
       "[28707 rows x 4 columns]"
      ]
     },
     "execution_count": 26,
     "metadata": {},
     "output_type": "execute_result"
    }
   ],
   "source": [
    "data2"
   ]
  },
  {
   "cell_type": "code",
   "execution_count": 15,
   "id": "97852059",
   "metadata": {},
   "outputs": [],
   "source": [
    "#data1.to_csv('멜론가사크롤링1.csv',index=False)\n",
    "#data2.to_csv('멜론가사크롤링2.csv',index=False)"
   ]
  },
  {
   "cell_type": "markdown",
   "id": "3a9046b1",
   "metadata": {},
   "source": [
    "* 혹시 모를 에러 방지를 위해 2번 나눠서 크롤링 진행"
   ]
  },
  {
   "cell_type": "code",
   "execution_count": 21,
   "id": "4e453405",
   "metadata": {},
   "outputs": [
    {
     "name": "stdout",
     "output_type": "stream",
     "text": [
      " 2010년부터 2014년까지 가져온 노래 개수는 475 곡 입니다.\n",
      " 2015년부터 2021년까지 가져온 노래 개수는 567 곡 입니다.\n"
     ]
    }
   ],
   "source": [
    "print(' 2010년부터 2014년까지 가져온 노래 개수는',len(data2.song_name.unique()),'곡 입니다.') #노래개수\n",
    "print(' 2015년부터 2021년까지 가져온 노래 개수는',len(data1.song_name.unique()),'곡 입니다.') #노래개수"
   ]
  },
  {
   "cell_type": "code",
   "execution_count": 43,
   "id": "b6d7d172",
   "metadata": {},
   "outputs": [
    {
     "name": "stdout",
     "output_type": "stream",
     "text": [
      " 2010년부터 2021년까지 가져온 노래 개수는 1025 곡 입니다.\n"
     ]
    }
   ],
   "source": [
    "data=pd.concat([data2,data1])\n",
    "print(' 2010년부터 2021년까지 가져온 노래 개수는',len(data.song_name.unique()),'곡 입니다.')"
   ]
  },
  {
   "cell_type": "code",
   "execution_count": null,
   "id": "6a69724e",
   "metadata": {},
   "outputs": [],
   "source": [
    "data.to_csv('멜론가사크롤링2010to2021.csv',index=False)"
   ]
  },
  {
   "cell_type": "code",
   "execution_count": 33,
   "id": "0fb87531",
   "metadata": {},
   "outputs": [],
   "source": [
    "#data=data.set_index('song_name')  # index 노래 제목으로 설정"
   ]
  },
  {
   "cell_type": "code",
   "execution_count": 54,
   "id": "07cc7bb4",
   "metadata": {},
   "outputs": [
    {
     "data": {
      "text/html": [
       "<div>\n",
       "<style scoped>\n",
       "    .dataframe tbody tr th:only-of-type {\n",
       "        vertical-align: middle;\n",
       "    }\n",
       "\n",
       "    .dataframe tbody tr th {\n",
       "        vertical-align: top;\n",
       "    }\n",
       "\n",
       "    .dataframe thead th {\n",
       "        text-align: right;\n",
       "    }\n",
       "</style>\n",
       "<table border=\"1\" class=\"dataframe\">\n",
       "  <thead>\n",
       "    <tr style=\"text-align: right;\">\n",
       "      <th></th>\n",
       "      <th>lyrics</th>\n",
       "      <th>artist</th>\n",
       "      <th>song_name</th>\n",
       "      <th>Year</th>\n",
       "    </tr>\n",
       "  </thead>\n",
       "  <tbody>\n",
       "    <tr>\n",
       "      <th>0</th>\n",
       "      <td>You don't know me</td>\n",
       "      <td>미쓰에이</td>\n",
       "      <td>Bad Girl Good Girl</td>\n",
       "      <td>2010</td>\n",
       "    </tr>\n",
       "    <tr>\n",
       "      <th>1</th>\n",
       "      <td>You don't know me</td>\n",
       "      <td>미쓰에이</td>\n",
       "      <td>Bad Girl Good Girl</td>\n",
       "      <td>2010</td>\n",
       "    </tr>\n",
       "    <tr>\n",
       "      <th>2</th>\n",
       "      <td>You don't know me</td>\n",
       "      <td>미쓰에이</td>\n",
       "      <td>Bad Girl Good Girl</td>\n",
       "      <td>2010</td>\n",
       "    </tr>\n",
       "    <tr>\n",
       "      <th>3</th>\n",
       "      <td>You don't know me</td>\n",
       "      <td>미쓰에이</td>\n",
       "      <td>Bad Girl Good Girl</td>\n",
       "      <td>2010</td>\n",
       "    </tr>\n",
       "    <tr>\n",
       "      <th>4</th>\n",
       "      <td>So shut off boy</td>\n",
       "      <td>미쓰에이</td>\n",
       "      <td>Bad Girl Good Girl</td>\n",
       "      <td>2010</td>\n",
       "    </tr>\n",
       "    <tr>\n",
       "      <th>...</th>\n",
       "      <td>...</td>\n",
       "      <td>...</td>\n",
       "      <td>...</td>\n",
       "      <td>...</td>\n",
       "    </tr>\n",
       "    <tr>\n",
       "      <th>90</th>\n",
       "      <td>끝이 아니길</td>\n",
       "      <td>릴보이 (lIlBOI)</td>\n",
       "      <td>CREDIT (Feat. 염따, 기리보이, Zion.T)</td>\n",
       "      <td>2021</td>\n",
       "    </tr>\n",
       "    <tr>\n",
       "      <th>91</th>\n",
       "      <td>I wish I make it till the last day</td>\n",
       "      <td>릴보이 (lIlBOI)</td>\n",
       "      <td>CREDIT (Feat. 염따, 기리보이, Zion.T)</td>\n",
       "      <td>2021</td>\n",
       "    </tr>\n",
       "    <tr>\n",
       "      <th>92</th>\n",
       "      <td>I wish I make it till the last day</td>\n",
       "      <td>릴보이 (lIlBOI)</td>\n",
       "      <td>CREDIT (Feat. 염따, 기리보이, Zion.T)</td>\n",
       "      <td>2021</td>\n",
       "    </tr>\n",
       "    <tr>\n",
       "      <th>93</th>\n",
       "      <td>I wish I make it till the last day</td>\n",
       "      <td>릴보이 (lIlBOI)</td>\n",
       "      <td>CREDIT (Feat. 염따, 기리보이, Zion.T)</td>\n",
       "      <td>2021</td>\n",
       "    </tr>\n",
       "    <tr>\n",
       "      <th>94</th>\n",
       "      <td>I wish I make it till the last</td>\n",
       "      <td>릴보이 (lIlBOI)</td>\n",
       "      <td>CREDIT (Feat. 염따, 기리보이, Zion.T)</td>\n",
       "      <td>2021</td>\n",
       "    </tr>\n",
       "  </tbody>\n",
       "</table>\n",
       "<p>67275 rows × 4 columns</p>\n",
       "</div>"
      ],
      "text/plain": [
       "                                lyrics        artist  \\\n",
       "0                    You don't know me          미쓰에이   \n",
       "1                    You don't know me          미쓰에이   \n",
       "2                    You don't know me          미쓰에이   \n",
       "3                    You don't know me          미쓰에이   \n",
       "4                      So shut off boy          미쓰에이   \n",
       "..                                 ...           ...   \n",
       "90                              끝이 아니길  릴보이 (lIlBOI)   \n",
       "91  I wish I make it till the last day  릴보이 (lIlBOI)   \n",
       "92  I wish I make it till the last day  릴보이 (lIlBOI)   \n",
       "93  I wish I make it till the last day  릴보이 (lIlBOI)   \n",
       "94      I wish I make it till the last  릴보이 (lIlBOI)   \n",
       "\n",
       "                          song_name  Year  \n",
       "0                Bad Girl Good Girl  2010  \n",
       "1                Bad Girl Good Girl  2010  \n",
       "2                Bad Girl Good Girl  2010  \n",
       "3                Bad Girl Good Girl  2010  \n",
       "4                Bad Girl Good Girl  2010  \n",
       "..                              ...   ...  \n",
       "90  CREDIT (Feat. 염따, 기리보이, Zion.T)  2021  \n",
       "91  CREDIT (Feat. 염따, 기리보이, Zion.T)  2021  \n",
       "92  CREDIT (Feat. 염따, 기리보이, Zion.T)  2021  \n",
       "93  CREDIT (Feat. 염따, 기리보이, Zion.T)  2021  \n",
       "94  CREDIT (Feat. 염따, 기리보이, Zion.T)  2021  \n",
       "\n",
       "[67275 rows x 4 columns]"
      ]
     },
     "execution_count": 54,
     "metadata": {},
     "output_type": "execute_result"
    }
   ],
   "source": [
    "data"
   ]
  },
  {
   "cell_type": "markdown",
   "id": "b799457d",
   "metadata": {},
   "source": [
    "## 영어가사 한글 번역"
   ]
  },
  {
   "cell_type": "code",
   "execution_count": 32,
   "id": "9fb378b5",
   "metadata": {
    "scrolled": true
   },
   "outputs": [
    {
     "name": "stdout",
     "output_type": "stream",
     "text": [
      "Collecting googletrans==4.0.0-rc1\n",
      "  Downloading googletrans-4.0.0rc1.tar.gz (20 kB)\n",
      "  Preparing metadata (setup.py): started\n",
      "  Preparing metadata (setup.py): finished with status 'done'\n",
      "Collecting httpx==0.13.3\n",
      "  Downloading httpx-0.13.3-py3-none-any.whl (55 kB)\n",
      "     ---------------------------------------- 55.1/55.1 KB 2.8 MB/s eta 0:00:00\n",
      "Collecting hstspreload\n",
      "  Downloading hstspreload-2021.12.1-py3-none-any.whl (1.3 MB)\n",
      "     ---------------------------------------- 1.3/1.3 MB 9.0 MB/s eta 0:00:00\n",
      "Collecting chardet==3.*\n",
      "  Downloading chardet-3.0.4-py2.py3-none-any.whl (133 kB)\n",
      "     -------------------------------------- 133.4/133.4 KB 4.0 MB/s eta 0:00:00\n",
      "Collecting idna==2.*\n",
      "  Downloading idna-2.10-py2.py3-none-any.whl (58 kB)\n",
      "     ---------------------------------------- 58.8/58.8 KB 3.2 MB/s eta 0:00:00\n",
      "Collecting rfc3986<2,>=1.3\n",
      "  Downloading rfc3986-1.5.0-py2.py3-none-any.whl (31 kB)\n",
      "Requirement already satisfied: sniffio in c:\\users\\user\\anaconda3\\lib\\site-packages (from httpx==0.13.3->googletrans==4.0.0-rc1) (1.2.0)\n",
      "Requirement already satisfied: certifi in c:\\users\\user\\anaconda3\\lib\\site-packages (from httpx==0.13.3->googletrans==4.0.0-rc1) (2022.5.18.1)\n",
      "Collecting httpcore==0.9.*\n",
      "  Downloading httpcore-0.9.1-py3-none-any.whl (42 kB)\n",
      "     ---------------------------------------- 42.6/42.6 KB 2.0 MB/s eta 0:00:00\n",
      "Collecting h2==3.*\n",
      "  Downloading h2-3.2.0-py2.py3-none-any.whl (65 kB)\n",
      "     ---------------------------------------- 65.0/65.0 KB 3.4 MB/s eta 0:00:00\n",
      "Collecting h11<0.10,>=0.8\n",
      "  Downloading h11-0.9.0-py2.py3-none-any.whl (53 kB)\n",
      "     ---------------------------------------- 53.6/53.6 KB 2.9 MB/s eta 0:00:00\n",
      "Collecting hyperframe<6,>=5.2.0\n",
      "  Downloading hyperframe-5.2.0-py2.py3-none-any.whl (12 kB)\n",
      "Collecting hpack<4,>=3.0\n",
      "  Downloading hpack-3.0.0-py2.py3-none-any.whl (38 kB)\n",
      "Building wheels for collected packages: googletrans\n",
      "  Building wheel for googletrans (setup.py): started\n",
      "  Building wheel for googletrans (setup.py): finished with status 'done'\n",
      "  Created wheel for googletrans: filename=googletrans-4.0.0rc1-py3-none-any.whl size=17415 sha256=8f61b91100cdc4cf115e12920a776726bade86aa30df11860911e8905f45fe87\n",
      "  Stored in directory: c:\\users\\user\\appdata\\local\\pip\\cache\\wheels\\43\\34\\00\\4fe71786ea6d12314b29037620c36d857e5d104ac2748bf82a\n",
      "Successfully built googletrans\n",
      "Installing collected packages: rfc3986, hyperframe, hpack, h11, chardet, idna, hstspreload, h2, httpcore, httpx, googletrans\n",
      "  Attempting uninstall: h11\n",
      "    Found existing installation: h11 0.13.0\n",
      "    Uninstalling h11-0.13.0:\n",
      "      Successfully uninstalled h11-0.13.0\n",
      "  Attempting uninstall: chardet\n",
      "    Found existing installation: chardet 4.0.0\n",
      "    Uninstalling chardet-4.0.0:\n",
      "      Successfully uninstalled chardet-4.0.0\n",
      "  Attempting uninstall: idna\n",
      "    Found existing installation: idna 3.2\n",
      "    Uninstalling idna-3.2:\n",
      "      Successfully uninstalled idna-3.2\n",
      "Successfully installed chardet-3.0.4 googletrans-4.0.0rc1 h11-0.9.0 h2-3.2.0 hpack-3.0.0 hstspreload-2021.12.1 httpcore-0.9.1 httpx-0.13.3 hyperframe-5.2.0 idna-2.10 rfc3986-1.5.0\n",
      "Note: you may need to restart the kernel to use updated packages.\n"
     ]
    },
    {
     "name": "stderr",
     "output_type": "stream",
     "text": [
      "ERROR: pip's dependency resolver does not currently take into account all the packages that are installed. This behaviour is the source of the following dependency conflicts.\n",
      "spyder 5.1.5 requires pyqt5<5.13, which is not installed.\n",
      "spyder 5.1.5 requires pyqtwebengine<5.13, which is not installed.\n",
      "conda-repo-cli 1.0.4 requires pathlib, which is not installed.\n",
      "anaconda-project 0.10.1 requires ruamel-yaml, which is not installed.\n",
      "WARNING: You are using pip version 22.0.3; however, version 22.1.2 is available.\n",
      "You should consider upgrading via the 'C:\\Users\\user\\anaconda3\\python.exe -m pip install --upgrade pip' command.\n"
     ]
    }
   ],
   "source": [
    "pip install googletrans==4.0.0-rc1"
   ]
  },
  {
   "cell_type": "code",
   "execution_count": null,
   "id": "b8968865",
   "metadata": {},
   "outputs": [],
   "source": [
    "import googletrans\n",
    "translator = googletrans.Translator() \n",
    "translator.raise_Exception = True #뭔지 모르겠는데 오류 해결\n",
    "\n",
    "translate_lyrics=[] # 번역된 문장 list\n",
    "for i in data.lyrics :\n",
    "    try :\n",
    "        translate_lyrics.append(translator.translate(i,src='en' ,dest='ko').text)\n",
    "    except :\n",
    "        translate_lyrics.append(i)"
   ]
  }
 ],
 "metadata": {
  "kernelspec": {
   "display_name": "Python 3 (ipykernel)",
   "language": "python",
   "name": "python3"
  },
  "language_info": {
   "codemirror_mode": {
    "name": "ipython",
    "version": 3
   },
   "file_extension": ".py",
   "mimetype": "text/x-python",
   "name": "python",
   "nbconvert_exporter": "python",
   "pygments_lexer": "ipython3",
   "version": "3.7.11"
  }
 },
 "nbformat": 4,
 "nbformat_minor": 5
}
