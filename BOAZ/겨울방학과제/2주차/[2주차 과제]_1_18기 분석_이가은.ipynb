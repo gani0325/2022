{
 "cells": [
  {
   "cell_type": "markdown",
   "id": "e3c8867c",
   "metadata": {},
   "source": [
    "### [kaggle] 중고차 가격 예측모델_선형회귀\n",
    "\n",
    "#### 1. 회귀문제\n",
    "* 선형회귀 (Linear Regression) 사용하여 가격 예측하기"
   ]
  },
  {
   "cell_type": "markdown",
   "id": "1f22efb9",
   "metadata": {},
   "source": [
    "#### 1) library import & data load"
   ]
  },
  {
   "cell_type": "code",
   "execution_count": 1,
   "id": "bff58ec9",
   "metadata": {},
   "outputs": [],
   "source": [
    "import numpy as np\n",
    "import pandas as pd\n",
    "import matplotlib.pyplot as plt\n",
    "import seaborn as sns\n",
    "from sklearn.preprocessing import LabelEncoder\n",
    "from sklearn.model_selection import train_test_split\n",
    "from sklearn.linear_model import LinearRegression\n",
    "from sklearn.metrics import accuracy_score, confusion_matrix, r2_score\n",
    "from sklearn.metrics import mean_absolute_error\n",
    "from sklearn import preprocessing"
   ]
  },
  {
   "cell_type": "code",
   "execution_count": 2,
   "id": "f347375b",
   "metadata": {},
   "outputs": [
    {
     "data": {
      "text/html": [
       "<div>\n",
       "<style scoped>\n",
       "    .dataframe tbody tr th:only-of-type {\n",
       "        vertical-align: middle;\n",
       "    }\n",
       "\n",
       "    .dataframe tbody tr th {\n",
       "        vertical-align: top;\n",
       "    }\n",
       "\n",
       "    .dataframe thead th {\n",
       "        text-align: right;\n",
       "    }\n",
       "</style>\n",
       "<table border=\"1\" class=\"dataframe\">\n",
       "  <thead>\n",
       "    <tr style=\"text-align: right;\">\n",
       "      <th></th>\n",
       "      <th>Unnamed: 0</th>\n",
       "      <th>Name</th>\n",
       "      <th>Location</th>\n",
       "      <th>Year</th>\n",
       "      <th>Kilometers_Driven</th>\n",
       "      <th>Fuel_Type</th>\n",
       "      <th>Transmission</th>\n",
       "      <th>Owner_Type</th>\n",
       "      <th>Mileage</th>\n",
       "      <th>Engine</th>\n",
       "      <th>Power</th>\n",
       "      <th>Seats</th>\n",
       "      <th>New_Price</th>\n",
       "      <th>Price</th>\n",
       "    </tr>\n",
       "  </thead>\n",
       "  <tbody>\n",
       "    <tr>\n",
       "      <th>0</th>\n",
       "      <td>0</td>\n",
       "      <td>Maruti Wagon R LXI CNG</td>\n",
       "      <td>Mumbai</td>\n",
       "      <td>2010</td>\n",
       "      <td>72000</td>\n",
       "      <td>CNG</td>\n",
       "      <td>Manual</td>\n",
       "      <td>First</td>\n",
       "      <td>26.6 km/kg</td>\n",
       "      <td>998 CC</td>\n",
       "      <td>58.16 bhp</td>\n",
       "      <td>5.0</td>\n",
       "      <td>NaN</td>\n",
       "      <td>1.75</td>\n",
       "    </tr>\n",
       "    <tr>\n",
       "      <th>1</th>\n",
       "      <td>1</td>\n",
       "      <td>Hyundai Creta 1.6 CRDi SX Option</td>\n",
       "      <td>Pune</td>\n",
       "      <td>2015</td>\n",
       "      <td>41000</td>\n",
       "      <td>Diesel</td>\n",
       "      <td>Manual</td>\n",
       "      <td>First</td>\n",
       "      <td>19.67 kmpl</td>\n",
       "      <td>1582 CC</td>\n",
       "      <td>126.2 bhp</td>\n",
       "      <td>5.0</td>\n",
       "      <td>NaN</td>\n",
       "      <td>12.50</td>\n",
       "    </tr>\n",
       "    <tr>\n",
       "      <th>2</th>\n",
       "      <td>2</td>\n",
       "      <td>Honda Jazz V</td>\n",
       "      <td>Chennai</td>\n",
       "      <td>2011</td>\n",
       "      <td>46000</td>\n",
       "      <td>Petrol</td>\n",
       "      <td>Manual</td>\n",
       "      <td>First</td>\n",
       "      <td>18.2 kmpl</td>\n",
       "      <td>1199 CC</td>\n",
       "      <td>88.7 bhp</td>\n",
       "      <td>5.0</td>\n",
       "      <td>8.61 Lakh</td>\n",
       "      <td>4.50</td>\n",
       "    </tr>\n",
       "    <tr>\n",
       "      <th>3</th>\n",
       "      <td>3</td>\n",
       "      <td>Maruti Ertiga VDI</td>\n",
       "      <td>Chennai</td>\n",
       "      <td>2012</td>\n",
       "      <td>87000</td>\n",
       "      <td>Diesel</td>\n",
       "      <td>Manual</td>\n",
       "      <td>First</td>\n",
       "      <td>20.77 kmpl</td>\n",
       "      <td>1248 CC</td>\n",
       "      <td>88.76 bhp</td>\n",
       "      <td>7.0</td>\n",
       "      <td>NaN</td>\n",
       "      <td>6.00</td>\n",
       "    </tr>\n",
       "    <tr>\n",
       "      <th>4</th>\n",
       "      <td>4</td>\n",
       "      <td>Audi A4 New 2.0 TDI Multitronic</td>\n",
       "      <td>Coimbatore</td>\n",
       "      <td>2013</td>\n",
       "      <td>40670</td>\n",
       "      <td>Diesel</td>\n",
       "      <td>Automatic</td>\n",
       "      <td>Second</td>\n",
       "      <td>15.2 kmpl</td>\n",
       "      <td>1968 CC</td>\n",
       "      <td>140.8 bhp</td>\n",
       "      <td>5.0</td>\n",
       "      <td>NaN</td>\n",
       "      <td>17.74</td>\n",
       "    </tr>\n",
       "  </tbody>\n",
       "</table>\n",
       "</div>"
      ],
      "text/plain": [
       "   Unnamed: 0                              Name    Location  Year  \\\n",
       "0           0            Maruti Wagon R LXI CNG      Mumbai  2010   \n",
       "1           1  Hyundai Creta 1.6 CRDi SX Option        Pune  2015   \n",
       "2           2                      Honda Jazz V     Chennai  2011   \n",
       "3           3                 Maruti Ertiga VDI     Chennai  2012   \n",
       "4           4   Audi A4 New 2.0 TDI Multitronic  Coimbatore  2013   \n",
       "\n",
       "   Kilometers_Driven Fuel_Type Transmission Owner_Type     Mileage   Engine  \\\n",
       "0              72000       CNG       Manual      First  26.6 km/kg   998 CC   \n",
       "1              41000    Diesel       Manual      First  19.67 kmpl  1582 CC   \n",
       "2              46000    Petrol       Manual      First   18.2 kmpl  1199 CC   \n",
       "3              87000    Diesel       Manual      First  20.77 kmpl  1248 CC   \n",
       "4              40670    Diesel    Automatic     Second   15.2 kmpl  1968 CC   \n",
       "\n",
       "       Power  Seats  New_Price  Price  \n",
       "0  58.16 bhp    5.0        NaN   1.75  \n",
       "1  126.2 bhp    5.0        NaN  12.50  \n",
       "2   88.7 bhp    5.0  8.61 Lakh   4.50  \n",
       "3  88.76 bhp    7.0        NaN   6.00  \n",
       "4  140.8 bhp    5.0        NaN  17.74  "
      ]
     },
     "execution_count": 2,
     "metadata": {},
     "output_type": "execute_result"
    }
   ],
   "source": [
    "data = pd.read_csv(\"train-data.csv\")\n",
    "data.head()"
   ]
  },
  {
   "cell_type": "code",
   "execution_count": 3,
   "id": "a848a533",
   "metadata": {},
   "outputs": [
    {
     "name": "stdout",
     "output_type": "stream",
     "text": [
      "<class 'pandas.core.frame.DataFrame'>\n",
      "RangeIndex: 6019 entries, 0 to 6018\n",
      "Data columns (total 14 columns):\n",
      " #   Column             Non-Null Count  Dtype  \n",
      "---  ------             --------------  -----  \n",
      " 0   Unnamed: 0         6019 non-null   int64  \n",
      " 1   Name               6019 non-null   object \n",
      " 2   Location           6019 non-null   object \n",
      " 3   Year               6019 non-null   int64  \n",
      " 4   Kilometers_Driven  6019 non-null   int64  \n",
      " 5   Fuel_Type          6019 non-null   object \n",
      " 6   Transmission       6019 non-null   object \n",
      " 7   Owner_Type         6019 non-null   object \n",
      " 8   Mileage            6017 non-null   object \n",
      " 9   Engine             5983 non-null   object \n",
      " 10  Power              5983 non-null   object \n",
      " 11  Seats              5977 non-null   float64\n",
      " 12  New_Price          824 non-null    object \n",
      " 13  Price              6019 non-null   float64\n",
      "dtypes: float64(2), int64(3), object(9)\n",
      "memory usage: 658.5+ KB\n"
     ]
    }
   ],
   "source": [
    "data.info()"
   ]
  },
  {
   "cell_type": "markdown",
   "id": "f93cf435",
   "metadata": {},
   "source": [
    "#### 2) 데이터 전처리"
   ]
  },
  {
   "cell_type": "markdown",
   "id": "9c2b2e8a",
   "metadata": {},
   "source": [
    "* null 결측치 제거"
   ]
  },
  {
   "cell_type": "code",
   "execution_count": 4,
   "id": "ea4c627a",
   "metadata": {},
   "outputs": [
    {
     "name": "stdout",
     "output_type": "stream",
     "text": [
      "before :  (6019, 14)\n",
      "after :  (5975, 12)\n"
     ]
    },
    {
     "name": "stderr",
     "output_type": "stream",
     "text": [
      "C:\\Users\\82106\\AppData\\Local\\Temp/ipykernel_17992/710110484.py:8: FutureWarning: In a future version of pandas all arguments of DataFrame.dropna will be keyword-only\n",
      "  clean_data.dropna(\"index\", inplace = True)\n"
     ]
    }
   ],
   "source": [
    "# null 결측치 제거\n",
    "clean_data = data.copy()\n",
    "print(\"before : \", clean_data.shape)    # before\n",
    "# New_Price 많은 null -> 제거\n",
    "# Unnamed: 0 정보 없음 -> 제거\n",
    "clean_data.drop(columns = [\"Unnamed: 0\", \"New_Price\"], inplace = True)\n",
    "\n",
    "clean_data.dropna(\"index\", inplace = True)\n",
    "clean_data = clean_data.reset_index(drop = True)\n",
    "print(\"after : \", clean_data.shape)    # after"
   ]
  },
  {
   "cell_type": "markdown",
   "id": "3d6c3900",
   "metadata": {},
   "source": [
    "* 차 종류 제거"
   ]
  },
  {
   "cell_type": "code",
   "execution_count": 5,
   "id": "7a0119ec",
   "metadata": {},
   "outputs": [
    {
     "data": {
      "text/plain": [
       "1855"
      ]
     },
     "execution_count": 5,
     "metadata": {},
     "output_type": "execute_result"
    }
   ],
   "source": [
    "# 차 종류 수\n",
    "# 너무 많으면 overfitting 초래\n",
    "\n",
    "len(np.unique(list(clean_data.Name)))"
   ]
  },
  {
   "cell_type": "code",
   "execution_count": 6,
   "id": "c0cd0036",
   "metadata": {},
   "outputs": [
    {
     "data": {
      "text/plain": [
       "Mahindra XUV500 W8 2WD           49\n",
       "Maruti Swift VDI                 45\n",
       "Honda City 1.5 S MT              34\n",
       "Maruti Swift Dzire VDI           34\n",
       "Maruti Swift VDI BSIV            31\n",
       "                                 ..\n",
       "Ford Fiesta Titanium 1.5 TDCi     1\n",
       "Mahindra Scorpio S10 AT 4WD       1\n",
       "Hyundai i20 1.2 Era               1\n",
       "Toyota Camry W4 (AT)              1\n",
       "Mahindra Xylo D4 BSIV             1\n",
       "Name: Name, Length: 1855, dtype: int64"
      ]
     },
     "execution_count": 6,
     "metadata": {},
     "output_type": "execute_result"
    }
   ],
   "source": [
    "# 차의 모델명 전처리\n",
    "# Hyundai 등 브랜드만 남기기\n",
    "clean_data['Name'].value_counts()"
   ]
  },
  {
   "cell_type": "code",
   "execution_count": 7,
   "id": "2d4fbebd",
   "metadata": {},
   "outputs": [
    {
     "data": {
      "text/html": [
       "<div>\n",
       "<style scoped>\n",
       "    .dataframe tbody tr th:only-of-type {\n",
       "        vertical-align: middle;\n",
       "    }\n",
       "\n",
       "    .dataframe tbody tr th {\n",
       "        vertical-align: top;\n",
       "    }\n",
       "\n",
       "    .dataframe thead th {\n",
       "        text-align: right;\n",
       "    }\n",
       "</style>\n",
       "<table border=\"1\" class=\"dataframe\">\n",
       "  <thead>\n",
       "    <tr style=\"text-align: right;\">\n",
       "      <th></th>\n",
       "      <th>Name</th>\n",
       "      <th>Location</th>\n",
       "      <th>Year</th>\n",
       "      <th>Kilometers_Driven</th>\n",
       "      <th>Fuel_Type</th>\n",
       "      <th>Transmission</th>\n",
       "      <th>Owner_Type</th>\n",
       "      <th>Mileage</th>\n",
       "      <th>Engine</th>\n",
       "      <th>Power</th>\n",
       "      <th>Seats</th>\n",
       "      <th>Price</th>\n",
       "    </tr>\n",
       "  </thead>\n",
       "  <tbody>\n",
       "    <tr>\n",
       "      <th>0</th>\n",
       "      <td>Maruti</td>\n",
       "      <td>Mumbai</td>\n",
       "      <td>2010</td>\n",
       "      <td>72000</td>\n",
       "      <td>CNG</td>\n",
       "      <td>Manual</td>\n",
       "      <td>First</td>\n",
       "      <td>26.6 km/kg</td>\n",
       "      <td>998 CC</td>\n",
       "      <td>58.16 bhp</td>\n",
       "      <td>5.0</td>\n",
       "      <td>1.75</td>\n",
       "    </tr>\n",
       "    <tr>\n",
       "      <th>1</th>\n",
       "      <td>Hyundai</td>\n",
       "      <td>Pune</td>\n",
       "      <td>2015</td>\n",
       "      <td>41000</td>\n",
       "      <td>Diesel</td>\n",
       "      <td>Manual</td>\n",
       "      <td>First</td>\n",
       "      <td>19.67 kmpl</td>\n",
       "      <td>1582 CC</td>\n",
       "      <td>126.2 bhp</td>\n",
       "      <td>5.0</td>\n",
       "      <td>12.50</td>\n",
       "    </tr>\n",
       "    <tr>\n",
       "      <th>2</th>\n",
       "      <td>Honda</td>\n",
       "      <td>Chennai</td>\n",
       "      <td>2011</td>\n",
       "      <td>46000</td>\n",
       "      <td>Petrol</td>\n",
       "      <td>Manual</td>\n",
       "      <td>First</td>\n",
       "      <td>18.2 kmpl</td>\n",
       "      <td>1199 CC</td>\n",
       "      <td>88.7 bhp</td>\n",
       "      <td>5.0</td>\n",
       "      <td>4.50</td>\n",
       "    </tr>\n",
       "    <tr>\n",
       "      <th>3</th>\n",
       "      <td>Maruti</td>\n",
       "      <td>Chennai</td>\n",
       "      <td>2012</td>\n",
       "      <td>87000</td>\n",
       "      <td>Diesel</td>\n",
       "      <td>Manual</td>\n",
       "      <td>First</td>\n",
       "      <td>20.77 kmpl</td>\n",
       "      <td>1248 CC</td>\n",
       "      <td>88.76 bhp</td>\n",
       "      <td>7.0</td>\n",
       "      <td>6.00</td>\n",
       "    </tr>\n",
       "    <tr>\n",
       "      <th>4</th>\n",
       "      <td>Audi</td>\n",
       "      <td>Coimbatore</td>\n",
       "      <td>2013</td>\n",
       "      <td>40670</td>\n",
       "      <td>Diesel</td>\n",
       "      <td>Automatic</td>\n",
       "      <td>Second</td>\n",
       "      <td>15.2 kmpl</td>\n",
       "      <td>1968 CC</td>\n",
       "      <td>140.8 bhp</td>\n",
       "      <td>5.0</td>\n",
       "      <td>17.74</td>\n",
       "    </tr>\n",
       "  </tbody>\n",
       "</table>\n",
       "</div>"
      ],
      "text/plain": [
       "      Name    Location  Year  Kilometers_Driven Fuel_Type Transmission  \\\n",
       "0   Maruti      Mumbai  2010              72000       CNG       Manual   \n",
       "1  Hyundai        Pune  2015              41000    Diesel       Manual   \n",
       "2    Honda     Chennai  2011              46000    Petrol       Manual   \n",
       "3   Maruti     Chennai  2012              87000    Diesel       Manual   \n",
       "4     Audi  Coimbatore  2013              40670    Diesel    Automatic   \n",
       "\n",
       "  Owner_Type     Mileage   Engine      Power  Seats  Price  \n",
       "0      First  26.6 km/kg   998 CC  58.16 bhp    5.0   1.75  \n",
       "1      First  19.67 kmpl  1582 CC  126.2 bhp    5.0  12.50  \n",
       "2      First   18.2 kmpl  1199 CC   88.7 bhp    5.0   4.50  \n",
       "3      First  20.77 kmpl  1248 CC  88.76 bhp    7.0   6.00  \n",
       "4     Second   15.2 kmpl  1968 CC  140.8 bhp    5.0  17.74  "
      ]
     },
     "execution_count": 7,
     "metadata": {},
     "output_type": "execute_result"
    }
   ],
   "source": [
    "names = list(clean_data.Name)\n",
    "for i in range(len(names)) :\n",
    "    names[i] = names[i].split(\" \", 1)[0]   # 첫 번째 브랜드 명만!\n",
    "clean_data.Name = names\n",
    "clean_data.head()"
   ]
  },
  {
   "cell_type": "code",
   "execution_count": 8,
   "id": "9f5edd38",
   "metadata": {},
   "outputs": [
    {
     "data": {
      "text/plain": [
       "31"
      ]
     },
     "execution_count": 8,
     "metadata": {},
     "output_type": "execute_result"
    }
   ],
   "source": [
    "len(clean_data['Name'].unique())    # 31 개로 차 모델명 종류 감소!"
   ]
  },
  {
   "cell_type": "markdown",
   "id": "e9be65e9",
   "metadata": {},
   "source": [
    "* 단위 제거, 수치만!"
   ]
  },
  {
   "cell_type": "code",
   "execution_count": 9,
   "id": "99cd469c",
   "metadata": {},
   "outputs": [
    {
     "data": {
      "text/html": [
       "<div>\n",
       "<style scoped>\n",
       "    .dataframe tbody tr th:only-of-type {\n",
       "        vertical-align: middle;\n",
       "    }\n",
       "\n",
       "    .dataframe tbody tr th {\n",
       "        vertical-align: top;\n",
       "    }\n",
       "\n",
       "    .dataframe thead th {\n",
       "        text-align: right;\n",
       "    }\n",
       "</style>\n",
       "<table border=\"1\" class=\"dataframe\">\n",
       "  <thead>\n",
       "    <tr style=\"text-align: right;\">\n",
       "      <th></th>\n",
       "      <th>Name</th>\n",
       "      <th>Location</th>\n",
       "      <th>Year</th>\n",
       "      <th>Kilometers_Driven</th>\n",
       "      <th>Fuel_Type</th>\n",
       "      <th>Transmission</th>\n",
       "      <th>Owner_Type</th>\n",
       "      <th>Mileage</th>\n",
       "      <th>Engine</th>\n",
       "      <th>Power</th>\n",
       "      <th>Seats</th>\n",
       "      <th>Price</th>\n",
       "    </tr>\n",
       "  </thead>\n",
       "  <tbody>\n",
       "    <tr>\n",
       "      <th>0</th>\n",
       "      <td>Maruti</td>\n",
       "      <td>Mumbai</td>\n",
       "      <td>2010</td>\n",
       "      <td>72000</td>\n",
       "      <td>CNG</td>\n",
       "      <td>Manual</td>\n",
       "      <td>First</td>\n",
       "      <td>26.6</td>\n",
       "      <td>998</td>\n",
       "      <td>58.16</td>\n",
       "      <td>5.0</td>\n",
       "      <td>1.75</td>\n",
       "    </tr>\n",
       "    <tr>\n",
       "      <th>1</th>\n",
       "      <td>Hyundai</td>\n",
       "      <td>Pune</td>\n",
       "      <td>2015</td>\n",
       "      <td>41000</td>\n",
       "      <td>Diesel</td>\n",
       "      <td>Manual</td>\n",
       "      <td>First</td>\n",
       "      <td>19.67</td>\n",
       "      <td>1582</td>\n",
       "      <td>126.2</td>\n",
       "      <td>5.0</td>\n",
       "      <td>12.50</td>\n",
       "    </tr>\n",
       "    <tr>\n",
       "      <th>2</th>\n",
       "      <td>Honda</td>\n",
       "      <td>Chennai</td>\n",
       "      <td>2011</td>\n",
       "      <td>46000</td>\n",
       "      <td>Petrol</td>\n",
       "      <td>Manual</td>\n",
       "      <td>First</td>\n",
       "      <td>18.2</td>\n",
       "      <td>1199</td>\n",
       "      <td>88.7</td>\n",
       "      <td>5.0</td>\n",
       "      <td>4.50</td>\n",
       "    </tr>\n",
       "    <tr>\n",
       "      <th>3</th>\n",
       "      <td>Maruti</td>\n",
       "      <td>Chennai</td>\n",
       "      <td>2012</td>\n",
       "      <td>87000</td>\n",
       "      <td>Diesel</td>\n",
       "      <td>Manual</td>\n",
       "      <td>First</td>\n",
       "      <td>20.77</td>\n",
       "      <td>1248</td>\n",
       "      <td>88.76</td>\n",
       "      <td>7.0</td>\n",
       "      <td>6.00</td>\n",
       "    </tr>\n",
       "    <tr>\n",
       "      <th>4</th>\n",
       "      <td>Audi</td>\n",
       "      <td>Coimbatore</td>\n",
       "      <td>2013</td>\n",
       "      <td>40670</td>\n",
       "      <td>Diesel</td>\n",
       "      <td>Automatic</td>\n",
       "      <td>Second</td>\n",
       "      <td>15.2</td>\n",
       "      <td>1968</td>\n",
       "      <td>140.8</td>\n",
       "      <td>5.0</td>\n",
       "      <td>17.74</td>\n",
       "    </tr>\n",
       "  </tbody>\n",
       "</table>\n",
       "</div>"
      ],
      "text/plain": [
       "      Name    Location  Year  Kilometers_Driven Fuel_Type Transmission  \\\n",
       "0   Maruti      Mumbai  2010              72000       CNG       Manual   \n",
       "1  Hyundai        Pune  2015              41000    Diesel       Manual   \n",
       "2    Honda     Chennai  2011              46000    Petrol       Manual   \n",
       "3   Maruti     Chennai  2012              87000    Diesel       Manual   \n",
       "4     Audi  Coimbatore  2013              40670    Diesel    Automatic   \n",
       "\n",
       "  Owner_Type Mileage Engine  Power  Seats  Price  \n",
       "0      First    26.6    998  58.16    5.0   1.75  \n",
       "1      First   19.67   1582  126.2    5.0  12.50  \n",
       "2      First    18.2   1199   88.7    5.0   4.50  \n",
       "3      First   20.77   1248  88.76    7.0   6.00  \n",
       "4     Second    15.2   1968  140.8    5.0  17.74  "
      ]
     },
     "execution_count": 9,
     "metadata": {},
     "output_type": "execute_result"
    }
   ],
   "source": [
    "mileage = list(clean_data.Mileage)\n",
    "engine = list(clean_data.Engine)\n",
    "power = list(clean_data.Power)\n",
    "\n",
    "for i in range(len(names)) :\n",
    "    mileage[i] = mileage[i].split(\" \", 1)[0]\n",
    "    engine[i] = engine[i].split(\" \", 1)[0]\n",
    "    power[i] = power[i].split(\" \", 1)[0]\n",
    "\n",
    "clean_data.Mileage = mileage\n",
    "clean_data.Engine = engine\n",
    "clean_data.Power = power\n",
    "clean_data.head()"
   ]
  },
  {
   "cell_type": "markdown",
   "id": "feee6f3f",
   "metadata": {},
   "source": [
    "* 전처리한 데이터 확인"
   ]
  },
  {
   "cell_type": "code",
   "execution_count": 10,
   "id": "7e90255c",
   "metadata": {},
   "outputs": [],
   "source": [
    "clean_data[\"Price\"] = clean_data[\"Price\"].astype(float)\n",
    "clean_data[\"Kilometers_Driven\"] = clean_data[\"Kilometers_Driven\"].astype(float)\n",
    "clean_data[\"Mileage\"] = clean_data[\"Mileage\"].astype(float)\n",
    "clean_data[\"Engine\"] = clean_data[\"Engine\"].astype(float)"
   ]
  },
  {
   "cell_type": "code",
   "execution_count": 11,
   "id": "8e439ae5",
   "metadata": {},
   "outputs": [
    {
     "name": "stdout",
     "output_type": "stream",
     "text": [
      "<class 'pandas.core.frame.DataFrame'>\n",
      "RangeIndex: 5975 entries, 0 to 5974\n",
      "Data columns (total 12 columns):\n",
      " #   Column             Non-Null Count  Dtype  \n",
      "---  ------             --------------  -----  \n",
      " 0   Name               5975 non-null   object \n",
      " 1   Location           5975 non-null   object \n",
      " 2   Year               5975 non-null   int64  \n",
      " 3   Kilometers_Driven  5975 non-null   float64\n",
      " 4   Fuel_Type          5975 non-null   object \n",
      " 5   Transmission       5975 non-null   object \n",
      " 6   Owner_Type         5975 non-null   object \n",
      " 7   Mileage            5975 non-null   float64\n",
      " 8   Engine             5975 non-null   float64\n",
      " 9   Power              5975 non-null   object \n",
      " 10  Seats              5975 non-null   float64\n",
      " 11  Price              5975 non-null   float64\n",
      "dtypes: float64(5), int64(1), object(6)\n",
      "memory usage: 560.3+ KB\n"
     ]
    }
   ],
   "source": [
    "clean_data.info()"
   ]
  },
  {
   "cell_type": "code",
   "execution_count": 12,
   "id": "38c22490",
   "metadata": {},
   "outputs": [
    {
     "name": "stdout",
     "output_type": "stream",
     "text": [
      "['Ambassador' 'Audi' 'BMW' 'Bentley' 'Chevrolet' 'Datsun' 'Fiat' 'Force'\n",
      " 'Ford' 'Honda' 'Hyundai' 'ISUZU' 'Isuzu' 'Jaguar' 'Jeep' 'Lamborghini'\n",
      " 'Land' 'Mahindra' 'Maruti' 'Mercedes-Benz' 'Mini' 'Mitsubishi' 'Nissan'\n",
      " 'Porsche' 'Renault' 'Skoda' 'Smart' 'Tata' 'Toyota' 'Volkswagen' 'Volvo']\n",
      "['Ahmedabad' 'Bangalore' 'Chennai' 'Coimbatore' 'Delhi' 'Hyderabad'\n",
      " 'Jaipur' 'Kochi' 'Kolkata' 'Mumbai' 'Pune']\n",
      "['CNG' 'Diesel' 'LPG' 'Petrol']\n",
      "['Automatic' 'Manual']\n",
      "['First' 'Fourth & Above' 'Second' 'Third']\n"
     ]
    }
   ],
   "source": [
    "print(np.unique(list(clean_data.Name)))\n",
    "print(np.unique(list(clean_data.Location)))\n",
    "print(np.unique(list(clean_data.Fuel_Type)))\n",
    "print(np.unique(list(clean_data.Transmission)))\n",
    "print(np.unique(list(clean_data.Owner_Type)))"
   ]
  },
  {
   "cell_type": "code",
   "execution_count": 13,
   "id": "ad9056bd",
   "metadata": {},
   "outputs": [
    {
     "data": {
      "text/plain": [
       "array([ 2.,  4.,  5.,  6.,  7.,  8.,  9., 10.])"
      ]
     },
     "execution_count": 13,
     "metadata": {},
     "output_type": "execute_result"
    }
   ],
   "source": [
    "np.unique(list(clean_data.Seats))\n",
    "\n",
    "# seats 0 제거\n",
    "clean_data = clean_data[clean_data.Seats != 0]\n",
    "np.unique(list(clean_data.Seats))"
   ]
  },
  {
   "cell_type": "code",
   "execution_count": 14,
   "id": "e044c87d",
   "metadata": {},
   "outputs": [
    {
     "data": {
      "text/plain": [
       "(5974, 12)"
      ]
     },
     "execution_count": 14,
     "metadata": {},
     "output_type": "execute_result"
    }
   ],
   "source": [
    "clean_data.shape"
   ]
  },
  {
   "cell_type": "code",
   "execution_count": 15,
   "id": "da22fc19",
   "metadata": {},
   "outputs": [
    {
     "data": {
      "text/plain": [
       "371"
      ]
     },
     "execution_count": 15,
     "metadata": {},
     "output_type": "execute_result"
    }
   ],
   "source": [
    "len(clean_data.Power.unique())"
   ]
  },
  {
   "cell_type": "code",
   "execution_count": 16,
   "id": "249267b3",
   "metadata": {},
   "outputs": [
    {
     "data": {
      "text/plain": [
       "array(['100', '100.6', '101', '102', '102.5', '102.53', '102.57', '103',\n",
       "       '103.2', '103.25', '103.3', '103.5', '103.52', '103.6', '104',\n",
       "       '104.68', '105', '105.5', '106', '107.2', '107.3', '108.4',\n",
       "       '108.45', '108.49', '108.495', '108.5', '108.62', '110', '110.4',\n",
       "       '110.5', '112', '112.2', '112.4', '113.98', '114', '114.4', '115',\n",
       "       '116.3', '116.4', '116.6', '116.9', '117.3', '118', '118.3',\n",
       "       '118.6', '120', '120.33', '120.7', '121.3', '121.36', '121.4',\n",
       "       '122', '123.24', '123.37', '123.7', '125', '126.2', '126.24',\n",
       "       '126.3', '126.32', '127', '130', '130.2', '130.3', '132', '134',\n",
       "       '135.1', '136', '138', '138.02', '138.03', '138.08', '138.1',\n",
       "       '139.01', '139.07', '140', '140.8', '141', '141.1', '142', '143',\n",
       "       '144', '147.5', '147.51', '147.6', '147.8', '147.9', '148',\n",
       "       '148.31', '149.92', '150', '152', '152.88', '153.86', '154', '155',\n",
       "       '156', '157.7', '157.75', '157.8', '158', '158.2', '158.8', '160',\n",
       "       '161.6', '162', '163', '163.2', '163.5', '163.7', '164.7', '165',\n",
       "       '167.6', '167.62', '167.7', '168', '168.5', '168.7', '169', '170',\n",
       "       '171', '171.5', '174.3', '174.33', '174.5', '174.57', '175.56',\n",
       "       '175.67', '177', '177.01', '177.46', '177.5', '177.6', '178',\n",
       "       '178.4', '179.5', '180', '181', '181.03', '181.04', '181.43',\n",
       "       '183', '184', '185', '186', '187.4', '187.7', '187.74', '189',\n",
       "       '189.08', '190', '191.34', '192', '193.1', '194', '194.3', '197',\n",
       "       '197.2', '198.25', '198.5', '199.3', '200', '201', '201.1',\n",
       "       '201.15', '203', '203.2', '204', '207.8', '208', '210', '215',\n",
       "       '218', '224', '224.34', '226.6', '227', '231.1', '235', '236',\n",
       "       '237.4', '240', '241', '241.38', '241.4', '245', '246.7', '246.74',\n",
       "       '250', '254', '254.79', '254.8', '255', '258', '261', '261.49',\n",
       "       '261.5', '262.6', '265', '270.88', '270.9', '271.23', '271.72',\n",
       "       '272', '281.61', '282', '300', '301.73', '306', '308', '308.43',\n",
       "       '313', '320', '321', '333', '335.2', '335.3', '34.2', '340', '35',\n",
       "       '35.5', '362.07', '362.9', '364.9', '367', '37', '37.48', '37.5',\n",
       "       '38.4', '382', '387.3', '394.3', '395', '40.3', '402', '421',\n",
       "       '444', '450', '46.3', '47', '47.3', '48.21', '488.1', '500', '503',\n",
       "       '52.8', '53', '53.3', '53.5', '53.64', '55', '55.2', '55.23',\n",
       "       '550', '552', '56.3', '560', '57.5', '57.6', '58.16', '58.2',\n",
       "       '58.33', '60', '61', '62', '62.1', '63', '63.1', '63.12', '64',\n",
       "       '64.08', '64.1', '65', '65.3', '66', '66.1', '66.7', '67', '67.04',\n",
       "       '67.05', '67.06', '67.1', '68', '68.05', '68.1', '69', '69.01',\n",
       "       '70', '70.02', '71', '71.01', '73', '73.74', '73.75', '73.8',\n",
       "       '73.9', '73.94', '73.97', '74', '74.9', '74.93', '74.96', '75',\n",
       "       '75.94', '76', '76.8', '76.9', '77', '78', '78.9', '79.4', '80',\n",
       "       '80.46', '80.9', '81.80', '81.83', '81.86', '82', '82.4', '82.5',\n",
       "       '82.85', '82.9', '83', '83.1', '83.11', '83.14', '83.8', '83.83',\n",
       "       '84', '84.8', '85', '85.7', '85.8', '85.80', '86.7', '86.76',\n",
       "       '86.79', '86.8', '87.2', '88', '88.2', '88.5', '88.50', '88.7',\n",
       "       '88.73', '88.76', '88.8', '89.75', '89.84', '90', '91.1', '91.2',\n",
       "       '91.7', '91.72', '92', '92.7', '93', '93.7', '94', '94.68', '95',\n",
       "       '97.6', '97.7', '98.59', '98.6', '98.79', '98.82', '98.96', '99',\n",
       "       '99.6', 'null'], dtype='<U7')"
      ]
     },
     "execution_count": 16,
     "metadata": {},
     "output_type": "execute_result"
    }
   ],
   "source": [
    "np.unique(list(clean_data.Power))"
   ]
  },
  {
   "cell_type": "code",
   "execution_count": 17,
   "id": "657816e5",
   "metadata": {},
   "outputs": [
    {
     "data": {
      "text/plain": [
       "0"
      ]
     },
     "execution_count": 17,
     "metadata": {},
     "output_type": "execute_result"
    }
   ],
   "source": [
    "clean_data.Power.isnull().sum()"
   ]
  },
  {
   "cell_type": "code",
   "execution_count": 18,
   "id": "72bb53fd",
   "metadata": {},
   "outputs": [
    {
     "name": "stdout",
     "output_type": "stream",
     "text": [
      "<class 'pandas.core.frame.DataFrame'>\n",
      "Int64Index: 5974 entries, 0 to 5974\n",
      "Data columns (total 12 columns):\n",
      " #   Column             Non-Null Count  Dtype  \n",
      "---  ------             --------------  -----  \n",
      " 0   Name               5974 non-null   object \n",
      " 1   Location           5974 non-null   object \n",
      " 2   Year               5974 non-null   int64  \n",
      " 3   Kilometers_Driven  5974 non-null   float64\n",
      " 4   Fuel_Type          5974 non-null   object \n",
      " 5   Transmission       5974 non-null   object \n",
      " 6   Owner_Type         5974 non-null   object \n",
      " 7   Mileage            5974 non-null   float64\n",
      " 8   Engine             5974 non-null   float64\n",
      " 9   Power              5974 non-null   object \n",
      " 10  Seats              5974 non-null   float64\n",
      " 11  Price              5974 non-null   float64\n",
      "dtypes: float64(5), int64(1), object(6)\n",
      "memory usage: 606.7+ KB\n"
     ]
    }
   ],
   "source": [
    "clean_data.info()"
   ]
  },
  {
   "cell_type": "markdown",
   "id": "7aa854c7",
   "metadata": {},
   "source": [
    "#### 3) 데이터 재정의"
   ]
  },
  {
   "cell_type": "code",
   "execution_count": 21,
   "id": "b688f30e",
   "metadata": {},
   "outputs": [],
   "source": [
    "remove = list(clean_data[\"Power\"])"
   ]
  },
  {
   "cell_type": "code",
   "execution_count": 22,
   "id": "7c25b41a",
   "metadata": {
    "scrolled": false
   },
   "outputs": [],
   "source": [
    "idx = []\n",
    "remove = list(clean_data[\"Power\"])\n",
    "for i in range(len(remove)) :\n",
    "    if (remove[i] == 'null') :      # Power에 null 값 있는거 모아서 없애기!\n",
    "        idx.append(i)\n",
    "clean_data = clean_data.drop(idx)\n",
    "clean_data = clean_data.reset_index(drop = True)"
   ]
  },
  {
   "cell_type": "code",
   "execution_count": 25,
   "id": "f671a8e9",
   "metadata": {},
   "outputs": [
    {
     "data": {
      "text/plain": [
       "array(['100', '100.6', '101', '102', '102.5', '102.53', '102.57', '103',\n",
       "       '103.2', '103.25', '103.3', '103.5', '103.52', '103.6', '104',\n",
       "       '104.68', '105', '105.5', '106', '107.2', '107.3', '108.4',\n",
       "       '108.45', '108.49', '108.495', '108.5', '108.62', '110', '110.4',\n",
       "       '110.5', '112', '112.2', '112.4', '113.98', '114', '114.4', '115',\n",
       "       '116.3', '116.4', '116.6', '116.9', '117.3', '118', '118.3',\n",
       "       '118.6', '120', '120.33', '120.7', '121.3', '121.36', '121.4',\n",
       "       '122', '123.24', '123.37', '123.7', '125', '126.2', '126.24',\n",
       "       '126.3', '126.32', '127', '130', '130.2', '130.3', '132', '134',\n",
       "       '135.1', '136', '138', '138.02', '138.03', '138.08', '138.1',\n",
       "       '139.01', '139.07', '140', '140.8', '141', '141.1', '142', '143',\n",
       "       '144', '147.5', '147.51', '147.6', '147.8', '147.9', '148',\n",
       "       '148.31', '149.92', '150', '152', '152.88', '153.86', '154', '155',\n",
       "       '156', '157.7', '157.75', '157.8', '158', '158.2', '158.8', '160',\n",
       "       '161.6', '162', '163', '163.2', '163.5', '163.7', '164.7', '165',\n",
       "       '167.6', '167.62', '167.7', '168', '168.5', '168.7', '169', '170',\n",
       "       '171', '171.5', '174.3', '174.33', '174.5', '174.57', '175.56',\n",
       "       '175.67', '177', '177.01', '177.46', '177.5', '177.6', '178',\n",
       "       '178.4', '179.5', '180', '181', '181.03', '181.04', '181.43',\n",
       "       '183', '184', '185', '186', '187.4', '187.7', '187.74', '189',\n",
       "       '189.08', '190', '191.34', '192', '193.1', '194', '194.3', '197',\n",
       "       '197.2', '198.25', '198.5', '199.3', '200', '201', '201.1',\n",
       "       '201.15', '203', '203.2', '204', '207.8', '208', '210', '215',\n",
       "       '218', '224', '224.34', '226.6', '227', '231.1', '235', '236',\n",
       "       '237.4', '240', '241', '241.38', '241.4', '245', '246.7', '246.74',\n",
       "       '250', '254', '254.79', '254.8', '255', '258', '261', '261.49',\n",
       "       '261.5', '262.6', '265', '270.88', '270.9', '271.23', '271.72',\n",
       "       '272', '281.61', '282', '300', '301.73', '306', '308', '308.43',\n",
       "       '313', '320', '321', '333', '335.2', '335.3', '34.2', '340', '35',\n",
       "       '35.5', '362.07', '362.9', '364.9', '367', '37', '37.48', '37.5',\n",
       "       '38.4', '382', '387.3', '394.3', '395', '40.3', '402', '421',\n",
       "       '444', '450', '46.3', '47', '47.3', '48.21', '488.1', '500', '503',\n",
       "       '52.8', '53', '53.3', '53.5', '53.64', '55', '55.2', '55.23',\n",
       "       '550', '552', '56.3', '560', '57.5', '57.6', '58.16', '58.2',\n",
       "       '58.33', '60', '61', '62', '62.1', '63', '63.1', '63.12', '64',\n",
       "       '64.08', '64.1', '65', '65.3', '66', '66.1', '66.7', '67', '67.04',\n",
       "       '67.05', '67.06', '67.1', '68', '68.05', '68.1', '69', '69.01',\n",
       "       '70', '70.02', '71', '71.01', '73', '73.74', '73.75', '73.8',\n",
       "       '73.9', '73.94', '73.97', '74', '74.9', '74.93', '74.96', '75',\n",
       "       '75.94', '76', '76.8', '76.9', '77', '78', '78.9', '79.4', '80',\n",
       "       '80.46', '80.9', '81.80', '81.83', '81.86', '82', '82.4', '82.5',\n",
       "       '82.85', '82.9', '83', '83.1', '83.11', '83.14', '83.8', '83.83',\n",
       "       '84', '84.8', '85', '85.7', '85.8', '85.80', '86.7', '86.76',\n",
       "       '86.79', '86.8', '87.2', '88', '88.2', '88.5', '88.50', '88.7',\n",
       "       '88.73', '88.76', '88.8', '89.84', '90', '91.1', '91.2', '91.7',\n",
       "       '91.72', '92', '92.7', '93', '93.7', '94', '94.68', '95', '97.6',\n",
       "       '97.7', '98.59', '98.6', '98.79', '98.82', '98.96', '99', '99.6'],\n",
       "      dtype=object)"
      ]
     },
     "execution_count": 25,
     "metadata": {},
     "output_type": "execute_result"
    }
   ],
   "source": [
    "np.unique(clean_data[\"Power\"])"
   ]
  },
  {
   "cell_type": "code",
   "execution_count": 26,
   "id": "4b2d49f4",
   "metadata": {},
   "outputs": [],
   "source": [
    "clean_data[\"Power\"] = clean_data[\"Power\"].astype(float)"
   ]
  },
  {
   "cell_type": "code",
   "execution_count": 27,
   "id": "532588f2",
   "metadata": {},
   "outputs": [
    {
     "data": {
      "text/plain": [
       "(5844, 12)"
      ]
     },
     "execution_count": 27,
     "metadata": {},
     "output_type": "execute_result"
    }
   ],
   "source": [
    "clean_data.shape"
   ]
  },
  {
   "cell_type": "markdown",
   "id": "1f3217d0",
   "metadata": {},
   "source": [
    "* 카테고리별로 분류"
   ]
  },
  {
   "cell_type": "code",
   "execution_count": 28,
   "id": "c8bb04a6",
   "metadata": {},
   "outputs": [
    {
     "data": {
      "text/html": [
       "<div>\n",
       "<style scoped>\n",
       "    .dataframe tbody tr th:only-of-type {\n",
       "        vertical-align: middle;\n",
       "    }\n",
       "\n",
       "    .dataframe tbody tr th {\n",
       "        vertical-align: top;\n",
       "    }\n",
       "\n",
       "    .dataframe thead th {\n",
       "        text-align: right;\n",
       "    }\n",
       "</style>\n",
       "<table border=\"1\" class=\"dataframe\">\n",
       "  <thead>\n",
       "    <tr style=\"text-align: right;\">\n",
       "      <th></th>\n",
       "      <th>Kilometers_Driven</th>\n",
       "      <th>Mileage</th>\n",
       "      <th>Engine</th>\n",
       "      <th>Power</th>\n",
       "      <th>Price</th>\n",
       "      <th>Name_Audi</th>\n",
       "      <th>Name_BMW</th>\n",
       "      <th>Name_Bentley</th>\n",
       "      <th>Name_Chevrolet</th>\n",
       "      <th>Name_Datsun</th>\n",
       "      <th>...</th>\n",
       "      <th>Owner_Type_Fourth &amp; Above</th>\n",
       "      <th>Owner_Type_Second</th>\n",
       "      <th>Owner_Type_Third</th>\n",
       "      <th>Seats_4.0</th>\n",
       "      <th>Seats_5.0</th>\n",
       "      <th>Seats_6.0</th>\n",
       "      <th>Seats_7.0</th>\n",
       "      <th>Seats_8.0</th>\n",
       "      <th>Seats_9.0</th>\n",
       "      <th>Seats_10.0</th>\n",
       "    </tr>\n",
       "  </thead>\n",
       "  <tbody>\n",
       "    <tr>\n",
       "      <th>0</th>\n",
       "      <td>72000.0</td>\n",
       "      <td>26.60</td>\n",
       "      <td>998.0</td>\n",
       "      <td>58.16</td>\n",
       "      <td>1.75</td>\n",
       "      <td>0</td>\n",
       "      <td>0</td>\n",
       "      <td>0</td>\n",
       "      <td>0</td>\n",
       "      <td>0</td>\n",
       "      <td>...</td>\n",
       "      <td>0</td>\n",
       "      <td>0</td>\n",
       "      <td>0</td>\n",
       "      <td>0</td>\n",
       "      <td>1</td>\n",
       "      <td>0</td>\n",
       "      <td>0</td>\n",
       "      <td>0</td>\n",
       "      <td>0</td>\n",
       "      <td>0</td>\n",
       "    </tr>\n",
       "    <tr>\n",
       "      <th>1</th>\n",
       "      <td>41000.0</td>\n",
       "      <td>19.67</td>\n",
       "      <td>1582.0</td>\n",
       "      <td>126.20</td>\n",
       "      <td>12.50</td>\n",
       "      <td>0</td>\n",
       "      <td>0</td>\n",
       "      <td>0</td>\n",
       "      <td>0</td>\n",
       "      <td>0</td>\n",
       "      <td>...</td>\n",
       "      <td>0</td>\n",
       "      <td>0</td>\n",
       "      <td>0</td>\n",
       "      <td>0</td>\n",
       "      <td>1</td>\n",
       "      <td>0</td>\n",
       "      <td>0</td>\n",
       "      <td>0</td>\n",
       "      <td>0</td>\n",
       "      <td>0</td>\n",
       "    </tr>\n",
       "    <tr>\n",
       "      <th>2</th>\n",
       "      <td>46000.0</td>\n",
       "      <td>18.20</td>\n",
       "      <td>1199.0</td>\n",
       "      <td>88.70</td>\n",
       "      <td>4.50</td>\n",
       "      <td>0</td>\n",
       "      <td>0</td>\n",
       "      <td>0</td>\n",
       "      <td>0</td>\n",
       "      <td>0</td>\n",
       "      <td>...</td>\n",
       "      <td>0</td>\n",
       "      <td>0</td>\n",
       "      <td>0</td>\n",
       "      <td>0</td>\n",
       "      <td>1</td>\n",
       "      <td>0</td>\n",
       "      <td>0</td>\n",
       "      <td>0</td>\n",
       "      <td>0</td>\n",
       "      <td>0</td>\n",
       "    </tr>\n",
       "    <tr>\n",
       "      <th>3</th>\n",
       "      <td>87000.0</td>\n",
       "      <td>20.77</td>\n",
       "      <td>1248.0</td>\n",
       "      <td>88.76</td>\n",
       "      <td>6.00</td>\n",
       "      <td>0</td>\n",
       "      <td>0</td>\n",
       "      <td>0</td>\n",
       "      <td>0</td>\n",
       "      <td>0</td>\n",
       "      <td>...</td>\n",
       "      <td>0</td>\n",
       "      <td>0</td>\n",
       "      <td>0</td>\n",
       "      <td>0</td>\n",
       "      <td>0</td>\n",
       "      <td>0</td>\n",
       "      <td>1</td>\n",
       "      <td>0</td>\n",
       "      <td>0</td>\n",
       "      <td>0</td>\n",
       "    </tr>\n",
       "    <tr>\n",
       "      <th>4</th>\n",
       "      <td>40670.0</td>\n",
       "      <td>15.20</td>\n",
       "      <td>1968.0</td>\n",
       "      <td>140.80</td>\n",
       "      <td>17.74</td>\n",
       "      <td>1</td>\n",
       "      <td>0</td>\n",
       "      <td>0</td>\n",
       "      <td>0</td>\n",
       "      <td>0</td>\n",
       "      <td>...</td>\n",
       "      <td>0</td>\n",
       "      <td>1</td>\n",
       "      <td>0</td>\n",
       "      <td>0</td>\n",
       "      <td>1</td>\n",
       "      <td>0</td>\n",
       "      <td>0</td>\n",
       "      <td>0</td>\n",
       "      <td>0</td>\n",
       "      <td>0</td>\n",
       "    </tr>\n",
       "  </tbody>\n",
       "</table>\n",
       "<p>5 rows × 79 columns</p>\n",
       "</div>"
      ],
      "text/plain": [
       "   Kilometers_Driven  Mileage  Engine   Power  Price  Name_Audi  Name_BMW  \\\n",
       "0            72000.0    26.60   998.0   58.16   1.75          0         0   \n",
       "1            41000.0    19.67  1582.0  126.20  12.50          0         0   \n",
       "2            46000.0    18.20  1199.0   88.70   4.50          0         0   \n",
       "3            87000.0    20.77  1248.0   88.76   6.00          0         0   \n",
       "4            40670.0    15.20  1968.0  140.80  17.74          1         0   \n",
       "\n",
       "   Name_Bentley  Name_Chevrolet  Name_Datsun  ...  Owner_Type_Fourth & Above  \\\n",
       "0             0               0            0  ...                          0   \n",
       "1             0               0            0  ...                          0   \n",
       "2             0               0            0  ...                          0   \n",
       "3             0               0            0  ...                          0   \n",
       "4             0               0            0  ...                          0   \n",
       "\n",
       "   Owner_Type_Second  Owner_Type_Third  Seats_4.0  Seats_5.0  Seats_6.0  \\\n",
       "0                  0                 0          0          1          0   \n",
       "1                  0                 0          0          1          0   \n",
       "2                  0                 0          0          1          0   \n",
       "3                  0                 0          0          0          0   \n",
       "4                  1                 0          0          1          0   \n",
       "\n",
       "   Seats_7.0  Seats_8.0  Seats_9.0  Seats_10.0  \n",
       "0          0          0          0           0  \n",
       "1          0          0          0           0  \n",
       "2          0          0          0           0  \n",
       "3          1          0          0           0  \n",
       "4          0          0          0           0  \n",
       "\n",
       "[5 rows x 79 columns]"
      ]
     },
     "execution_count": 28,
     "metadata": {},
     "output_type": "execute_result"
    }
   ],
   "source": [
    "clean_data[\"Year\"] = pd.Categorical(clean_data[\"Year\"])\n",
    "clean_data[\"Seats\"] = pd.Categorical(clean_data[\"Seats\"])\n",
    "\n",
    "# 접두사 놓기\n",
    "clean_data = pd.get_dummies(clean_data, prefix_sep = \"_\", drop_first = True)\n",
    "clean_data.head()"
   ]
  },
  {
   "cell_type": "code",
   "execution_count": 29,
   "id": "ddb99820",
   "metadata": {},
   "outputs": [
    {
     "data": {
      "text/plain": [
       "(5844, 79)"
      ]
     },
     "execution_count": 29,
     "metadata": {},
     "output_type": "execute_result"
    }
   ],
   "source": [
    "clean_data.shape"
   ]
  },
  {
   "cell_type": "markdown",
   "id": "a6f26b03",
   "metadata": {},
   "source": [
    "#### 4) 데이터 이상치 확인"
   ]
  },
  {
   "cell_type": "code",
   "execution_count": 30,
   "id": "f8348bf0",
   "metadata": {},
   "outputs": [
    {
     "data": {
      "image/png": "[encoded data removed]",
      "text/plain": [
       "<Figure size 1152x288 with 5 Axes>"
      ]
     },
     "metadata": {
      "needs_background": "light"
     },
     "output_type": "display_data"
    }
   ],
   "source": [
    "fig, ax = plt.subplots(1, 5, figsize = (16, 4))\n",
    "\n",
    "ax[0].boxplot(list(clean_data.Kilometers_Driven))\n",
    "ax[0].set_title(\"Kilometers Driven\")\n",
    "\n",
    "ax[1].boxplot(list(clean_data.Mileage))\n",
    "ax[1].set_title(\"Kilometers Mileage\")\n",
    "\n",
    "ax[2].boxplot(list(clean_data.Engine))\n",
    "ax[2].set_title(\"Kilometers Engine\")\n",
    "\n",
    "ax[3].boxplot(list(clean_data.Power))\n",
    "ax[3].set_title(\"Kilometers Power\")\n",
    "\n",
    "ax[4].boxplot(list(clean_data.Price))\n",
    "ax[4].set_title(\"Kilometers Price\")\n",
    "\n",
    "plt.show()    # kilometer Driven 완전 높은 값 검출"
   ]
  },
  {
   "cell_type": "code",
   "execution_count": 31,
   "id": "1344e890",
   "metadata": {},
   "outputs": [
    {
     "name": "stderr",
     "output_type": "stream",
     "text": [
      "C:\\Users\\82106\\anaconda3\\envs\\gani\\lib\\site-packages\\seaborn\\axisgrid.py:2076: UserWarning: The `size` parameter has been renamed to `height`; please update your code.\n",
      "  warnings.warn(msg, UserWarning)\n"
     ]
    },
    {
     "data": {
      "text/plain": [
       "<seaborn.axisgrid.PairGrid at 0x1ad11498cd0>"
      ]
     },
     "execution_count": 31,
     "metadata": {},
     "output_type": "execute_result"
    },
    {
     "data": {
      "image/png": "[encoded data removed]",
      "text/plain": [
       "<Figure size 864x216 with 4 Axes>"
      ]
     },
     "metadata": {
      "needs_background": "light"
     },
     "output_type": "display_data"
    }
   ],
   "source": [
    "sns.pairplot(data = clean_data, x_vars = [\"Kilometers_Driven\", \"Mileage\", \"Engine\", \"Power\"], y_vars = \"Price\", size = 3)"
   ]
  },
  {
   "cell_type": "markdown",
   "id": "9770133d",
   "metadata": {},
   "source": [
    "* 아까 Kilometers_Driven 높은 애 제거"
   ]
  },
  {
   "cell_type": "code",
   "execution_count": 32,
   "id": "a21acec7",
   "metadata": {},
   "outputs": [],
   "source": [
    "# 아까 Kilometers_Driven 높은 애 제거\n",
    "idx = []\n",
    "remove = list(clean_data[\"Kilometers_Driven\"])\n",
    "\n",
    "for i in range(len(remove)) :\n",
    "    if ( remove[i] > 1000000 ) :\n",
    "        idx.append(i)\n",
    "clean_data = clean_data.drop(idx)\n",
    "clean_data = clean_data.reset_index(drop = True)"
   ]
  },
  {
   "cell_type": "markdown",
   "id": "4a3c493a",
   "metadata": {},
   "source": [
    "* 높은 애 빼고 다시 비교"
   ]
  },
  {
   "cell_type": "code",
   "execution_count": 33,
   "id": "c0c0b2e1",
   "metadata": {},
   "outputs": [
    {
     "data": {
      "image/png": "[encoded data removed]",
      "text/plain": [
       "<Figure size 1152x288 with 5 Axes>"
      ]
     },
     "metadata": {
      "needs_background": "light"
     },
     "output_type": "display_data"
    }
   ],
   "source": [
    "fig, ax = plt.subplots(1, 5, figsize = (16, 4))\n",
    "\n",
    "ax[0].boxplot(list(clean_data.Kilometers_Driven))\n",
    "ax[0].set_title(\"Kilometers Driven\")\n",
    "\n",
    "ax[1].boxplot(list(clean_data.Mileage))\n",
    "ax[1].set_title(\"Kilometers Mileage\")\n",
    "\n",
    "ax[2].boxplot(list(clean_data.Engine))\n",
    "ax[2].set_title(\"Kilometers Engine\")\n",
    "\n",
    "ax[3].boxplot(list(clean_data.Power))\n",
    "ax[3].set_title(\"Kilometers Power\")\n",
    "\n",
    "ax[4].boxplot(list(clean_data.Price))\n",
    "ax[4].set_title(\"Kilometers Price\")\n",
    "\n",
    "plt.show()    # kilometer Driven 완전 높은 값 검출"
   ]
  },
  {
   "cell_type": "code",
   "execution_count": 34,
   "id": "6f895448",
   "metadata": {},
   "outputs": [
    {
     "name": "stderr",
     "output_type": "stream",
     "text": [
      "C:\\Users\\82106\\anaconda3\\envs\\gani\\lib\\site-packages\\seaborn\\axisgrid.py:2076: UserWarning: The `size` parameter has been renamed to `height`; please update your code.\n",
      "  warnings.warn(msg, UserWarning)\n"
     ]
    },
    {
     "data": {
      "text/plain": [
       "<seaborn.axisgrid.PairGrid at 0x1ad13bffee0>"
      ]
     },
     "execution_count": 34,
     "metadata": {},
     "output_type": "execute_result"
    },
    {
     "data": {
      "image/png": "[encoded data removed]",
      "text/plain": [
       "<Figure size 864x216 with 4 Axes>"
      ]
     },
     "metadata": {
      "needs_background": "light"
     },
     "output_type": "display_data"
    }
   ],
   "source": [
    "sns.pairplot(data = clean_data, x_vars = [\"Kilometers_Driven\", \"Mileage\", \"Engine\", \"Power\"], y_vars = \"Price\", size = 3)"
   ]
  },
  {
   "cell_type": "markdown",
   "id": "5cf95c00",
   "metadata": {},
   "source": [
    "#### 5) 데이터셋 생성"
   ]
  },
  {
   "cell_type": "code",
   "execution_count": 35,
   "id": "4b99b2e0",
   "metadata": {},
   "outputs": [
    {
     "data": {
      "text/plain": [
       "(5843, 79)"
      ]
     },
     "execution_count": 35,
     "metadata": {},
     "output_type": "execute_result"
    }
   ],
   "source": [
    "clean_data.shape"
   ]
  },
  {
   "cell_type": "code",
   "execution_count": 36,
   "id": "dc26322a",
   "metadata": {},
   "outputs": [],
   "source": [
    "# train 데이터 생성\n",
    "\n",
    "y = clean_data[[\"Price\"]].to_numpy()\n",
    "clean_Data = clean_data.drop(columns = [\"Price\"])"
   ]
  },
  {
   "cell_type": "code",
   "execution_count": 37,
   "id": "b9ae6232",
   "metadata": {},
   "outputs": [
    {
     "data": {
      "text/plain": [
       "(5843, 1)"
      ]
     },
     "execution_count": 37,
     "metadata": {},
     "output_type": "execute_result"
    }
   ],
   "source": [
    "y.shape"
   ]
  },
  {
   "cell_type": "code",
   "execution_count": 38,
   "id": "c0f3d6f3",
   "metadata": {},
   "outputs": [],
   "source": [
    "x = clean_data.values\n",
    "columns = clean_data.columns"
   ]
  },
  {
   "cell_type": "code",
   "execution_count": 39,
   "id": "597c77ad",
   "metadata": {},
   "outputs": [
    {
     "data": {
      "text/plain": [
       "(5843, 79)"
      ]
     },
     "execution_count": 39,
     "metadata": {},
     "output_type": "execute_result"
    }
   ],
   "source": [
    "x.shape"
   ]
  },
  {
   "cell_type": "code",
   "execution_count": 40,
   "id": "4db5787d",
   "metadata": {},
   "outputs": [],
   "source": [
    "# Scale 하기 x 값만\n",
    "scaler = preprocessing.MinMaxScaler()\n",
    "tmp = scaler.fit_transform(x)\n",
    "clean_data = pd.DataFrame(tmp)\n",
    "clean_data.columns = columns\n",
    "\n",
    "x = clean_data.to_numpy()"
   ]
  },
  {
   "cell_type": "code",
   "execution_count": 41,
   "id": "9da10828",
   "metadata": {},
   "outputs": [],
   "source": [
    "x_train, x_test, y_train, y_test = train_test_split(x, y, train_size = 0.8, random_state =42)"
   ]
  },
  {
   "cell_type": "markdown",
   "id": "d9ca4abb",
   "metadata": {},
   "source": [
    "* \" 삶과 우주, 그리고 모든 것에 대한 답은 42 입니다\" "
   ]
  },
  {
   "cell_type": "code",
   "execution_count": 42,
   "id": "80df8180",
   "metadata": {},
   "outputs": [
    {
     "data": {
      "text/plain": [
       "Index(['Kilometers_Driven', 'Mileage', 'Engine', 'Power', 'Price', 'Name_Audi',\n",
       "       'Name_BMW', 'Name_Bentley', 'Name_Chevrolet', 'Name_Datsun',\n",
       "       'Name_Fiat', 'Name_Force', 'Name_Ford', 'Name_Honda', 'Name_Hyundai',\n",
       "       'Name_ISUZU', 'Name_Isuzu', 'Name_Jaguar', 'Name_Jeep',\n",
       "       'Name_Lamborghini', 'Name_Land', 'Name_Mahindra', 'Name_Maruti',\n",
       "       'Name_Mercedes-Benz', 'Name_Mini', 'Name_Mitsubishi', 'Name_Nissan',\n",
       "       'Name_Porsche', 'Name_Renault', 'Name_Skoda', 'Name_Tata',\n",
       "       'Name_Toyota', 'Name_Volkswagen', 'Name_Volvo', 'Location_Bangalore',\n",
       "       'Location_Chennai', 'Location_Coimbatore', 'Location_Delhi',\n",
       "       'Location_Hyderabad', 'Location_Jaipur', 'Location_Kochi',\n",
       "       'Location_Kolkata', 'Location_Mumbai', 'Location_Pune', 'Year_1999',\n",
       "       'Year_2000', 'Year_2001', 'Year_2002', 'Year_2003', 'Year_2004',\n",
       "       'Year_2005', 'Year_2006', 'Year_2007', 'Year_2008', 'Year_2009',\n",
       "       'Year_2010', 'Year_2011', 'Year_2012', 'Year_2013', 'Year_2014',\n",
       "       'Year_2015', 'Year_2016', 'Year_2017', 'Year_2018', 'Year_2019',\n",
       "       'Fuel_Type_Diesel', 'Fuel_Type_LPG', 'Fuel_Type_Petrol',\n",
       "       'Transmission_Manual', 'Owner_Type_Fourth & Above', 'Owner_Type_Second',\n",
       "       'Owner_Type_Third', 'Seats_4.0', 'Seats_5.0', 'Seats_6.0', 'Seats_7.0',\n",
       "       'Seats_8.0', 'Seats_9.0', 'Seats_10.0'],\n",
       "      dtype='object')"
      ]
     },
     "execution_count": 42,
     "metadata": {},
     "output_type": "execute_result"
    }
   ],
   "source": [
    "columns"
   ]
  },
  {
   "cell_type": "markdown",
   "id": "6994c242",
   "metadata": {},
   "source": [
    "#### 6) 모델링"
   ]
  },
  {
   "cell_type": "code",
   "execution_count": 43,
   "id": "bde038ed",
   "metadata": {},
   "outputs": [
    {
     "data": {
      "text/plain": [
       "LinearRegression(normalize=True)"
      ]
     },
     "execution_count": 43,
     "metadata": {},
     "output_type": "execute_result"
    }
   ],
   "source": [
    "lr = LinearRegression(fit_intercept = True, normalize = True, copy_X = True)\n",
    "\n",
    "lr.fit(x_train, y_train)"
   ]
  },
  {
   "cell_type": "markdown",
   "id": "d2180afb",
   "metadata": {},
   "source": [
    "#### 7) 결과 확인"
   ]
  },
  {
   "cell_type": "code",
   "execution_count": 44,
   "id": "deee2b15",
   "metadata": {},
   "outputs": [
    {
     "name": "stdout",
     "output_type": "stream",
     "text": [
      "Train data's Accuracy :  1.0\n"
     ]
    }
   ],
   "source": [
    "# train data 정확도 측정\n",
    "print(\"Train data\\'s Accuracy : \", format(lr.score(x_train, y_train)))"
   ]
  },
  {
   "cell_type": "markdown",
   "id": "95d6629b",
   "metadata": {},
   "source": [
    "* 1 이 나올리가 없는데,,"
   ]
  },
  {
   "cell_type": "code",
   "execution_count": 45,
   "id": "69e1779b",
   "metadata": {},
   "outputs": [],
   "source": [
    "y_predict = lr.predict(x_test)"
   ]
  },
  {
   "cell_type": "code",
   "execution_count": 46,
   "id": "1f52452a",
   "metadata": {},
   "outputs": [
    {
     "name": "stdout",
     "output_type": "stream",
     "text": [
      "Test data's Accuracy :  0.9994238729822238\n",
      "Test data's Accuracy :  0.9994238729822238\n"
     ]
    }
   ],
   "source": [
    "# test data 정확도 측정\n",
    "print(\"Test data\\'s Accuracy : \", format(lr.score(x_test, y_test)))\n",
    "print(\"Test data\\'s Accuracy : \", format(r2_score(y_test, lr.predict(x_test))))"
   ]
  },
  {
   "cell_type": "code",
   "execution_count": 47,
   "id": "2e4c0132",
   "metadata": {},
   "outputs": [
    {
     "data": {
      "text/plain": [
       "0.00804930667509146"
      ]
     },
     "execution_count": 47,
     "metadata": {},
     "output_type": "execute_result"
    }
   ],
   "source": [
    "mean_absolute_error(y_test, y_predict)"
   ]
  }
 ],
 "metadata": {
  "kernelspec": {
   "display_name": "Python 3 (ipykernel)",
   "language": "python",
   "name": "python3"
  },
  "language_info": {
   "codemirror_mode": {
    "name": "ipython",
    "version": 3
   },
   "file_extension": ".py",
   "mimetype": "text/x-python",
   "name": "python",
   "nbconvert_exporter": "python",
   "pygments_lexer": "ipython3",
   "version": "3.9.7"
  }
 },
 "nbformat": 4,
 "nbformat_minor": 5
}
