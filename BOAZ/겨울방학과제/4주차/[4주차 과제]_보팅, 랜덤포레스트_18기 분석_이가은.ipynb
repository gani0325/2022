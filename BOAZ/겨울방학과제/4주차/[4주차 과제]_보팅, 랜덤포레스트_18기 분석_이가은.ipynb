{
 "cells": [
  {
   "cell_type": "markdown",
   "id": "959dda20",
   "metadata": {},
   "source": [
    "# 4주차 분석 실습 과제\n",
    "\n",
    "파이썬 머신러닝 완벽가이드의 코드를 참고함."
   ]
  },
  {
   "cell_type": "markdown",
   "id": "b3109666",
   "metadata": {},
   "source": [
    "## 1. 보팅(Voting) 실습\n",
    "\n",
    "원하는 데이터셋을 불러와 예측 분석 수행하기.\n",
    "예시에서는 breast cancer 데이터셋을 이용."
   ]
  },
  {
   "cell_type": "code",
   "execution_count": 143,
   "id": "508da432",
   "metadata": {},
   "outputs": [],
   "source": [
    "import pandas as pd\n",
    "import numpy as np\n",
    "\n",
    "from sklearn.ensemble import VotingClassifier\n",
    "from sklearn.linear_model import LogisticRegression\n",
    "from sklearn.neighbors import KNeighborsClassifier\n",
    "from sklearn.tree import DecisionTreeClassifier\n",
    "from sklearn.ensemble import RandomForestClassifier\n",
    "from sklearn.naive_bayes import GaussianNB\n",
    "\n",
    "from sklearn.pipeline import Pipeline\n",
    "from sklearn.preprocessing import StandardScaler\n",
    "from sklearn.preprocessing import PolynomialFeatures\n",
    "\n",
    "from sklearn.svm import LinearSVC\n",
    "from sklearn.svm import SVC\n",
    "\n",
    "from sklearn import datasets\n",
    "\n",
    "from sklearn.model_selection import train_test_split\n",
    "from sklearn.metrics import accuracy_score"
   ]
  },
  {
   "cell_type": "markdown",
   "id": "bbcb6830",
   "metadata": {},
   "source": [
    "* iris 데이터 사용"
   ]
  },
  {
   "cell_type": "code",
   "execution_count": 147,
   "id": "9267a2c7",
   "metadata": {},
   "outputs": [],
   "source": [
    "iris = datasets.load_iris()"
   ]
  },
  {
   "cell_type": "code",
   "execution_count": 148,
   "id": "17f92f3b",
   "metadata": {},
   "outputs": [
    {
     "data": {
      "text/plain": [
       "['data',\n",
       " 'target',\n",
       " 'frame',\n",
       " 'target_names',\n",
       " 'DESCR',\n",
       " 'feature_names',\n",
       " 'filename']"
      ]
     },
     "execution_count": 148,
     "metadata": {},
     "output_type": "execute_result"
    }
   ],
   "source": [
    "list(iris.keys())"
   ]
  },
  {
   "cell_type": "code",
   "execution_count": 149,
   "id": "d25912d9",
   "metadata": {},
   "outputs": [
    {
     "data": {
      "text/html": [
       "<div>\n",
       "<style scoped>\n",
       "    .dataframe tbody tr th:only-of-type {\n",
       "        vertical-align: middle;\n",
       "    }\n",
       "\n",
       "    .dataframe tbody tr th {\n",
       "        vertical-align: top;\n",
       "    }\n",
       "\n",
       "    .dataframe thead th {\n",
       "        text-align: right;\n",
       "    }\n",
       "</style>\n",
       "<table border=\"1\" class=\"dataframe\">\n",
       "  <thead>\n",
       "    <tr style=\"text-align: right;\">\n",
       "      <th></th>\n",
       "      <th>sepal length (cm)</th>\n",
       "      <th>sepal width (cm)</th>\n",
       "      <th>petal length (cm)</th>\n",
       "      <th>petal width (cm)</th>\n",
       "    </tr>\n",
       "  </thead>\n",
       "  <tbody>\n",
       "    <tr>\n",
       "      <th>0</th>\n",
       "      <td>5.1</td>\n",
       "      <td>3.5</td>\n",
       "      <td>1.4</td>\n",
       "      <td>0.2</td>\n",
       "    </tr>\n",
       "    <tr>\n",
       "      <th>1</th>\n",
       "      <td>4.9</td>\n",
       "      <td>3.0</td>\n",
       "      <td>1.4</td>\n",
       "      <td>0.2</td>\n",
       "    </tr>\n",
       "    <tr>\n",
       "      <th>2</th>\n",
       "      <td>4.7</td>\n",
       "      <td>3.2</td>\n",
       "      <td>1.3</td>\n",
       "      <td>0.2</td>\n",
       "    </tr>\n",
       "    <tr>\n",
       "      <th>3</th>\n",
       "      <td>4.6</td>\n",
       "      <td>3.1</td>\n",
       "      <td>1.5</td>\n",
       "      <td>0.2</td>\n",
       "    </tr>\n",
       "    <tr>\n",
       "      <th>4</th>\n",
       "      <td>5.0</td>\n",
       "      <td>3.6</td>\n",
       "      <td>1.4</td>\n",
       "      <td>0.2</td>\n",
       "    </tr>\n",
       "  </tbody>\n",
       "</table>\n",
       "</div>"
      ],
      "text/plain": [
       "   sepal length (cm)  sepal width (cm)  petal length (cm)  petal width (cm)\n",
       "0                5.1               3.5                1.4               0.2\n",
       "1                4.9               3.0                1.4               0.2\n",
       "2                4.7               3.2                1.3               0.2\n",
       "3                4.6               3.1                1.5               0.2\n",
       "4                5.0               3.6                1.4               0.2"
      ]
     },
     "execution_count": 149,
     "metadata": {},
     "output_type": "execute_result"
    }
   ],
   "source": [
    "data_df = pd.DataFrame(iris.data, columns=iris.feature_names)\n",
    "data_df.head(5)"
   ]
  },
  {
   "cell_type": "code",
   "execution_count": 198,
   "id": "cd440daa",
   "metadata": {},
   "outputs": [],
   "source": [
    "X = iris.data[:, [0, 2]]\n",
    "y = iris.target"
   ]
  },
  {
   "cell_type": "markdown",
   "id": "d2332819",
   "metadata": {},
   "source": [
    "보팅 분류기에는 다양한 개별 모델을 넣어서 사용할 수 있다.\n",
    "\n",
    "여기서는 로지스틱 회귀, KNN, 의사결정나무 알고리즘을 제시했지만, 다른 모델을 추가하거나 변경 가능하다."
   ]
  },
  {
   "cell_type": "code",
   "execution_count": 217,
   "id": "13a4b6a0",
   "metadata": {},
   "outputs": [],
   "source": [
    "lr = LogisticRegression(max_iter=100, C=1, solver='liblinear')\n",
    "svm = SVC(gamma ='auto', probability = True)\n",
    "dtc = DecisionTreeClassifier(criterion=\"entropy\")\n",
    "knc = KNeighborsClassifier(n_neighbors=11)\n",
    "\n",
    "base_methods=[('LogisticReg', lr), \n",
    "              ('SVM', svm), \n",
    "              ('DecisionTree',dtc),   \n",
    "              ('KNeighbors',knc)]"
   ]
  },
  {
   "cell_type": "code",
   "execution_count": 218,
   "id": "6c7171dc",
   "metadata": {},
   "outputs": [],
   "source": [
    "X_train, X_test, y_train, y_test = train_test_split(X, y, test_size=0.2, random_state=0)"
   ]
  },
  {
   "cell_type": "code",
   "execution_count": 219,
   "id": "07c72c4a",
   "metadata": {},
   "outputs": [],
   "source": [
    "vote_model=VotingClassifier(estimators=base_methods, \n",
    "       voting='hard',\n",
    "       weights=[1,2,1,2])"
   ]
  },
  {
   "cell_type": "code",
   "execution_count": 220,
   "id": "d8e5b6f6",
   "metadata": {},
   "outputs": [
    {
     "name": "stdout",
     "output_type": "stream",
     "text": [
      "LogisticRegression 0.9666666666666667\n",
      "SVC 1.0\n",
      "DecisionTreeClassifier 1.0\n",
      "KNeighborsClassifier 1.0\n"
     ]
    }
   ],
   "source": [
    "for clf in (lr, svm, dtc, knc) :\n",
    "    clf.fit(X_train, y_train)\n",
    "    y_pred = clf.predict(X_test)\n",
    "    print(clf.__class__.__name__, format(accuracy_score(y_test, y_pred)))"
   ]
  },
  {
   "cell_type": "code",
   "execution_count": 221,
   "id": "23d8d0d6",
   "metadata": {},
   "outputs": [
    {
     "name": "stdout",
     "output_type": "stream",
     "text": [
      "LogisticRegression 정확도: 0.9667\n",
      "DecisionTreeClassifier 정확도: 1.0000\n"
     ]
    }
   ],
   "source": [
    "# 개별 모델의 정확도\n",
    "classifiers = [lr, dtc]\n",
    "\n",
    "for classifier in classifiers:\n",
    "    classifier.fit(X_train, y_train)\n",
    "    pred = classifier.predict(X_test)\n",
    "    class_name = classifier.__class__.__name__\n",
    "    print('{0} 정확도: {1:.4f}'.format(class_name, accuracy_score(y_test, pred)))"
   ]
  },
  {
   "cell_type": "markdown",
   "id": "05425021",
   "metadata": {},
   "source": [
    "### 실습 결과\n",
    "\n",
    "정확도가 가장 높았던 조합과 그 정확도를 작성해주세요!\n",
    "\n",
    "**결과**\n",
    "\n",
    "* 사용한 알고리즘 조합\n",
    "> + svm = SVC(gamma ='auto', probability = True)\n",
    "> + dtc = DecisionTreeClassifier(criterion=\"entropy\")\n",
    "> + knc = KNeighborsClassifier(n_neighbors=11)\n",
    "\n",
    "\n",
    "* 정확도 :\n",
    "> +  셋다 결과 1\n",
    "> +  오버피팅\n"
   ]
  },
  {
   "cell_type": "markdown",
   "id": "0bef2a73",
   "metadata": {},
   "source": [
    "## 2. 랜덤포레스트(RandomForest) 실습\n",
    "\n",
    "보팅 실습과 동일한 데이터셋 이용."
   ]
  },
  {
   "cell_type": "code",
   "execution_count": 237,
   "id": "489f09de",
   "metadata": {},
   "outputs": [],
   "source": [
    "rnd_clf = RandomForestClassifier(n_estimators=500, max_leaf_nodes = 16, n_jobs = -1)"
   ]
  },
  {
   "cell_type": "markdown",
   "id": "9031aec0",
   "metadata": {},
   "source": [
    "### 2.1 첫번째 실습"
   ]
  },
  {
   "cell_type": "code",
   "execution_count": 238,
   "id": "d1afca42",
   "metadata": {},
   "outputs": [],
   "source": [
    "from sklearn.ensemble import RandomForestClassifier"
   ]
  },
  {
   "cell_type": "code",
   "execution_count": 239,
   "id": "0160b2aa",
   "metadata": {},
   "outputs": [
    {
     "data": {
      "text/html": [
       "<div>\n",
       "<style scoped>\n",
       "    .dataframe tbody tr th:only-of-type {\n",
       "        vertical-align: middle;\n",
       "    }\n",
       "\n",
       "    .dataframe tbody tr th {\n",
       "        vertical-align: top;\n",
       "    }\n",
       "\n",
       "    .dataframe thead th {\n",
       "        text-align: right;\n",
       "    }\n",
       "</style>\n",
       "<table border=\"1\" class=\"dataframe\">\n",
       "  <thead>\n",
       "    <tr style=\"text-align: right;\">\n",
       "      <th></th>\n",
       "      <th>sepal length (cm)</th>\n",
       "      <th>sepal width (cm)</th>\n",
       "      <th>petal length (cm)</th>\n",
       "      <th>petal width (cm)</th>\n",
       "    </tr>\n",
       "  </thead>\n",
       "  <tbody>\n",
       "    <tr>\n",
       "      <th>0</th>\n",
       "      <td>5.1</td>\n",
       "      <td>3.5</td>\n",
       "      <td>1.4</td>\n",
       "      <td>0.2</td>\n",
       "    </tr>\n",
       "    <tr>\n",
       "      <th>1</th>\n",
       "      <td>4.9</td>\n",
       "      <td>3.0</td>\n",
       "      <td>1.4</td>\n",
       "      <td>0.2</td>\n",
       "    </tr>\n",
       "    <tr>\n",
       "      <th>2</th>\n",
       "      <td>4.7</td>\n",
       "      <td>3.2</td>\n",
       "      <td>1.3</td>\n",
       "      <td>0.2</td>\n",
       "    </tr>\n",
       "    <tr>\n",
       "      <th>3</th>\n",
       "      <td>4.6</td>\n",
       "      <td>3.1</td>\n",
       "      <td>1.5</td>\n",
       "      <td>0.2</td>\n",
       "    </tr>\n",
       "    <tr>\n",
       "      <th>4</th>\n",
       "      <td>5.0</td>\n",
       "      <td>3.6</td>\n",
       "      <td>1.4</td>\n",
       "      <td>0.2</td>\n",
       "    </tr>\n",
       "  </tbody>\n",
       "</table>\n",
       "</div>"
      ],
      "text/plain": [
       "   sepal length (cm)  sepal width (cm)  petal length (cm)  petal width (cm)\n",
       "0                5.1               3.5                1.4               0.2\n",
       "1                4.9               3.0                1.4               0.2\n",
       "2                4.7               3.2                1.3               0.2\n",
       "3                4.6               3.1                1.5               0.2\n",
       "4                5.0               3.6                1.4               0.2"
      ]
     },
     "execution_count": 239,
     "metadata": {},
     "output_type": "execute_result"
    }
   ],
   "source": [
    "data_df = pd.DataFrame(iris.data, columns=iris.feature_names)\n",
    "data_df.head(5)"
   ]
  },
  {
   "cell_type": "code",
   "execution_count": 240,
   "id": "f83ba193",
   "metadata": {},
   "outputs": [],
   "source": [
    "X = iris.data[:, [0, 2]]\n",
    "y = iris.target"
   ]
  },
  {
   "cell_type": "code",
   "execution_count": 241,
   "id": "5514d3d4",
   "metadata": {},
   "outputs": [],
   "source": [
    "X_train, X_test, y_train, y_test = train_test_split(X, y, test_size=0.2, random_state=156)"
   ]
  },
  {
   "cell_type": "code",
   "execution_count": 242,
   "id": "0b1629a7",
   "metadata": {},
   "outputs": [
    {
     "data": {
      "text/plain": [
       "RandomForestClassifier()"
      ]
     },
     "execution_count": 242,
     "metadata": {},
     "output_type": "execute_result"
    }
   ],
   "source": [
    "# 랜덤포레스트 학습, 예측, 정확도 평가\n",
    "rf_clf = RandomForestClassifier()\n",
    "rf_clf.fit(X_train, y_train)"
   ]
  },
  {
   "cell_type": "code",
   "execution_count": 243,
   "id": "6fa3704b",
   "metadata": {},
   "outputs": [
    {
     "name": "stdout",
     "output_type": "stream",
     "text": [
      "랜덤포레스트 정확도: 0.9333\n"
     ]
    }
   ],
   "source": [
    "pred = rf_clf.predict(X_test)\n",
    "accuracy = accuracy_score(y_test, pred)\n",
    "print('랜덤포레스트 정확도: {0:.4f}'.format(accuracy))"
   ]
  },
  {
   "cell_type": "markdown",
   "id": "5d9ce8b5",
   "metadata": {},
   "source": [
    "### 2.2 GridSearchCV 이용한 두번째 실습\n",
    "\n",
    "다양한 파라미터 값을 변화시키면서 최적의 하이퍼 파라미터 값을 찾고, 정확도를 높여 보세요.\n",
    "\n",
    "* 추가, 변경 가능한 하이퍼 파라미터\n",
    "> n_estimators, max_depth, max_features, min_samples_leaf, min_samples_split, max_leaf_nodes ......"
   ]
  },
  {
   "cell_type": "code",
   "execution_count": 244,
   "id": "c192c344",
   "metadata": {},
   "outputs": [],
   "source": [
    "from sklearn.model_selection import GridSearchCV"
   ]
  },
  {
   "cell_type": "code",
   "execution_count": 245,
   "id": "e9fe4ca5",
   "metadata": {},
   "outputs": [],
   "source": [
    "# 하이퍼 파라미터 변경해가며 정확도 높여보기.\n",
    "model_params = {\n",
    "    'n_estimators': [50, 150, 250],\n",
    "    'max_features': ['sqrt', 0.25, 0.5, 0.75, 1.0],\n",
    "    'min_samples_split': [2, 4, 6]\n",
    "}"
   ]
  },
  {
   "cell_type": "code",
   "execution_count": 246,
   "id": "529f4e4d",
   "metadata": {},
   "outputs": [],
   "source": [
    "# create random forest classifier model\n",
    "rf_clf = RandomForestClassifier(random_state=1)"
   ]
  },
  {
   "cell_type": "code",
   "execution_count": 247,
   "id": "4982f73a",
   "metadata": {},
   "outputs": [],
   "source": [
    "# set up grid search meta-estimator\n",
    "grid_cv = GridSearchCV(rf_model, model_params, cv=5, n_jobs = -1)"
   ]
  },
  {
   "cell_type": "code",
   "execution_count": 248,
   "id": "bfc61aa7",
   "metadata": {},
   "outputs": [],
   "source": [
    "# train the grid search meta-estimator to find the best model\n",
    "grid_cv = clf.fit(X, y)"
   ]
  },
  {
   "cell_type": "code",
   "execution_count": 249,
   "id": "2997de60",
   "metadata": {},
   "outputs": [
    {
     "name": "stdout",
     "output_type": "stream",
     "text": [
      "최적 하이퍼 파라미터:\n",
      " {'max_features': 1.0, 'min_samples_split': 2, 'n_estimators': 50}\n",
      "최고 예측 정확도: 0.9600\n"
     ]
    }
   ],
   "source": [
    "# print winning set of hyperparameters\n",
    "print('최적 하이퍼 파라미터:\\n', grid_cv.best_params_)\n",
    "print('최고 예측 정확도: {0:.4f}'.format(grid_cv.best_score_))"
   ]
  },
  {
   "cell_type": "markdown",
   "id": "18deb5f8",
   "metadata": {},
   "source": [
    "* 0.9333 에서 0.9600 으로 올렸따"
   ]
  }
 ],
 "metadata": {
  "kernelspec": {
   "display_name": "Python 3 (ipykernel)",
   "language": "python",
   "name": "python3"
  },
  "language_info": {
   "codemirror_mode": {
    "name": "ipython",
    "version": 3
   },
   "file_extension": ".py",
   "mimetype": "text/x-python",
   "name": "python",
   "nbconvert_exporter": "python",
   "pygments_lexer": "ipython3",
   "version": "3.9.7"
  }
 },
 "nbformat": 4,
 "nbformat_minor": 5
}
